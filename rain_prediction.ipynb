{
  "cells": [
    {
      "cell_type": "markdown",
      "metadata": {
        "id": "lOxvFE9Ne70u"
      },
      "source": [
        "# Perkenalan"
      ]
    },
    {
      "cell_type": "markdown",
      "metadata": {
        "id": "TsAw1Ndre70x"
      },
      "source": [
        "Nama/Batch : Sandika/008"
      ]
    },
    {
      "cell_type": "markdown",
      "metadata": {
        "id": "LrUmOUt-e70x"
      },
      "source": [
        "# Import Pustaka"
      ]
    },
    {
      "cell_type": "code",
      "execution_count": null,
      "metadata": {
        "id": "LBnhZ__Be70y"
      },
      "outputs": [],
      "source": [
        "import pandas as pd\n",
        "import numpy as np\n",
        "from sklearn import preprocessing\n",
        "from sklearn.preprocessing import MinMaxScaler\n",
        "from sklearn.preprocessing import LabelEncoder\n",
        "from sklearn.preprocessing import OneHotEncoder\n",
        "from sklearn.linear_model import LogisticRegression\n",
        "from sklearn.preprocessing import OrdinalEncoder\n",
        "from sklearn.model_selection import train_test_split\n",
        "from sklearn.metrics import accuracy_score, classification_report, precision_score, recall_score\n",
        "from sklearn.metrics import confusion_matrix, precision_recall_curve, roc_curve, auc, log_loss,roc_auc_score\n",
        "import matplotlib.pyplot as plt\n",
        "import seaborn as sns\n",
        "from scipy import stats\n",
        "import time\n",
        "from sklearn import svm"
      ]
    },
    {
      "cell_type": "markdown",
      "metadata": {
        "id": "2ZWseeuie70z"
      },
      "source": [
        "# Data Loading"
      ]
    },
    {
      "cell_type": "code",
      "execution_count": null,
      "metadata": {
        "id": "AkMUjoK_e700"
      },
      "outputs": [],
      "source": [
        "df_dummy = pd.read_csv('weatherAUS.csv')"
      ]
    },
    {
      "cell_type": "code",
      "execution_count": null,
      "metadata": {
        "id": "Fk1NFBNRe700"
      },
      "outputs": [],
      "source": [
        "df=df_dummy.copy()"
      ]
    },
    {
      "cell_type": "code",
      "execution_count": null,
      "metadata": {
        "id": "l4nUlKSOe701",
        "outputId": "beb134fd-531f-4a1e-f9cd-73b81123abaf"
      },
      "outputs": [
        {
          "data": {
            "text/plain": [
              "Index(['Date', 'Location', 'MinTemp', 'MaxTemp', 'Rainfall', 'Evaporation',\n",
              "       'Sunshine', 'WindGustDir', 'WindGustSpeed', 'WindDir9am', 'WindDir3pm',\n",
              "       'WindSpeed9am', 'WindSpeed3pm', 'Humidity9am', 'Humidity3pm',\n",
              "       'Pressure9am', 'Pressure3pm', 'Cloud9am', 'Cloud3pm', 'Temp9am',\n",
              "       'Temp3pm', 'RainToday', 'RainTomorrow'],\n",
              "      dtype='object')"
            ]
          },
          "execution_count": 4,
          "metadata": {},
          "output_type": "execute_result"
        }
      ],
      "source": [
        "df.columns"
      ]
    },
    {
      "cell_type": "code",
      "execution_count": null,
      "metadata": {
        "id": "TOp49bnee702",
        "outputId": "4952d9cf-998e-4517-f419-ae6cb730d409"
      },
      "outputs": [
        {
          "data": {
            "text/html": [
              "<div>\n",
              "<style scoped>\n",
              "    .dataframe tbody tr th:only-of-type {\n",
              "        vertical-align: middle;\n",
              "    }\n",
              "\n",
              "    .dataframe tbody tr th {\n",
              "        vertical-align: top;\n",
              "    }\n",
              "\n",
              "    .dataframe thead th {\n",
              "        text-align: right;\n",
              "    }\n",
              "</style>\n",
              "<table border=\"1\" class=\"dataframe\">\n",
              "  <thead>\n",
              "    <tr style=\"text-align: right;\">\n",
              "      <th></th>\n",
              "      <th>Date</th>\n",
              "      <th>Location</th>\n",
              "      <th>MinTemp</th>\n",
              "      <th>MaxTemp</th>\n",
              "      <th>Rainfall</th>\n",
              "      <th>Evaporation</th>\n",
              "      <th>Sunshine</th>\n",
              "      <th>WindGustDir</th>\n",
              "      <th>WindGustSpeed</th>\n",
              "      <th>WindDir9am</th>\n",
              "      <th>...</th>\n",
              "      <th>Humidity9am</th>\n",
              "      <th>Humidity3pm</th>\n",
              "      <th>Pressure9am</th>\n",
              "      <th>Pressure3pm</th>\n",
              "      <th>Cloud9am</th>\n",
              "      <th>Cloud3pm</th>\n",
              "      <th>Temp9am</th>\n",
              "      <th>Temp3pm</th>\n",
              "      <th>RainToday</th>\n",
              "      <th>RainTomorrow</th>\n",
              "    </tr>\n",
              "  </thead>\n",
              "  <tbody>\n",
              "    <tr>\n",
              "      <th>0</th>\n",
              "      <td>2008-12-01</td>\n",
              "      <td>Albury</td>\n",
              "      <td>13.4</td>\n",
              "      <td>22.9</td>\n",
              "      <td>0.6</td>\n",
              "      <td>NaN</td>\n",
              "      <td>NaN</td>\n",
              "      <td>W</td>\n",
              "      <td>44.0</td>\n",
              "      <td>W</td>\n",
              "      <td>...</td>\n",
              "      <td>71.0</td>\n",
              "      <td>22.0</td>\n",
              "      <td>1007.7</td>\n",
              "      <td>1007.1</td>\n",
              "      <td>8.0</td>\n",
              "      <td>NaN</td>\n",
              "      <td>16.9</td>\n",
              "      <td>21.8</td>\n",
              "      <td>No</td>\n",
              "      <td>No</td>\n",
              "    </tr>\n",
              "    <tr>\n",
              "      <th>1</th>\n",
              "      <td>2008-12-02</td>\n",
              "      <td>Albury</td>\n",
              "      <td>7.4</td>\n",
              "      <td>25.1</td>\n",
              "      <td>0.0</td>\n",
              "      <td>NaN</td>\n",
              "      <td>NaN</td>\n",
              "      <td>WNW</td>\n",
              "      <td>44.0</td>\n",
              "      <td>NNW</td>\n",
              "      <td>...</td>\n",
              "      <td>44.0</td>\n",
              "      <td>25.0</td>\n",
              "      <td>1010.6</td>\n",
              "      <td>1007.8</td>\n",
              "      <td>NaN</td>\n",
              "      <td>NaN</td>\n",
              "      <td>17.2</td>\n",
              "      <td>24.3</td>\n",
              "      <td>No</td>\n",
              "      <td>No</td>\n",
              "    </tr>\n",
              "    <tr>\n",
              "      <th>2</th>\n",
              "      <td>2008-12-03</td>\n",
              "      <td>Albury</td>\n",
              "      <td>12.9</td>\n",
              "      <td>25.7</td>\n",
              "      <td>0.0</td>\n",
              "      <td>NaN</td>\n",
              "      <td>NaN</td>\n",
              "      <td>WSW</td>\n",
              "      <td>46.0</td>\n",
              "      <td>W</td>\n",
              "      <td>...</td>\n",
              "      <td>38.0</td>\n",
              "      <td>30.0</td>\n",
              "      <td>1007.6</td>\n",
              "      <td>1008.7</td>\n",
              "      <td>NaN</td>\n",
              "      <td>2.0</td>\n",
              "      <td>21.0</td>\n",
              "      <td>23.2</td>\n",
              "      <td>No</td>\n",
              "      <td>No</td>\n",
              "    </tr>\n",
              "    <tr>\n",
              "      <th>3</th>\n",
              "      <td>2008-12-04</td>\n",
              "      <td>Albury</td>\n",
              "      <td>9.2</td>\n",
              "      <td>28.0</td>\n",
              "      <td>0.0</td>\n",
              "      <td>NaN</td>\n",
              "      <td>NaN</td>\n",
              "      <td>NE</td>\n",
              "      <td>24.0</td>\n",
              "      <td>SE</td>\n",
              "      <td>...</td>\n",
              "      <td>45.0</td>\n",
              "      <td>16.0</td>\n",
              "      <td>1017.6</td>\n",
              "      <td>1012.8</td>\n",
              "      <td>NaN</td>\n",
              "      <td>NaN</td>\n",
              "      <td>18.1</td>\n",
              "      <td>26.5</td>\n",
              "      <td>No</td>\n",
              "      <td>No</td>\n",
              "    </tr>\n",
              "    <tr>\n",
              "      <th>4</th>\n",
              "      <td>2008-12-05</td>\n",
              "      <td>Albury</td>\n",
              "      <td>17.5</td>\n",
              "      <td>32.3</td>\n",
              "      <td>1.0</td>\n",
              "      <td>NaN</td>\n",
              "      <td>NaN</td>\n",
              "      <td>W</td>\n",
              "      <td>41.0</td>\n",
              "      <td>ENE</td>\n",
              "      <td>...</td>\n",
              "      <td>82.0</td>\n",
              "      <td>33.0</td>\n",
              "      <td>1010.8</td>\n",
              "      <td>1006.0</td>\n",
              "      <td>7.0</td>\n",
              "      <td>8.0</td>\n",
              "      <td>17.8</td>\n",
              "      <td>29.7</td>\n",
              "      <td>No</td>\n",
              "      <td>No</td>\n",
              "    </tr>\n",
              "  </tbody>\n",
              "</table>\n",
              "<p>5 rows × 23 columns</p>\n",
              "</div>"
            ],
            "text/plain": [
              "         Date Location  MinTemp  MaxTemp  Rainfall  Evaporation  Sunshine  \\\n",
              "0  2008-12-01   Albury     13.4     22.9       0.6          NaN       NaN   \n",
              "1  2008-12-02   Albury      7.4     25.1       0.0          NaN       NaN   \n",
              "2  2008-12-03   Albury     12.9     25.7       0.0          NaN       NaN   \n",
              "3  2008-12-04   Albury      9.2     28.0       0.0          NaN       NaN   \n",
              "4  2008-12-05   Albury     17.5     32.3       1.0          NaN       NaN   \n",
              "\n",
              "  WindGustDir  WindGustSpeed WindDir9am  ... Humidity9am  Humidity3pm  \\\n",
              "0           W           44.0          W  ...        71.0         22.0   \n",
              "1         WNW           44.0        NNW  ...        44.0         25.0   \n",
              "2         WSW           46.0          W  ...        38.0         30.0   \n",
              "3          NE           24.0         SE  ...        45.0         16.0   \n",
              "4           W           41.0        ENE  ...        82.0         33.0   \n",
              "\n",
              "   Pressure9am  Pressure3pm  Cloud9am  Cloud3pm  Temp9am  Temp3pm  RainToday  \\\n",
              "0       1007.7       1007.1       8.0       NaN     16.9     21.8         No   \n",
              "1       1010.6       1007.8       NaN       NaN     17.2     24.3         No   \n",
              "2       1007.6       1008.7       NaN       2.0     21.0     23.2         No   \n",
              "3       1017.6       1012.8       NaN       NaN     18.1     26.5         No   \n",
              "4       1010.8       1006.0       7.0       8.0     17.8     29.7         No   \n",
              "\n",
              "   RainTomorrow  \n",
              "0            No  \n",
              "1            No  \n",
              "2            No  \n",
              "3            No  \n",
              "4            No  \n",
              "\n",
              "[5 rows x 23 columns]"
            ]
          },
          "execution_count": 5,
          "metadata": {},
          "output_type": "execute_result"
        }
      ],
      "source": [
        "df.head()"
      ]
    },
    {
      "cell_type": "code",
      "execution_count": null,
      "metadata": {
        "id": "V89nZ_QIe703",
        "outputId": "7c183a2b-a72d-4dff-fd16-05f46ba0973f"
      },
      "outputs": [
        {
          "name": "stdout",
          "output_type": "stream",
          "text": [
            "<class 'pandas.core.frame.DataFrame'>\n",
            "RangeIndex: 145460 entries, 0 to 145459\n",
            "Data columns (total 23 columns):\n",
            " #   Column         Non-Null Count   Dtype  \n",
            "---  ------         --------------   -----  \n",
            " 0   Date           145460 non-null  object \n",
            " 1   Location       145460 non-null  object \n",
            " 2   MinTemp        143975 non-null  float64\n",
            " 3   MaxTemp        144199 non-null  float64\n",
            " 4   Rainfall       142199 non-null  float64\n",
            " 5   Evaporation    82670 non-null   float64\n",
            " 6   Sunshine       75625 non-null   float64\n",
            " 7   WindGustDir    135134 non-null  object \n",
            " 8   WindGustSpeed  135197 non-null  float64\n",
            " 9   WindDir9am     134894 non-null  object \n",
            " 10  WindDir3pm     141232 non-null  object \n",
            " 11  WindSpeed9am   143693 non-null  float64\n",
            " 12  WindSpeed3pm   142398 non-null  float64\n",
            " 13  Humidity9am    142806 non-null  float64\n",
            " 14  Humidity3pm    140953 non-null  float64\n",
            " 15  Pressure9am    130395 non-null  float64\n",
            " 16  Pressure3pm    130432 non-null  float64\n",
            " 17  Cloud9am       89572 non-null   float64\n",
            " 18  Cloud3pm       86102 non-null   float64\n",
            " 19  Temp9am        143693 non-null  float64\n",
            " 20  Temp3pm        141851 non-null  float64\n",
            " 21  RainToday      142199 non-null  object \n",
            " 22  RainTomorrow   142193 non-null  object \n",
            "dtypes: float64(16), object(7)\n",
            "memory usage: 25.5+ MB\n"
          ]
        }
      ],
      "source": [
        "df.info()"
      ]
    },
    {
      "cell_type": "markdown",
      "metadata": {
        "id": "Jp9x2tc6e704"
      },
      "source": [
        "terdapat 16 data numerik dan 7 data kategori"
      ]
    },
    {
      "cell_type": "code",
      "execution_count": null,
      "metadata": {
        "id": "ojGBB7rse705",
        "outputId": "e81e37fa-e893-4893-c509-79130a3a8450"
      },
      "outputs": [
        {
          "data": {
            "text/plain": [
              "Date                 0\n",
              "Location             0\n",
              "MinTemp           1485\n",
              "MaxTemp           1261\n",
              "Rainfall          3261\n",
              "Evaporation      62790\n",
              "Sunshine         69835\n",
              "WindGustDir      10326\n",
              "WindGustSpeed    10263\n",
              "WindDir9am       10566\n",
              "WindDir3pm        4228\n",
              "WindSpeed9am      1767\n",
              "WindSpeed3pm      3062\n",
              "Humidity9am       2654\n",
              "Humidity3pm       4507\n",
              "Pressure9am      15065\n",
              "Pressure3pm      15028\n",
              "Cloud9am         55888\n",
              "Cloud3pm         59358\n",
              "Temp9am           1767\n",
              "Temp3pm           3609\n",
              "RainToday         3261\n",
              "RainTomorrow      3267\n",
              "dtype: int64"
            ]
          },
          "execution_count": 7,
          "metadata": {},
          "output_type": "execute_result"
        }
      ],
      "source": [
        "df.isnull().sum()"
      ]
    },
    {
      "cell_type": "code",
      "execution_count": null,
      "metadata": {
        "id": "IWSxcuTBe705"
      },
      "outputs": [],
      "source": [
        "df = df.drop(columns=['Date'],axis=1)"
      ]
    },
    {
      "cell_type": "markdown",
      "metadata": {
        "id": "lX-Pp9gce706"
      },
      "source": [
        "proses penghapusan kolom date"
      ]
    },
    {
      "cell_type": "markdown",
      "metadata": {
        "id": "MX7GCiI9e706"
      },
      "source": [
        "# EDA"
      ]
    },
    {
      "cell_type": "code",
      "execution_count": null,
      "metadata": {
        "id": "Q2KM-MT7e706",
        "outputId": "688e65a6-710a-4dc2-fe51-26b838245de0"
      },
      "outputs": [
        {
          "data": {
            "text/plain": [
              "Text(0.5, 1.0, 'Rainfall Histogram')"
            ]
          },
          "execution_count": 9,
          "metadata": {},
          "output_type": "execute_result"
        },
        {
          "data": {
            "image/png": "[encoded data removed]",
            "text/plain": [
              "<Figure size 720x360 with 1 Axes>"
            ]
          },
          "metadata": {
            "needs_background": "light"
          },
          "output_type": "display_data"
        }
      ],
      "source": [
        "plt.figure(figsize=(10,5))\n",
        "plt.subplot(1,2,1)\n",
        "sns.histplot(df['Rainfall'], bins=30, kde=True)\n",
        "plt.title('Rainfall Histogram')"
      ]
    },
    {
      "cell_type": "markdown",
      "metadata": {
        "id": "-c_QEEZNe707"
      },
      "source": [
        "data rainfall berbentuk skewed"
      ]
    },
    {
      "cell_type": "code",
      "execution_count": null,
      "metadata": {
        "id": "WPMfZscne707",
        "outputId": "239b5e65-a009-407c-bda6-63884db7f9dc"
      },
      "outputs": [
        {
          "name": "stderr",
          "output_type": "stream",
          "text": [
            "C:\\Users\\Sandika\\AppData\\Local\\Temp\\ipykernel_7164\\1665899112.py:1: FutureWarning: Dropping of nuisance columns in DataFrame reductions (with 'numeric_only=None') is deprecated; in a future version this will raise TypeError.  Select only valid columns before calling the reduction.\n",
            "  df.skew()\n"
          ]
        },
        {
          "data": {
            "text/plain": [
              "MinTemp          0.021188\n",
              "MaxTemp          0.220839\n",
              "Rainfall         9.836225\n",
              "Evaporation      3.761286\n",
              "Sunshine        -0.496480\n",
              "WindGustSpeed    0.874879\n",
              "WindSpeed9am     0.777630\n",
              "WindSpeed3pm     0.628215\n",
              "Humidity9am     -0.483969\n",
              "Humidity3pm      0.033614\n",
              "Pressure9am     -0.095524\n",
              "Pressure3pm     -0.045621\n",
              "Cloud9am        -0.229082\n",
              "Cloud3pm        -0.226384\n",
              "Temp9am          0.088540\n",
              "Temp3pm          0.237960\n",
              "dtype: float64"
            ]
          },
          "execution_count": 10,
          "metadata": {},
          "output_type": "execute_result"
        }
      ],
      "source": [
        "df.skew()"
      ]
    },
    {
      "cell_type": "markdown",
      "metadata": {
        "id": "wrO33Pyee707"
      },
      "source": [
        "melihat bentuk data dari masing masing kolom apakah memiliki skew atau tidak"
      ]
    },
    {
      "cell_type": "code",
      "execution_count": null,
      "metadata": {
        "id": "vYq7reAge708",
        "outputId": "094fdecc-2971-4e50-cb3b-fb588d5a6b85"
      },
      "outputs": [
        {
          "data": {
            "text/plain": [
              "<AxesSubplot:>"
            ]
          },
          "execution_count": 11,
          "metadata": {},
          "output_type": "execute_result"
        },
        {
          "data": {
            "image/png": "[encoded data removed]",
            "text/plain": [
              "<Figure size 1440x720 with 2 Axes>"
            ]
          },
          "metadata": {
            "needs_background": "light"
          },
          "output_type": "display_data"
        }
      ],
      "source": [
        "plt.figure(figsize=(20,10))\n",
        "sns.heatmap(df.corr(),annot=True)"
      ]
    },
    {
      "cell_type": "markdown",
      "metadata": {
        "id": "k8SiYXxOe708"
      },
      "source": [
        "Menunjukkan nilai korelasi tiap kolom dengan menggunakan heatmap"
      ]
    },
    {
      "cell_type": "code",
      "execution_count": null,
      "metadata": {
        "id": "3k0573Gee709",
        "outputId": "3052a9f7-9186-46d2-9a3a-cb5493229940"
      },
      "outputs": [
        {
          "data": {
            "text/plain": [
              "No     110316\n",
              "Yes     31877\n",
              "Name: RainTomorrow, dtype: int64"
            ]
          },
          "execution_count": 12,
          "metadata": {},
          "output_type": "execute_result"
        }
      ],
      "source": [
        "df['RainTomorrow'].value_counts()"
      ]
    },
    {
      "cell_type": "markdown",
      "metadata": {
        "id": "D_AEQhjCe709"
      },
      "source": [
        "# Logistic Regression & SVM"
      ]
    },
    {
      "cell_type": "markdown",
      "metadata": {
        "id": "VTqOccZKe709"
      },
      "source": [
        "## Data Preprocessing"
      ]
    },
    {
      "cell_type": "code",
      "execution_count": null,
      "metadata": {
        "id": "M_1oU2JQe709"
      },
      "outputs": [],
      "source": [
        "X = df.drop(['RainTomorrow'], axis=1)\n",
        "y = df[['RainTomorrow']]"
      ]
    },
    {
      "cell_type": "markdown",
      "metadata": {
        "id": "a3gPyO6Ge70-"
      },
      "source": [
        "pemisahan kolom 'RainTomorrow' sebagai target"
      ]
    },
    {
      "cell_type": "code",
      "execution_count": null,
      "metadata": {
        "id": "GxFS8rvMe70-"
      },
      "outputs": [],
      "source": [
        "X_train, X_test, y_train, y_test = train_test_split(X, y, test_size=0.2, random_state=21)"
      ]
    },
    {
      "cell_type": "code",
      "execution_count": null,
      "metadata": {
        "id": "HHHE-Yhde70-",
        "outputId": "0ad7dc11-c8d2-4a94-be90-bdada5c16da5"
      },
      "outputs": [
        {
          "name": "stdout",
          "output_type": "stream",
          "text": [
            "Numeric Columns: ['MinTemp', 'MaxTemp', 'Rainfall', 'Evaporation', 'Sunshine', 'WindGustSpeed', 'WindSpeed9am', 'WindSpeed3pm', 'Humidity9am', 'Humidity3pm', 'Pressure9am', 'Pressure3pm', 'Cloud9am', 'Cloud3pm', 'Temp9am', 'Temp3pm']\n",
            "categorical Columns: ['Location', 'WindGustDir', 'WindDir9am', 'WindDir3pm', 'RainToday']\n"
          ]
        }
      ],
      "source": [
        "kat = [col for col in X_train.columns if X_train[col].dtypes == 'O']\n",
        "num = [col for col in X_train.columns if X_train[col].dtypes != 'O']\n",
        "print('Numeric Columns:', num)\n",
        "print('categorical Columns:', kat)"
      ]
    },
    {
      "cell_type": "markdown",
      "metadata": {
        "id": "SsnBjxJme70_"
      },
      "source": [
        "proses pemisahan kolom numerik dengan kolom kategori"
      ]
    },
    {
      "cell_type": "code",
      "execution_count": null,
      "metadata": {
        "id": "-N2VV25Ne70_"
      },
      "outputs": [],
      "source": [
        "for df in [X_train, X_test]:\n",
        "    for col in num:\n",
        "        col_median=X_train[col].median()\n",
        "        df[col].fillna(col_median, inplace=True)"
      ]
    },
    {
      "cell_type": "code",
      "execution_count": null,
      "metadata": {
        "id": "QrgW1fiwe70_"
      },
      "outputs": [],
      "source": [
        "for kat in [X_train, X_test]:\n",
        "    kat['Location'].fillna(X_train['Location'].mode()[0], inplace=True)\n",
        "    kat['WindGustDir'].fillna(X_train['WindGustDir'].mode()[0], inplace=True)\n",
        "    kat['WindDir9am'].fillna(X_train['WindDir9am'].mode()[0], inplace=True)\n",
        "    kat['WindDir3pm'].fillna(X_train['WindDir3pm'].mode()[0], inplace=True)\n",
        "    kat['RainToday'].fillna(X_train['RainToday'].mode()[0], inplace=True)"
      ]
    },
    {
      "cell_type": "markdown",
      "metadata": {
        "id": "lcCtqXrHe70_"
      },
      "source": [
        "proses pengisian data numerik yang berisi NaN dengan nilai tengah tiap kolom dan data kategori dengan kategori dengan jumlah terbanyak"
      ]
    },
    {
      "cell_type": "code",
      "execution_count": null,
      "metadata": {
        "id": "pDVEtEEKe71A"
      },
      "outputs": [],
      "source": [
        "y_train['RainTomorrow'].fillna(y_train['RainTomorrow'].mode()[0], inplace=True)\n",
        "y_test['RainTomorrow'].fillna(y_train['RainTomorrow'].mode()[0], inplace=True)"
      ]
    },
    {
      "cell_type": "code",
      "execution_count": null,
      "metadata": {
        "id": "hknBuFAee71A"
      },
      "outputs": [],
      "source": [
        "X_train_num = X_train[num]\n",
        "X_train_cat = X_train[kat]\n",
        "\n",
        "X_test_num = X_test[num]\n",
        "X_test_cat = X_test[kat]"
      ]
    },
    {
      "cell_type": "markdown",
      "metadata": {
        "id": "fOx06Ltze71A"
      },
      "source": [
        "Proses pemisahan data numerik dengan kategori"
      ]
    },
    {
      "cell_type": "code",
      "execution_count": null,
      "metadata": {
        "id": "apUetqeMe71B"
      },
      "outputs": [],
      "source": [
        "scaler = MinMaxScaler ()\n",
        "X_train_num_scaled = scaler.fit_transform(X_train_num)\n",
        "X_test_num_scaled= scaler.transform(X_test_num)"
      ]
    },
    {
      "cell_type": "code",
      "execution_count": null,
      "metadata": {
        "id": "LdQ3wYb-e71B",
        "outputId": "5d968c32-bc24-419f-ba2f-29a23ff3c9cb"
      },
      "outputs": [
        {
          "data": {
            "text/plain": [
              "array([[23., 13.,  3.,  0.,  0.],\n",
              "       [21., 14., 14., 13.,  0.],\n",
              "       [45.,  1.,  3.,  4.,  1.],\n",
              "       ...,\n",
              "       [13., 14.,  7., 14.,  1.],\n",
              "       [20.,  1.,  1.,  5.,  0.],\n",
              "       [44., 13.,  7., 13.,  1.]])"
            ]
          },
          "execution_count": 23,
          "metadata": {},
          "output_type": "execute_result"
        }
      ],
      "source": [
        "encoder =OrdinalEncoder()\n",
        "X_train_cat_encoded = encoder.fit_transform(X_train_cat)\n",
        "X_test_cat_encoded=encoder.transform(X_test_cat)\n",
        "X_train_cat_encoded"
      ]
    },
    {
      "cell_type": "markdown",
      "metadata": {
        "id": "fl3GPcFie71B"
      },
      "source": [
        "proses encoding dan scaling data X train dan test"
      ]
    },
    {
      "cell_type": "code",
      "execution_count": null,
      "metadata": {
        "id": "Vazj1OT4e71B"
      },
      "outputs": [],
      "source": [
        "X_train_final = np.concatenate([X_train_num_scaled, X_train_cat_encoded], axis=1)\n",
        "X_test_final = np.concatenate([X_test_num_scaled, X_test_cat_encoded], axis=1)"
      ]
    },
    {
      "cell_type": "code",
      "execution_count": null,
      "metadata": {
        "id": "rmBxhcGTe71C",
        "outputId": "bf0d4b69-b3af-4e97-84e0-919bdf699f8b"
      },
      "outputs": [
        {
          "data": {
            "text/html": [
              "<div>\n",
              "<style scoped>\n",
              "    .dataframe tbody tr th:only-of-type {\n",
              "        vertical-align: middle;\n",
              "    }\n",
              "\n",
              "    .dataframe tbody tr th {\n",
              "        vertical-align: top;\n",
              "    }\n",
              "\n",
              "    .dataframe thead tr th {\n",
              "        text-align: left;\n",
              "    }\n",
              "</style>\n",
              "<table border=\"1\" class=\"dataframe\">\n",
              "  <thead>\n",
              "    <tr>\n",
              "      <th></th>\n",
              "      <th>MinTemp</th>\n",
              "      <th>MaxTemp</th>\n",
              "      <th>Rainfall</th>\n",
              "      <th>Evaporation</th>\n",
              "      <th>Sunshine</th>\n",
              "      <th>WindGustSpeed</th>\n",
              "      <th>WindSpeed9am</th>\n",
              "      <th>WindSpeed3pm</th>\n",
              "      <th>Humidity9am</th>\n",
              "      <th>Humidity3pm</th>\n",
              "      <th>...</th>\n",
              "      <th>Pressure3pm</th>\n",
              "      <th>Cloud9am</th>\n",
              "      <th>Cloud3pm</th>\n",
              "      <th>Temp9am</th>\n",
              "      <th>Temp3pm</th>\n",
              "      <th>Location</th>\n",
              "      <th>WindGustDir</th>\n",
              "      <th>WindDir9am</th>\n",
              "      <th>WindDir3pm</th>\n",
              "      <th>RainToday</th>\n",
              "    </tr>\n",
              "  </thead>\n",
              "  <tbody>\n",
              "    <tr>\n",
              "      <th>0</th>\n",
              "      <td>0.341981</td>\n",
              "      <td>0.393195</td>\n",
              "      <td>0.000000</td>\n",
              "      <td>0.033103</td>\n",
              "      <td>0.586207</td>\n",
              "      <td>0.255814</td>\n",
              "      <td>0.149425</td>\n",
              "      <td>0.195402</td>\n",
              "      <td>0.70</td>\n",
              "      <td>0.59</td>\n",
              "      <td>...</td>\n",
              "      <td>0.6112</td>\n",
              "      <td>0.555556</td>\n",
              "      <td>0.555556</td>\n",
              "      <td>0.504219</td>\n",
              "      <td>0.401152</td>\n",
              "      <td>23.0</td>\n",
              "      <td>13.0</td>\n",
              "      <td>3.0</td>\n",
              "      <td>0.0</td>\n",
              "      <td>0.0</td>\n",
              "    </tr>\n",
              "    <tr>\n",
              "      <th>1</th>\n",
              "      <td>0.551887</td>\n",
              "      <td>0.470699</td>\n",
              "      <td>0.001617</td>\n",
              "      <td>0.037241</td>\n",
              "      <td>0.268966</td>\n",
              "      <td>0.441860</td>\n",
              "      <td>0.344828</td>\n",
              "      <td>0.379310</td>\n",
              "      <td>0.30</td>\n",
              "      <td>0.34</td>\n",
              "      <td>...</td>\n",
              "      <td>0.5264</td>\n",
              "      <td>0.888889</td>\n",
              "      <td>0.555556</td>\n",
              "      <td>0.485232</td>\n",
              "      <td>0.464491</td>\n",
              "      <td>21.0</td>\n",
              "      <td>14.0</td>\n",
              "      <td>14.0</td>\n",
              "      <td>13.0</td>\n",
              "      <td>0.0</td>\n",
              "    </tr>\n",
              "    <tr>\n",
              "      <th>2</th>\n",
              "      <td>0.577830</td>\n",
              "      <td>0.629490</td>\n",
              "      <td>0.012938</td>\n",
              "      <td>0.158621</td>\n",
              "      <td>0.744828</td>\n",
              "      <td>0.209302</td>\n",
              "      <td>0.000000</td>\n",
              "      <td>0.218391</td>\n",
              "      <td>0.86</td>\n",
              "      <td>0.53</td>\n",
              "      <td>...</td>\n",
              "      <td>0.5888</td>\n",
              "      <td>0.222222</td>\n",
              "      <td>0.444444</td>\n",
              "      <td>0.599156</td>\n",
              "      <td>0.633397</td>\n",
              "      <td>45.0</td>\n",
              "      <td>1.0</td>\n",
              "      <td>3.0</td>\n",
              "      <td>4.0</td>\n",
              "      <td>1.0</td>\n",
              "    </tr>\n",
              "    <tr>\n",
              "      <th>3</th>\n",
              "      <td>0.188679</td>\n",
              "      <td>0.362949</td>\n",
              "      <td>0.000539</td>\n",
              "      <td>0.033103</td>\n",
              "      <td>0.586207</td>\n",
              "      <td>0.286822</td>\n",
              "      <td>0.068966</td>\n",
              "      <td>0.080460</td>\n",
              "      <td>0.82</td>\n",
              "      <td>0.45</td>\n",
              "      <td>...</td>\n",
              "      <td>0.6128</td>\n",
              "      <td>0.555556</td>\n",
              "      <td>0.555556</td>\n",
              "      <td>0.246835</td>\n",
              "      <td>0.362764</td>\n",
              "      <td>17.0</td>\n",
              "      <td>8.0</td>\n",
              "      <td>7.0</td>\n",
              "      <td>11.0</td>\n",
              "      <td>0.0</td>\n",
              "    </tr>\n",
              "    <tr>\n",
              "      <th>4</th>\n",
              "      <td>0.580189</td>\n",
              "      <td>0.470699</td>\n",
              "      <td>0.003235</td>\n",
              "      <td>0.033103</td>\n",
              "      <td>0.586207</td>\n",
              "      <td>0.240310</td>\n",
              "      <td>0.068966</td>\n",
              "      <td>0.172414</td>\n",
              "      <td>0.67</td>\n",
              "      <td>0.68</td>\n",
              "      <td>...</td>\n",
              "      <td>0.5296</td>\n",
              "      <td>0.555556</td>\n",
              "      <td>0.555556</td>\n",
              "      <td>0.523207</td>\n",
              "      <td>0.485605</td>\n",
              "      <td>0.0</td>\n",
              "      <td>5.0</td>\n",
              "      <td>4.0</td>\n",
              "      <td>5.0</td>\n",
              "      <td>1.0</td>\n",
              "    </tr>\n",
              "    <tr>\n",
              "      <th>...</th>\n",
              "      <td>...</td>\n",
              "      <td>...</td>\n",
              "      <td>...</td>\n",
              "      <td>...</td>\n",
              "      <td>...</td>\n",
              "      <td>...</td>\n",
              "      <td>...</td>\n",
              "      <td>...</td>\n",
              "      <td>...</td>\n",
              "      <td>...</td>\n",
              "      <td>...</td>\n",
              "      <td>...</td>\n",
              "      <td>...</td>\n",
              "      <td>...</td>\n",
              "      <td>...</td>\n",
              "      <td>...</td>\n",
              "      <td>...</td>\n",
              "      <td>...</td>\n",
              "      <td>...</td>\n",
              "      <td>...</td>\n",
              "      <td>...</td>\n",
              "    </tr>\n",
              "    <tr>\n",
              "      <th>116363</th>\n",
              "      <td>0.349057</td>\n",
              "      <td>0.315690</td>\n",
              "      <td>0.006469</td>\n",
              "      <td>0.033103</td>\n",
              "      <td>0.586207</td>\n",
              "      <td>0.426357</td>\n",
              "      <td>0.252874</td>\n",
              "      <td>0.321839</td>\n",
              "      <td>0.57</td>\n",
              "      <td>0.49</td>\n",
              "      <td>...</td>\n",
              "      <td>0.5136</td>\n",
              "      <td>0.555556</td>\n",
              "      <td>0.666667</td>\n",
              "      <td>0.348101</td>\n",
              "      <td>0.326296</td>\n",
              "      <td>35.0</td>\n",
              "      <td>14.0</td>\n",
              "      <td>7.0</td>\n",
              "      <td>14.0</td>\n",
              "      <td>1.0</td>\n",
              "    </tr>\n",
              "    <tr>\n",
              "      <th>116364</th>\n",
              "      <td>0.398585</td>\n",
              "      <td>0.362949</td>\n",
              "      <td>0.001617</td>\n",
              "      <td>0.040000</td>\n",
              "      <td>0.055172</td>\n",
              "      <td>0.193798</td>\n",
              "      <td>0.103448</td>\n",
              "      <td>0.172414</td>\n",
              "      <td>0.99</td>\n",
              "      <td>0.98</td>\n",
              "      <td>...</td>\n",
              "      <td>0.3248</td>\n",
              "      <td>0.555556</td>\n",
              "      <td>0.555556</td>\n",
              "      <td>0.407173</td>\n",
              "      <td>0.353167</td>\n",
              "      <td>12.0</td>\n",
              "      <td>6.0</td>\n",
              "      <td>7.0</td>\n",
              "      <td>3.0</td>\n",
              "      <td>0.0</td>\n",
              "    </tr>\n",
              "    <tr>\n",
              "      <th>116365</th>\n",
              "      <td>0.742925</td>\n",
              "      <td>0.686200</td>\n",
              "      <td>0.120216</td>\n",
              "      <td>0.052414</td>\n",
              "      <td>0.268966</td>\n",
              "      <td>0.643411</td>\n",
              "      <td>0.448276</td>\n",
              "      <td>0.448276</td>\n",
              "      <td>0.84</td>\n",
              "      <td>0.73</td>\n",
              "      <td>...</td>\n",
              "      <td>0.3488</td>\n",
              "      <td>0.888889</td>\n",
              "      <td>0.777778</td>\n",
              "      <td>0.719409</td>\n",
              "      <td>0.687140</td>\n",
              "      <td>13.0</td>\n",
              "      <td>14.0</td>\n",
              "      <td>7.0</td>\n",
              "      <td>14.0</td>\n",
              "      <td>1.0</td>\n",
              "    </tr>\n",
              "    <tr>\n",
              "      <th>116366</th>\n",
              "      <td>0.375000</td>\n",
              "      <td>0.570888</td>\n",
              "      <td>0.000000</td>\n",
              "      <td>0.022069</td>\n",
              "      <td>0.724138</td>\n",
              "      <td>0.170543</td>\n",
              "      <td>0.103448</td>\n",
              "      <td>0.172414</td>\n",
              "      <td>0.73</td>\n",
              "      <td>0.25</td>\n",
              "      <td>...</td>\n",
              "      <td>0.6912</td>\n",
              "      <td>0.111111</td>\n",
              "      <td>0.555556</td>\n",
              "      <td>0.453586</td>\n",
              "      <td>0.579655</td>\n",
              "      <td>20.0</td>\n",
              "      <td>1.0</td>\n",
              "      <td>1.0</td>\n",
              "      <td>5.0</td>\n",
              "      <td>0.0</td>\n",
              "    </tr>\n",
              "    <tr>\n",
              "      <th>116367</th>\n",
              "      <td>0.570755</td>\n",
              "      <td>0.497164</td>\n",
              "      <td>0.052291</td>\n",
              "      <td>0.064828</td>\n",
              "      <td>0.344828</td>\n",
              "      <td>0.395349</td>\n",
              "      <td>0.172414</td>\n",
              "      <td>0.344828</td>\n",
              "      <td>1.00</td>\n",
              "      <td>0.54</td>\n",
              "      <td>...</td>\n",
              "      <td>0.3888</td>\n",
              "      <td>0.888889</td>\n",
              "      <td>0.777778</td>\n",
              "      <td>0.537975</td>\n",
              "      <td>0.502879</td>\n",
              "      <td>44.0</td>\n",
              "      <td>13.0</td>\n",
              "      <td>7.0</td>\n",
              "      <td>13.0</td>\n",
              "      <td>1.0</td>\n",
              "    </tr>\n",
              "  </tbody>\n",
              "</table>\n",
              "<p>116368 rows × 21 columns</p>\n",
              "</div>"
            ],
            "text/plain": [
              "         MinTemp   MaxTemp  Rainfall Evaporation  Sunshine WindGustSpeed  \\\n",
              "0       0.341981  0.393195  0.000000    0.033103  0.586207      0.255814   \n",
              "1       0.551887  0.470699  0.001617    0.037241  0.268966      0.441860   \n",
              "2       0.577830  0.629490  0.012938    0.158621  0.744828      0.209302   \n",
              "3       0.188679  0.362949  0.000539    0.033103  0.586207      0.286822   \n",
              "4       0.580189  0.470699  0.003235    0.033103  0.586207      0.240310   \n",
              "...          ...       ...       ...         ...       ...           ...   \n",
              "116363  0.349057  0.315690  0.006469    0.033103  0.586207      0.426357   \n",
              "116364  0.398585  0.362949  0.001617    0.040000  0.055172      0.193798   \n",
              "116365  0.742925  0.686200  0.120216    0.052414  0.268966      0.643411   \n",
              "116366  0.375000  0.570888  0.000000    0.022069  0.724138      0.170543   \n",
              "116367  0.570755  0.497164  0.052291    0.064828  0.344828      0.395349   \n",
              "\n",
              "       WindSpeed9am WindSpeed3pm Humidity9am Humidity3pm  ... Pressure3pm  \\\n",
              "0          0.149425     0.195402        0.70        0.59  ...      0.6112   \n",
              "1          0.344828     0.379310        0.30        0.34  ...      0.5264   \n",
              "2          0.000000     0.218391        0.86        0.53  ...      0.5888   \n",
              "3          0.068966     0.080460        0.82        0.45  ...      0.6128   \n",
              "4          0.068966     0.172414        0.67        0.68  ...      0.5296   \n",
              "...             ...          ...         ...         ...  ...         ...   \n",
              "116363     0.252874     0.321839        0.57        0.49  ...      0.5136   \n",
              "116364     0.103448     0.172414        0.99        0.98  ...      0.3248   \n",
              "116365     0.448276     0.448276        0.84        0.73  ...      0.3488   \n",
              "116366     0.103448     0.172414        0.73        0.25  ...      0.6912   \n",
              "116367     0.172414     0.344828        1.00        0.54  ...      0.3888   \n",
              "\n",
              "        Cloud9am  Cloud3pm   Temp9am   Temp3pm Location WindGustDir  \\\n",
              "0       0.555556  0.555556  0.504219  0.401152     23.0        13.0   \n",
              "1       0.888889  0.555556  0.485232  0.464491     21.0        14.0   \n",
              "2       0.222222  0.444444  0.599156  0.633397     45.0         1.0   \n",
              "3       0.555556  0.555556  0.246835  0.362764     17.0         8.0   \n",
              "4       0.555556  0.555556  0.523207  0.485605      0.0         5.0   \n",
              "...          ...       ...       ...       ...      ...         ...   \n",
              "116363  0.555556  0.666667  0.348101  0.326296     35.0        14.0   \n",
              "116364  0.555556  0.555556  0.407173  0.353167     12.0         6.0   \n",
              "116365  0.888889  0.777778  0.719409  0.687140     13.0        14.0   \n",
              "116366  0.111111  0.555556  0.453586  0.579655     20.0         1.0   \n",
              "116367  0.888889  0.777778  0.537975  0.502879     44.0        13.0   \n",
              "\n",
              "       WindDir9am WindDir3pm RainToday  \n",
              "0             3.0        0.0       0.0  \n",
              "1            14.0       13.0       0.0  \n",
              "2             3.0        4.0       1.0  \n",
              "3             7.0       11.0       0.0  \n",
              "4             4.0        5.0       1.0  \n",
              "...           ...        ...       ...  \n",
              "116363        7.0       14.0       1.0  \n",
              "116364        7.0        3.0       0.0  \n",
              "116365        7.0       14.0       1.0  \n",
              "116366        1.0        5.0       0.0  \n",
              "116367        7.0       13.0       1.0  \n",
              "\n",
              "[116368 rows x 21 columns]"
            ]
          },
          "execution_count": 25,
          "metadata": {},
          "output_type": "execute_result"
        }
      ],
      "source": [
        "X_train_final_df=pd.DataFrame(X_train_final,columns=[num+kat])\n",
        "X_train_final_df"
      ]
    },
    {
      "cell_type": "markdown",
      "metadata": {
        "id": "HOJp4Joce71C"
      },
      "source": [
        "## Model Definition"
      ]
    },
    {
      "cell_type": "code",
      "execution_count": null,
      "metadata": {
        "id": "tcVkPg3Ie71C"
      },
      "outputs": [],
      "source": [
        "logreg = LogisticRegression()\n"
      ]
    },
    {
      "cell_type": "markdown",
      "metadata": {
        "id": "inZd4Hf-e71C"
      },
      "source": [
        "## Model Training & Evaluation"
      ]
    },
    {
      "cell_type": "code",
      "execution_count": null,
      "metadata": {
        "id": "9RfdbB5Xe71D",
        "outputId": "690a631e-5ac6-4173-ea13-00ceadd0652a"
      },
      "outputs": [
        {
          "name": "stderr",
          "output_type": "stream",
          "text": [
            "C:\\Users\\Sandika\\AppData\\Local\\Programs\\Python\\Python310\\lib\\site-packages\\sklearn\\utils\\validation.py:993: DataConversionWarning: A column-vector y was passed when a 1d array was expected. Please change the shape of y to (n_samples, ), for example using ravel().\n",
            "  y = column_or_1d(y, warn=True)\n",
            "C:\\Users\\Sandika\\AppData\\Local\\Programs\\Python\\Python310\\lib\\site-packages\\sklearn\\linear_model\\_logistic.py:814: ConvergenceWarning: lbfgs failed to converge (status=1):\n",
            "STOP: TOTAL NO. of ITERATIONS REACHED LIMIT.\n",
            "\n",
            "Increase the number of iterations (max_iter) or scale the data as shown in:\n",
            "    https://scikit-learn.org/stable/modules/preprocessing.html\n",
            "Please also refer to the documentation for alternative solver options:\n",
            "    https://scikit-learn.org/stable/modules/linear_model.html#logistic-regression\n",
            "  n_iter_i = _check_optimize_result(\n"
          ]
        },
        {
          "data": {
            "text/plain": [
              "LogisticRegression()"
            ]
          },
          "execution_count": 27,
          "metadata": {},
          "output_type": "execute_result"
        }
      ],
      "source": [
        "logreg.fit(X_train_final, y_train)"
      ]
    },
    {
      "cell_type": "code",
      "execution_count": null,
      "metadata": {
        "id": "CjAwC2Ibe71D",
        "outputId": "24ff1c19-d5f3-441c-c8a9-b8a3d9ff07d6"
      },
      "outputs": [
        {
          "data": {
            "text/plain": [
              "array(['No', 'No', 'No', ..., 'Yes', 'No', 'Yes'], dtype=object)"
            ]
          },
          "execution_count": 28,
          "metadata": {},
          "output_type": "execute_result"
        }
      ],
      "source": [
        "y_pred_train = logreg.predict(X_train_final)\n",
        "y_pred_train"
      ]
    },
    {
      "cell_type": "code",
      "execution_count": null,
      "metadata": {
        "id": "ZGrMoLNee71D",
        "outputId": "a50bbe54-e59d-4106-d352-ad9e417913d6"
      },
      "outputs": [
        {
          "data": {
            "text/plain": [
              "0.8395177368348687"
            ]
          },
          "execution_count": 29,
          "metadata": {},
          "output_type": "execute_result"
        }
      ],
      "source": [
        "accuracy_score(y_train, y_pred_train)"
      ]
    },
    {
      "cell_type": "code",
      "execution_count": null,
      "metadata": {
        "id": "gJNvf5wBe71D",
        "outputId": "d284dfd3-c4dc-4d3d-99bf-a760cbdc3f26"
      },
      "outputs": [
        {
          "data": {
            "text/plain": [
              "array(['No', 'No', 'No', ..., 'No', 'No', 'No'], dtype=object)"
            ]
          },
          "execution_count": 30,
          "metadata": {},
          "output_type": "execute_result"
        }
      ],
      "source": [
        "y_pred_test = logreg.predict(X_test_final)\n",
        "y_pred_test"
      ]
    },
    {
      "cell_type": "code",
      "execution_count": null,
      "metadata": {
        "id": "F3fsIRJVe71E",
        "outputId": "9189bfe3-c95b-4af1-fc32-9df9c7615bd4"
      },
      "outputs": [
        {
          "data": {
            "text/plain": [
              "0.8377904578578304"
            ]
          },
          "execution_count": 31,
          "metadata": {},
          "output_type": "execute_result"
        }
      ],
      "source": [
        "accuracy_score(y_test, y_pred_test)"
      ]
    },
    {
      "cell_type": "code",
      "execution_count": null,
      "metadata": {
        "id": "0ZN2Sln6e71E",
        "outputId": "8cf1b4e4-f528-4533-b3a7-1761298a773e"
      },
      "outputs": [
        {
          "name": "stderr",
          "output_type": "stream",
          "text": [
            "C:\\Users\\Sandika\\AppData\\Local\\Programs\\Python\\Python310\\lib\\site-packages\\sklearn\\utils\\validation.py:1688: FutureWarning: Feature names only support names that are all strings. Got feature names with dtypes: ['tuple']. An error will be raised in 1.2.\n",
            "  warnings.warn(\n",
            "C:\\Users\\Sandika\\AppData\\Local\\Programs\\Python\\Python310\\lib\\site-packages\\sklearn\\utils\\validation.py:993: DataConversionWarning: A column-vector y was passed when a 1d array was expected. Please change the shape of y to (n_samples, ), for example using ravel().\n",
            "  y = column_or_1d(y, warn=True)\n",
            "C:\\Users\\Sandika\\AppData\\Local\\Programs\\Python\\Python310\\lib\\site-packages\\sklearn\\utils\\validation.py:1688: FutureWarning: Feature names only support names that are all strings. Got feature names with dtypes: ['tuple']. An error will be raised in 1.2.\n",
            "  warnings.warn(\n"
          ]
        },
        {
          "name": "stdout",
          "output_type": "stream",
          "text": [
            "linear, testing accuracy 0.846058\n",
            "Time taken : 49.057780265808105\n"
          ]
        },
        {
          "name": "stderr",
          "output_type": "stream",
          "text": [
            "C:\\Users\\Sandika\\AppData\\Local\\Programs\\Python\\Python310\\lib\\site-packages\\sklearn\\utils\\validation.py:1688: FutureWarning: Feature names only support names that are all strings. Got feature names with dtypes: ['tuple']. An error will be raised in 1.2.\n",
            "  warnings.warn(\n",
            "C:\\Users\\Sandika\\AppData\\Local\\Programs\\Python\\Python310\\lib\\site-packages\\sklearn\\utils\\validation.py:993: DataConversionWarning: A column-vector y was passed when a 1d array was expected. Please change the shape of y to (n_samples, ), for example using ravel().\n",
            "  y = column_or_1d(y, warn=True)\n",
            "C:\\Users\\Sandika\\AppData\\Local\\Programs\\Python\\Python310\\lib\\site-packages\\sklearn\\utils\\validation.py:1688: FutureWarning: Feature names only support names that are all strings. Got feature names with dtypes: ['tuple']. An error will be raised in 1.2.\n",
            "  warnings.warn(\n"
          ]
        },
        {
          "name": "stdout",
          "output_type": "stream",
          "text": [
            "poly, testing accuracy 0.794760\n",
            "Time taken : 20.568981647491455\n"
          ]
        },
        {
          "name": "stderr",
          "output_type": "stream",
          "text": [
            "C:\\Users\\Sandika\\AppData\\Local\\Programs\\Python\\Python310\\lib\\site-packages\\sklearn\\utils\\validation.py:1688: FutureWarning: Feature names only support names that are all strings. Got feature names with dtypes: ['tuple']. An error will be raised in 1.2.\n",
            "  warnings.warn(\n",
            "C:\\Users\\Sandika\\AppData\\Local\\Programs\\Python\\Python310\\lib\\site-packages\\sklearn\\utils\\validation.py:993: DataConversionWarning: A column-vector y was passed when a 1d array was expected. Please change the shape of y to (n_samples, ), for example using ravel().\n",
            "  y = column_or_1d(y, warn=True)\n",
            "C:\\Users\\Sandika\\AppData\\Local\\Programs\\Python\\Python310\\lib\\site-packages\\sklearn\\utils\\validation.py:1688: FutureWarning: Feature names only support names that are all strings. Got feature names with dtypes: ['tuple']. An error will be raised in 1.2.\n",
            "  warnings.warn(\n"
          ]
        },
        {
          "name": "stdout",
          "output_type": "stream",
          "text": [
            "rbf, testing accuracy 0.780661\n",
            "Time taken : 35.36241126060486\n"
          ]
        },
        {
          "name": "stderr",
          "output_type": "stream",
          "text": [
            "C:\\Users\\Sandika\\AppData\\Local\\Programs\\Python\\Python310\\lib\\site-packages\\sklearn\\utils\\validation.py:1688: FutureWarning: Feature names only support names that are all strings. Got feature names with dtypes: ['tuple']. An error will be raised in 1.2.\n",
            "  warnings.warn(\n",
            "C:\\Users\\Sandika\\AppData\\Local\\Programs\\Python\\Python310\\lib\\site-packages\\sklearn\\utils\\validation.py:993: DataConversionWarning: A column-vector y was passed when a 1d array was expected. Please change the shape of y to (n_samples, ), for example using ravel().\n",
            "  y = column_or_1d(y, warn=True)\n",
            "C:\\Users\\Sandika\\AppData\\Local\\Programs\\Python\\Python310\\lib\\site-packages\\sklearn\\utils\\validation.py:1688: FutureWarning: Feature names only support names that are all strings. Got feature names with dtypes: ['tuple']. An error will be raised in 1.2.\n",
            "  warnings.warn(\n"
          ]
        },
        {
          "name": "stdout",
          "output_type": "stream",
          "text": [
            "sigmoid, testing accuracy 0.666067\n",
            "Time taken : 19.499842405319214\n"
          ]
        }
      ],
      "source": [
        "X_train_sample = X_train_final_df.loc[0:20000]\n",
        "y_train_sample = y_train[0:20000 + 1]\n",
        "for kern in ['linear','poly','rbf','sigmoid']:\n",
        "    t0=time.time()\n",
        "    clf_svc = svm.SVC(kernel= kern)\n",
        "    clf_svc.fit(X_train_sample, y_train_sample)\n",
        "    y_pred = clf_svc.predict(X_train_sample)\n",
        "    score = accuracy_score(y_train_sample,y_pred)\n",
        "    print('%s, testing accuracy %f'%(kern,score))\n",
        "    print('Time taken :' , time.time()-t0)"
      ]
    },
    {
      "cell_type": "markdown",
      "metadata": {
        "id": "d3kQKic5e71E"
      },
      "source": [
        "model training dan juga evaluation menggunakan metode logistic regression dan juga svm dengan menggunakan 20000 data random"
      ]
    },
    {
      "cell_type": "markdown",
      "metadata": {
        "id": "cLKK56uGe71E"
      },
      "source": [
        "## Model Inference"
      ]
    },
    {
      "cell_type": "code",
      "execution_count": null,
      "metadata": {
        "id": "tHtvALije71E",
        "outputId": "845ed23b-69ab-4008-ae2a-d71d720cf702"
      },
      "outputs": [
        {
          "data": {
            "text/html": [
              "<div>\n",
              "<style scoped>\n",
              "    .dataframe tbody tr th:only-of-type {\n",
              "        vertical-align: middle;\n",
              "    }\n",
              "\n",
              "    .dataframe tbody tr th {\n",
              "        vertical-align: top;\n",
              "    }\n",
              "\n",
              "    .dataframe thead th {\n",
              "        text-align: right;\n",
              "    }\n",
              "</style>\n",
              "<table border=\"1\" class=\"dataframe\">\n",
              "  <thead>\n",
              "    <tr style=\"text-align: right;\">\n",
              "      <th></th>\n",
              "      <th>Date</th>\n",
              "      <th>Location</th>\n",
              "      <th>MinTemp</th>\n",
              "      <th>MaxTemp</th>\n",
              "      <th>Rainfall</th>\n",
              "      <th>Evaporation</th>\n",
              "      <th>Sunshine</th>\n",
              "      <th>WindGustDir</th>\n",
              "      <th>WindGustSpeed</th>\n",
              "      <th>WindDir9am</th>\n",
              "      <th>...</th>\n",
              "      <th>Humidity9am</th>\n",
              "      <th>Humidity3pm</th>\n",
              "      <th>Pressure9am</th>\n",
              "      <th>Pressure3pm</th>\n",
              "      <th>Cloud9am</th>\n",
              "      <th>Cloud3pm</th>\n",
              "      <th>Temp9am</th>\n",
              "      <th>Temp3pm</th>\n",
              "      <th>RainToday</th>\n",
              "      <th>RainTomorrow</th>\n",
              "    </tr>\n",
              "  </thead>\n",
              "  <tbody>\n",
              "    <tr>\n",
              "      <th>64807</th>\n",
              "      <td>2010-09-09</td>\n",
              "      <td>MelbourneAirport</td>\n",
              "      <td>10.0</td>\n",
              "      <td>16.1</td>\n",
              "      <td>0.0</td>\n",
              "      <td>5.4</td>\n",
              "      <td>5.8</td>\n",
              "      <td>N</td>\n",
              "      <td>72.0</td>\n",
              "      <td>N</td>\n",
              "      <td>...</td>\n",
              "      <td>77.0</td>\n",
              "      <td>61.0</td>\n",
              "      <td>1011.0</td>\n",
              "      <td>1006.2</td>\n",
              "      <td>6.0</td>\n",
              "      <td>5.0</td>\n",
              "      <td>11.5</td>\n",
              "      <td>15.8</td>\n",
              "      <td>No</td>\n",
              "      <td>Yes</td>\n",
              "    </tr>\n",
              "    <tr>\n",
              "      <th>137989</th>\n",
              "      <td>2014-05-31</td>\n",
              "      <td>AliceSprings</td>\n",
              "      <td>9.3</td>\n",
              "      <td>20.7</td>\n",
              "      <td>0.0</td>\n",
              "      <td>4.6</td>\n",
              "      <td>10.3</td>\n",
              "      <td>SSE</td>\n",
              "      <td>28.0</td>\n",
              "      <td>SSW</td>\n",
              "      <td>...</td>\n",
              "      <td>48.0</td>\n",
              "      <td>36.0</td>\n",
              "      <td>1021.2</td>\n",
              "      <td>1017.6</td>\n",
              "      <td>7.0</td>\n",
              "      <td>1.0</td>\n",
              "      <td>14.6</td>\n",
              "      <td>19.2</td>\n",
              "      <td>No</td>\n",
              "      <td>No</td>\n",
              "    </tr>\n",
              "  </tbody>\n",
              "</table>\n",
              "<p>2 rows × 23 columns</p>\n",
              "</div>"
            ],
            "text/plain": [
              "              Date          Location  MinTemp  MaxTemp  Rainfall  Evaporation  \\\n",
              "64807   2010-09-09  MelbourneAirport     10.0     16.1       0.0          5.4   \n",
              "137989  2014-05-31      AliceSprings      9.3     20.7       0.0          4.6   \n",
              "\n",
              "        Sunshine WindGustDir  WindGustSpeed WindDir9am  ... Humidity9am  \\\n",
              "64807        5.8           N           72.0          N  ...        77.0   \n",
              "137989      10.3         SSE           28.0        SSW  ...        48.0   \n",
              "\n",
              "        Humidity3pm  Pressure9am  Pressure3pm  Cloud9am  Cloud3pm  Temp9am  \\\n",
              "64807          61.0       1011.0       1006.2       6.0       5.0     11.5   \n",
              "137989         36.0       1021.2       1017.6       7.0       1.0     14.6   \n",
              "\n",
              "        Temp3pm  RainToday  RainTomorrow  \n",
              "64807      15.8         No           Yes  \n",
              "137989     19.2         No            No  \n",
              "\n",
              "[2 rows x 23 columns]"
            ]
          },
          "execution_count": 51,
          "metadata": {},
          "output_type": "execute_result"
        }
      ],
      "source": [
        "data_sample = df_dummy.sample(2)\n",
        "data_sample"
      ]
    },
    {
      "cell_type": "markdown",
      "metadata": {
        "id": "S_3L0MfHe71F"
      },
      "source": [
        "proses pengambilan data random untuk model inference"
      ]
    },
    {
      "cell_type": "code",
      "execution_count": null,
      "metadata": {
        "id": "NtTKx9-Re71F"
      },
      "outputs": [],
      "source": [
        "data_sample.reset_index(drop=True,inplace=True)"
      ]
    },
    {
      "cell_type": "markdown",
      "metadata": {
        "id": "6ocI5vc9e71F"
      },
      "source": [
        "reset index data sample"
      ]
    },
    {
      "cell_type": "code",
      "execution_count": null,
      "metadata": {
        "id": "ppg2YCxRe71F"
      },
      "outputs": [],
      "source": [
        "kat_inf = [col for col in X_train.columns if data_sample[col].dtypes == 'O']\n",
        "num_inf = [col for col in X_train.columns if data_sample[col].dtypes != 'O']"
      ]
    },
    {
      "cell_type": "code",
      "execution_count": null,
      "metadata": {
        "id": "qAG-Ixfpe71F"
      },
      "outputs": [],
      "source": [
        "data_inf_num = data_sample[num_inf]\n",
        "data_inf_cat = data_sample[kat_inf]"
      ]
    },
    {
      "cell_type": "code",
      "execution_count": null,
      "metadata": {
        "id": "F_U7k73He71G"
      },
      "outputs": [],
      "source": [
        "data_inf_num_scaled = scaler.transform(data_inf_num)\n",
        "data_inf_cat_encoded = encoder.transform(data_inf_cat)"
      ]
    },
    {
      "cell_type": "code",
      "execution_count": null,
      "metadata": {
        "id": "Rjef8V70e71G",
        "outputId": "711932ed-dd8e-4330-df0d-6344e4b9bea4"
      },
      "outputs": [
        {
          "data": {
            "text/plain": [
              "array([[ 0.43632075,  0.39508507,  0.        ,  0.03724138,  0.4       ,\n",
              "         0.51162791,  0.59770115,  0.42528736,  0.77      ,  0.61      ,\n",
              "         0.50496689,  0.4656    ,  0.66666667,  0.55555556,  0.39451477,\n",
              "         0.40690979, 19.        ,  3.        ,  3.        ,  3.        ,\n",
              "         0.        ],\n",
              "       [ 0.41981132,  0.48204159,  0.        ,  0.03172414,  0.71034483,\n",
              "         0.17054264,  0.17241379,  0.12643678,  0.48      ,  0.36      ,\n",
              "         0.67384106,  0.648     ,  0.77777778,  0.11111111,  0.45991561,\n",
              "         0.47216891,  3.        , 10.        , 11.        , 10.        ,\n",
              "         0.        ]])"
            ]
          },
          "execution_count": 67,
          "metadata": {},
          "output_type": "execute_result"
        }
      ],
      "source": [
        "data_inf_final= np.concatenate([data_inf_num_scaled, data_inf_cat_encoded], axis=1)\n",
        "data_inf_final"
      ]
    },
    {
      "cell_type": "code",
      "execution_count": null,
      "metadata": {
        "id": "VoqrIxsxe71G",
        "outputId": "7e537a13-7c96-42f6-aa1b-bac2c47cda7a"
      },
      "outputs": [
        {
          "data": {
            "text/html": [
              "<div>\n",
              "<style scoped>\n",
              "    .dataframe tbody tr th:only-of-type {\n",
              "        vertical-align: middle;\n",
              "    }\n",
              "\n",
              "    .dataframe tbody tr th {\n",
              "        vertical-align: top;\n",
              "    }\n",
              "\n",
              "    .dataframe thead th {\n",
              "        text-align: right;\n",
              "    }\n",
              "</style>\n",
              "<table border=\"1\" class=\"dataframe\">\n",
              "  <thead>\n",
              "    <tr style=\"text-align: right;\">\n",
              "      <th></th>\n",
              "      <th>Rain-Prediction</th>\n",
              "    </tr>\n",
              "  </thead>\n",
              "  <tbody>\n",
              "    <tr>\n",
              "      <th>0</th>\n",
              "      <td>Yes</td>\n",
              "    </tr>\n",
              "    <tr>\n",
              "      <th>1</th>\n",
              "      <td>No</td>\n",
              "    </tr>\n",
              "  </tbody>\n",
              "</table>\n",
              "</div>"
            ],
            "text/plain": [
              "  Rain-Prediction\n",
              "0             Yes\n",
              "1              No"
            ]
          },
          "execution_count": 68,
          "metadata": {},
          "output_type": "execute_result"
        }
      ],
      "source": [
        "y_pred_inf= logreg.predict(data_inf_final)\n",
        "y_pred_inf = pd.DataFrame(y_pred_inf, columns=['Rain-Prediction'])\n",
        "y_pred_inf"
      ]
    },
    {
      "cell_type": "code",
      "execution_count": null,
      "metadata": {
        "id": "ZX3r5wHee71G",
        "outputId": "6e5d9eac-71e5-4f0f-df31-d5c1cf17eb5d"
      },
      "outputs": [
        {
          "data": {
            "text/html": [
              "<div>\n",
              "<style scoped>\n",
              "    .dataframe tbody tr th:only-of-type {\n",
              "        vertical-align: middle;\n",
              "    }\n",
              "\n",
              "    .dataframe tbody tr th {\n",
              "        vertical-align: top;\n",
              "    }\n",
              "\n",
              "    .dataframe thead th {\n",
              "        text-align: right;\n",
              "    }\n",
              "</style>\n",
              "<table border=\"1\" class=\"dataframe\">\n",
              "  <thead>\n",
              "    <tr style=\"text-align: right;\">\n",
              "      <th></th>\n",
              "      <th>Date</th>\n",
              "      <th>Location</th>\n",
              "      <th>MinTemp</th>\n",
              "      <th>MaxTemp</th>\n",
              "      <th>Rainfall</th>\n",
              "      <th>Evaporation</th>\n",
              "      <th>Sunshine</th>\n",
              "      <th>WindGustDir</th>\n",
              "      <th>WindGustSpeed</th>\n",
              "      <th>WindDir9am</th>\n",
              "      <th>...</th>\n",
              "      <th>Humidity3pm</th>\n",
              "      <th>Pressure9am</th>\n",
              "      <th>Pressure3pm</th>\n",
              "      <th>Cloud9am</th>\n",
              "      <th>Cloud3pm</th>\n",
              "      <th>Temp9am</th>\n",
              "      <th>Temp3pm</th>\n",
              "      <th>RainToday</th>\n",
              "      <th>RainTomorrow</th>\n",
              "      <th>Rain-Prediction</th>\n",
              "    </tr>\n",
              "  </thead>\n",
              "  <tbody>\n",
              "    <tr>\n",
              "      <th>0</th>\n",
              "      <td>2010-09-09</td>\n",
              "      <td>MelbourneAirport</td>\n",
              "      <td>10.0</td>\n",
              "      <td>16.1</td>\n",
              "      <td>0.0</td>\n",
              "      <td>5.4</td>\n",
              "      <td>5.8</td>\n",
              "      <td>N</td>\n",
              "      <td>72.0</td>\n",
              "      <td>N</td>\n",
              "      <td>...</td>\n",
              "      <td>61.0</td>\n",
              "      <td>1011.0</td>\n",
              "      <td>1006.2</td>\n",
              "      <td>6.0</td>\n",
              "      <td>5.0</td>\n",
              "      <td>11.5</td>\n",
              "      <td>15.8</td>\n",
              "      <td>No</td>\n",
              "      <td>Yes</td>\n",
              "      <td>Yes</td>\n",
              "    </tr>\n",
              "    <tr>\n",
              "      <th>1</th>\n",
              "      <td>2014-05-31</td>\n",
              "      <td>AliceSprings</td>\n",
              "      <td>9.3</td>\n",
              "      <td>20.7</td>\n",
              "      <td>0.0</td>\n",
              "      <td>4.6</td>\n",
              "      <td>10.3</td>\n",
              "      <td>SSE</td>\n",
              "      <td>28.0</td>\n",
              "      <td>SSW</td>\n",
              "      <td>...</td>\n",
              "      <td>36.0</td>\n",
              "      <td>1021.2</td>\n",
              "      <td>1017.6</td>\n",
              "      <td>7.0</td>\n",
              "      <td>1.0</td>\n",
              "      <td>14.6</td>\n",
              "      <td>19.2</td>\n",
              "      <td>No</td>\n",
              "      <td>No</td>\n",
              "      <td>No</td>\n",
              "    </tr>\n",
              "  </tbody>\n",
              "</table>\n",
              "<p>2 rows × 24 columns</p>\n",
              "</div>"
            ],
            "text/plain": [
              "         Date          Location  MinTemp  MaxTemp  Rainfall  Evaporation  \\\n",
              "0  2010-09-09  MelbourneAirport     10.0     16.1       0.0          5.4   \n",
              "1  2014-05-31      AliceSprings      9.3     20.7       0.0          4.6   \n",
              "\n",
              "   Sunshine WindGustDir  WindGustSpeed WindDir9am  ... Humidity3pm  \\\n",
              "0       5.8           N           72.0          N  ...        61.0   \n",
              "1      10.3         SSE           28.0        SSW  ...        36.0   \n",
              "\n",
              "   Pressure9am  Pressure3pm  Cloud9am  Cloud3pm  Temp9am  Temp3pm  RainToday  \\\n",
              "0       1011.0       1006.2       6.0       5.0     11.5     15.8         No   \n",
              "1       1021.2       1017.6       7.0       1.0     14.6     19.2         No   \n",
              "\n",
              "   RainTomorrow  Rain-Prediction  \n",
              "0           Yes              Yes  \n",
              "1            No               No  \n",
              "\n",
              "[2 rows x 24 columns]"
            ]
          },
          "execution_count": 58,
          "metadata": {},
          "output_type": "execute_result"
        }
      ],
      "source": [
        "data_sample['Rain-Prediction']= y_pred_inf\n",
        "data_sample"
      ]
    },
    {
      "cell_type": "markdown",
      "metadata": {
        "id": "-y1YgLHze71G"
      },
      "source": [
        "## Kesimpulan"
      ]
    },
    {
      "cell_type": "markdown",
      "metadata": {
        "id": "wDVVtYGue71H"
      },
      "source": [
        "Encoder yang digunakan adalah ordinalEncoder\n",
        "Scaler yang digunakan adalah MinMaxScaler\n",
        "\n",
        "*Logistic Regression*\n",
        "\n",
        "1. Akurasi prediksi train yang didapat sebesar : 83.95 % \n",
        "2. Akurasi prediksi test yang didapat sebesar : 83.78 % \n",
        "\n",
        "tidak ada indikasi overfit maupun underfit karena selisih akurasi prediksi dari data train dan test tidak terlalu besar\n",
        "\n",
        "*SVM*\n",
        "\n",
        "Hyperparameter yang dituning adalah kernel digunakan 20000 data dimana:\n",
        "\n",
        "1. linear memiliki akurasi sebesar 84.6 % \n",
        "2. polynomial memiliki akurasi sebesar 79.47 % \n",
        "3. rbf memiliki akurasi sebesar 78.06 % \n",
        "4. sigmoid memiliki akurasi sebesar 66.61 %\n",
        "\n",
        "Dapat diambil kesimpulan kernel dengan akurasi terbesar adalah linear\n"
      ]
    }
  ],
  "metadata": {
    "interpreter": {
      "hash": "3a81fc1fc3b566a6b48ca20da42126ff95973d46a725ee220cf200843b9b05a5"
    },
    "kernelspec": {
      "display_name": "Python 3.10.1 64-bit",
      "language": "python",
      "name": "python3"
    },
    "language_info": {
      "codemirror_mode": {
        "name": "ipython",
        "version": 3
      },
      "file_extension": ".py",
      "mimetype": "text/x-python",
      "name": "python",
      "nbconvert_exporter": "python",
      "pygments_lexer": "ipython3",
      "version": "3.10.1"
    },
    "orig_nbformat": 4,
    "colab": {
      "name": "rain_prediction.ipynb",
      "provenance": []
    }
  },
  "nbformat": 4,
  "nbformat_minor": 0
}