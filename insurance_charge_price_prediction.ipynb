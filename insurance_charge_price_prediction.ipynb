{
  "cells": [
    {
      "cell_type": "markdown",
      "metadata": {
        "id": "BKaJQ-qZU-JL"
      },
      "source": [
        "# Perkenalan"
      ]
    },
    {
      "cell_type": "markdown",
      "metadata": {
        "id": "b0uLk5FdU-JU"
      },
      "source": [
        "Nama/Batch : Sandika/008"
      ]
    },
    {
      "cell_type": "markdown",
      "metadata": {
        "id": "zqUyCCEbU-JU"
      },
      "source": [
        "# Import Pustaka"
      ]
    },
    {
      "cell_type": "code",
      "execution_count": null,
      "metadata": {
        "id": "jW9_C1lBU-JV"
      },
      "outputs": [],
      "source": [
        "import pandas as pd\n",
        "import numpy as np\n",
        "import seaborn as sns\n",
        "from sklearn import linear_model\n",
        "from sklearn.linear_model import LinearRegression\n",
        "import matplotlib.pyplot as plt\n",
        "from sklearn.model_selection import train_test_split\n",
        "from sklearn.metrics import r2_score\n",
        "from sklearn.preprocessing import StandardScaler\n",
        "from sklearn.metrics import mean_absolute_error, mean_squared_error, r2_score\n",
        "from sklearn.preprocessing import PolynomialFeatures\n",
        "from scipy import stats\n",
        "from sklearn.preprocessing import MinMaxScaler\n",
        "from sklearn.preprocessing import OrdinalEncoder\n",
        "from scipy.stats import ttest_ind\n",
        "from sklearn.linear_model import LogisticRegression\n",
        "from sklearn.metrics import accuracy_score"
      ]
    },
    {
      "cell_type": "markdown",
      "metadata": {
        "id": "zL97VSeRU-JY"
      },
      "source": [
        "# Soal 1"
      ]
    },
    {
      "cell_type": "markdown",
      "metadata": {
        "id": "VVuS4SmtU-JZ"
      },
      "source": [
        "### Data Loading"
      ]
    },
    {
      "cell_type": "code",
      "execution_count": null,
      "metadata": {
        "id": "foZHCyDWU-JZ",
        "outputId": "c405a64c-e8c5-41e4-ee55-7e652c3e5397"
      },
      "outputs": [
        {
          "data": {
            "text/html": [
              "<div>\n",
              "<style scoped>\n",
              "    .dataframe tbody tr th:only-of-type {\n",
              "        vertical-align: middle;\n",
              "    }\n",
              "\n",
              "    .dataframe tbody tr th {\n",
              "        vertical-align: top;\n",
              "    }\n",
              "\n",
              "    .dataframe thead th {\n",
              "        text-align: right;\n",
              "    }\n",
              "</style>\n",
              "<table border=\"1\" class=\"dataframe\">\n",
              "  <thead>\n",
              "    <tr style=\"text-align: right;\">\n",
              "      <th></th>\n",
              "      <th>age</th>\n",
              "      <th>sex</th>\n",
              "      <th>bmi</th>\n",
              "      <th>children</th>\n",
              "      <th>smoker</th>\n",
              "      <th>region</th>\n",
              "      <th>charges</th>\n",
              "    </tr>\n",
              "  </thead>\n",
              "  <tbody>\n",
              "    <tr>\n",
              "      <th>0</th>\n",
              "      <td>19</td>\n",
              "      <td>female</td>\n",
              "      <td>27.900</td>\n",
              "      <td>0</td>\n",
              "      <td>yes</td>\n",
              "      <td>southwest</td>\n",
              "      <td>16884.92400</td>\n",
              "    </tr>\n",
              "    <tr>\n",
              "      <th>1</th>\n",
              "      <td>18</td>\n",
              "      <td>male</td>\n",
              "      <td>33.770</td>\n",
              "      <td>1</td>\n",
              "      <td>no</td>\n",
              "      <td>southeast</td>\n",
              "      <td>1725.55230</td>\n",
              "    </tr>\n",
              "    <tr>\n",
              "      <th>2</th>\n",
              "      <td>28</td>\n",
              "      <td>male</td>\n",
              "      <td>33.000</td>\n",
              "      <td>3</td>\n",
              "      <td>no</td>\n",
              "      <td>southeast</td>\n",
              "      <td>4449.46200</td>\n",
              "    </tr>\n",
              "    <tr>\n",
              "      <th>3</th>\n",
              "      <td>33</td>\n",
              "      <td>male</td>\n",
              "      <td>22.705</td>\n",
              "      <td>0</td>\n",
              "      <td>no</td>\n",
              "      <td>northwest</td>\n",
              "      <td>21984.47061</td>\n",
              "    </tr>\n",
              "    <tr>\n",
              "      <th>4</th>\n",
              "      <td>32</td>\n",
              "      <td>male</td>\n",
              "      <td>28.880</td>\n",
              "      <td>0</td>\n",
              "      <td>no</td>\n",
              "      <td>northwest</td>\n",
              "      <td>3866.85520</td>\n",
              "    </tr>\n",
              "  </tbody>\n",
              "</table>\n",
              "</div>"
            ],
            "text/plain": [
              "   age     sex     bmi  children smoker     region      charges\n",
              "0   19  female  27.900         0    yes  southwest  16884.92400\n",
              "1   18    male  33.770         1     no  southeast   1725.55230\n",
              "2   28    male  33.000         3     no  southeast   4449.46200\n",
              "3   33    male  22.705         0     no  northwest  21984.47061\n",
              "4   32    male  28.880         0     no  northwest   3866.85520"
            ]
          },
          "execution_count": 2,
          "metadata": {},
          "output_type": "execute_result"
        }
      ],
      "source": [
        "df_dummy= pd.read_csv('insurance.csv')\n",
        "df_dummy.head()"
      ]
    },
    {
      "cell_type": "code",
      "execution_count": null,
      "metadata": {
        "id": "EERYjlLIU-Jb"
      },
      "outputs": [],
      "source": [
        "df= df_dummy.copy()"
      ]
    },
    {
      "cell_type": "code",
      "execution_count": null,
      "metadata": {
        "id": "pKfJkfopU-Jc",
        "outputId": "f5e2ca1f-2447-4a40-a030-10ed54903a5c"
      },
      "outputs": [
        {
          "name": "stdout",
          "output_type": "stream",
          "text": [
            "<class 'pandas.core.frame.DataFrame'>\n",
            "RangeIndex: 1338 entries, 0 to 1337\n",
            "Data columns (total 7 columns):\n",
            " #   Column    Non-Null Count  Dtype  \n",
            "---  ------    --------------  -----  \n",
            " 0   age       1338 non-null   int64  \n",
            " 1   sex       1338 non-null   object \n",
            " 2   bmi       1338 non-null   float64\n",
            " 3   children  1338 non-null   int64  \n",
            " 4   smoker    1338 non-null   object \n",
            " 5   region    1338 non-null   object \n",
            " 6   charges   1338 non-null   float64\n",
            "dtypes: float64(2), int64(2), object(3)\n",
            "memory usage: 73.3+ KB\n"
          ]
        }
      ],
      "source": [
        "df.info()"
      ]
    },
    {
      "cell_type": "markdown",
      "metadata": {
        "id": "6EyTzUQhU-Jd"
      },
      "source": [
        "Tidak ditemukan adanya data yang bernilai NaN"
      ]
    },
    {
      "cell_type": "markdown",
      "metadata": {
        "id": "r0OJ6csbU-Je"
      },
      "source": [
        "## EDA"
      ]
    },
    {
      "cell_type": "code",
      "execution_count": null,
      "metadata": {
        "id": "DkFi4rOtU-Jf",
        "outputId": "48f7266b-be51-4507-9c52-b63b632a6453"
      },
      "outputs": [
        {
          "data": {
            "text/plain": [
              "age\n",
              "64    23275.530837\n",
              "61    22024.457609\n",
              "60    21979.418507\n",
              "63    19884.998461\n",
              "43    19267.278653\n",
              "62    19163.856573\n",
              "59    18895.869532\n",
              "54    18758.546475\n",
              "52    18256.269719\n",
              "37    18019.911877\n",
              "47    17653.999593\n",
              "57    16447.185250\n",
              "55    16164.545488\n",
              "53    16020.930755\n",
              "44    15859.396587\n",
              "51    15682.255867\n",
              "50    15663.003301\n",
              "56    15025.515837\n",
              "45    14830.199856\n",
              "48    14632.500445\n",
              "46    14342.590639\n",
              "58    13878.928112\n",
              "42    13061.038669\n",
              "30    12719.110358\n",
              "49    12696.006264\n",
              "23    12419.820040\n",
              "33    12351.532987\n",
              "36    12204.476138\n",
              "27    12184.701721\n",
              "39    11778.242945\n",
              "40    11772.251310\n",
              "34    11613.528121\n",
              "35    11307.182031\n",
              "24    10648.015962\n",
              "29    10430.158727\n",
              "31    10196.980573\n",
              "20    10159.697736\n",
              "22    10012.932802\n",
              "25     9838.365311\n",
              "19     9747.909335\n",
              "41     9653.745650\n",
              "32     9220.300291\n",
              "28     9069.187564\n",
              "38     8102.733674\n",
              "18     7086.217556\n",
              "26     6133.825309\n",
              "21     4730.464330\n",
              "Name: charges, dtype: float64"
            ]
          },
          "execution_count": 5,
          "metadata": {},
          "output_type": "execute_result"
        }
      ],
      "source": [
        "df.groupby('age').mean()['charges'].sort_values(ascending=False)"
      ]
    },
    {
      "cell_type": "markdown",
      "metadata": {
        "id": "PELf1qNYU-Jf"
      },
      "source": [
        "mencari rata rata biaya asuransi berdasarkan umur"
      ]
    },
    {
      "cell_type": "code",
      "execution_count": null,
      "metadata": {
        "id": "OTU9FzGnU-Jg",
        "outputId": "4a842d2a-572f-4541-9118-7e6ae5261612"
      },
      "outputs": [
        {
          "data": {
            "text/html": [
              "<div>\n",
              "<style scoped>\n",
              "    .dataframe tbody tr th:only-of-type {\n",
              "        vertical-align: middle;\n",
              "    }\n",
              "\n",
              "    .dataframe tbody tr th {\n",
              "        vertical-align: top;\n",
              "    }\n",
              "\n",
              "    .dataframe thead th {\n",
              "        text-align: right;\n",
              "    }\n",
              "</style>\n",
              "<table border=\"1\" class=\"dataframe\">\n",
              "  <thead>\n",
              "    <tr style=\"text-align: right;\">\n",
              "      <th></th>\n",
              "      <th>age</th>\n",
              "      <th>bmi</th>\n",
              "      <th>children</th>\n",
              "      <th>charges</th>\n",
              "    </tr>\n",
              "  </thead>\n",
              "  <tbody>\n",
              "    <tr>\n",
              "      <th>count</th>\n",
              "      <td>1338.000000</td>\n",
              "      <td>1338.000000</td>\n",
              "      <td>1338.000000</td>\n",
              "      <td>1338.000000</td>\n",
              "    </tr>\n",
              "    <tr>\n",
              "      <th>mean</th>\n",
              "      <td>39.207025</td>\n",
              "      <td>30.663397</td>\n",
              "      <td>1.094918</td>\n",
              "      <td>13270.422265</td>\n",
              "    </tr>\n",
              "    <tr>\n",
              "      <th>std</th>\n",
              "      <td>14.049960</td>\n",
              "      <td>6.098187</td>\n",
              "      <td>1.205493</td>\n",
              "      <td>12110.011237</td>\n",
              "    </tr>\n",
              "    <tr>\n",
              "      <th>min</th>\n",
              "      <td>18.000000</td>\n",
              "      <td>15.960000</td>\n",
              "      <td>0.000000</td>\n",
              "      <td>1121.873900</td>\n",
              "    </tr>\n",
              "    <tr>\n",
              "      <th>25%</th>\n",
              "      <td>27.000000</td>\n",
              "      <td>26.296250</td>\n",
              "      <td>0.000000</td>\n",
              "      <td>4740.287150</td>\n",
              "    </tr>\n",
              "    <tr>\n",
              "      <th>50%</th>\n",
              "      <td>39.000000</td>\n",
              "      <td>30.400000</td>\n",
              "      <td>1.000000</td>\n",
              "      <td>9382.033000</td>\n",
              "    </tr>\n",
              "    <tr>\n",
              "      <th>75%</th>\n",
              "      <td>51.000000</td>\n",
              "      <td>34.693750</td>\n",
              "      <td>2.000000</td>\n",
              "      <td>16639.912515</td>\n",
              "    </tr>\n",
              "    <tr>\n",
              "      <th>max</th>\n",
              "      <td>64.000000</td>\n",
              "      <td>53.130000</td>\n",
              "      <td>5.000000</td>\n",
              "      <td>63770.428010</td>\n",
              "    </tr>\n",
              "  </tbody>\n",
              "</table>\n",
              "</div>"
            ],
            "text/plain": [
              "               age          bmi     children       charges\n",
              "count  1338.000000  1338.000000  1338.000000   1338.000000\n",
              "mean     39.207025    30.663397     1.094918  13270.422265\n",
              "std      14.049960     6.098187     1.205493  12110.011237\n",
              "min      18.000000    15.960000     0.000000   1121.873900\n",
              "25%      27.000000    26.296250     0.000000   4740.287150\n",
              "50%      39.000000    30.400000     1.000000   9382.033000\n",
              "75%      51.000000    34.693750     2.000000  16639.912515\n",
              "max      64.000000    53.130000     5.000000  63770.428010"
            ]
          },
          "execution_count": 6,
          "metadata": {},
          "output_type": "execute_result"
        }
      ],
      "source": [
        "df.describe()"
      ]
    },
    {
      "cell_type": "code",
      "execution_count": null,
      "metadata": {
        "id": "Y1Vasew4U-Jh",
        "outputId": "1ba3f34b-5df2-4b8a-bfe9-bacb060531dc"
      },
      "outputs": [
        {
          "data": {
            "text/plain": [
              "Index(['charges', 'age', 'bmi', 'children'], dtype='object')"
            ]
          },
          "execution_count": 7,
          "metadata": {},
          "output_type": "execute_result"
        }
      ],
      "source": [
        "df.corr().sort_values('charges', ascending=False, key=abs).index"
      ]
    },
    {
      "cell_type": "markdown",
      "metadata": {
        "id": "b8ymQI-KU-Jh"
      },
      "source": [
        "mencari kolom dengan korelasi tertinggi dengan charges"
      ]
    },
    {
      "cell_type": "markdown",
      "metadata": {
        "id": "4FzNUVrAU-Ji"
      },
      "source": [
        "## Data Preprocessing"
      ]
    },
    {
      "cell_type": "code",
      "execution_count": null,
      "metadata": {
        "id": "YPZeQiCuU-Ji",
        "outputId": "3e6d77f4-6471-4a05-cc5a-7c31e6b9e9bb"
      },
      "outputs": [
        {
          "data": {
            "text/html": [
              "<div>\n",
              "<style scoped>\n",
              "    .dataframe tbody tr th:only-of-type {\n",
              "        vertical-align: middle;\n",
              "    }\n",
              "\n",
              "    .dataframe tbody tr th {\n",
              "        vertical-align: top;\n",
              "    }\n",
              "\n",
              "    .dataframe thead th {\n",
              "        text-align: right;\n",
              "    }\n",
              "</style>\n",
              "<table border=\"1\" class=\"dataframe\">\n",
              "  <thead>\n",
              "    <tr style=\"text-align: right;\">\n",
              "      <th></th>\n",
              "      <th>age</th>\n",
              "      <th>sex</th>\n",
              "      <th>bmi</th>\n",
              "      <th>children</th>\n",
              "      <th>smoker</th>\n",
              "      <th>region</th>\n",
              "      <th>charges</th>\n",
              "    </tr>\n",
              "  </thead>\n",
              "  <tbody>\n",
              "    <tr>\n",
              "      <th>831</th>\n",
              "      <td>36</td>\n",
              "      <td>female</td>\n",
              "      <td>25.840</td>\n",
              "      <td>0</td>\n",
              "      <td>no</td>\n",
              "      <td>northwest</td>\n",
              "      <td>5266.36560</td>\n",
              "    </tr>\n",
              "    <tr>\n",
              "      <th>1287</th>\n",
              "      <td>36</td>\n",
              "      <td>female</td>\n",
              "      <td>25.900</td>\n",
              "      <td>1</td>\n",
              "      <td>no</td>\n",
              "      <td>southwest</td>\n",
              "      <td>5472.44900</td>\n",
              "    </tr>\n",
              "    <tr>\n",
              "      <th>1259</th>\n",
              "      <td>52</td>\n",
              "      <td>female</td>\n",
              "      <td>23.180</td>\n",
              "      <td>0</td>\n",
              "      <td>no</td>\n",
              "      <td>northeast</td>\n",
              "      <td>10197.77220</td>\n",
              "    </tr>\n",
              "    <tr>\n",
              "      <th>827</th>\n",
              "      <td>36</td>\n",
              "      <td>male</td>\n",
              "      <td>28.025</td>\n",
              "      <td>1</td>\n",
              "      <td>yes</td>\n",
              "      <td>northeast</td>\n",
              "      <td>20773.62775</td>\n",
              "    </tr>\n",
              "    <tr>\n",
              "      <th>933</th>\n",
              "      <td>45</td>\n",
              "      <td>female</td>\n",
              "      <td>35.300</td>\n",
              "      <td>0</td>\n",
              "      <td>no</td>\n",
              "      <td>southwest</td>\n",
              "      <td>7348.14200</td>\n",
              "    </tr>\n",
              "    <tr>\n",
              "      <th>779</th>\n",
              "      <td>53</td>\n",
              "      <td>male</td>\n",
              "      <td>28.880</td>\n",
              "      <td>0</td>\n",
              "      <td>no</td>\n",
              "      <td>northwest</td>\n",
              "      <td>9869.81020</td>\n",
              "    </tr>\n",
              "    <tr>\n",
              "      <th>854</th>\n",
              "      <td>49</td>\n",
              "      <td>female</td>\n",
              "      <td>23.845</td>\n",
              "      <td>3</td>\n",
              "      <td>yes</td>\n",
              "      <td>northeast</td>\n",
              "      <td>24106.91255</td>\n",
              "    </tr>\n",
              "    <tr>\n",
              "      <th>1020</th>\n",
              "      <td>51</td>\n",
              "      <td>male</td>\n",
              "      <td>37.000</td>\n",
              "      <td>0</td>\n",
              "      <td>no</td>\n",
              "      <td>southwest</td>\n",
              "      <td>8798.59300</td>\n",
              "    </tr>\n",
              "    <tr>\n",
              "      <th>1037</th>\n",
              "      <td>45</td>\n",
              "      <td>female</td>\n",
              "      <td>30.495</td>\n",
              "      <td>1</td>\n",
              "      <td>yes</td>\n",
              "      <td>northwest</td>\n",
              "      <td>39725.51805</td>\n",
              "    </tr>\n",
              "    <tr>\n",
              "      <th>1096</th>\n",
              "      <td>51</td>\n",
              "      <td>female</td>\n",
              "      <td>34.960</td>\n",
              "      <td>2</td>\n",
              "      <td>yes</td>\n",
              "      <td>northeast</td>\n",
              "      <td>44641.19740</td>\n",
              "    </tr>\n",
              "  </tbody>\n",
              "</table>\n",
              "</div>"
            ],
            "text/plain": [
              "      age     sex     bmi  children smoker     region      charges\n",
              "831    36  female  25.840         0     no  northwest   5266.36560\n",
              "1287   36  female  25.900         1     no  southwest   5472.44900\n",
              "1259   52  female  23.180         0     no  northeast  10197.77220\n",
              "827    36    male  28.025         1    yes  northeast  20773.62775\n",
              "933    45  female  35.300         0     no  southwest   7348.14200\n",
              "779    53    male  28.880         0     no  northwest   9869.81020\n",
              "854    49  female  23.845         3    yes  northeast  24106.91255\n",
              "1020   51    male  37.000         0     no  southwest   8798.59300\n",
              "1037   45  female  30.495         1    yes  northwest  39725.51805\n",
              "1096   51  female  34.960         2    yes  northeast  44641.19740"
            ]
          },
          "execution_count": 8,
          "metadata": {},
          "output_type": "execute_result"
        }
      ],
      "source": [
        "data_inf= df.sample(10, random_state=21) \n",
        "data_inf"
      ]
    },
    {
      "cell_type": "markdown",
      "metadata": {
        "id": "7do5LVRwU-Jj"
      },
      "source": [
        "Proses pengambilan data inference"
      ]
    },
    {
      "cell_type": "code",
      "execution_count": null,
      "metadata": {
        "id": "8c4hUHjcU-Jj",
        "outputId": "127d2b15-0fc0-4d7e-f5ee-445009ac3f05"
      },
      "outputs": [
        {
          "data": {
            "text/html": [
              "<div>\n",
              "<style scoped>\n",
              "    .dataframe tbody tr th:only-of-type {\n",
              "        vertical-align: middle;\n",
              "    }\n",
              "\n",
              "    .dataframe tbody tr th {\n",
              "        vertical-align: top;\n",
              "    }\n",
              "\n",
              "    .dataframe thead th {\n",
              "        text-align: right;\n",
              "    }\n",
              "</style>\n",
              "<table border=\"1\" class=\"dataframe\">\n",
              "  <thead>\n",
              "    <tr style=\"text-align: right;\">\n",
              "      <th></th>\n",
              "      <th>age</th>\n",
              "      <th>sex</th>\n",
              "      <th>bmi</th>\n",
              "      <th>children</th>\n",
              "      <th>smoker</th>\n",
              "      <th>region</th>\n",
              "      <th>charges</th>\n",
              "    </tr>\n",
              "  </thead>\n",
              "  <tbody>\n",
              "    <tr>\n",
              "      <th>0</th>\n",
              "      <td>19</td>\n",
              "      <td>female</td>\n",
              "      <td>27.900</td>\n",
              "      <td>0</td>\n",
              "      <td>yes</td>\n",
              "      <td>southwest</td>\n",
              "      <td>16884.92400</td>\n",
              "    </tr>\n",
              "    <tr>\n",
              "      <th>1</th>\n",
              "      <td>18</td>\n",
              "      <td>male</td>\n",
              "      <td>33.770</td>\n",
              "      <td>1</td>\n",
              "      <td>no</td>\n",
              "      <td>southeast</td>\n",
              "      <td>1725.55230</td>\n",
              "    </tr>\n",
              "    <tr>\n",
              "      <th>2</th>\n",
              "      <td>28</td>\n",
              "      <td>male</td>\n",
              "      <td>33.000</td>\n",
              "      <td>3</td>\n",
              "      <td>no</td>\n",
              "      <td>southeast</td>\n",
              "      <td>4449.46200</td>\n",
              "    </tr>\n",
              "    <tr>\n",
              "      <th>3</th>\n",
              "      <td>33</td>\n",
              "      <td>male</td>\n",
              "      <td>22.705</td>\n",
              "      <td>0</td>\n",
              "      <td>no</td>\n",
              "      <td>northwest</td>\n",
              "      <td>21984.47061</td>\n",
              "    </tr>\n",
              "    <tr>\n",
              "      <th>4</th>\n",
              "      <td>32</td>\n",
              "      <td>male</td>\n",
              "      <td>28.880</td>\n",
              "      <td>0</td>\n",
              "      <td>no</td>\n",
              "      <td>northwest</td>\n",
              "      <td>3866.85520</td>\n",
              "    </tr>\n",
              "    <tr>\n",
              "      <th>...</th>\n",
              "      <td>...</td>\n",
              "      <td>...</td>\n",
              "      <td>...</td>\n",
              "      <td>...</td>\n",
              "      <td>...</td>\n",
              "      <td>...</td>\n",
              "      <td>...</td>\n",
              "    </tr>\n",
              "    <tr>\n",
              "      <th>1333</th>\n",
              "      <td>50</td>\n",
              "      <td>male</td>\n",
              "      <td>30.970</td>\n",
              "      <td>3</td>\n",
              "      <td>no</td>\n",
              "      <td>northwest</td>\n",
              "      <td>10600.54830</td>\n",
              "    </tr>\n",
              "    <tr>\n",
              "      <th>1334</th>\n",
              "      <td>18</td>\n",
              "      <td>female</td>\n",
              "      <td>31.920</td>\n",
              "      <td>0</td>\n",
              "      <td>no</td>\n",
              "      <td>northeast</td>\n",
              "      <td>2205.98080</td>\n",
              "    </tr>\n",
              "    <tr>\n",
              "      <th>1335</th>\n",
              "      <td>18</td>\n",
              "      <td>female</td>\n",
              "      <td>36.850</td>\n",
              "      <td>0</td>\n",
              "      <td>no</td>\n",
              "      <td>southeast</td>\n",
              "      <td>1629.83350</td>\n",
              "    </tr>\n",
              "    <tr>\n",
              "      <th>1336</th>\n",
              "      <td>21</td>\n",
              "      <td>female</td>\n",
              "      <td>25.800</td>\n",
              "      <td>0</td>\n",
              "      <td>no</td>\n",
              "      <td>southwest</td>\n",
              "      <td>2007.94500</td>\n",
              "    </tr>\n",
              "    <tr>\n",
              "      <th>1337</th>\n",
              "      <td>61</td>\n",
              "      <td>female</td>\n",
              "      <td>29.070</td>\n",
              "      <td>0</td>\n",
              "      <td>yes</td>\n",
              "      <td>northwest</td>\n",
              "      <td>29141.36030</td>\n",
              "    </tr>\n",
              "  </tbody>\n",
              "</table>\n",
              "<p>1328 rows × 7 columns</p>\n",
              "</div>"
            ],
            "text/plain": [
              "      age     sex     bmi  children smoker     region      charges\n",
              "0      19  female  27.900         0    yes  southwest  16884.92400\n",
              "1      18    male  33.770         1     no  southeast   1725.55230\n",
              "2      28    male  33.000         3     no  southeast   4449.46200\n",
              "3      33    male  22.705         0     no  northwest  21984.47061\n",
              "4      32    male  28.880         0     no  northwest   3866.85520\n",
              "...   ...     ...     ...       ...    ...        ...          ...\n",
              "1333   50    male  30.970         3     no  northwest  10600.54830\n",
              "1334   18  female  31.920         0     no  northeast   2205.98080\n",
              "1335   18  female  36.850         0     no  southeast   1629.83350\n",
              "1336   21  female  25.800         0     no  southwest   2007.94500\n",
              "1337   61  female  29.070         0    yes  northwest  29141.36030\n",
              "\n",
              "[1328 rows x 7 columns]"
            ]
          },
          "execution_count": 9,
          "metadata": {},
          "output_type": "execute_result"
        }
      ],
      "source": [
        "data_train_test = df.drop(data_inf.index)\n",
        "data_train_test"
      ]
    },
    {
      "cell_type": "markdown",
      "metadata": {
        "id": "Jk008NAzU-Jk"
      },
      "source": [
        "proses pengambilan data train_test"
      ]
    },
    {
      "cell_type": "code",
      "execution_count": null,
      "metadata": {
        "id": "7MDi23t9U-Jl"
      },
      "outputs": [],
      "source": [
        "data_train_test.reset_index(drop=True,inplace=True)\n",
        "data_inf.reset_index(drop=True,inplace=True)"
      ]
    },
    {
      "cell_type": "markdown",
      "metadata": {
        "id": "Q_EJFrKbU-Jl"
      },
      "source": [
        "proses mereset index dari data inf dan train test"
      ]
    },
    {
      "cell_type": "code",
      "execution_count": null,
      "metadata": {
        "id": "kVnz9DVfU-Jm",
        "outputId": "4efa2201-70cc-4a68-e05c-5fec65b8e431"
      },
      "outputs": [
        {
          "data": {
            "text/html": [
              "<div>\n",
              "<style scoped>\n",
              "    .dataframe tbody tr th:only-of-type {\n",
              "        vertical-align: middle;\n",
              "    }\n",
              "\n",
              "    .dataframe tbody tr th {\n",
              "        vertical-align: top;\n",
              "    }\n",
              "\n",
              "    .dataframe thead th {\n",
              "        text-align: right;\n",
              "    }\n",
              "</style>\n",
              "<table border=\"1\" class=\"dataframe\">\n",
              "  <thead>\n",
              "    <tr style=\"text-align: right;\">\n",
              "      <th></th>\n",
              "      <th>age</th>\n",
              "      <th>sex</th>\n",
              "      <th>bmi</th>\n",
              "      <th>children</th>\n",
              "      <th>smoker</th>\n",
              "      <th>region</th>\n",
              "    </tr>\n",
              "  </thead>\n",
              "  <tbody>\n",
              "    <tr>\n",
              "      <th>0</th>\n",
              "      <td>19</td>\n",
              "      <td>female</td>\n",
              "      <td>27.900</td>\n",
              "      <td>0</td>\n",
              "      <td>yes</td>\n",
              "      <td>southwest</td>\n",
              "    </tr>\n",
              "    <tr>\n",
              "      <th>1</th>\n",
              "      <td>18</td>\n",
              "      <td>male</td>\n",
              "      <td>33.770</td>\n",
              "      <td>1</td>\n",
              "      <td>no</td>\n",
              "      <td>southeast</td>\n",
              "    </tr>\n",
              "    <tr>\n",
              "      <th>2</th>\n",
              "      <td>28</td>\n",
              "      <td>male</td>\n",
              "      <td>33.000</td>\n",
              "      <td>3</td>\n",
              "      <td>no</td>\n",
              "      <td>southeast</td>\n",
              "    </tr>\n",
              "    <tr>\n",
              "      <th>3</th>\n",
              "      <td>33</td>\n",
              "      <td>male</td>\n",
              "      <td>22.705</td>\n",
              "      <td>0</td>\n",
              "      <td>no</td>\n",
              "      <td>northwest</td>\n",
              "    </tr>\n",
              "    <tr>\n",
              "      <th>4</th>\n",
              "      <td>32</td>\n",
              "      <td>male</td>\n",
              "      <td>28.880</td>\n",
              "      <td>0</td>\n",
              "      <td>no</td>\n",
              "      <td>northwest</td>\n",
              "    </tr>\n",
              "    <tr>\n",
              "      <th>...</th>\n",
              "      <td>...</td>\n",
              "      <td>...</td>\n",
              "      <td>...</td>\n",
              "      <td>...</td>\n",
              "      <td>...</td>\n",
              "      <td>...</td>\n",
              "    </tr>\n",
              "    <tr>\n",
              "      <th>1323</th>\n",
              "      <td>50</td>\n",
              "      <td>male</td>\n",
              "      <td>30.970</td>\n",
              "      <td>3</td>\n",
              "      <td>no</td>\n",
              "      <td>northwest</td>\n",
              "    </tr>\n",
              "    <tr>\n",
              "      <th>1324</th>\n",
              "      <td>18</td>\n",
              "      <td>female</td>\n",
              "      <td>31.920</td>\n",
              "      <td>0</td>\n",
              "      <td>no</td>\n",
              "      <td>northeast</td>\n",
              "    </tr>\n",
              "    <tr>\n",
              "      <th>1325</th>\n",
              "      <td>18</td>\n",
              "      <td>female</td>\n",
              "      <td>36.850</td>\n",
              "      <td>0</td>\n",
              "      <td>no</td>\n",
              "      <td>southeast</td>\n",
              "    </tr>\n",
              "    <tr>\n",
              "      <th>1326</th>\n",
              "      <td>21</td>\n",
              "      <td>female</td>\n",
              "      <td>25.800</td>\n",
              "      <td>0</td>\n",
              "      <td>no</td>\n",
              "      <td>southwest</td>\n",
              "    </tr>\n",
              "    <tr>\n",
              "      <th>1327</th>\n",
              "      <td>61</td>\n",
              "      <td>female</td>\n",
              "      <td>29.070</td>\n",
              "      <td>0</td>\n",
              "      <td>yes</td>\n",
              "      <td>northwest</td>\n",
              "    </tr>\n",
              "  </tbody>\n",
              "</table>\n",
              "<p>1328 rows × 6 columns</p>\n",
              "</div>"
            ],
            "text/plain": [
              "      age     sex     bmi  children smoker     region\n",
              "0      19  female  27.900         0    yes  southwest\n",
              "1      18    male  33.770         1     no  southeast\n",
              "2      28    male  33.000         3     no  southeast\n",
              "3      33    male  22.705         0     no  northwest\n",
              "4      32    male  28.880         0     no  northwest\n",
              "...   ...     ...     ...       ...    ...        ...\n",
              "1323   50    male  30.970         3     no  northwest\n",
              "1324   18  female  31.920         0     no  northeast\n",
              "1325   18  female  36.850         0     no  southeast\n",
              "1326   21  female  25.800         0     no  southwest\n",
              "1327   61  female  29.070         0    yes  northwest\n",
              "\n",
              "[1328 rows x 6 columns]"
            ]
          },
          "execution_count": 11,
          "metadata": {},
          "output_type": "execute_result"
        }
      ],
      "source": [
        "X= data_train_test.drop(['charges'], axis=1)\n",
        "y= data_train_test['charges']\n",
        "X"
      ]
    },
    {
      "cell_type": "code",
      "execution_count": null,
      "metadata": {
        "id": "0GfAFJDRU-Jn",
        "outputId": "e95f85e8-6d08-49d2-8e5f-60daee791914"
      },
      "outputs": [
        {
          "name": "stdout",
          "output_type": "stream",
          "text": [
            "(1062, 6)\n",
            "(266, 6)\n"
          ]
        }
      ],
      "source": [
        "X_train, X_test, y_train, y_test=train_test_split(X, y, test_size=0.20, random_state=21) #test_size persentase data yang diambil 0.20= 20%\n",
        "\n",
        "print(X_train.shape)\n",
        "print(X_test.shape)"
      ]
    },
    {
      "cell_type": "code",
      "execution_count": null,
      "metadata": {
        "id": "cVCIAIOdU-Jn",
        "outputId": "13f175df-58db-4af6-dd7f-e1406a031ec4"
      },
      "outputs": [
        {
          "name": "stdout",
          "output_type": "stream",
          "text": [
            "Numeric Columns: ['age', 'bmi', 'children']\n",
            "categorical Columns: ['sex', 'smoker', 'region']\n"
          ]
        }
      ],
      "source": [
        "num_columns = X_train.select_dtypes(include=np.number).columns.tolist()\n",
        "cat_columns = X_train.select_dtypes(include=['object']).columns.tolist()\n",
        "print('Numeric Columns:', num_columns)\n",
        "print('categorical Columns:', cat_columns)"
      ]
    },
    {
      "cell_type": "code",
      "execution_count": null,
      "metadata": {
        "id": "QxVKs99PU-Js"
      },
      "outputs": [],
      "source": [
        "X_train_num = X_train[num_columns]\n",
        "X_train_cat = X_train[cat_columns]\n",
        "\n",
        "X_test_num = X_test[num_columns]\n",
        "X_test_cat = X_test[cat_columns]"
      ]
    },
    {
      "cell_type": "code",
      "execution_count": null,
      "metadata": {
        "id": "mApOd7TUU-Jt"
      },
      "outputs": [],
      "source": [
        "scaler = MinMaxScaler ()\n",
        "X_train_num_scaled = scaler.fit_transform(X_train_num)\n",
        "X_test_num_scaled= scaler.transform(X_test_num)"
      ]
    },
    {
      "cell_type": "code",
      "execution_count": null,
      "metadata": {
        "id": "rBAmtrsVU-J0",
        "outputId": "5f106237-cdb9-4ca2-90fb-17525df2c7c6"
      },
      "outputs": [
        {
          "data": {
            "text/plain": [
              "array([[0., 0., 1.],\n",
              "       [1., 0., 0.],\n",
              "       [0., 0., 0.],\n",
              "       ...,\n",
              "       [0., 0., 0.],\n",
              "       [0., 0., 2.],\n",
              "       [1., 0., 2.]])"
            ]
          },
          "execution_count": 16,
          "metadata": {},
          "output_type": "execute_result"
        }
      ],
      "source": [
        "encoder =OrdinalEncoder()\n",
        "X_train_cat_encoded = encoder.fit_transform(X_train_cat)\n",
        "X_test_cat_encoded=encoder.transform(X_test_cat)\n",
        "X_train_cat_encoded"
      ]
    },
    {
      "cell_type": "markdown",
      "metadata": {
        "id": "vFyDE7tXU-J2"
      },
      "source": [
        "proses encode dan mengskalasi kolom number dan juga kategori"
      ]
    },
    {
      "cell_type": "code",
      "execution_count": null,
      "metadata": {
        "id": "WY3rZDsKU-J2"
      },
      "outputs": [],
      "source": [
        "X_train_final = np.concatenate([X_train_num_scaled, X_train_cat_encoded], axis=1)\n",
        "X_test_final = np.concatenate([X_test_num_scaled, X_test_cat_encoded], axis=1)"
      ]
    },
    {
      "cell_type": "code",
      "execution_count": null,
      "metadata": {
        "id": "plyVel63U-J4",
        "outputId": "4f8ec099-1fb0-4ae2-9b60-ef4cbea237e8"
      },
      "outputs": [
        {
          "data": {
            "text/html": [
              "<div>\n",
              "<style scoped>\n",
              "    .dataframe tbody tr th:only-of-type {\n",
              "        vertical-align: middle;\n",
              "    }\n",
              "\n",
              "    .dataframe tbody tr th {\n",
              "        vertical-align: top;\n",
              "    }\n",
              "\n",
              "    .dataframe thead tr th {\n",
              "        text-align: left;\n",
              "    }\n",
              "</style>\n",
              "<table border=\"1\" class=\"dataframe\">\n",
              "  <thead>\n",
              "    <tr>\n",
              "      <th></th>\n",
              "      <th>age</th>\n",
              "      <th>bmi</th>\n",
              "      <th>children</th>\n",
              "      <th>sex</th>\n",
              "      <th>smoker</th>\n",
              "      <th>region</th>\n",
              "    </tr>\n",
              "  </thead>\n",
              "  <tbody>\n",
              "    <tr>\n",
              "      <th>0</th>\n",
              "      <td>0.934783</td>\n",
              "      <td>0.395016</td>\n",
              "      <td>0.0</td>\n",
              "      <td>0.0</td>\n",
              "      <td>0.0</td>\n",
              "      <td>1.0</td>\n",
              "    </tr>\n",
              "    <tr>\n",
              "      <th>1</th>\n",
              "      <td>0.000000</td>\n",
              "      <td>0.238056</td>\n",
              "      <td>0.0</td>\n",
              "      <td>1.0</td>\n",
              "      <td>0.0</td>\n",
              "      <td>0.0</td>\n",
              "    </tr>\n",
              "    <tr>\n",
              "      <th>2</th>\n",
              "      <td>1.000000</td>\n",
              "      <td>0.619992</td>\n",
              "      <td>0.0</td>\n",
              "      <td>0.0</td>\n",
              "      <td>0.0</td>\n",
              "      <td>0.0</td>\n",
              "    </tr>\n",
              "    <tr>\n",
              "      <th>3</th>\n",
              "      <td>0.391304</td>\n",
              "      <td>0.146496</td>\n",
              "      <td>0.6</td>\n",
              "      <td>0.0</td>\n",
              "      <td>0.0</td>\n",
              "      <td>0.0</td>\n",
              "    </tr>\n",
              "    <tr>\n",
              "      <th>4</th>\n",
              "      <td>0.347826</td>\n",
              "      <td>0.273028</td>\n",
              "      <td>0.2</td>\n",
              "      <td>0.0</td>\n",
              "      <td>0.0</td>\n",
              "      <td>2.0</td>\n",
              "    </tr>\n",
              "    <tr>\n",
              "      <th>...</th>\n",
              "      <td>...</td>\n",
              "      <td>...</td>\n",
              "      <td>...</td>\n",
              "      <td>...</td>\n",
              "      <td>...</td>\n",
              "      <td>...</td>\n",
              "    </tr>\n",
              "    <tr>\n",
              "      <th>1057</th>\n",
              "      <td>0.565217</td>\n",
              "      <td>0.418560</td>\n",
              "      <td>0.4</td>\n",
              "      <td>1.0</td>\n",
              "      <td>0.0</td>\n",
              "      <td>1.0</td>\n",
              "    </tr>\n",
              "    <tr>\n",
              "      <th>1058</th>\n",
              "      <td>0.913043</td>\n",
              "      <td>0.212447</td>\n",
              "      <td>0.0</td>\n",
              "      <td>0.0</td>\n",
              "      <td>0.0</td>\n",
              "      <td>2.0</td>\n",
              "    </tr>\n",
              "    <tr>\n",
              "      <th>1059</th>\n",
              "      <td>0.565217</td>\n",
              "      <td>0.541512</td>\n",
              "      <td>0.0</td>\n",
              "      <td>0.0</td>\n",
              "      <td>0.0</td>\n",
              "      <td>0.0</td>\n",
              "    </tr>\n",
              "    <tr>\n",
              "      <th>1060</th>\n",
              "      <td>0.152174</td>\n",
              "      <td>0.697095</td>\n",
              "      <td>0.2</td>\n",
              "      <td>0.0</td>\n",
              "      <td>0.0</td>\n",
              "      <td>2.0</td>\n",
              "    </tr>\n",
              "    <tr>\n",
              "      <th>1061</th>\n",
              "      <td>0.173913</td>\n",
              "      <td>0.512323</td>\n",
              "      <td>0.0</td>\n",
              "      <td>1.0</td>\n",
              "      <td>0.0</td>\n",
              "      <td>2.0</td>\n",
              "    </tr>\n",
              "  </tbody>\n",
              "</table>\n",
              "<p>1062 rows × 6 columns</p>\n",
              "</div>"
            ],
            "text/plain": [
              "           age       bmi children  sex smoker region\n",
              "0     0.934783  0.395016      0.0  0.0    0.0    1.0\n",
              "1     0.000000  0.238056      0.0  1.0    0.0    0.0\n",
              "2     1.000000  0.619992      0.0  0.0    0.0    0.0\n",
              "3     0.391304  0.146496      0.6  0.0    0.0    0.0\n",
              "4     0.347826  0.273028      0.2  0.0    0.0    2.0\n",
              "...        ...       ...      ...  ...    ...    ...\n",
              "1057  0.565217  0.418560      0.4  1.0    0.0    1.0\n",
              "1058  0.913043  0.212447      0.0  0.0    0.0    2.0\n",
              "1059  0.565217  0.541512      0.0  0.0    0.0    0.0\n",
              "1060  0.152174  0.697095      0.2  0.0    0.0    2.0\n",
              "1061  0.173913  0.512323      0.0  1.0    0.0    2.0\n",
              "\n",
              "[1062 rows x 6 columns]"
            ]
          },
          "execution_count": 18,
          "metadata": {},
          "output_type": "execute_result"
        }
      ],
      "source": [
        "X_train_final_df=pd.DataFrame(X_train_final,columns=[num_columns+cat_columns])\n",
        "X_train_final_df"
      ]
    },
    {
      "cell_type": "markdown",
      "metadata": {
        "id": "X9GuGMHkU-J5"
      },
      "source": [
        "didapat data frame baru yang sudah diencode dan discale"
      ]
    },
    {
      "cell_type": "markdown",
      "metadata": {
        "id": "4LpaMUViU-J6"
      },
      "source": [
        "## Model Definition"
      ]
    },
    {
      "cell_type": "code",
      "execution_count": null,
      "metadata": {
        "id": "158vm0K-U-J6"
      },
      "outputs": [],
      "source": [
        "model_lin_reg =LinearRegression()\n",
        "model = LinearRegression(fit_intercept=True)"
      ]
    },
    {
      "cell_type": "markdown",
      "metadata": {
        "id": "dXQNZyVQU-J7"
      },
      "source": [
        "## Model Training"
      ]
    },
    {
      "cell_type": "code",
      "execution_count": null,
      "metadata": {
        "id": "5JLV25UsU-J7",
        "outputId": "d7cbfaf2-bfa9-4c7d-ae8f-d4a08ff54e7e"
      },
      "outputs": [
        {
          "data": {
            "text/plain": [
              "LinearRegression()"
            ]
          },
          "execution_count": 20,
          "metadata": {},
          "output_type": "execute_result"
        }
      ],
      "source": [
        "model_lin_reg.fit(X_train_final, y_train)"
      ]
    },
    {
      "cell_type": "markdown",
      "metadata": {
        "id": "OAcVneu-U-J8"
      },
      "source": [
        "## Model Evaluation"
      ]
    },
    {
      "cell_type": "code",
      "execution_count": null,
      "metadata": {
        "id": "mhuaZQDFU-J8"
      },
      "outputs": [],
      "source": [
        "metric = pd.DataFrame()\n",
        "metric['models'] = ['OLR','Poly3','OLR_reg','Poly3_reg']\n",
        "r2_train = []\n",
        "r2_test = []"
      ]
    },
    {
      "cell_type": "code",
      "execution_count": null,
      "metadata": {
        "id": "9GNi9jE4U-J9",
        "outputId": "7d9b8531-1420-4a90-908e-879e77cad0af"
      },
      "outputs": [
        {
          "data": {
            "text/plain": [
              "LinearRegression()"
            ]
          },
          "execution_count": 22,
          "metadata": {},
          "output_type": "execute_result"
        }
      ],
      "source": [
        "model.fit(X_train_final,y_train)"
      ]
    },
    {
      "cell_type": "code",
      "execution_count": null,
      "metadata": {
        "id": "U71J04MAU-J9",
        "outputId": "6535c5f5-445f-4235-c85f-d60cadebbd6e"
      },
      "outputs": [
        {
          "name": "stdout",
          "output_type": "stream",
          "text": [
            "-------- TRAIN ---------\n",
            "MAE: 4194.148134905426\n",
            "MSE: 36828525.249950044\n",
            "RMSE: 6068.651023905563\n",
            "R^2 score: 0.7484326996071404\n",
            "-------- TEST ---------\n",
            "MAE: 4173.406894588773\n",
            "MSE: 35724787.9861652\n",
            "RMSE: 5977.021665191218\n",
            "R^2 score: 0.7531382006173861\n"
          ]
        }
      ],
      "source": [
        "print('-------- TRAIN ---------')\n",
        "y_pred = model.predict(X_train_final)\n",
        "print('MAE:',mean_absolute_error(y_train,y_pred))\n",
        "print('MSE:',mean_squared_error(y_train,y_pred))\n",
        "print('RMSE:',mean_squared_error(y_train,y_pred,squared=False))\n",
        "print('R^2 score:',r2_score(y_train,y_pred))\n",
        "r2_train.append(r2_score(y_train,y_pred))\n",
        "\n",
        "print('-------- TEST ---------')\n",
        "y_pred = model.predict(X_test_final)\n",
        "print('MAE:',mean_absolute_error(y_test,y_pred))\n",
        "print('MSE:',mean_squared_error(y_test,y_pred))\n",
        "print('RMSE:',mean_squared_error(y_test,y_pred,squared=False))\n",
        "print('R^2 score:',r2_score(y_test,y_pred))\n",
        "r2_test.append(r2_score(y_test,y_pred))"
      ]
    },
    {
      "cell_type": "code",
      "execution_count": null,
      "metadata": {
        "id": "f4-gy7ZXU-J-",
        "outputId": "1ec3fd10-c078-455b-fffd-1921f7a46f4e"
      },
      "outputs": [
        {
          "name": "stdout",
          "output_type": "stream",
          "text": [
            "Intecept :  -1730.2165699561701\n",
            "Koefisien :  [11747.60510624 12678.13483677  2811.68565648  -148.35636534\n",
            " 23820.68686742  -472.27823183]\n"
          ]
        }
      ],
      "source": [
        "print('Intecept : ' ,model_lin_reg.intercept_)\n",
        "print('Koefisien : ', model_lin_reg.coef_)"
      ]
    },
    {
      "cell_type": "code",
      "execution_count": null,
      "metadata": {
        "id": "_rIoO9OoU-J_",
        "outputId": "61a15e38-c075-4dc0-901f-d5bfd7121f81"
      },
      "outputs": [
        {
          "data": {
            "text/plain": [
              "MultiIndex([(     'age',),\n",
              "            (     'bmi',),\n",
              "            ('children',),\n",
              "            (     'sex',),\n",
              "            (  'smoker',),\n",
              "            (  'region',)],\n",
              "           )"
            ]
          },
          "execution_count": 25,
          "metadata": {},
          "output_type": "execute_result"
        }
      ],
      "source": [
        "X_train_final_df.columns"
      ]
    },
    {
      "cell_type": "markdown",
      "metadata": {
        "id": "ta6vZxPpU-KA"
      },
      "source": [
        "## Model Inference"
      ]
    },
    {
      "cell_type": "code",
      "execution_count": null,
      "metadata": {
        "id": "xv2mc4bxU-KF",
        "outputId": "122a7f41-4d71-4c64-c6a4-d3104e4c0e65"
      },
      "outputs": [
        {
          "data": {
            "text/html": [
              "<div>\n",
              "<style scoped>\n",
              "    .dataframe tbody tr th:only-of-type {\n",
              "        vertical-align: middle;\n",
              "    }\n",
              "\n",
              "    .dataframe tbody tr th {\n",
              "        vertical-align: top;\n",
              "    }\n",
              "\n",
              "    .dataframe thead th {\n",
              "        text-align: right;\n",
              "    }\n",
              "</style>\n",
              "<table border=\"1\" class=\"dataframe\">\n",
              "  <thead>\n",
              "    <tr style=\"text-align: right;\">\n",
              "      <th></th>\n",
              "      <th>age</th>\n",
              "      <th>sex</th>\n",
              "      <th>bmi</th>\n",
              "      <th>children</th>\n",
              "      <th>smoker</th>\n",
              "      <th>region</th>\n",
              "      <th>charges</th>\n",
              "    </tr>\n",
              "  </thead>\n",
              "  <tbody>\n",
              "    <tr>\n",
              "      <th>0</th>\n",
              "      <td>36</td>\n",
              "      <td>female</td>\n",
              "      <td>25.840</td>\n",
              "      <td>0</td>\n",
              "      <td>no</td>\n",
              "      <td>northwest</td>\n",
              "      <td>5266.36560</td>\n",
              "    </tr>\n",
              "    <tr>\n",
              "      <th>1</th>\n",
              "      <td>36</td>\n",
              "      <td>female</td>\n",
              "      <td>25.900</td>\n",
              "      <td>1</td>\n",
              "      <td>no</td>\n",
              "      <td>southwest</td>\n",
              "      <td>5472.44900</td>\n",
              "    </tr>\n",
              "    <tr>\n",
              "      <th>2</th>\n",
              "      <td>52</td>\n",
              "      <td>female</td>\n",
              "      <td>23.180</td>\n",
              "      <td>0</td>\n",
              "      <td>no</td>\n",
              "      <td>northeast</td>\n",
              "      <td>10197.77220</td>\n",
              "    </tr>\n",
              "    <tr>\n",
              "      <th>3</th>\n",
              "      <td>36</td>\n",
              "      <td>male</td>\n",
              "      <td>28.025</td>\n",
              "      <td>1</td>\n",
              "      <td>yes</td>\n",
              "      <td>northeast</td>\n",
              "      <td>20773.62775</td>\n",
              "    </tr>\n",
              "    <tr>\n",
              "      <th>4</th>\n",
              "      <td>45</td>\n",
              "      <td>female</td>\n",
              "      <td>35.300</td>\n",
              "      <td>0</td>\n",
              "      <td>no</td>\n",
              "      <td>southwest</td>\n",
              "      <td>7348.14200</td>\n",
              "    </tr>\n",
              "    <tr>\n",
              "      <th>5</th>\n",
              "      <td>53</td>\n",
              "      <td>male</td>\n",
              "      <td>28.880</td>\n",
              "      <td>0</td>\n",
              "      <td>no</td>\n",
              "      <td>northwest</td>\n",
              "      <td>9869.81020</td>\n",
              "    </tr>\n",
              "    <tr>\n",
              "      <th>6</th>\n",
              "      <td>49</td>\n",
              "      <td>female</td>\n",
              "      <td>23.845</td>\n",
              "      <td>3</td>\n",
              "      <td>yes</td>\n",
              "      <td>northeast</td>\n",
              "      <td>24106.91255</td>\n",
              "    </tr>\n",
              "    <tr>\n",
              "      <th>7</th>\n",
              "      <td>51</td>\n",
              "      <td>male</td>\n",
              "      <td>37.000</td>\n",
              "      <td>0</td>\n",
              "      <td>no</td>\n",
              "      <td>southwest</td>\n",
              "      <td>8798.59300</td>\n",
              "    </tr>\n",
              "    <tr>\n",
              "      <th>8</th>\n",
              "      <td>45</td>\n",
              "      <td>female</td>\n",
              "      <td>30.495</td>\n",
              "      <td>1</td>\n",
              "      <td>yes</td>\n",
              "      <td>northwest</td>\n",
              "      <td>39725.51805</td>\n",
              "    </tr>\n",
              "    <tr>\n",
              "      <th>9</th>\n",
              "      <td>51</td>\n",
              "      <td>female</td>\n",
              "      <td>34.960</td>\n",
              "      <td>2</td>\n",
              "      <td>yes</td>\n",
              "      <td>northeast</td>\n",
              "      <td>44641.19740</td>\n",
              "    </tr>\n",
              "  </tbody>\n",
              "</table>\n",
              "</div>"
            ],
            "text/plain": [
              "   age     sex     bmi  children smoker     region      charges\n",
              "0   36  female  25.840         0     no  northwest   5266.36560\n",
              "1   36  female  25.900         1     no  southwest   5472.44900\n",
              "2   52  female  23.180         0     no  northeast  10197.77220\n",
              "3   36    male  28.025         1    yes  northeast  20773.62775\n",
              "4   45  female  35.300         0     no  southwest   7348.14200\n",
              "5   53    male  28.880         0     no  northwest   9869.81020\n",
              "6   49  female  23.845         3    yes  northeast  24106.91255\n",
              "7   51    male  37.000         0     no  southwest   8798.59300\n",
              "8   45  female  30.495         1    yes  northwest  39725.51805\n",
              "9   51  female  34.960         2    yes  northeast  44641.19740"
            ]
          },
          "execution_count": 26,
          "metadata": {},
          "output_type": "execute_result"
        }
      ],
      "source": [
        "data_inf"
      ]
    },
    {
      "cell_type": "code",
      "execution_count": null,
      "metadata": {
        "id": "WIb2p5DIU-KH"
      },
      "outputs": [],
      "source": [
        "data_inf_num = data_inf[num_columns]\n",
        "data_inf_cat = data_inf[cat_columns]"
      ]
    },
    {
      "cell_type": "code",
      "execution_count": null,
      "metadata": {
        "id": "U4_PtDqBU-KH"
      },
      "outputs": [],
      "source": [
        "data_inf_num_scaled = scaler.transform(data_inf_num)\n",
        "data_inf_cat_encoded = encoder.transform(data_inf_cat)"
      ]
    },
    {
      "cell_type": "code",
      "execution_count": null,
      "metadata": {
        "id": "UGN584bUU-KJ",
        "outputId": "c86041e8-da8b-4938-c578-ace3f0baa6c5"
      },
      "outputs": [
        {
          "data": {
            "text/plain": [
              "array([[0.39130435, 0.2485199 , 0.        , 0.        , 0.        ,\n",
              "        1.        ],\n",
              "       [0.39130435, 0.25017211, 0.2       , 0.        , 0.        ,\n",
              "        3.        ],\n",
              "       [0.73913043, 0.17527193, 0.        , 0.        , 0.        ,\n",
              "        0.        ],\n",
              "       [0.39130435, 0.30868787, 0.2       , 1.        , 1.        ,\n",
              "        0.        ],\n",
              "       [0.58695652, 0.50901831, 0.        , 0.        , 0.        ,\n",
              "        3.        ],\n",
              "       [0.76086957, 0.33223186, 0.        , 1.        , 0.        ,\n",
              "        1.        ],\n",
              "       [0.67391304, 0.19358392, 0.6       , 0.        , 1.        ,\n",
              "        0.        ],\n",
              "       [0.7173913 , 0.55583092, 0.        , 1.        , 0.        ,\n",
              "        3.        ],\n",
              "       [0.58695652, 0.37670384, 0.2       , 0.        , 1.        ,\n",
              "        1.        ],\n",
              "       [0.7173913 , 0.49965579, 0.4       , 0.        , 1.        ,\n",
              "        0.        ]])"
            ]
          },
          "execution_count": 29,
          "metadata": {},
          "output_type": "execute_result"
        }
      ],
      "source": [
        "data_inf_final= np.concatenate([data_inf_num_scaled, data_inf_cat_encoded], axis=1)\n",
        "data_inf_final"
      ]
    },
    {
      "cell_type": "code",
      "execution_count": null,
      "metadata": {
        "id": "24qCJ-pXU-KJ",
        "outputId": "50c4f8b7-6436-4026-e166-8b8a8f5637ca"
      },
      "outputs": [
        {
          "data": {
            "text/html": [
              "<div>\n",
              "<style scoped>\n",
              "    .dataframe tbody tr th:only-of-type {\n",
              "        vertical-align: middle;\n",
              "    }\n",
              "\n",
              "    .dataframe tbody tr th {\n",
              "        vertical-align: top;\n",
              "    }\n",
              "\n",
              "    .dataframe thead th {\n",
              "        text-align: right;\n",
              "    }\n",
              "</style>\n",
              "<table border=\"1\" class=\"dataframe\">\n",
              "  <thead>\n",
              "    <tr style=\"text-align: right;\">\n",
              "      <th></th>\n",
              "      <th>charges-Prediction</th>\n",
              "    </tr>\n",
              "  </thead>\n",
              "  <tbody>\n",
              "    <tr>\n",
              "      <th>0</th>\n",
              "      <td>5545.162896</td>\n",
              "    </tr>\n",
              "    <tr>\n",
              "      <th>1</th>\n",
              "      <td>5183.890502</td>\n",
              "    </tr>\n",
              "    <tr>\n",
              "      <th>2</th>\n",
              "      <td>9174.917013</td>\n",
              "    </tr>\n",
              "    <tr>\n",
              "      <th>3</th>\n",
              "      <td>31014.926457</td>\n",
              "    </tr>\n",
              "    <tr>\n",
              "      <th>4</th>\n",
              "      <td>10201.684960</td>\n",
              "    </tr>\n",
              "    <tr>\n",
              "      <th>5</th>\n",
              "      <td>10799.624342</td>\n",
              "    </tr>\n",
              "    <tr>\n",
              "      <th>6</th>\n",
              "      <td>34148.629023</td>\n",
              "    </tr>\n",
              "    <tr>\n",
              "      <th>7</th>\n",
              "      <td>12179.121519</td>\n",
              "    </tr>\n",
              "    <tr>\n",
              "      <th>8</th>\n",
              "      <td>33851.764723</td>\n",
              "    </tr>\n",
              "    <tr>\n",
              "      <th>9</th>\n",
              "      <td>37977.477783</td>\n",
              "    </tr>\n",
              "  </tbody>\n",
              "</table>\n",
              "</div>"
            ],
            "text/plain": [
              "   charges-Prediction\n",
              "0         5545.162896\n",
              "1         5183.890502\n",
              "2         9174.917013\n",
              "3        31014.926457\n",
              "4        10201.684960\n",
              "5        10799.624342\n",
              "6        34148.629023\n",
              "7        12179.121519\n",
              "8        33851.764723\n",
              "9        37977.477783"
            ]
          },
          "execution_count": 30,
          "metadata": {},
          "output_type": "execute_result"
        }
      ],
      "source": [
        "y_pred_inf= model_lin_reg.predict(data_inf_final)\n",
        "y_pred_inf = pd.DataFrame(y_pred_inf, columns=['charges-Prediction'])\n",
        "y_pred_inf"
      ]
    },
    {
      "cell_type": "code",
      "execution_count": null,
      "metadata": {
        "id": "sPacHURgU-KJ",
        "outputId": "da76d622-ea09-4df9-e850-c9060039415f"
      },
      "outputs": [
        {
          "data": {
            "text/html": [
              "<div>\n",
              "<style scoped>\n",
              "    .dataframe tbody tr th:only-of-type {\n",
              "        vertical-align: middle;\n",
              "    }\n",
              "\n",
              "    .dataframe tbody tr th {\n",
              "        vertical-align: top;\n",
              "    }\n",
              "\n",
              "    .dataframe thead th {\n",
              "        text-align: right;\n",
              "    }\n",
              "</style>\n",
              "<table border=\"1\" class=\"dataframe\">\n",
              "  <thead>\n",
              "    <tr style=\"text-align: right;\">\n",
              "      <th></th>\n",
              "      <th>age</th>\n",
              "      <th>sex</th>\n",
              "      <th>bmi</th>\n",
              "      <th>children</th>\n",
              "      <th>smoker</th>\n",
              "      <th>region</th>\n",
              "      <th>charges</th>\n",
              "      <th>charges-Prediction</th>\n",
              "    </tr>\n",
              "  </thead>\n",
              "  <tbody>\n",
              "    <tr>\n",
              "      <th>0</th>\n",
              "      <td>36</td>\n",
              "      <td>female</td>\n",
              "      <td>25.840</td>\n",
              "      <td>0</td>\n",
              "      <td>no</td>\n",
              "      <td>northwest</td>\n",
              "      <td>5266.36560</td>\n",
              "      <td>5545.162896</td>\n",
              "    </tr>\n",
              "    <tr>\n",
              "      <th>1</th>\n",
              "      <td>36</td>\n",
              "      <td>female</td>\n",
              "      <td>25.900</td>\n",
              "      <td>1</td>\n",
              "      <td>no</td>\n",
              "      <td>southwest</td>\n",
              "      <td>5472.44900</td>\n",
              "      <td>5183.890502</td>\n",
              "    </tr>\n",
              "    <tr>\n",
              "      <th>2</th>\n",
              "      <td>52</td>\n",
              "      <td>female</td>\n",
              "      <td>23.180</td>\n",
              "      <td>0</td>\n",
              "      <td>no</td>\n",
              "      <td>northeast</td>\n",
              "      <td>10197.77220</td>\n",
              "      <td>9174.917013</td>\n",
              "    </tr>\n",
              "    <tr>\n",
              "      <th>3</th>\n",
              "      <td>36</td>\n",
              "      <td>male</td>\n",
              "      <td>28.025</td>\n",
              "      <td>1</td>\n",
              "      <td>yes</td>\n",
              "      <td>northeast</td>\n",
              "      <td>20773.62775</td>\n",
              "      <td>31014.926457</td>\n",
              "    </tr>\n",
              "    <tr>\n",
              "      <th>4</th>\n",
              "      <td>45</td>\n",
              "      <td>female</td>\n",
              "      <td>35.300</td>\n",
              "      <td>0</td>\n",
              "      <td>no</td>\n",
              "      <td>southwest</td>\n",
              "      <td>7348.14200</td>\n",
              "      <td>10201.684960</td>\n",
              "    </tr>\n",
              "    <tr>\n",
              "      <th>5</th>\n",
              "      <td>53</td>\n",
              "      <td>male</td>\n",
              "      <td>28.880</td>\n",
              "      <td>0</td>\n",
              "      <td>no</td>\n",
              "      <td>northwest</td>\n",
              "      <td>9869.81020</td>\n",
              "      <td>10799.624342</td>\n",
              "    </tr>\n",
              "    <tr>\n",
              "      <th>6</th>\n",
              "      <td>49</td>\n",
              "      <td>female</td>\n",
              "      <td>23.845</td>\n",
              "      <td>3</td>\n",
              "      <td>yes</td>\n",
              "      <td>northeast</td>\n",
              "      <td>24106.91255</td>\n",
              "      <td>34148.629023</td>\n",
              "    </tr>\n",
              "    <tr>\n",
              "      <th>7</th>\n",
              "      <td>51</td>\n",
              "      <td>male</td>\n",
              "      <td>37.000</td>\n",
              "      <td>0</td>\n",
              "      <td>no</td>\n",
              "      <td>southwest</td>\n",
              "      <td>8798.59300</td>\n",
              "      <td>12179.121519</td>\n",
              "    </tr>\n",
              "    <tr>\n",
              "      <th>8</th>\n",
              "      <td>45</td>\n",
              "      <td>female</td>\n",
              "      <td>30.495</td>\n",
              "      <td>1</td>\n",
              "      <td>yes</td>\n",
              "      <td>northwest</td>\n",
              "      <td>39725.51805</td>\n",
              "      <td>33851.764723</td>\n",
              "    </tr>\n",
              "    <tr>\n",
              "      <th>9</th>\n",
              "      <td>51</td>\n",
              "      <td>female</td>\n",
              "      <td>34.960</td>\n",
              "      <td>2</td>\n",
              "      <td>yes</td>\n",
              "      <td>northeast</td>\n",
              "      <td>44641.19740</td>\n",
              "      <td>37977.477783</td>\n",
              "    </tr>\n",
              "  </tbody>\n",
              "</table>\n",
              "</div>"
            ],
            "text/plain": [
              "   age     sex     bmi  children smoker     region      charges  \\\n",
              "0   36  female  25.840         0     no  northwest   5266.36560   \n",
              "1   36  female  25.900         1     no  southwest   5472.44900   \n",
              "2   52  female  23.180         0     no  northeast  10197.77220   \n",
              "3   36    male  28.025         1    yes  northeast  20773.62775   \n",
              "4   45  female  35.300         0     no  southwest   7348.14200   \n",
              "5   53    male  28.880         0     no  northwest   9869.81020   \n",
              "6   49  female  23.845         3    yes  northeast  24106.91255   \n",
              "7   51    male  37.000         0     no  southwest   8798.59300   \n",
              "8   45  female  30.495         1    yes  northwest  39725.51805   \n",
              "9   51  female  34.960         2    yes  northeast  44641.19740   \n",
              "\n",
              "   charges-Prediction  \n",
              "0         5545.162896  \n",
              "1         5183.890502  \n",
              "2         9174.917013  \n",
              "3        31014.926457  \n",
              "4        10201.684960  \n",
              "5        10799.624342  \n",
              "6        34148.629023  \n",
              "7        12179.121519  \n",
              "8        33851.764723  \n",
              "9        37977.477783  "
            ]
          },
          "execution_count": 31,
          "metadata": {},
          "output_type": "execute_result"
        }
      ],
      "source": [
        "pd.concat([data_inf, y_pred_inf], axis=1)"
      ]
    },
    {
      "cell_type": "markdown",
      "metadata": {
        "id": "oxsHYRWQU-KK"
      },
      "source": [
        "proses penggabungan data inference di kedalam data_inf"
      ]
    },
    {
      "cell_type": "markdown",
      "metadata": {
        "id": "Dq3kDUX8U-KK"
      },
      "source": [
        "## Kesimpulan"
      ]
    },
    {
      "cell_type": "code",
      "execution_count": null,
      "metadata": {
        "id": "QQAbf2ftU-KK",
        "outputId": "0c13791d-ba21-46ac-d719-76d7fa19d42f"
      },
      "outputs": [
        {
          "name": "stdout",
          "output_type": "stream",
          "text": [
            "Intecept :  -1730.2165699561701\n",
            "Koefisien :  [11747.60510624 12678.13483677  2811.68565648  -148.35636534\n",
            " 23820.68686742  -472.27823183]\n"
          ]
        }
      ],
      "source": [
        "print('Intecept : ' ,model_lin_reg.intercept_)\n",
        "print('Koefisien : ', model_lin_reg.coef_)"
      ]
    },
    {
      "cell_type": "code",
      "execution_count": null,
      "metadata": {
        "id": "cCIQry3qU-KK",
        "outputId": "b408fcc1-5003-4a86-c251-764296662217"
      },
      "outputs": [
        {
          "data": {
            "text/plain": [
              "MultiIndex([(     'age',),\n",
              "            (     'bmi',),\n",
              "            ('children',),\n",
              "            (     'sex',),\n",
              "            (  'smoker',),\n",
              "            (  'region',)],\n",
              "           )"
            ]
          },
          "execution_count": 33,
          "metadata": {},
          "output_type": "execute_result"
        }
      ],
      "source": [
        "X_train_final_df.columns"
      ]
    },
    {
      "cell_type": "markdown",
      "metadata": {
        "id": "LJCr6q90U-KL"
      },
      "source": [
        "- Persamaan regresi :\n",
        "\n",
        "charges= -1730.2165699561701 + 11747.60510624age + 12678.13483677bmi + 2811.68565648children - 148.35636534sex +  23820.68686742smoker - 472.27823183region\n",
        "\n",
        "- Parameter yang paling berpengaruh terhadap kolom 'charges' adalah kolom 'smoker' sementara parameter yang paling tidak berpengaruh adalah kolom 'sex'\n",
        "\n",
        "Nilai evaluasi model di data train dan test:\n",
        "- TRAIN \n",
        "- MAE: 4194.148134905426\n",
        "- MSE: 36828525.249950044\n",
        "- RMSE: 6068.651023905563\n",
        "- R^2 score: 0.7484326996071404\n",
        "- TEST\n",
        "- MAE: 4173.406894588773\n",
        "- MSE: 35724787.9861652\n",
        "- RMSE: 5977.021665191218\n",
        "- R^2 score: 0.7531382006173861"
      ]
    },
    {
      "cell_type": "markdown",
      "metadata": {
        "id": "7nL7iLBTU-KL"
      },
      "source": [
        "# Soal 2"
      ]
    },
    {
      "cell_type": "markdown",
      "metadata": {
        "id": "f1AIcEbfU-KL"
      },
      "source": [
        "## Data Loading"
      ]
    },
    {
      "cell_type": "code",
      "execution_count": null,
      "metadata": {
        "id": "bjuLdyUsU-KM",
        "outputId": "948249d8-51ab-4b2f-f6f8-319a9e793209"
      },
      "outputs": [
        {
          "data": {
            "text/html": [
              "<div>\n",
              "<style scoped>\n",
              "    .dataframe tbody tr th:only-of-type {\n",
              "        vertical-align: middle;\n",
              "    }\n",
              "\n",
              "    .dataframe tbody tr th {\n",
              "        vertical-align: top;\n",
              "    }\n",
              "\n",
              "    .dataframe thead th {\n",
              "        text-align: right;\n",
              "    }\n",
              "</style>\n",
              "<table border=\"1\" class=\"dataframe\">\n",
              "  <thead>\n",
              "    <tr style=\"text-align: right;\">\n",
              "      <th></th>\n",
              "      <th>Unnamed: 0</th>\n",
              "      <th>TType</th>\n",
              "      <th>K</th>\n",
              "      <th>C</th>\n",
              "      <th>A</th>\n",
              "      <th>S</th>\n",
              "      <th>G2</th>\n",
              "      <th>H</th>\n",
              "      <th>CNN2classes1stClass</th>\n",
              "    </tr>\n",
              "  </thead>\n",
              "  <tbody>\n",
              "    <tr>\n",
              "      <th>0</th>\n",
              "      <td>0</td>\n",
              "      <td>1.854829</td>\n",
              "      <td>6.560199</td>\n",
              "      <td>0.357051</td>\n",
              "      <td>0.932151</td>\n",
              "      <td>0.850992</td>\n",
              "      <td>1.588183</td>\n",
              "      <td>0.697214</td>\n",
              "      <td>1</td>\n",
              "    </tr>\n",
              "    <tr>\n",
              "      <th>1</th>\n",
              "      <td>1</td>\n",
              "      <td>4.815538</td>\n",
              "      <td>25.950829</td>\n",
              "      <td>0.313292</td>\n",
              "      <td>0.610999</td>\n",
              "      <td>0.723122</td>\n",
              "      <td>1.533653</td>\n",
              "      <td>0.719412</td>\n",
              "      <td>1</td>\n",
              "    </tr>\n",
              "    <tr>\n",
              "      <th>2</th>\n",
              "      <td>2</td>\n",
              "      <td>0.678056</td>\n",
              "      <td>6.867416</td>\n",
              "      <td>0.408286</td>\n",
              "      <td>0.881524</td>\n",
              "      <td>0.813231</td>\n",
              "      <td>1.743747</td>\n",
              "      <td>0.750872</td>\n",
              "      <td>1</td>\n",
              "    </tr>\n",
              "    <tr>\n",
              "      <th>3</th>\n",
              "      <td>3</td>\n",
              "      <td>-0.547708</td>\n",
              "      <td>11.877941</td>\n",
              "      <td>-9999.999999</td>\n",
              "      <td>0.838779</td>\n",
              "      <td>0.816965</td>\n",
              "      <td>1.672529</td>\n",
              "      <td>0.771995</td>\n",
              "      <td>1</td>\n",
              "    </tr>\n",
              "    <tr>\n",
              "      <th>4</th>\n",
              "      <td>4</td>\n",
              "      <td>2.028543</td>\n",
              "      <td>20.458965</td>\n",
              "      <td>0.446453</td>\n",
              "      <td>0.839216</td>\n",
              "      <td>0.801140</td>\n",
              "      <td>1.107665</td>\n",
              "      <td>0.610453</td>\n",
              "      <td>1</td>\n",
              "    </tr>\n",
              "    <tr>\n",
              "      <th>...</th>\n",
              "      <td>...</td>\n",
              "      <td>...</td>\n",
              "      <td>...</td>\n",
              "      <td>...</td>\n",
              "      <td>...</td>\n",
              "      <td>...</td>\n",
              "      <td>...</td>\n",
              "      <td>...</td>\n",
              "      <td>...</td>\n",
              "    </tr>\n",
              "    <tr>\n",
              "      <th>19995</th>\n",
              "      <td>19995</td>\n",
              "      <td>4.631655</td>\n",
              "      <td>29.018608</td>\n",
              "      <td>0.358020</td>\n",
              "      <td>0.602471</td>\n",
              "      <td>0.832848</td>\n",
              "      <td>1.611594</td>\n",
              "      <td>0.735315</td>\n",
              "      <td>1</td>\n",
              "    </tr>\n",
              "    <tr>\n",
              "      <th>19996</th>\n",
              "      <td>19996</td>\n",
              "      <td>-2.179893</td>\n",
              "      <td>15.245582</td>\n",
              "      <td>0.470026</td>\n",
              "      <td>0.842624</td>\n",
              "      <td>0.868289</td>\n",
              "      <td>1.313089</td>\n",
              "      <td>0.649996</td>\n",
              "      <td>1</td>\n",
              "    </tr>\n",
              "    <tr>\n",
              "      <th>19997</th>\n",
              "      <td>19997</td>\n",
              "      <td>1.876151</td>\n",
              "      <td>6.907812</td>\n",
              "      <td>0.323334</td>\n",
              "      <td>0.830340</td>\n",
              "      <td>0.950820</td>\n",
              "      <td>1.406042</td>\n",
              "      <td>0.671217</td>\n",
              "      <td>1</td>\n",
              "    </tr>\n",
              "    <tr>\n",
              "      <th>19998</th>\n",
              "      <td>19998</td>\n",
              "      <td>5.053256</td>\n",
              "      <td>27.981613</td>\n",
              "      <td>0.393574</td>\n",
              "      <td>0.632766</td>\n",
              "      <td>0.825990</td>\n",
              "      <td>1.659363</td>\n",
              "      <td>0.379448</td>\n",
              "      <td>1</td>\n",
              "    </tr>\n",
              "    <tr>\n",
              "      <th>19999</th>\n",
              "      <td>19999</td>\n",
              "      <td>-0.558501</td>\n",
              "      <td>6.557439</td>\n",
              "      <td>0.346322</td>\n",
              "      <td>0.878231</td>\n",
              "      <td>0.882251</td>\n",
              "      <td>1.616493</td>\n",
              "      <td>0.738060</td>\n",
              "      <td>1</td>\n",
              "    </tr>\n",
              "  </tbody>\n",
              "</table>\n",
              "<p>20000 rows × 9 columns</p>\n",
              "</div>"
            ],
            "text/plain": [
              "       Unnamed: 0     TType          K            C         A         S  \\\n",
              "0               0  1.854829   6.560199     0.357051  0.932151  0.850992   \n",
              "1               1  4.815538  25.950829     0.313292  0.610999  0.723122   \n",
              "2               2  0.678056   6.867416     0.408286  0.881524  0.813231   \n",
              "3               3 -0.547708  11.877941 -9999.999999  0.838779  0.816965   \n",
              "4               4  2.028543  20.458965     0.446453  0.839216  0.801140   \n",
              "...           ...       ...        ...          ...       ...       ...   \n",
              "19995       19995  4.631655  29.018608     0.358020  0.602471  0.832848   \n",
              "19996       19996 -2.179893  15.245582     0.470026  0.842624  0.868289   \n",
              "19997       19997  1.876151   6.907812     0.323334  0.830340  0.950820   \n",
              "19998       19998  5.053256  27.981613     0.393574  0.632766  0.825990   \n",
              "19999       19999 -0.558501   6.557439     0.346322  0.878231  0.882251   \n",
              "\n",
              "             G2         H  CNN2classes1stClass  \n",
              "0      1.588183  0.697214                    1  \n",
              "1      1.533653  0.719412                    1  \n",
              "2      1.743747  0.750872                    1  \n",
              "3      1.672529  0.771995                    1  \n",
              "4      1.107665  0.610453                    1  \n",
              "...         ...       ...                  ...  \n",
              "19995  1.611594  0.735315                    1  \n",
              "19996  1.313089  0.649996                    1  \n",
              "19997  1.406042  0.671217                    1  \n",
              "19998  1.659363  0.379448                    1  \n",
              "19999  1.616493  0.738060                    1  \n",
              "\n",
              "[20000 rows x 9 columns]"
            ]
          },
          "execution_count": 34,
          "metadata": {},
          "output_type": "execute_result"
        }
      ],
      "source": [
        "data_log = pd.read_csv('https://raw.githubusercontent.com/fahmimnalfrzki/Dataset/main/GalaxyMorphology.csv')\n",
        "data_log = data_log[data_log['CNN2classes1stClass']!='Converted']\n",
        "data_log"
      ]
    },
    {
      "cell_type": "code",
      "execution_count": null,
      "metadata": {
        "id": "Uder0pPdU-KM",
        "outputId": "6c5bdcf1-ce28-47f7-d655-48317373d6d2"
      },
      "outputs": [
        {
          "name": "stdout",
          "output_type": "stream",
          "text": [
            "<class 'pandas.core.frame.DataFrame'>\n",
            "Int64Index: 20000 entries, 0 to 19999\n",
            "Data columns (total 9 columns):\n",
            " #   Column               Non-Null Count  Dtype  \n",
            "---  ------               --------------  -----  \n",
            " 0   Unnamed: 0           20000 non-null  int64  \n",
            " 1   TType                20000 non-null  float64\n",
            " 2   K                    20000 non-null  float64\n",
            " 3   C                    20000 non-null  float64\n",
            " 4   A                    20000 non-null  float64\n",
            " 5   S                    20000 non-null  float64\n",
            " 6   G2                   20000 non-null  float64\n",
            " 7   H                    20000 non-null  float64\n",
            " 8   CNN2classes1stClass  20000 non-null  int64  \n",
            "dtypes: float64(7), int64(2)\n",
            "memory usage: 1.5 MB\n"
          ]
        }
      ],
      "source": [
        "data_log.info()"
      ]
    },
    {
      "cell_type": "markdown",
      "metadata": {
        "id": "K5QhVqjuU-KM"
      },
      "source": [
        "tidak ada data bernilai NaN"
      ]
    },
    {
      "cell_type": "markdown",
      "metadata": {
        "id": "ICmZJlYcU-KM"
      },
      "source": [
        "## EDA"
      ]
    },
    {
      "cell_type": "code",
      "execution_count": null,
      "metadata": {
        "id": "6mWKiIz3U-KN"
      },
      "outputs": [],
      "source": [
        "kolom=['C', 'A', 'S','G2','H', 'CNN2classes1stClass']\n",
        "new_data_log= data_log[kolom]\n"
      ]
    },
    {
      "cell_type": "markdown",
      "metadata": {
        "id": "yVbDzihBU-KN"
      },
      "source": [
        "proses pengambilan kolom untuk digunakan ke dalam logistic regression"
      ]
    },
    {
      "cell_type": "code",
      "execution_count": null,
      "metadata": {
        "id": "g3wEFpnOU-KN",
        "outputId": "cbb5b429-0c21-47b8-83e3-c357d0b67d9c"
      },
      "outputs": [
        {
          "data": {
            "text/html": [
              "<div>\n",
              "<style scoped>\n",
              "    .dataframe tbody tr th:only-of-type {\n",
              "        vertical-align: middle;\n",
              "    }\n",
              "\n",
              "    .dataframe tbody tr th {\n",
              "        vertical-align: top;\n",
              "    }\n",
              "\n",
              "    .dataframe thead th {\n",
              "        text-align: right;\n",
              "    }\n",
              "</style>\n",
              "<table border=\"1\" class=\"dataframe\">\n",
              "  <thead>\n",
              "    <tr style=\"text-align: right;\">\n",
              "      <th></th>\n",
              "      <th>C</th>\n",
              "      <th>A</th>\n",
              "      <th>S</th>\n",
              "      <th>G2</th>\n",
              "      <th>H</th>\n",
              "      <th>CNN2classes1stClass</th>\n",
              "    </tr>\n",
              "  </thead>\n",
              "  <tbody>\n",
              "    <tr>\n",
              "      <th>0</th>\n",
              "      <td>0.357051</td>\n",
              "      <td>0.932151</td>\n",
              "      <td>0.850992</td>\n",
              "      <td>1.588183</td>\n",
              "      <td>0.697214</td>\n",
              "      <td>1</td>\n",
              "    </tr>\n",
              "    <tr>\n",
              "      <th>1</th>\n",
              "      <td>0.313292</td>\n",
              "      <td>0.610999</td>\n",
              "      <td>0.723122</td>\n",
              "      <td>1.533653</td>\n",
              "      <td>0.719412</td>\n",
              "      <td>1</td>\n",
              "    </tr>\n",
              "    <tr>\n",
              "      <th>2</th>\n",
              "      <td>0.408286</td>\n",
              "      <td>0.881524</td>\n",
              "      <td>0.813231</td>\n",
              "      <td>1.743747</td>\n",
              "      <td>0.750872</td>\n",
              "      <td>1</td>\n",
              "    </tr>\n",
              "    <tr>\n",
              "      <th>3</th>\n",
              "      <td>-9999.999999</td>\n",
              "      <td>0.838779</td>\n",
              "      <td>0.816965</td>\n",
              "      <td>1.672529</td>\n",
              "      <td>0.771995</td>\n",
              "      <td>1</td>\n",
              "    </tr>\n",
              "    <tr>\n",
              "      <th>4</th>\n",
              "      <td>0.446453</td>\n",
              "      <td>0.839216</td>\n",
              "      <td>0.801140</td>\n",
              "      <td>1.107665</td>\n",
              "      <td>0.610453</td>\n",
              "      <td>1</td>\n",
              "    </tr>\n",
              "    <tr>\n",
              "      <th>...</th>\n",
              "      <td>...</td>\n",
              "      <td>...</td>\n",
              "      <td>...</td>\n",
              "      <td>...</td>\n",
              "      <td>...</td>\n",
              "      <td>...</td>\n",
              "    </tr>\n",
              "    <tr>\n",
              "      <th>19995</th>\n",
              "      <td>0.358020</td>\n",
              "      <td>0.602471</td>\n",
              "      <td>0.832848</td>\n",
              "      <td>1.611594</td>\n",
              "      <td>0.735315</td>\n",
              "      <td>1</td>\n",
              "    </tr>\n",
              "    <tr>\n",
              "      <th>19996</th>\n",
              "      <td>0.470026</td>\n",
              "      <td>0.842624</td>\n",
              "      <td>0.868289</td>\n",
              "      <td>1.313089</td>\n",
              "      <td>0.649996</td>\n",
              "      <td>1</td>\n",
              "    </tr>\n",
              "    <tr>\n",
              "      <th>19997</th>\n",
              "      <td>0.323334</td>\n",
              "      <td>0.830340</td>\n",
              "      <td>0.950820</td>\n",
              "      <td>1.406042</td>\n",
              "      <td>0.671217</td>\n",
              "      <td>1</td>\n",
              "    </tr>\n",
              "    <tr>\n",
              "      <th>19998</th>\n",
              "      <td>0.393574</td>\n",
              "      <td>0.632766</td>\n",
              "      <td>0.825990</td>\n",
              "      <td>1.659363</td>\n",
              "      <td>0.379448</td>\n",
              "      <td>1</td>\n",
              "    </tr>\n",
              "    <tr>\n",
              "      <th>19999</th>\n",
              "      <td>0.346322</td>\n",
              "      <td>0.878231</td>\n",
              "      <td>0.882251</td>\n",
              "      <td>1.616493</td>\n",
              "      <td>0.738060</td>\n",
              "      <td>1</td>\n",
              "    </tr>\n",
              "  </tbody>\n",
              "</table>\n",
              "<p>20000 rows × 6 columns</p>\n",
              "</div>"
            ],
            "text/plain": [
              "                 C         A         S        G2         H  \\\n",
              "0         0.357051  0.932151  0.850992  1.588183  0.697214   \n",
              "1         0.313292  0.610999  0.723122  1.533653  0.719412   \n",
              "2         0.408286  0.881524  0.813231  1.743747  0.750872   \n",
              "3     -9999.999999  0.838779  0.816965  1.672529  0.771995   \n",
              "4         0.446453  0.839216  0.801140  1.107665  0.610453   \n",
              "...            ...       ...       ...       ...       ...   \n",
              "19995     0.358020  0.602471  0.832848  1.611594  0.735315   \n",
              "19996     0.470026  0.842624  0.868289  1.313089  0.649996   \n",
              "19997     0.323334  0.830340  0.950820  1.406042  0.671217   \n",
              "19998     0.393574  0.632766  0.825990  1.659363  0.379448   \n",
              "19999     0.346322  0.878231  0.882251  1.616493  0.738060   \n",
              "\n",
              "       CNN2classes1stClass  \n",
              "0                        1  \n",
              "1                        1  \n",
              "2                        1  \n",
              "3                        1  \n",
              "4                        1  \n",
              "...                    ...  \n",
              "19995                    1  \n",
              "19996                    1  \n",
              "19997                    1  \n",
              "19998                    1  \n",
              "19999                    1  \n",
              "\n",
              "[20000 rows x 6 columns]"
            ]
          },
          "execution_count": 37,
          "metadata": {},
          "output_type": "execute_result"
        }
      ],
      "source": [
        "new_data_log"
      ]
    },
    {
      "cell_type": "markdown",
      "metadata": {
        "id": "Bk06_a5nU-KN"
      },
      "source": [
        "semua data merupakan data numerik\n"
      ]
    },
    {
      "cell_type": "code",
      "execution_count": null,
      "metadata": {
        "id": "pNBKhRv4U-KO"
      },
      "outputs": [],
      "source": [
        "y = new_data_log['CNN2classes1stClass']"
      ]
    },
    {
      "cell_type": "code",
      "execution_count": null,
      "metadata": {
        "id": "tnLoOF_IU-KO",
        "outputId": "5b08300f-5f7c-452a-ef89-791efc9743a2"
      },
      "outputs": [
        {
          "data": {
            "text/html": [
              "<div>\n",
              "<style scoped>\n",
              "    .dataframe tbody tr th:only-of-type {\n",
              "        vertical-align: middle;\n",
              "    }\n",
              "\n",
              "    .dataframe tbody tr th {\n",
              "        vertical-align: top;\n",
              "    }\n",
              "\n",
              "    .dataframe thead th {\n",
              "        text-align: right;\n",
              "    }\n",
              "</style>\n",
              "<table border=\"1\" class=\"dataframe\">\n",
              "  <thead>\n",
              "    <tr style=\"text-align: right;\">\n",
              "      <th></th>\n",
              "      <th>COLS</th>\n",
              "      <th>P-Value</th>\n",
              "    </tr>\n",
              "  </thead>\n",
              "  <tbody>\n",
              "    <tr>\n",
              "      <th>1</th>\n",
              "      <td>A</td>\n",
              "      <td>0.574941</td>\n",
              "    </tr>\n",
              "    <tr>\n",
              "      <th>2</th>\n",
              "      <td>S</td>\n",
              "      <td>0.168806</td>\n",
              "    </tr>\n",
              "    <tr>\n",
              "      <th>3</th>\n",
              "      <td>G2</td>\n",
              "      <td>0.796503</td>\n",
              "    </tr>\n",
              "  </tbody>\n",
              "</table>\n",
              "</div>"
            ],
            "text/plain": [
              "  COLS   P-Value\n",
              "1    A  0.574941\n",
              "2    S  0.168806\n",
              "3   G2  0.796503"
            ]
          },
          "execution_count": 45,
          "metadata": {},
          "output_type": "execute_result"
        }
      ],
      "source": [
        "#H0: Tidak ada perbedaan yang signifikan galaksi elips dan galaksi spiral terhadap suatu kolom\n",
        "#H1: Ada perbedaan yang signifikan antara galaksi elips dan galaksi spiral terhadap suatu kolom\n",
        "lab1_id = np.where(y==1)[0]\n",
        "lab0_id = np.where(y==0)[0]\n",
        "\n",
        "t,p_val = ttest_ind(new_data_log.iloc[lab1_id],new_data_log.iloc[lab0_id])\n",
        "\n",
        "p_val_num = pd.DataFrame({'COLS':new_data_log.columns,'P-Value':p_val})\n",
        "drop_cols = p_val_num[p_val_num['P-Value']>0.05]\n",
        "drop_cols"
      ]
    },
    {
      "cell_type": "code",
      "execution_count": null,
      "metadata": {
        "id": "RbR-XdV7U-KO",
        "outputId": "674bbcfa-b205-4d87-915a-1b08881dc9ef"
      },
      "outputs": [
        {
          "name": "stdout",
          "output_type": "stream",
          "text": [
            "😀\n"
          ]
        }
      ],
      "source": [
        "# kolom A S dan G2 memenuhi H0\n",
        "print(\"\\U0001f600\")"
      ]
    },
    {
      "cell_type": "code",
      "execution_count": null,
      "metadata": {
        "id": "z8_ZptDCU-KP",
        "outputId": "98616496-612c-410a-c736-e68421a52bf2"
      },
      "outputs": [
        {
          "data": {
            "text/html": [
              "<div>\n",
              "<style scoped>\n",
              "    .dataframe tbody tr th:only-of-type {\n",
              "        vertical-align: middle;\n",
              "    }\n",
              "\n",
              "    .dataframe tbody tr th {\n",
              "        vertical-align: top;\n",
              "    }\n",
              "\n",
              "    .dataframe thead th {\n",
              "        text-align: right;\n",
              "    }\n",
              "</style>\n",
              "<table border=\"1\" class=\"dataframe\">\n",
              "  <thead>\n",
              "    <tr style=\"text-align: right;\">\n",
              "      <th></th>\n",
              "      <th>C</th>\n",
              "      <th>H</th>\n",
              "      <th>CNN2classes1stClass</th>\n",
              "    </tr>\n",
              "  </thead>\n",
              "  <tbody>\n",
              "    <tr>\n",
              "      <th>0</th>\n",
              "      <td>0.357051</td>\n",
              "      <td>0.697214</td>\n",
              "      <td>1</td>\n",
              "    </tr>\n",
              "    <tr>\n",
              "      <th>1</th>\n",
              "      <td>0.313292</td>\n",
              "      <td>0.719412</td>\n",
              "      <td>1</td>\n",
              "    </tr>\n",
              "    <tr>\n",
              "      <th>2</th>\n",
              "      <td>0.408286</td>\n",
              "      <td>0.750872</td>\n",
              "      <td>1</td>\n",
              "    </tr>\n",
              "    <tr>\n",
              "      <th>3</th>\n",
              "      <td>-9999.999999</td>\n",
              "      <td>0.771995</td>\n",
              "      <td>1</td>\n",
              "    </tr>\n",
              "    <tr>\n",
              "      <th>4</th>\n",
              "      <td>0.446453</td>\n",
              "      <td>0.610453</td>\n",
              "      <td>1</td>\n",
              "    </tr>\n",
              "  </tbody>\n",
              "</table>\n",
              "</div>"
            ],
            "text/plain": [
              "             C         H  CNN2classes1stClass\n",
              "0     0.357051  0.697214                    1\n",
              "1     0.313292  0.719412                    1\n",
              "2     0.408286  0.750872                    1\n",
              "3 -9999.999999  0.771995                    1\n",
              "4     0.446453  0.610453                    1"
            ]
          },
          "execution_count": 47,
          "metadata": {},
          "output_type": "execute_result"
        }
      ],
      "source": [
        "# Data set baru yang akan digunakan\n",
        "data_new = new_data_log.drop(columns=drop_cols['COLS'])\n",
        "data_new.head()"
      ]
    },
    {
      "cell_type": "code",
      "execution_count": null,
      "metadata": {
        "id": "oY8Ah8HYU-KP",
        "outputId": "095fadee-435d-4b44-897c-c8a556c0231c"
      },
      "outputs": [
        {
          "data": {
            "text/plain": [
              "C                      0\n",
              "H                      0\n",
              "CNN2classes1stClass    0\n",
              "dtype: int64"
            ]
          },
          "execution_count": 50,
          "metadata": {},
          "output_type": "execute_result"
        }
      ],
      "source": [
        "data_new.isnull().sum()"
      ]
    },
    {
      "cell_type": "code",
      "execution_count": null,
      "metadata": {
        "id": "kSBm_n2SU-KP",
        "outputId": "6b2986dc-cc09-4634-a776-83a6eb115121"
      },
      "outputs": [
        {
          "name": "stdout",
          "output_type": "stream",
          "text": [
            "<class 'pandas.core.frame.DataFrame'>\n",
            "Int64Index: 20000 entries, 0 to 19999\n",
            "Data columns (total 3 columns):\n",
            " #   Column               Non-Null Count  Dtype  \n",
            "---  ------               --------------  -----  \n",
            " 0   C                    20000 non-null  float64\n",
            " 1   H                    20000 non-null  float64\n",
            " 2   CNN2classes1stClass  20000 non-null  int64  \n",
            "dtypes: float64(2), int64(1)\n",
            "memory usage: 625.0 KB\n"
          ]
        }
      ],
      "source": [
        "data_new.info()"
      ]
    },
    {
      "cell_type": "markdown",
      "metadata": {
        "id": "BXXawhLnU-KP"
      },
      "source": [
        "## Data Preprocessing"
      ]
    },
    {
      "cell_type": "code",
      "execution_count": null,
      "metadata": {
        "id": "IloHVEz8U-KQ",
        "outputId": "e4513ccd-b3a4-4d6e-fe18-c34a5ee452e2"
      },
      "outputs": [
        {
          "data": {
            "text/html": [
              "<div>\n",
              "<style scoped>\n",
              "    .dataframe tbody tr th:only-of-type {\n",
              "        vertical-align: middle;\n",
              "    }\n",
              "\n",
              "    .dataframe tbody tr th {\n",
              "        vertical-align: top;\n",
              "    }\n",
              "\n",
              "    .dataframe thead th {\n",
              "        text-align: right;\n",
              "    }\n",
              "</style>\n",
              "<table border=\"1\" class=\"dataframe\">\n",
              "  <thead>\n",
              "    <tr style=\"text-align: right;\">\n",
              "      <th></th>\n",
              "      <th>C</th>\n",
              "      <th>H</th>\n",
              "    </tr>\n",
              "  </thead>\n",
              "  <tbody>\n",
              "    <tr>\n",
              "      <th>0</th>\n",
              "      <td>0.357051</td>\n",
              "      <td>0.697214</td>\n",
              "    </tr>\n",
              "    <tr>\n",
              "      <th>1</th>\n",
              "      <td>0.313292</td>\n",
              "      <td>0.719412</td>\n",
              "    </tr>\n",
              "    <tr>\n",
              "      <th>2</th>\n",
              "      <td>0.408286</td>\n",
              "      <td>0.750872</td>\n",
              "    </tr>\n",
              "    <tr>\n",
              "      <th>3</th>\n",
              "      <td>-9999.999999</td>\n",
              "      <td>0.771995</td>\n",
              "    </tr>\n",
              "    <tr>\n",
              "      <th>4</th>\n",
              "      <td>0.446453</td>\n",
              "      <td>0.610453</td>\n",
              "    </tr>\n",
              "    <tr>\n",
              "      <th>...</th>\n",
              "      <td>...</td>\n",
              "      <td>...</td>\n",
              "    </tr>\n",
              "    <tr>\n",
              "      <th>19995</th>\n",
              "      <td>0.358020</td>\n",
              "      <td>0.735315</td>\n",
              "    </tr>\n",
              "    <tr>\n",
              "      <th>19996</th>\n",
              "      <td>0.470026</td>\n",
              "      <td>0.649996</td>\n",
              "    </tr>\n",
              "    <tr>\n",
              "      <th>19997</th>\n",
              "      <td>0.323334</td>\n",
              "      <td>0.671217</td>\n",
              "    </tr>\n",
              "    <tr>\n",
              "      <th>19998</th>\n",
              "      <td>0.393574</td>\n",
              "      <td>0.379448</td>\n",
              "    </tr>\n",
              "    <tr>\n",
              "      <th>19999</th>\n",
              "      <td>0.346322</td>\n",
              "      <td>0.738060</td>\n",
              "    </tr>\n",
              "  </tbody>\n",
              "</table>\n",
              "<p>20000 rows × 2 columns</p>\n",
              "</div>"
            ],
            "text/plain": [
              "                 C         H\n",
              "0         0.357051  0.697214\n",
              "1         0.313292  0.719412\n",
              "2         0.408286  0.750872\n",
              "3     -9999.999999  0.771995\n",
              "4         0.446453  0.610453\n",
              "...            ...       ...\n",
              "19995     0.358020  0.735315\n",
              "19996     0.470026  0.649996\n",
              "19997     0.323334  0.671217\n",
              "19998     0.393574  0.379448\n",
              "19999     0.346322  0.738060\n",
              "\n",
              "[20000 rows x 2 columns]"
            ]
          },
          "execution_count": 76,
          "metadata": {},
          "output_type": "execute_result"
        }
      ],
      "source": [
        "X2= data_new.drop(['CNN2classes1stClass'], axis=1)\n",
        "y2= data_new['CNN2classes1stClass'].replace({1:'galaksi spiral',0:'galaksi elips'})\n",
        "X2"
      ]
    },
    {
      "cell_type": "code",
      "execution_count": null,
      "metadata": {
        "id": "5QTVGh4RU-KQ",
        "outputId": "7d069052-a32f-4f5a-999d-7211f6f354a1"
      },
      "outputs": [
        {
          "data": {
            "text/plain": [
              "0    galaksi spiral\n",
              "1    galaksi spiral\n",
              "2    galaksi spiral\n",
              "3    galaksi spiral\n",
              "4    galaksi spiral\n",
              "Name: CNN2classes1stClass, dtype: object"
            ]
          },
          "execution_count": 92,
          "metadata": {},
          "output_type": "execute_result"
        }
      ],
      "source": [
        "y2.head()"
      ]
    },
    {
      "cell_type": "code",
      "execution_count": null,
      "metadata": {
        "id": "Kvex5gHSU-KQ"
      },
      "outputs": [],
      "source": [
        "X_train2,X_test2,y_train2,y_test2 = train_test_split(X2,y2,train_size=0.8,stratify=y2)\n",
        "X_train_scaled2 = scaler.fit_transform(X_train2)\n",
        "X_test_scaled2 = scaler.transform(X_test2)"
      ]
    },
    {
      "cell_type": "markdown",
      "metadata": {
        "id": "BeY_cs4cU-KQ"
      },
      "source": [
        ""
      ]
    },
    {
      "cell_type": "markdown",
      "metadata": {
        "id": "q7TTlhNMU-KR"
      },
      "source": [
        "## Model Definition"
      ]
    },
    {
      "cell_type": "code",
      "execution_count": null,
      "metadata": {
        "id": "w2BQ5BtWU-KR",
        "outputId": "621a03b5-2dd9-451e-f16f-dd853d3d6d01"
      },
      "outputs": [
        {
          "data": {
            "text/plain": [
              "LogisticRegression(C=0.01, solver='newton-cg')"
            ]
          },
          "execution_count": 66,
          "metadata": {},
          "output_type": "execute_result"
        }
      ],
      "source": [
        "model = LogisticRegression(penalty='l2',C=0.01,solver='newton-cg')\n",
        "\n",
        "model.fit(X_train_scaled2,y_train2)"
      ]
    },
    {
      "cell_type": "markdown",
      "metadata": {
        "id": "FDEfGOfkU-KS"
      },
      "source": [
        "## Model Evaluation"
      ]
    },
    {
      "cell_type": "code",
      "execution_count": null,
      "metadata": {
        "id": "LQZHTCdIU-KS",
        "outputId": "21f4b921-2593-4ed0-a8fa-2625bbadc496"
      },
      "outputs": [
        {
          "name": "stdout",
          "output_type": "stream",
          "text": [
            "Accuracy Train: 0.8070625\n",
            "Accuracy Test: 0.80725\n"
          ]
        }
      ],
      "source": [
        "y_pred_train2 = model.predict(X_train_scaled2)\n",
        "y_pred_test2 = model.predict(X_test_scaled2)\n",
        "print('Accuracy Train:',accuracy_score(y_train2,y_pred_train2))\n",
        "print('Accuracy Test:',accuracy_score(y_test2,y_pred_test2))"
      ]
    },
    {
      "cell_type": "code",
      "execution_count": null,
      "metadata": {
        "id": "xOtRA9-SU-KT",
        "outputId": "88f35a79-0e78-460b-917d-35bc06eb104f"
      },
      "outputs": [
        {
          "name": "stdout",
          "output_type": "stream",
          "text": [
            "Score Train: 0.8070625\n",
            "Score Test: 0.80725\n"
          ]
        }
      ],
      "source": [
        "print('Score Train:',model.score(X_train_scaled2, y_train2))\n",
        "print('Score Test:',model.score(X_test_scaled2, y_test2))"
      ]
    },
    {
      "cell_type": "markdown",
      "metadata": {
        "id": "snEVruKsU-KV"
      },
      "source": [
        "proses evaluasi model"
      ]
    },
    {
      "cell_type": "markdown",
      "metadata": {
        "id": "6QFmkeiQU-KV"
      },
      "source": [
        "## Model Inference"
      ]
    },
    {
      "cell_type": "code",
      "execution_count": null,
      "metadata": {
        "id": "dTeIt8CMU-KW",
        "outputId": "b42effcc-3b86-4ace-bc95-db71828fe00c"
      },
      "outputs": [
        {
          "data": {
            "text/html": [
              "<div>\n",
              "<style scoped>\n",
              "    .dataframe tbody tr th:only-of-type {\n",
              "        vertical-align: middle;\n",
              "    }\n",
              "\n",
              "    .dataframe tbody tr th {\n",
              "        vertical-align: top;\n",
              "    }\n",
              "\n",
              "    .dataframe thead th {\n",
              "        text-align: right;\n",
              "    }\n",
              "</style>\n",
              "<table border=\"1\" class=\"dataframe\">\n",
              "  <thead>\n",
              "    <tr style=\"text-align: right;\">\n",
              "      <th></th>\n",
              "      <th>C</th>\n",
              "      <th>H</th>\n",
              "    </tr>\n",
              "  </thead>\n",
              "  <tbody>\n",
              "    <tr>\n",
              "      <th>9010</th>\n",
              "      <td>0.379552</td>\n",
              "      <td>0.396207</td>\n",
              "    </tr>\n",
              "    <tr>\n",
              "      <th>3065</th>\n",
              "      <td>0.350852</td>\n",
              "      <td>0.685838</td>\n",
              "    </tr>\n",
              "  </tbody>\n",
              "</table>\n",
              "</div>"
            ],
            "text/plain": [
              "             C         H\n",
              "9010  0.379552  0.396207\n",
              "3065  0.350852  0.685838"
            ]
          },
          "execution_count": 89,
          "metadata": {},
          "output_type": "execute_result"
        }
      ],
      "source": [
        "data_sample = X2.sample(2)\n",
        "data_sample"
      ]
    },
    {
      "cell_type": "code",
      "execution_count": null,
      "metadata": {
        "id": "Pe0KXTb0U-KW",
        "outputId": "20ea8d4e-25ba-425e-a657-f731881ac5d4"
      },
      "outputs": [
        {
          "name": "stdout",
          "output_type": "stream",
          "text": [
            "Label: [1 1]\n"
          ]
        }
      ],
      "source": [
        "data_inference = scaler.transform(data_sample)\n",
        "kategori= model.predict(data_inference)\n",
        "\n",
        "print('Label:', (kategori))"
      ]
    },
    {
      "cell_type": "code",
      "execution_count": null,
      "metadata": {
        "id": "QLvIK_vqU-KW"
      },
      "outputs": [],
      "source": [
        "lk = [] \n",
        "j= 0 \n",
        "for i in data_new['CNN2classes1stClass']:\n",
        "    if i==1:\n",
        "        lk.append('galaksi spiral')\n",
        "    else:\n",
        "        lk.append('galaksi elips')\n",
        "    j=j+1 \n",
        "\n",
        "data_new['Kategori galaxi'] = lk "
      ]
    },
    {
      "cell_type": "code",
      "execution_count": null,
      "metadata": {
        "id": "znSOwErnU-KX",
        "outputId": "fda682ef-2f49-42c1-db0f-bece40a69e2c"
      },
      "outputs": [
        {
          "data": {
            "text/html": [
              "<div>\n",
              "<style scoped>\n",
              "    .dataframe tbody tr th:only-of-type {\n",
              "        vertical-align: middle;\n",
              "    }\n",
              "\n",
              "    .dataframe tbody tr th {\n",
              "        vertical-align: top;\n",
              "    }\n",
              "\n",
              "    .dataframe thead th {\n",
              "        text-align: right;\n",
              "    }\n",
              "</style>\n",
              "<table border=\"1\" class=\"dataframe\">\n",
              "  <thead>\n",
              "    <tr style=\"text-align: right;\">\n",
              "      <th></th>\n",
              "      <th>C</th>\n",
              "      <th>H</th>\n",
              "      <th>CNN2classes1stClass</th>\n",
              "      <th>Kategori galaxi</th>\n",
              "    </tr>\n",
              "  </thead>\n",
              "  <tbody>\n",
              "    <tr>\n",
              "      <th>0</th>\n",
              "      <td>0.357051</td>\n",
              "      <td>0.697214</td>\n",
              "      <td>1</td>\n",
              "      <td>galaksi spiral</td>\n",
              "    </tr>\n",
              "    <tr>\n",
              "      <th>1</th>\n",
              "      <td>0.313292</td>\n",
              "      <td>0.719412</td>\n",
              "      <td>1</td>\n",
              "      <td>galaksi spiral</td>\n",
              "    </tr>\n",
              "    <tr>\n",
              "      <th>2</th>\n",
              "      <td>0.408286</td>\n",
              "      <td>0.750872</td>\n",
              "      <td>1</td>\n",
              "      <td>galaksi spiral</td>\n",
              "    </tr>\n",
              "    <tr>\n",
              "      <th>3</th>\n",
              "      <td>-9999.999999</td>\n",
              "      <td>0.771995</td>\n",
              "      <td>1</td>\n",
              "      <td>galaksi spiral</td>\n",
              "    </tr>\n",
              "    <tr>\n",
              "      <th>4</th>\n",
              "      <td>0.446453</td>\n",
              "      <td>0.610453</td>\n",
              "      <td>1</td>\n",
              "      <td>galaksi spiral</td>\n",
              "    </tr>\n",
              "    <tr>\n",
              "      <th>...</th>\n",
              "      <td>...</td>\n",
              "      <td>...</td>\n",
              "      <td>...</td>\n",
              "      <td>...</td>\n",
              "    </tr>\n",
              "    <tr>\n",
              "      <th>19995</th>\n",
              "      <td>0.358020</td>\n",
              "      <td>0.735315</td>\n",
              "      <td>1</td>\n",
              "      <td>galaksi spiral</td>\n",
              "    </tr>\n",
              "    <tr>\n",
              "      <th>19996</th>\n",
              "      <td>0.470026</td>\n",
              "      <td>0.649996</td>\n",
              "      <td>1</td>\n",
              "      <td>galaksi spiral</td>\n",
              "    </tr>\n",
              "    <tr>\n",
              "      <th>19997</th>\n",
              "      <td>0.323334</td>\n",
              "      <td>0.671217</td>\n",
              "      <td>1</td>\n",
              "      <td>galaksi spiral</td>\n",
              "    </tr>\n",
              "    <tr>\n",
              "      <th>19998</th>\n",
              "      <td>0.393574</td>\n",
              "      <td>0.379448</td>\n",
              "      <td>1</td>\n",
              "      <td>galaksi spiral</td>\n",
              "    </tr>\n",
              "    <tr>\n",
              "      <th>19999</th>\n",
              "      <td>0.346322</td>\n",
              "      <td>0.738060</td>\n",
              "      <td>1</td>\n",
              "      <td>galaksi spiral</td>\n",
              "    </tr>\n",
              "  </tbody>\n",
              "</table>\n",
              "<p>20000 rows × 4 columns</p>\n",
              "</div>"
            ],
            "text/plain": [
              "                 C         H  CNN2classes1stClass Kategori galaxi\n",
              "0         0.357051  0.697214                    1  galaksi spiral\n",
              "1         0.313292  0.719412                    1  galaksi spiral\n",
              "2         0.408286  0.750872                    1  galaksi spiral\n",
              "3     -9999.999999  0.771995                    1  galaksi spiral\n",
              "4         0.446453  0.610453                    1  galaksi spiral\n",
              "...            ...       ...                  ...             ...\n",
              "19995     0.358020  0.735315                    1  galaksi spiral\n",
              "19996     0.470026  0.649996                    1  galaksi spiral\n",
              "19997     0.323334  0.671217                    1  galaksi spiral\n",
              "19998     0.393574  0.379448                    1  galaksi spiral\n",
              "19999     0.346322  0.738060                    1  galaksi spiral\n",
              "\n",
              "[20000 rows x 4 columns]"
            ]
          },
          "execution_count": 102,
          "metadata": {},
          "output_type": "execute_result"
        }
      ],
      "source": [
        "data_new.drop(['Label'], axis = 1)"
      ]
    },
    {
      "cell_type": "markdown",
      "metadata": {
        "id": "TjvdcLrNU-KX"
      },
      "source": [
        "## Kesimpulan"
      ]
    },
    {
      "cell_type": "markdown",
      "metadata": {
        "id": "3PVxc2zEU-KX"
      },
      "source": [
        "- Nilai akurasi model logistic regression adalah 80.7 %\n",
        "- kolom A S dan G2 tidak digunakan dalam logistic regression karena memenuhi H0 dimana nilai p-value> 0.05 dimana H0 adalah:\n",
        "- H0: Tidak ada perbedaan yang signifikan galaksi elips dan galaksi spiral terhadap suatu kolom"
      ]
    }
  ],
  "metadata": {
    "interpreter": {
      "hash": "3a81fc1fc3b566a6b48ca20da42126ff95973d46a725ee220cf200843b9b05a5"
    },
    "kernelspec": {
      "display_name": "Python 3.10.1 64-bit",
      "language": "python",
      "name": "python3"
    },
    "language_info": {
      "codemirror_mode": {
        "name": "ipython",
        "version": 3
      },
      "file_extension": ".py",
      "mimetype": "text/x-python",
      "name": "python",
      "nbconvert_exporter": "python",
      "pygments_lexer": "ipython3",
      "version": "3.10.1"
    },
    "orig_nbformat": 4,
    "colab": {
      "name": "insurance_charge_price_prediction.ipynb",
      "provenance": []
    }
  },
  "nbformat": 4,
  "nbformat_minor": 0
}