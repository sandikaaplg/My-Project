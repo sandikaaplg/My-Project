{
  "cells": [
    {
      "cell_type": "markdown",
      "metadata": {
        "id": "cFZVz5jnJVAo"
      },
      "source": [
        "# Perkenalan\n",
        "\n",
        "Nama/batch = Sandika/008"
      ]
    },
    {
      "cell_type": "markdown",
      "metadata": {
        "id": "qKeg8bipJiqJ"
      },
      "source": [
        "# Import Pustaka"
      ]
    },
    {
      "cell_type": "code",
      "execution_count": null,
      "metadata": {
        "id": "cf6tvDEw2pdu"
      },
      "outputs": [],
      "source": [
        "import pandas as pd\n",
        "from scipy import stats\n",
        "import numpy as np\n",
        "import matplotlib.pyplot as plt\n",
        "import seaborn as sns"
      ]
    },
    {
      "cell_type": "markdown",
      "metadata": {
        "id": "z8SLSe_vJpIV"
      },
      "source": [
        "# Data Loading"
      ]
    },
    {
      "cell_type": "code",
      "execution_count": null,
      "metadata": {
        "colab": {
          "base_uri": "https://localhost:8080/",
          "height": 354
        },
        "id": "Mq0h6fOe2_vS",
        "outputId": "f37c4379-f4bf-4f99-9989-fea5ff2e57ea"
      },
      "outputs": [
        {
          "data": {
            "text/html": [
              "<div>\n",
              "<style scoped>\n",
              "    .dataframe tbody tr th:only-of-type {\n",
              "        vertical-align: middle;\n",
              "    }\n",
              "\n",
              "    .dataframe tbody tr th {\n",
              "        vertical-align: top;\n",
              "    }\n",
              "\n",
              "    .dataframe thead th {\n",
              "        text-align: right;\n",
              "    }\n",
              "</style>\n",
              "<table border=\"1\" class=\"dataframe\">\n",
              "  <thead>\n",
              "    <tr style=\"text-align: right;\">\n",
              "      <th></th>\n",
              "      <th>ID</th>\n",
              "      <th>name</th>\n",
              "      <th>category</th>\n",
              "      <th>main_category</th>\n",
              "      <th>currency</th>\n",
              "      <th>deadline</th>\n",
              "      <th>goal</th>\n",
              "      <th>launched</th>\n",
              "      <th>pledged</th>\n",
              "      <th>state</th>\n",
              "      <th>backers</th>\n",
              "      <th>country</th>\n",
              "      <th>usd pledged</th>\n",
              "      <th>usd_pledged_real</th>\n",
              "      <th>usd_goal_real</th>\n",
              "    </tr>\n",
              "  </thead>\n",
              "  <tbody>\n",
              "    <tr>\n",
              "      <th>0</th>\n",
              "      <td>1000002330</td>\n",
              "      <td>The Songs of Adelaide &amp; Abullah</td>\n",
              "      <td>Poetry</td>\n",
              "      <td>Publishing</td>\n",
              "      <td>GBP</td>\n",
              "      <td>2015-10-09</td>\n",
              "      <td>1000.0</td>\n",
              "      <td>2015-08-11 12:12:28</td>\n",
              "      <td>0.0</td>\n",
              "      <td>failed</td>\n",
              "      <td>0</td>\n",
              "      <td>GB</td>\n",
              "      <td>0.0</td>\n",
              "      <td>0.0</td>\n",
              "      <td>1533.95</td>\n",
              "    </tr>\n",
              "    <tr>\n",
              "      <th>1</th>\n",
              "      <td>1000003930</td>\n",
              "      <td>Greeting From Earth: ZGAC Arts Capsule For ET</td>\n",
              "      <td>Narrative Film</td>\n",
              "      <td>Film &amp; Video</td>\n",
              "      <td>USD</td>\n",
              "      <td>2017-11-01</td>\n",
              "      <td>30000.0</td>\n",
              "      <td>2017-09-02 04:43:57</td>\n",
              "      <td>2421.0</td>\n",
              "      <td>failed</td>\n",
              "      <td>15</td>\n",
              "      <td>US</td>\n",
              "      <td>100.0</td>\n",
              "      <td>2421.0</td>\n",
              "      <td>30000.00</td>\n",
              "    </tr>\n",
              "    <tr>\n",
              "      <th>2</th>\n",
              "      <td>1000004038</td>\n",
              "      <td>Where is Hank?</td>\n",
              "      <td>Narrative Film</td>\n",
              "      <td>Film &amp; Video</td>\n",
              "      <td>USD</td>\n",
              "      <td>2013-02-26</td>\n",
              "      <td>45000.0</td>\n",
              "      <td>2013-01-12 00:20:50</td>\n",
              "      <td>220.0</td>\n",
              "      <td>failed</td>\n",
              "      <td>3</td>\n",
              "      <td>US</td>\n",
              "      <td>220.0</td>\n",
              "      <td>220.0</td>\n",
              "      <td>45000.00</td>\n",
              "    </tr>\n",
              "    <tr>\n",
              "      <th>3</th>\n",
              "      <td>1000007540</td>\n",
              "      <td>ToshiCapital Rekordz Needs Help to Complete Album</td>\n",
              "      <td>Music</td>\n",
              "      <td>Music</td>\n",
              "      <td>USD</td>\n",
              "      <td>2012-04-16</td>\n",
              "      <td>5000.0</td>\n",
              "      <td>2012-03-17 03:24:11</td>\n",
              "      <td>1.0</td>\n",
              "      <td>failed</td>\n",
              "      <td>1</td>\n",
              "      <td>US</td>\n",
              "      <td>1.0</td>\n",
              "      <td>1.0</td>\n",
              "      <td>5000.00</td>\n",
              "    </tr>\n",
              "    <tr>\n",
              "      <th>4</th>\n",
              "      <td>1000011046</td>\n",
              "      <td>Community Film Project: The Art of Neighborhoo...</td>\n",
              "      <td>Film &amp; Video</td>\n",
              "      <td>Film &amp; Video</td>\n",
              "      <td>USD</td>\n",
              "      <td>2015-08-29</td>\n",
              "      <td>19500.0</td>\n",
              "      <td>2015-07-04 08:35:03</td>\n",
              "      <td>1283.0</td>\n",
              "      <td>canceled</td>\n",
              "      <td>14</td>\n",
              "      <td>US</td>\n",
              "      <td>1283.0</td>\n",
              "      <td>1283.0</td>\n",
              "      <td>19500.00</td>\n",
              "    </tr>\n",
              "  </tbody>\n",
              "</table>\n",
              "</div>"
            ],
            "text/plain": [
              "           ID                                               name  \\\n",
              "0  1000002330                    The Songs of Adelaide & Abullah   \n",
              "1  1000003930      Greeting From Earth: ZGAC Arts Capsule For ET   \n",
              "2  1000004038                                     Where is Hank?   \n",
              "3  1000007540  ToshiCapital Rekordz Needs Help to Complete Album   \n",
              "4  1000011046  Community Film Project: The Art of Neighborhoo...   \n",
              "\n",
              "         category main_category currency    deadline     goal  \\\n",
              "0          Poetry    Publishing      GBP  2015-10-09   1000.0   \n",
              "1  Narrative Film  Film & Video      USD  2017-11-01  30000.0   \n",
              "2  Narrative Film  Film & Video      USD  2013-02-26  45000.0   \n",
              "3           Music         Music      USD  2012-04-16   5000.0   \n",
              "4    Film & Video  Film & Video      USD  2015-08-29  19500.0   \n",
              "\n",
              "              launched  pledged     state  backers country  usd pledged  \\\n",
              "0  2015-08-11 12:12:28      0.0    failed        0      GB          0.0   \n",
              "1  2017-09-02 04:43:57   2421.0    failed       15      US        100.0   \n",
              "2  2013-01-12 00:20:50    220.0    failed        3      US        220.0   \n",
              "3  2012-03-17 03:24:11      1.0    failed        1      US          1.0   \n",
              "4  2015-07-04 08:35:03   1283.0  canceled       14      US       1283.0   \n",
              "\n",
              "   usd_pledged_real  usd_goal_real  \n",
              "0               0.0        1533.95  \n",
              "1            2421.0       30000.00  \n",
              "2             220.0       45000.00  \n",
              "3               1.0        5000.00  \n",
              "4            1283.0       19500.00  "
            ]
          },
          "execution_count": 2,
          "metadata": {},
          "output_type": "execute_result"
        }
      ],
      "source": [
        "df=pd.read_csv('ks-projects-201801.csv')\n",
        "df.head()"
      ]
    },
    {
      "cell_type": "code",
      "execution_count": null,
      "metadata": {
        "colab": {
          "base_uri": "https://localhost:8080/"
        },
        "id": "1NzV-aGS49iL",
        "outputId": "2606eb8e-8386-451d-8c2d-f4b528992371"
      },
      "outputs": [
        {
          "name": "stdout",
          "output_type": "stream",
          "text": [
            "<class 'pandas.core.frame.DataFrame'>\n",
            "RangeIndex: 378661 entries, 0 to 378660\n",
            "Data columns (total 15 columns):\n",
            " #   Column            Non-Null Count   Dtype  \n",
            "---  ------            --------------   -----  \n",
            " 0   ID                378661 non-null  int64  \n",
            " 1   name              378657 non-null  object \n",
            " 2   category          378661 non-null  object \n",
            " 3   main_category     378661 non-null  object \n",
            " 4   currency          378661 non-null  object \n",
            " 5   deadline          378661 non-null  object \n",
            " 6   goal              378661 non-null  float64\n",
            " 7   launched          378661 non-null  object \n",
            " 8   pledged           378661 non-null  float64\n",
            " 9   state             378661 non-null  object \n",
            " 10  backers           378661 non-null  int64  \n",
            " 11  country           378661 non-null  object \n",
            " 12  usd pledged       374864 non-null  float64\n",
            " 13  usd_pledged_real  378661 non-null  float64\n",
            " 14  usd_goal_real     378661 non-null  float64\n",
            "dtypes: float64(5), int64(2), object(8)\n",
            "memory usage: 43.3+ MB\n"
          ]
        }
      ],
      "source": [
        "df.info()"
      ]
    },
    {
      "cell_type": "code",
      "execution_count": null,
      "metadata": {
        "colab": {
          "base_uri": "https://localhost:8080/"
        },
        "id": "1hLeQ82y5Z_a",
        "outputId": "6f58ba0e-eeb8-4911-b70c-aad64aa3b8be"
      },
      "outputs": [
        {
          "data": {
            "text/plain": [
              "ID                     0\n",
              "name                   4\n",
              "category               0\n",
              "main_category          0\n",
              "currency               0\n",
              "deadline               0\n",
              "goal                   0\n",
              "launched               0\n",
              "pledged                0\n",
              "state                  0\n",
              "backers                0\n",
              "country                0\n",
              "usd pledged         3797\n",
              "usd_pledged_real       0\n",
              "usd_goal_real          0\n",
              "dtype: int64"
            ]
          },
          "execution_count": 4,
          "metadata": {},
          "output_type": "execute_result"
        }
      ],
      "source": [
        "df.isnull().sum()"
      ]
    },
    {
      "cell_type": "markdown",
      "metadata": {
        "id": "RCMEwjUAJtT3"
      },
      "source": [
        "terdapat 4 baris NaN di kolom name dan 3797 di kolom usd_pledged"
      ]
    },
    {
      "cell_type": "markdown",
      "metadata": {
        "id": "vfyilTBAJ361"
      },
      "source": [
        "# Data Cleaning"
      ]
    },
    {
      "cell_type": "code",
      "execution_count": null,
      "metadata": {
        "id": "VXm7aPsM-Jeh"
      },
      "outputs": [],
      "source": [
        "df_copy=df.copy()"
      ]
    },
    {
      "cell_type": "code",
      "execution_count": null,
      "metadata": {
        "id": "-VAAwTab-QXp"
      },
      "outputs": [],
      "source": [
        "df1=df_copy.drop('usd pledged', axis = 1) #menghapus kolom 'usd_pledged' karena nilai kolomnya sama dengan 'usd_pledged_real'"
      ]
    },
    {
      "cell_type": "code",
      "execution_count": null,
      "metadata": {
        "colab": {
          "base_uri": "https://localhost:8080/",
          "height": 337
        },
        "id": "fpkQfoSZ-fYx",
        "outputId": "87c27147-771a-4785-e5e4-d140887f6651"
      },
      "outputs": [
        {
          "data": {
            "text/html": [
              "<div>\n",
              "<style scoped>\n",
              "    .dataframe tbody tr th:only-of-type {\n",
              "        vertical-align: middle;\n",
              "    }\n",
              "\n",
              "    .dataframe tbody tr th {\n",
              "        vertical-align: top;\n",
              "    }\n",
              "\n",
              "    .dataframe thead th {\n",
              "        text-align: right;\n",
              "    }\n",
              "</style>\n",
              "<table border=\"1\" class=\"dataframe\">\n",
              "  <thead>\n",
              "    <tr style=\"text-align: right;\">\n",
              "      <th></th>\n",
              "      <th>ID</th>\n",
              "      <th>name</th>\n",
              "      <th>category</th>\n",
              "      <th>main_category</th>\n",
              "      <th>currency</th>\n",
              "      <th>deadline</th>\n",
              "      <th>goal</th>\n",
              "      <th>launched</th>\n",
              "      <th>pledged</th>\n",
              "      <th>state</th>\n",
              "      <th>backers</th>\n",
              "      <th>country</th>\n",
              "      <th>usd_pledged_real</th>\n",
              "      <th>usd_goal_real</th>\n",
              "    </tr>\n",
              "  </thead>\n",
              "  <tbody>\n",
              "    <tr>\n",
              "      <th>0</th>\n",
              "      <td>1000002330</td>\n",
              "      <td>The Songs of Adelaide &amp; Abullah</td>\n",
              "      <td>Poetry</td>\n",
              "      <td>Publishing</td>\n",
              "      <td>GBP</td>\n",
              "      <td>2015-10-09</td>\n",
              "      <td>1000.0</td>\n",
              "      <td>2015-08-11 12:12:28</td>\n",
              "      <td>0.0</td>\n",
              "      <td>failed</td>\n",
              "      <td>0</td>\n",
              "      <td>GB</td>\n",
              "      <td>0.0</td>\n",
              "      <td>1533.95</td>\n",
              "    </tr>\n",
              "    <tr>\n",
              "      <th>1</th>\n",
              "      <td>1000003930</td>\n",
              "      <td>Greeting From Earth: ZGAC Arts Capsule For ET</td>\n",
              "      <td>Narrative Film</td>\n",
              "      <td>Film &amp; Video</td>\n",
              "      <td>USD</td>\n",
              "      <td>2017-11-01</td>\n",
              "      <td>30000.0</td>\n",
              "      <td>2017-09-02 04:43:57</td>\n",
              "      <td>2421.0</td>\n",
              "      <td>failed</td>\n",
              "      <td>15</td>\n",
              "      <td>US</td>\n",
              "      <td>2421.0</td>\n",
              "      <td>30000.00</td>\n",
              "    </tr>\n",
              "    <tr>\n",
              "      <th>2</th>\n",
              "      <td>1000004038</td>\n",
              "      <td>Where is Hank?</td>\n",
              "      <td>Narrative Film</td>\n",
              "      <td>Film &amp; Video</td>\n",
              "      <td>USD</td>\n",
              "      <td>2013-02-26</td>\n",
              "      <td>45000.0</td>\n",
              "      <td>2013-01-12 00:20:50</td>\n",
              "      <td>220.0</td>\n",
              "      <td>failed</td>\n",
              "      <td>3</td>\n",
              "      <td>US</td>\n",
              "      <td>220.0</td>\n",
              "      <td>45000.00</td>\n",
              "    </tr>\n",
              "    <tr>\n",
              "      <th>3</th>\n",
              "      <td>1000007540</td>\n",
              "      <td>ToshiCapital Rekordz Needs Help to Complete Album</td>\n",
              "      <td>Music</td>\n",
              "      <td>Music</td>\n",
              "      <td>USD</td>\n",
              "      <td>2012-04-16</td>\n",
              "      <td>5000.0</td>\n",
              "      <td>2012-03-17 03:24:11</td>\n",
              "      <td>1.0</td>\n",
              "      <td>failed</td>\n",
              "      <td>1</td>\n",
              "      <td>US</td>\n",
              "      <td>1.0</td>\n",
              "      <td>5000.00</td>\n",
              "    </tr>\n",
              "    <tr>\n",
              "      <th>4</th>\n",
              "      <td>1000011046</td>\n",
              "      <td>Community Film Project: The Art of Neighborhoo...</td>\n",
              "      <td>Film &amp; Video</td>\n",
              "      <td>Film &amp; Video</td>\n",
              "      <td>USD</td>\n",
              "      <td>2015-08-29</td>\n",
              "      <td>19500.0</td>\n",
              "      <td>2015-07-04 08:35:03</td>\n",
              "      <td>1283.0</td>\n",
              "      <td>canceled</td>\n",
              "      <td>14</td>\n",
              "      <td>US</td>\n",
              "      <td>1283.0</td>\n",
              "      <td>19500.00</td>\n",
              "    </tr>\n",
              "  </tbody>\n",
              "</table>\n",
              "</div>"
            ],
            "text/plain": [
              "           ID                                               name  \\\n",
              "0  1000002330                    The Songs of Adelaide & Abullah   \n",
              "1  1000003930      Greeting From Earth: ZGAC Arts Capsule For ET   \n",
              "2  1000004038                                     Where is Hank?   \n",
              "3  1000007540  ToshiCapital Rekordz Needs Help to Complete Album   \n",
              "4  1000011046  Community Film Project: The Art of Neighborhoo...   \n",
              "\n",
              "         category main_category currency    deadline     goal  \\\n",
              "0          Poetry    Publishing      GBP  2015-10-09   1000.0   \n",
              "1  Narrative Film  Film & Video      USD  2017-11-01  30000.0   \n",
              "2  Narrative Film  Film & Video      USD  2013-02-26  45000.0   \n",
              "3           Music         Music      USD  2012-04-16   5000.0   \n",
              "4    Film & Video  Film & Video      USD  2015-08-29  19500.0   \n",
              "\n",
              "              launched  pledged     state  backers country  usd_pledged_real  \\\n",
              "0  2015-08-11 12:12:28      0.0    failed        0      GB               0.0   \n",
              "1  2017-09-02 04:43:57   2421.0    failed       15      US            2421.0   \n",
              "2  2013-01-12 00:20:50    220.0    failed        3      US             220.0   \n",
              "3  2012-03-17 03:24:11      1.0    failed        1      US               1.0   \n",
              "4  2015-07-04 08:35:03   1283.0  canceled       14      US            1283.0   \n",
              "\n",
              "   usd_goal_real  \n",
              "0        1533.95  \n",
              "1       30000.00  \n",
              "2       45000.00  \n",
              "3        5000.00  \n",
              "4       19500.00  "
            ]
          },
          "execution_count": 7,
          "metadata": {},
          "output_type": "execute_result"
        }
      ],
      "source": [
        "df1.head()"
      ]
    },
    {
      "cell_type": "code",
      "execution_count": null,
      "metadata": {
        "colab": {
          "base_uri": "https://localhost:8080/"
        },
        "id": "QL1EzqBt-qPJ",
        "outputId": "b6e27776-bdd8-4f2d-e6db-d1f0861cf505"
      },
      "outputs": [
        {
          "data": {
            "text/plain": [
              "ID                  0\n",
              "name                4\n",
              "category            0\n",
              "main_category       0\n",
              "currency            0\n",
              "deadline            0\n",
              "goal                0\n",
              "launched            0\n",
              "pledged             0\n",
              "state               0\n",
              "backers             0\n",
              "country             0\n",
              "usd_pledged_real    0\n",
              "usd_goal_real       0\n",
              "dtype: int64"
            ]
          },
          "execution_count": 8,
          "metadata": {},
          "output_type": "execute_result"
        }
      ],
      "source": [
        "df1.isna().sum()"
      ]
    },
    {
      "cell_type": "code",
      "execution_count": null,
      "metadata": {
        "id": "5RNz8Sth_Ub5"
      },
      "outputs": [],
      "source": [
        "df1['name'].fillna('NoName', inplace=True) #perintah mengganti kolom nama yang kosong menjadi 'NoName'"
      ]
    },
    {
      "cell_type": "code",
      "execution_count": null,
      "metadata": {
        "colab": {
          "base_uri": "https://localhost:8080/"
        },
        "id": "6DpbrhBk_Y16",
        "outputId": "f1ae478d-fefa-4b7a-dfa3-0e17ba7605c2"
      },
      "outputs": [
        {
          "data": {
            "text/plain": [
              "ID                  0\n",
              "name                0\n",
              "category            0\n",
              "main_category       0\n",
              "currency            0\n",
              "deadline            0\n",
              "goal                0\n",
              "launched            0\n",
              "pledged             0\n",
              "state               0\n",
              "backers             0\n",
              "country             0\n",
              "usd_pledged_real    0\n",
              "usd_goal_real       0\n",
              "dtype: int64"
            ]
          },
          "execution_count": 10,
          "metadata": {},
          "output_type": "execute_result"
        }
      ],
      "source": [
        "df1.isna().sum()"
      ]
    },
    {
      "cell_type": "markdown",
      "metadata": {
        "id": "JhSnwgIbXZ_F"
      },
      "source": [
        "Data sudah tidak memiliki nilai NaN"
      ]
    },
    {
      "cell_type": "markdown",
      "metadata": {
        "id": "LZcjPFU6KTqa"
      },
      "source": [
        "# Eksplorasi Data"
      ]
    },
    {
      "cell_type": "code",
      "execution_count": null,
      "metadata": {
        "colab": {
          "base_uri": "https://localhost:8080/"
        },
        "id": "E5Xm0LphBWP6",
        "outputId": "b9fdbc7b-9f3e-4d76-e466-04d21fde21a4"
      },
      "outputs": [
        {
          "data": {
            "text/plain": [
              "main_category  state     \n",
              "Art            failed        14131\n",
              "               successful    11510\n",
              "               canceled       2222\n",
              "               live            194\n",
              "               suspended        96\n",
              "                             ...  \n",
              "Theater        failed         3708\n",
              "               canceled        608\n",
              "               live             41\n",
              "               suspended        21\n",
              "               undefined         1\n",
              "Name: state, Length: 85, dtype: int64"
            ]
          },
          "execution_count": 11,
          "metadata": {},
          "output_type": "execute_result"
        }
      ],
      "source": [
        "df1.groupby('main_category')['state'].value_counts()"
      ]
    },
    {
      "cell_type": "code",
      "execution_count": null,
      "metadata": {
        "id": "edxjfahuIKPp"
      },
      "outputs": [],
      "source": [
        "df2 = df1.query(\"state == ['successful','failed'] \").reset_index().drop(columns = 'index')#mengambil data dengan status gagal dan sukses menjadi data frame baru"
      ]
    },
    {
      "cell_type": "code",
      "execution_count": null,
      "metadata": {
        "colab": {
          "base_uri": "https://localhost:8080/",
          "height": 337
        },
        "id": "U81YglwzLC01",
        "outputId": "fa04838e-1a94-4996-dd72-0e51e1eccbe7"
      },
      "outputs": [
        {
          "data": {
            "text/html": [
              "<div>\n",
              "<style scoped>\n",
              "    .dataframe tbody tr th:only-of-type {\n",
              "        vertical-align: middle;\n",
              "    }\n",
              "\n",
              "    .dataframe tbody tr th {\n",
              "        vertical-align: top;\n",
              "    }\n",
              "\n",
              "    .dataframe thead th {\n",
              "        text-align: right;\n",
              "    }\n",
              "</style>\n",
              "<table border=\"1\" class=\"dataframe\">\n",
              "  <thead>\n",
              "    <tr style=\"text-align: right;\">\n",
              "      <th></th>\n",
              "      <th>ID</th>\n",
              "      <th>name</th>\n",
              "      <th>category</th>\n",
              "      <th>main_category</th>\n",
              "      <th>currency</th>\n",
              "      <th>deadline</th>\n",
              "      <th>goal</th>\n",
              "      <th>launched</th>\n",
              "      <th>pledged</th>\n",
              "      <th>state</th>\n",
              "      <th>backers</th>\n",
              "      <th>country</th>\n",
              "      <th>usd_pledged_real</th>\n",
              "      <th>usd_goal_real</th>\n",
              "    </tr>\n",
              "  </thead>\n",
              "  <tbody>\n",
              "    <tr>\n",
              "      <th>0</th>\n",
              "      <td>1000002330</td>\n",
              "      <td>The Songs of Adelaide &amp; Abullah</td>\n",
              "      <td>Poetry</td>\n",
              "      <td>Publishing</td>\n",
              "      <td>GBP</td>\n",
              "      <td>2015-10-09</td>\n",
              "      <td>1000.0</td>\n",
              "      <td>2015-08-11 12:12:28</td>\n",
              "      <td>0.0</td>\n",
              "      <td>failed</td>\n",
              "      <td>0</td>\n",
              "      <td>GB</td>\n",
              "      <td>0.0</td>\n",
              "      <td>1533.95</td>\n",
              "    </tr>\n",
              "    <tr>\n",
              "      <th>1</th>\n",
              "      <td>1000003930</td>\n",
              "      <td>Greeting From Earth: ZGAC Arts Capsule For ET</td>\n",
              "      <td>Narrative Film</td>\n",
              "      <td>Film &amp; Video</td>\n",
              "      <td>USD</td>\n",
              "      <td>2017-11-01</td>\n",
              "      <td>30000.0</td>\n",
              "      <td>2017-09-02 04:43:57</td>\n",
              "      <td>2421.0</td>\n",
              "      <td>failed</td>\n",
              "      <td>15</td>\n",
              "      <td>US</td>\n",
              "      <td>2421.0</td>\n",
              "      <td>30000.00</td>\n",
              "    </tr>\n",
              "    <tr>\n",
              "      <th>2</th>\n",
              "      <td>1000004038</td>\n",
              "      <td>Where is Hank?</td>\n",
              "      <td>Narrative Film</td>\n",
              "      <td>Film &amp; Video</td>\n",
              "      <td>USD</td>\n",
              "      <td>2013-02-26</td>\n",
              "      <td>45000.0</td>\n",
              "      <td>2013-01-12 00:20:50</td>\n",
              "      <td>220.0</td>\n",
              "      <td>failed</td>\n",
              "      <td>3</td>\n",
              "      <td>US</td>\n",
              "      <td>220.0</td>\n",
              "      <td>45000.00</td>\n",
              "    </tr>\n",
              "    <tr>\n",
              "      <th>3</th>\n",
              "      <td>1000007540</td>\n",
              "      <td>ToshiCapital Rekordz Needs Help to Complete Album</td>\n",
              "      <td>Music</td>\n",
              "      <td>Music</td>\n",
              "      <td>USD</td>\n",
              "      <td>2012-04-16</td>\n",
              "      <td>5000.0</td>\n",
              "      <td>2012-03-17 03:24:11</td>\n",
              "      <td>1.0</td>\n",
              "      <td>failed</td>\n",
              "      <td>1</td>\n",
              "      <td>US</td>\n",
              "      <td>1.0</td>\n",
              "      <td>5000.00</td>\n",
              "    </tr>\n",
              "    <tr>\n",
              "      <th>4</th>\n",
              "      <td>1000014025</td>\n",
              "      <td>Monarch Espresso Bar</td>\n",
              "      <td>Restaurants</td>\n",
              "      <td>Food</td>\n",
              "      <td>USD</td>\n",
              "      <td>2016-04-01</td>\n",
              "      <td>50000.0</td>\n",
              "      <td>2016-02-26 13:38:27</td>\n",
              "      <td>52375.0</td>\n",
              "      <td>successful</td>\n",
              "      <td>224</td>\n",
              "      <td>US</td>\n",
              "      <td>52375.0</td>\n",
              "      <td>50000.00</td>\n",
              "    </tr>\n",
              "  </tbody>\n",
              "</table>\n",
              "</div>"
            ],
            "text/plain": [
              "           ID                                               name  \\\n",
              "0  1000002330                    The Songs of Adelaide & Abullah   \n",
              "1  1000003930      Greeting From Earth: ZGAC Arts Capsule For ET   \n",
              "2  1000004038                                     Where is Hank?   \n",
              "3  1000007540  ToshiCapital Rekordz Needs Help to Complete Album   \n",
              "4  1000014025                               Monarch Espresso Bar   \n",
              "\n",
              "         category main_category currency    deadline     goal  \\\n",
              "0          Poetry    Publishing      GBP  2015-10-09   1000.0   \n",
              "1  Narrative Film  Film & Video      USD  2017-11-01  30000.0   \n",
              "2  Narrative Film  Film & Video      USD  2013-02-26  45000.0   \n",
              "3           Music         Music      USD  2012-04-16   5000.0   \n",
              "4     Restaurants          Food      USD  2016-04-01  50000.0   \n",
              "\n",
              "              launched  pledged       state  backers country  \\\n",
              "0  2015-08-11 12:12:28      0.0      failed        0      GB   \n",
              "1  2017-09-02 04:43:57   2421.0      failed       15      US   \n",
              "2  2013-01-12 00:20:50    220.0      failed        3      US   \n",
              "3  2012-03-17 03:24:11      1.0      failed        1      US   \n",
              "4  2016-02-26 13:38:27  52375.0  successful      224      US   \n",
              "\n",
              "   usd_pledged_real  usd_goal_real  \n",
              "0               0.0        1533.95  \n",
              "1            2421.0       30000.00  \n",
              "2             220.0       45000.00  \n",
              "3               1.0        5000.00  \n",
              "4           52375.0       50000.00  "
            ]
          },
          "execution_count": 13,
          "metadata": {},
          "output_type": "execute_result"
        }
      ],
      "source": [
        "df2.head()"
      ]
    },
    {
      "cell_type": "code",
      "execution_count": null,
      "metadata": {
        "colab": {
          "base_uri": "https://localhost:8080/"
        },
        "id": "tspRK4n0L8wf",
        "outputId": "e9795e08-8700-43c2-8f4e-dbce8b7464d4"
      },
      "outputs": [
        {
          "data": {
            "text/plain": [
              "main_category  state     \n",
              "Art            failed        14131\n",
              "               successful    11510\n",
              "Comics         successful     5842\n",
              "               failed         4036\n",
              "Crafts         failed         5703\n",
              "               successful     2115\n",
              "Dance          successful     2338\n",
              "               failed         1235\n",
              "Design         failed        14814\n",
              "               successful    10550\n",
              "Fashion        failed        14182\n",
              "               successful     5593\n",
              "Film & Video   failed        32904\n",
              "               successful    23623\n",
              "Food           failed        15969\n",
              "               successful     6085\n",
              "Games          failed        16003\n",
              "               successful    12518\n",
              "Journalism     failed         3137\n",
              "               successful     1012\n",
              "Music          successful    24197\n",
              "               failed        21752\n",
              "Photography    failed         6384\n",
              "               successful     3305\n",
              "Publishing     failed        23145\n",
              "               successful    12300\n",
              "Technology     failed        20616\n",
              "               successful     6434\n",
              "Theater        successful     6534\n",
              "               failed         3708\n",
              "Name: state, dtype: int64"
            ]
          },
          "execution_count": 14,
          "metadata": {},
          "output_type": "execute_result"
        }
      ],
      "source": [
        "df2.groupby('main_category')['state'].value_counts() #mencari jumlah pendanaan yang sukses dan gagal di tiap kategori"
      ]
    },
    {
      "cell_type": "code",
      "execution_count": null,
      "metadata": {
        "colab": {
          "base_uri": "https://localhost:8080/"
        },
        "id": "xNBQefi1MX-8",
        "outputId": "b43c1ecb-5080-449d-907b-5434417e4e86"
      },
      "outputs": [
        {
          "data": {
            "text/plain": [
              "country  state     \n",
              "AT       failed           378\n",
              "         successful       107\n",
              "AU       failed          4606\n",
              "         successful      2010\n",
              "BE       failed           371\n",
              "         successful       152\n",
              "CA       failed          8236\n",
              "         successful      4134\n",
              "CH       failed           465\n",
              "         successful       187\n",
              "DE       failed          2499\n",
              "         successful       937\n",
              "DK       failed           566\n",
              "         successful       360\n",
              "ES       failed          1381\n",
              "         successful       492\n",
              "FR       failed          1612\n",
              "         successful       908\n",
              "GB       failed         17387\n",
              "         successful     12067\n",
              "HK       failed           261\n",
              "         successful       216\n",
              "IE       failed           476\n",
              "         successful       207\n",
              "IT       failed          1930\n",
              "         successful       439\n",
              "JP       failed            16\n",
              "         successful         7\n",
              "LU       failed            38\n",
              "         successful        19\n",
              "MX       failed          1015\n",
              "         successful       396\n",
              "N,0\"     failed           105\n",
              "         successful       105\n",
              "NL       failed          1794\n",
              "         successful       617\n",
              "NO       failed           420\n",
              "         successful       162\n",
              "NZ       failed           826\n",
              "         successful       448\n",
              "SE       failed          1000\n",
              "         successful       509\n",
              "SG       failed           276\n",
              "         successful       178\n",
              "US       failed        152061\n",
              "         successful    109299\n",
              "Name: state, dtype: int64"
            ]
          },
          "execution_count": 15,
          "metadata": {},
          "output_type": "execute_result"
        }
      ],
      "source": [
        "df2.groupby('country')['state'].value_counts() #mencari jumlah pendanaan yang sukses dan gagal di tiap Negara"
      ]
    },
    {
      "cell_type": "markdown",
      "metadata": {
        "id": "ehqUbi84KfH1"
      },
      "source": [
        "# Measure of Central Tendency"
      ]
    },
    {
      "cell_type": "code",
      "execution_count": null,
      "metadata": {
        "colab": {
          "base_uri": "https://localhost:8080/"
        },
        "id": "sqrDQQVxYjPx",
        "outputId": "060d0643-bf66-4789-886b-da169dbfa5cf"
      },
      "outputs": [
        {
          "name": "stdout",
          "output_type": "stream",
          "text": [
            "Mean : 41510.00154283562\n",
            "Median : 5000.0\n",
            "Mode : 0    5000.0\n",
            "Name: usd_goal_real, dtype: float64\n"
          ]
        }
      ],
      "source": [
        "print ('Mean :', df2['usd_goal_real'].mean())\n",
        "print ('Median :', df2['usd_goal_real'].median())\n",
        "print ('Mode :', df2['usd_goal_real'].mode())\n"
      ]
    },
    {
      "cell_type": "markdown",
      "metadata": {
        "id": "1vhTlMMMXZ_J"
      },
      "source": [
        "formula perhitungan rata2, nilai tengah, dan modus"
      ]
    },
    {
      "cell_type": "markdown",
      "metadata": {
        "id": "7JioSYCmJS-9"
      },
      "source": [
        "# Measure of Variance"
      ]
    },
    {
      "cell_type": "code",
      "execution_count": null,
      "metadata": {
        "colab": {
          "base_uri": "https://localhost:8080/"
        },
        "id": "PMo6fniXKq93",
        "outputId": "36935973-20d5-48cf-973e-7523b7bccdd0"
      },
      "outputs": [
        {
          "name": "stdout",
          "output_type": "stream",
          "text": [
            "Min : 0.01\n",
            "Max : 166361390.71\n",
            "Variance: 1229724997674.051\n",
            "Standar dev: 1108929.6630869114\n"
          ]
        }
      ],
      "source": [
        "print ('Min :', df2['usd_goal_real'].min())\n",
        "print ('Max :', df2['usd_goal_real'].max())\n",
        "print ('Variance:',df2['usd_goal_real'].var())\n",
        "print ('Standar dev:',df2['usd_goal_real'].std())"
      ]
    },
    {
      "cell_type": "markdown",
      "metadata": {
        "id": "XqvAa361XZ_K"
      },
      "source": [
        "perhitungan mencari nilai max, minimum, variance, dan standar deviasi"
      ]
    },
    {
      "cell_type": "code",
      "execution_count": null,
      "metadata": {
        "colab": {
          "base_uri": "https://localhost:8080/"
        },
        "id": "ISLlEzdVKsxy",
        "outputId": "d75ce7e0-8d53-44cc-d32a-120f189ff89b"
      },
      "outputs": [
        {
          "name": "stdout",
          "output_type": "stream",
          "text": [
            "Range: 166361390.70000002\n"
          ]
        }
      ],
      "source": [
        "kolom = ['usd_goal_real']\n",
        "for i in kolom:\n",
        "    print(  'Range: ' + str(df2[i].max() - df2[i].min()))"
      ]
    },
    {
      "cell_type": "markdown",
      "metadata": {
        "id": "Y_b5VyXNLNkz"
      },
      "source": [
        "perhitungan untuk mencari range"
      ]
    },
    {
      "cell_type": "markdown",
      "metadata": {
        "id": "1q8p4jJ1LmQY"
      },
      "source": [
        "# Hyphotesis Testing\n"
      ]
    },
    {
      "cell_type": "markdown",
      "metadata": {
        "id": "ug18bOagQ8vS"
      },
      "source": [
        "Two Samples Independent Two Tailed Hypothesis Testing\n",
        "\n",
        "- H0 = Apakah rata2 harga pendanaan yang sukses GB = US\n",
        "- H1 = Apakah rata2 harga pendanaan yang sukses GB != US"
      ]
    },
    {
      "cell_type": "code",
      "execution_count": null,
      "metadata": {
        "colab": {
          "base_uri": "https://localhost:8080/"
        },
        "id": "2dAJ-wo2Lp-3",
        "outputId": "9d239c90-27bc-465f-96e9-6e46774b2740"
      },
      "outputs": [
        {
          "name": "stderr",
          "output_type": "stream",
          "text": [
            "C:\\Users\\Sandika\\AppData\\Local\\Temp\\ipykernel_14352\\483921021.py:1: UserWarning: Boolean Series key will be reindexed to match DataFrame index.\n",
            "  GB = df2[df2['country']=='GB'][df2['main_category']=='Art'][df2['state']=='successful'][['ID','usd_goal_real']].groupby('ID').sum()\n",
            "C:\\Users\\Sandika\\AppData\\Local\\Temp\\ipykernel_14352\\483921021.py:2: UserWarning: Boolean Series key will be reindexed to match DataFrame index.\n",
            "  US = df2[df2['country']=='US'][df2['main_category']=='Art'][df2['state']=='successful'][['ID','usd_goal_real']].groupby('ID').sum()\n"
          ]
        },
        {
          "name": "stdout",
          "output_type": "stream",
          "text": [
            "Rata-rata harga pendanaan Great Britain (GB) yang sukses pada kategori seni: 3884.0\n",
            "Rata-rata harga pendanaan United States (US) yang sukses pada kategori seni: 4523.0\n"
          ]
        }
      ],
      "source": [
        "GB = df2[df2['country']=='GB'][df2['main_category']=='Art'][df2['state']=='successful'][['ID','usd_goal_real']].groupby('ID').sum()\n",
        "US = df2[df2['country']=='US'][df2['main_category']=='Art'][df2['state']=='successful'][['ID','usd_goal_real']].groupby('ID').sum()\n",
        "print('Rata-rata harga pendanaan Great Britain (GB) yang sukses pada kategori seni: {}'.format(np.round(GB.usd_goal_real.mean())))\n",
        "print('Rata-rata harga pendanaan United States (US) yang sukses pada kategori seni: {}'.format(np.round(US.usd_goal_real.mean())))"
      ]
    },
    {
      "cell_type": "code",
      "execution_count": null,
      "metadata": {
        "colab": {
          "base_uri": "https://localhost:8080/"
        },
        "id": "FaVbD2CFQ6eE",
        "outputId": "bf81fa27-b219-46e6-8af3-472f15c6ed8c"
      },
      "outputs": [
        {
          "name": "stdout",
          "output_type": "stream",
          "text": [
            "P-value: [0.05611949]\n",
            "t-statistics: [-1.91031653]\n"
          ]
        }
      ],
      "source": [
        "t_stat, p_val = stats.ttest_ind(GB,US)\n",
        "print('P-value:',p_val)#the p-value isn't divided by 2 since the output is two-sided p-value\n",
        "print('t-statistics:',t_stat)"
      ]
    },
    {
      "cell_type": "markdown",
      "metadata": {
        "id": "L0KYIVbDSnSu"
      },
      "source": [
        "karena P value > 0.05 maka hipotesis dimana rata2 pendanaah sukses di Great Britain dan United States sama bisa diterima"
      ]
    },
    {
      "cell_type": "code",
      "execution_count": null,
      "metadata": {
        "colab": {
          "base_uri": "https://localhost:8080/",
          "height": 438
        },
        "id": "qFwPVgbJSua5",
        "outputId": "9df20f24-43f8-4cac-e756-9625db5b56ac"
      },
      "outputs": [
        {
          "name": "stderr",
          "output_type": "stream",
          "text": [
            "C:\\Users\\Sandika\\AppData\\Local\\Programs\\Python\\Python310\\lib\\site-packages\\seaborn\\distributions.py:2619: FutureWarning: `distplot` is a deprecated function and will be removed in a future version. Please adapt your code to use either `displot` (a figure-level function with similar flexibility) or `histplot` (an axes-level function for histograms).\n",
            "  warnings.warn(msg, FutureWarning)\n",
            "C:\\Users\\Sandika\\AppData\\Local\\Programs\\Python\\Python310\\lib\\site-packages\\seaborn\\distributions.py:2619: FutureWarning: `distplot` is a deprecated function and will be removed in a future version. Please adapt your code to use either `displot` (a figure-level function with similar flexibility) or `histplot` (an axes-level function for histograms).\n",
            "  warnings.warn(msg, FutureWarning)\n"
          ]
        },
        {
          "data": {
            "text/plain": [
              "<matplotlib.legend.Legend at 0x26d61e213c0>"
            ]
          },
          "execution_count": 21,
          "metadata": {},
          "output_type": "execute_result"
        },
        {
          "data": {
            "image/png": "[encoded data removed]",
            "text/plain": [
              "<Figure size 1152x360 with 1 Axes>"
            ]
          },
          "metadata": {
            "needs_background": "light"
          },
          "output_type": "display_data"
        }
      ],
      "source": [
        "GB_pop = np.random.normal(GB.usd_goal_real.mean(),GB.usd_goal_real.std(),5000)\n",
        "US_pop = np.random.normal(US.usd_goal_real.mean(),US.usd_goal_real.std(),5000)\n",
        "\n",
        "ci = stats.norm.interval(0.95,GB.usd_goal_real.mean(), GB.usd_goal_real.std())\n",
        "plt.figure(figsize=(16,5))\n",
        "sns.distplot(GB_pop, label='Rata-rata harga pendanaan GB *Pop',color='blue')\n",
        "sns.distplot(US_pop, label='Rata-rata harga pendanaan US *Pop',color='red')\n",
        "\n",
        "plt.axvline(GB.usd_goal_real.mean(), color='blue', linewidth=2, label='GB mean')\n",
        "plt.axvline(US.usd_goal_real.mean(), color='red',  linewidth=2, label='US mean')\n",
        "\n",
        "plt.axvline(ci[1], color='green', linestyle='dashed', linewidth=2, label='confidence threshold of 95%')\n",
        "plt.axvline(ci[0], color='green', linestyle='dashed', linewidth=2)\n",
        "\n",
        "plt.axvline(GB_pop.mean()+t_stat[0]*GB_pop.std(), color='black', linestyle='dashed', linewidth=2, label = 'Alternative Hypothesis')\n",
        "plt.axvline(GB_pop.mean()-t_stat[0]*GB_pop.std(), color='black', linestyle='dashed', linewidth=2)\n",
        "\n",
        "plt.legend()"
      ]
    },
    {
      "cell_type": "markdown",
      "metadata": {
        "id": "ALx_gNE1aHIv"
      },
      "source": [
        "# Kesimpulan\n"
      ]
    },
    {
      "cell_type": "markdown",
      "metadata": {
        "id": "KqxdIMEKaKVJ"
      },
      "source": [
        "HO dimana pernyataannya adalah Apakah rata2 harga pendanaan yang sukses GB = US dapat diterima dengan alasan:\n",
        "\n",
        "- nilai dari P-value: [0.05611949], dimana angka ini lebih besar dari 0.05\n",
        "- garis alternative hypothesis masih berada didalam garis confidence threshold of 95%\n",
        "- data terdistribusi secara normal, bisa ditarik kesimpulan dari bentuk grafik"
      ]
    }
  ],
  "metadata": {
    "colab": {
      "name": "crowd_funding_analysis.ipynb",
      "provenance": []
    },
    "kernelspec": {
      "display_name": "Python 3",
      "name": "python3"
    },
    "language_info": {
      "codemirror_mode": {
        "name": "ipython",
        "version": 3
      },
      "file_extension": ".py",
      "mimetype": "text/x-python",
      "name": "python",
      "nbconvert_exporter": "python",
      "pygments_lexer": "ipython3",
      "version": "3.10.1"
    }
  },
  "nbformat": 4,
  "nbformat_minor": 0
}