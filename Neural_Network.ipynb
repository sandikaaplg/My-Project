{
  "nbformat": 4,
  "nbformat_minor": 0,
  "metadata": {
    "colab": {
      "name": "h8dsft_Milestone1P2_Sandika_2.ipynb",
      "provenance": [],
      "collapsed_sections": []
    },
    "kernelspec": {
      "name": "python3",
      "display_name": "Python 3"
    },
    "language_info": {
      "name": "python"
    },
    "accelerator": "GPU"
  },
  "cells": [
    {
      "cell_type": "markdown",
      "source": [
        "# Perkenalan\n",
        "\n",
        "Nama/Batch =  Sandika/008"
      ],
      "metadata": {
        "id": "jR39pZl0aes4"
      }
    },
    {
      "cell_type": "markdown",
      "source": [
        "# Import Pustaka"
      ],
      "metadata": {
        "id": "DXhUNX9aaqLC"
      }
    },
    {
      "cell_type": "code",
      "source": [
        "import pandas as pd\n",
        "import seaborn as sns\n",
        "import numpy as np\n",
        "from sklearn.metrics import mutual_info_score\n",
        "from sklearn.preprocessing import MinMaxScaler\n",
        "from sklearn.model_selection import train_test_split\n",
        "from sklearn.preprocessing import LabelEncoder\n",
        "from tensorflow.keras.models import Sequential,Model\n",
        "from tensorflow.keras.layers import Conv2D,MaxPool2D,Dense,Flatten,BatchNormalization,Dropout,Input\n",
        "import tensorflow as tf\n",
        "from tensorflow import keras\n",
        "import matplotlib.ticker as mtick\n",
        "import matplotlib.pyplot as plt\n",
        "from tensorflow.keras.utils import plot_model\n",
        "import tensorflow as tf\n",
        "from tensorflow.keras.optimizers import Adam\n",
        "from tensorflow.keras.preprocessing import image\n",
        "from tqdm import tqdm\n",
        "from sklearn.pipeline import Pipeline\n",
        "from imblearn.pipeline import Pipeline as imbpipeline\n",
        "from sklearn.preprocessing import StandardScaler\n",
        "from sklearn.impute import SimpleImputer\n",
        "from sklearn.preprocessing import OneHotEncoder\n",
        "from sklearn.compose import ColumnTransformer\n",
        "from tensorflow.keras import initializers, optimizers\n",
        "from tensorflow.keras.utils import plot_model\n",
        "from sklearn.metrics import classification_report, confusion_matrix\n",
        "from imblearn.over_sampling import SMOTE"
      ],
      "metadata": {
        "id": "PSdIB8gpapm5"
      },
      "execution_count": 65,
      "outputs": []
    },
    {
      "cell_type": "markdown",
      "source": [
        "# Data Loading"
      ],
      "metadata": {
        "id": "asXU4kJzbA59"
      }
    },
    {
      "cell_type": "code",
      "execution_count": 2,
      "metadata": {
        "id": "c1ZC18FOaU4P"
      },
      "outputs": [],
      "source": [
        "df_dummy= pd.read_csv('WA_Fn-UseC_-Telco-Customer-Churn.csv')"
      ]
    },
    {
      "cell_type": "code",
      "source": [
        "df_dummy.head()"
      ],
      "metadata": {
        "colab": {
          "base_uri": "https://localhost:8080/",
          "height": 386
        },
        "id": "nZ0EKpF1bOAK",
        "outputId": "22a06380-858d-464d-c227-31fda4911d63"
      },
      "execution_count": 3,
      "outputs": [
        {
          "output_type": "execute_result",
          "data": {
            "text/plain": [
              "   customerID  gender  SeniorCitizen Partner Dependents  tenure PhoneService  \\\n",
              "0  7590-VHVEG  Female              0     Yes         No       1           No   \n",
              "1  5575-GNVDE    Male              0      No         No      34          Yes   \n",
              "2  3668-QPYBK    Male              0      No         No       2          Yes   \n",
              "3  7795-CFOCW    Male              0      No         No      45           No   \n",
              "4  9237-HQITU  Female              0      No         No       2          Yes   \n",
              "\n",
              "      MultipleLines InternetService OnlineSecurity  ... DeviceProtection  \\\n",
              "0  No phone service             DSL             No  ...               No   \n",
              "1                No             DSL            Yes  ...              Yes   \n",
              "2                No             DSL            Yes  ...               No   \n",
              "3  No phone service             DSL            Yes  ...              Yes   \n",
              "4                No     Fiber optic             No  ...               No   \n",
              "\n",
              "  TechSupport StreamingTV StreamingMovies        Contract PaperlessBilling  \\\n",
              "0          No          No              No  Month-to-month              Yes   \n",
              "1          No          No              No        One year               No   \n",
              "2          No          No              No  Month-to-month              Yes   \n",
              "3         Yes          No              No        One year               No   \n",
              "4          No          No              No  Month-to-month              Yes   \n",
              "\n",
              "               PaymentMethod MonthlyCharges  TotalCharges Churn  \n",
              "0           Electronic check          29.85         29.85    No  \n",
              "1               Mailed check          56.95        1889.5    No  \n",
              "2               Mailed check          53.85        108.15   Yes  \n",
              "3  Bank transfer (automatic)          42.30       1840.75    No  \n",
              "4           Electronic check          70.70        151.65   Yes  \n",
              "\n",
              "[5 rows x 21 columns]"
            ],
            "text/html": [
              "\n",
              "  <div id=\"df-19b67506-db9e-48b8-8be6-b61e0c47af7e\">\n",
              "    <div class=\"colab-df-container\">\n",
              "      <div>\n",
              "<style scoped>\n",
              "    .dataframe tbody tr th:only-of-type {\n",
              "        vertical-align: middle;\n",
              "    }\n",
              "\n",
              "    .dataframe tbody tr th {\n",
              "        vertical-align: top;\n",
              "    }\n",
              "\n",
              "    .dataframe thead th {\n",
              "        text-align: right;\n",
              "    }\n",
              "</style>\n",
              "<table border=\"1\" class=\"dataframe\">\n",
              "  <thead>\n",
              "    <tr style=\"text-align: right;\">\n",
              "      <th></th>\n",
              "      <th>customerID</th>\n",
              "      <th>gender</th>\n",
              "      <th>SeniorCitizen</th>\n",
              "      <th>Partner</th>\n",
              "      <th>Dependents</th>\n",
              "      <th>tenure</th>\n",
              "      <th>PhoneService</th>\n",
              "      <th>MultipleLines</th>\n",
              "      <th>InternetService</th>\n",
              "      <th>OnlineSecurity</th>\n",
              "      <th>...</th>\n",
              "      <th>DeviceProtection</th>\n",
              "      <th>TechSupport</th>\n",
              "      <th>StreamingTV</th>\n",
              "      <th>StreamingMovies</th>\n",
              "      <th>Contract</th>\n",
              "      <th>PaperlessBilling</th>\n",
              "      <th>PaymentMethod</th>\n",
              "      <th>MonthlyCharges</th>\n",
              "      <th>TotalCharges</th>\n",
              "      <th>Churn</th>\n",
              "    </tr>\n",
              "  </thead>\n",
              "  <tbody>\n",
              "    <tr>\n",
              "      <th>0</th>\n",
              "      <td>7590-VHVEG</td>\n",
              "      <td>Female</td>\n",
              "      <td>0</td>\n",
              "      <td>Yes</td>\n",
              "      <td>No</td>\n",
              "      <td>1</td>\n",
              "      <td>No</td>\n",
              "      <td>No phone service</td>\n",
              "      <td>DSL</td>\n",
              "      <td>No</td>\n",
              "      <td>...</td>\n",
              "      <td>No</td>\n",
              "      <td>No</td>\n",
              "      <td>No</td>\n",
              "      <td>No</td>\n",
              "      <td>Month-to-month</td>\n",
              "      <td>Yes</td>\n",
              "      <td>Electronic check</td>\n",
              "      <td>29.85</td>\n",
              "      <td>29.85</td>\n",
              "      <td>No</td>\n",
              "    </tr>\n",
              "    <tr>\n",
              "      <th>1</th>\n",
              "      <td>5575-GNVDE</td>\n",
              "      <td>Male</td>\n",
              "      <td>0</td>\n",
              "      <td>No</td>\n",
              "      <td>No</td>\n",
              "      <td>34</td>\n",
              "      <td>Yes</td>\n",
              "      <td>No</td>\n",
              "      <td>DSL</td>\n",
              "      <td>Yes</td>\n",
              "      <td>...</td>\n",
              "      <td>Yes</td>\n",
              "      <td>No</td>\n",
              "      <td>No</td>\n",
              "      <td>No</td>\n",
              "      <td>One year</td>\n",
              "      <td>No</td>\n",
              "      <td>Mailed check</td>\n",
              "      <td>56.95</td>\n",
              "      <td>1889.5</td>\n",
              "      <td>No</td>\n",
              "    </tr>\n",
              "    <tr>\n",
              "      <th>2</th>\n",
              "      <td>3668-QPYBK</td>\n",
              "      <td>Male</td>\n",
              "      <td>0</td>\n",
              "      <td>No</td>\n",
              "      <td>No</td>\n",
              "      <td>2</td>\n",
              "      <td>Yes</td>\n",
              "      <td>No</td>\n",
              "      <td>DSL</td>\n",
              "      <td>Yes</td>\n",
              "      <td>...</td>\n",
              "      <td>No</td>\n",
              "      <td>No</td>\n",
              "      <td>No</td>\n",
              "      <td>No</td>\n",
              "      <td>Month-to-month</td>\n",
              "      <td>Yes</td>\n",
              "      <td>Mailed check</td>\n",
              "      <td>53.85</td>\n",
              "      <td>108.15</td>\n",
              "      <td>Yes</td>\n",
              "    </tr>\n",
              "    <tr>\n",
              "      <th>3</th>\n",
              "      <td>7795-CFOCW</td>\n",
              "      <td>Male</td>\n",
              "      <td>0</td>\n",
              "      <td>No</td>\n",
              "      <td>No</td>\n",
              "      <td>45</td>\n",
              "      <td>No</td>\n",
              "      <td>No phone service</td>\n",
              "      <td>DSL</td>\n",
              "      <td>Yes</td>\n",
              "      <td>...</td>\n",
              "      <td>Yes</td>\n",
              "      <td>Yes</td>\n",
              "      <td>No</td>\n",
              "      <td>No</td>\n",
              "      <td>One year</td>\n",
              "      <td>No</td>\n",
              "      <td>Bank transfer (automatic)</td>\n",
              "      <td>42.30</td>\n",
              "      <td>1840.75</td>\n",
              "      <td>No</td>\n",
              "    </tr>\n",
              "    <tr>\n",
              "      <th>4</th>\n",
              "      <td>9237-HQITU</td>\n",
              "      <td>Female</td>\n",
              "      <td>0</td>\n",
              "      <td>No</td>\n",
              "      <td>No</td>\n",
              "      <td>2</td>\n",
              "      <td>Yes</td>\n",
              "      <td>No</td>\n",
              "      <td>Fiber optic</td>\n",
              "      <td>No</td>\n",
              "      <td>...</td>\n",
              "      <td>No</td>\n",
              "      <td>No</td>\n",
              "      <td>No</td>\n",
              "      <td>No</td>\n",
              "      <td>Month-to-month</td>\n",
              "      <td>Yes</td>\n",
              "      <td>Electronic check</td>\n",
              "      <td>70.70</td>\n",
              "      <td>151.65</td>\n",
              "      <td>Yes</td>\n",
              "    </tr>\n",
              "  </tbody>\n",
              "</table>\n",
              "<p>5 rows × 21 columns</p>\n",
              "</div>\n",
              "      <button class=\"colab-df-convert\" onclick=\"convertToInteractive('df-19b67506-db9e-48b8-8be6-b61e0c47af7e')\"\n",
              "              title=\"Convert this dataframe to an interactive table.\"\n",
              "              style=\"display:none;\">\n",
              "        \n",
              "  <svg xmlns=\"http://www.w3.org/2000/svg\" height=\"24px\"viewBox=\"0 0 24 24\"\n",
              "       width=\"24px\">\n",
              "    <path d=\"M0 0h24v24H0V0z\" fill=\"none\"/>\n",
              "    <path d=\"M18.56 5.44l.94 2.06.94-2.06 2.06-.94-2.06-.94-.94-2.06-.94 2.06-2.06.94zm-11 1L8.5 8.5l.94-2.06 2.06-.94-2.06-.94L8.5 2.5l-.94 2.06-2.06.94zm10 10l.94 2.06.94-2.06 2.06-.94-2.06-.94-.94-2.06-.94 2.06-2.06.94z\"/><path d=\"M17.41 7.96l-1.37-1.37c-.4-.4-.92-.59-1.43-.59-.52 0-1.04.2-1.43.59L10.3 9.45l-7.72 7.72c-.78.78-.78 2.05 0 2.83L4 21.41c.39.39.9.59 1.41.59.51 0 1.02-.2 1.41-.59l7.78-7.78 2.81-2.81c.8-.78.8-2.07 0-2.86zM5.41 20L4 18.59l7.72-7.72 1.47 1.35L5.41 20z\"/>\n",
              "  </svg>\n",
              "      </button>\n",
              "      \n",
              "  <style>\n",
              "    .colab-df-container {\n",
              "      display:flex;\n",
              "      flex-wrap:wrap;\n",
              "      gap: 12px;\n",
              "    }\n",
              "\n",
              "    .colab-df-convert {\n",
              "      background-color: #E8F0FE;\n",
              "      border: none;\n",
              "      border-radius: 50%;\n",
              "      cursor: pointer;\n",
              "      display: none;\n",
              "      fill: #1967D2;\n",
              "      height: 32px;\n",
              "      padding: 0 0 0 0;\n",
              "      width: 32px;\n",
              "    }\n",
              "\n",
              "    .colab-df-convert:hover {\n",
              "      background-color: #E2EBFA;\n",
              "      box-shadow: 0px 1px 2px rgba(60, 64, 67, 0.3), 0px 1px 3px 1px rgba(60, 64, 67, 0.15);\n",
              "      fill: #174EA6;\n",
              "    }\n",
              "\n",
              "    [theme=dark] .colab-df-convert {\n",
              "      background-color: #3B4455;\n",
              "      fill: #D2E3FC;\n",
              "    }\n",
              "\n",
              "    [theme=dark] .colab-df-convert:hover {\n",
              "      background-color: #434B5C;\n",
              "      box-shadow: 0px 1px 3px 1px rgba(0, 0, 0, 0.15);\n",
              "      filter: drop-shadow(0px 1px 2px rgba(0, 0, 0, 0.3));\n",
              "      fill: #FFFFFF;\n",
              "    }\n",
              "  </style>\n",
              "\n",
              "      <script>\n",
              "        const buttonEl =\n",
              "          document.querySelector('#df-19b67506-db9e-48b8-8be6-b61e0c47af7e button.colab-df-convert');\n",
              "        buttonEl.style.display =\n",
              "          google.colab.kernel.accessAllowed ? 'block' : 'none';\n",
              "\n",
              "        async function convertToInteractive(key) {\n",
              "          const element = document.querySelector('#df-19b67506-db9e-48b8-8be6-b61e0c47af7e');\n",
              "          const dataTable =\n",
              "            await google.colab.kernel.invokeFunction('convertToInteractive',\n",
              "                                                     [key], {});\n",
              "          if (!dataTable) return;\n",
              "\n",
              "          const docLinkHtml = 'Like what you see? Visit the ' +\n",
              "            '<a target=\"_blank\" href=https://colab.research.google.com/notebooks/data_table.ipynb>data table notebook</a>'\n",
              "            + ' to learn more about interactive tables.';\n",
              "          element.innerHTML = '';\n",
              "          dataTable['output_type'] = 'display_data';\n",
              "          await google.colab.output.renderOutput(dataTable, element);\n",
              "          const docLink = document.createElement('div');\n",
              "          docLink.innerHTML = docLinkHtml;\n",
              "          element.appendChild(docLink);\n",
              "        }\n",
              "      </script>\n",
              "    </div>\n",
              "  </div>\n",
              "  "
            ]
          },
          "metadata": {},
          "execution_count": 3
        }
      ]
    },
    {
      "cell_type": "code",
      "source": [
        "df_dummy.info()"
      ],
      "metadata": {
        "colab": {
          "base_uri": "https://localhost:8080/"
        },
        "id": "nrmGGXXUbQn-",
        "outputId": "92081fa8-b69a-4464-fb1c-32b23aa20cd3"
      },
      "execution_count": 4,
      "outputs": [
        {
          "output_type": "stream",
          "name": "stdout",
          "text": [
            "<class 'pandas.core.frame.DataFrame'>\n",
            "RangeIndex: 7043 entries, 0 to 7042\n",
            "Data columns (total 21 columns):\n",
            " #   Column            Non-Null Count  Dtype  \n",
            "---  ------            --------------  -----  \n",
            " 0   customerID        7043 non-null   object \n",
            " 1   gender            7043 non-null   object \n",
            " 2   SeniorCitizen     7043 non-null   int64  \n",
            " 3   Partner           7043 non-null   object \n",
            " 4   Dependents        7043 non-null   object \n",
            " 5   tenure            7043 non-null   int64  \n",
            " 6   PhoneService      7043 non-null   object \n",
            " 7   MultipleLines     7043 non-null   object \n",
            " 8   InternetService   7043 non-null   object \n",
            " 9   OnlineSecurity    7043 non-null   object \n",
            " 10  OnlineBackup      7043 non-null   object \n",
            " 11  DeviceProtection  7043 non-null   object \n",
            " 12  TechSupport       7043 non-null   object \n",
            " 13  StreamingTV       7043 non-null   object \n",
            " 14  StreamingMovies   7043 non-null   object \n",
            " 15  Contract          7043 non-null   object \n",
            " 16  PaperlessBilling  7043 non-null   object \n",
            " 17  PaymentMethod     7043 non-null   object \n",
            " 18  MonthlyCharges    7043 non-null   float64\n",
            " 19  TotalCharges      7043 non-null   object \n",
            " 20  Churn             7043 non-null   object \n",
            "dtypes: float64(1), int64(2), object(18)\n",
            "memory usage: 1.1+ MB\n"
          ]
        }
      ]
    },
    {
      "cell_type": "markdown",
      "source": [
        "there is no columns with NaN value"
      ],
      "metadata": {
        "id": "aqJ0my1RbWbK"
      }
    },
    {
      "cell_type": "code",
      "source": [
        "df_dummy.shape"
      ],
      "metadata": {
        "colab": {
          "base_uri": "https://localhost:8080/"
        },
        "id": "N90rpWelbZ2P",
        "outputId": "9ee3b551-e476-4207-9efe-8524fe686976"
      },
      "execution_count": 5,
      "outputs": [
        {
          "output_type": "execute_result",
          "data": {
            "text/plain": [
              "(7043, 21)"
            ]
          },
          "metadata": {},
          "execution_count": 5
        }
      ]
    },
    {
      "cell_type": "markdown",
      "source": [
        "data frame consist of 7043 columns and 21 rows"
      ],
      "metadata": {
        "id": "dZzo0n49bhmP"
      }
    },
    {
      "cell_type": "markdown",
      "source": [
        "# EDA"
      ],
      "metadata": {
        "id": "gRCex4pzbowz"
      }
    },
    {
      "cell_type": "code",
      "source": [
        "df = df_dummy.copy()"
      ],
      "metadata": {
        "id": "j1BUmJYEbgeX"
      },
      "execution_count": 6,
      "outputs": []
    },
    {
      "cell_type": "code",
      "source": [
        "df.isnull().sum()"
      ],
      "metadata": {
        "colab": {
          "base_uri": "https://localhost:8080/"
        },
        "id": "NACfUfMTbefA",
        "outputId": "c1bcbfa6-e20c-4b8d-fa9a-bd82d0f2da39"
      },
      "execution_count": 7,
      "outputs": [
        {
          "output_type": "execute_result",
          "data": {
            "text/plain": [
              "customerID          0\n",
              "gender              0\n",
              "SeniorCitizen       0\n",
              "Partner             0\n",
              "Dependents          0\n",
              "tenure              0\n",
              "PhoneService        0\n",
              "MultipleLines       0\n",
              "InternetService     0\n",
              "OnlineSecurity      0\n",
              "OnlineBackup        0\n",
              "DeviceProtection    0\n",
              "TechSupport         0\n",
              "StreamingTV         0\n",
              "StreamingMovies     0\n",
              "Contract            0\n",
              "PaperlessBilling    0\n",
              "PaymentMethod       0\n",
              "MonthlyCharges      0\n",
              "TotalCharges        0\n",
              "Churn               0\n",
              "dtype: int64"
            ]
          },
          "metadata": {},
          "execution_count": 7
        }
      ]
    },
    {
      "cell_type": "code",
      "source": [
        "df.drop(['customerID'], axis=1, inplace=True)"
      ],
      "metadata": {
        "id": "9r7xUwVJb9UA"
      },
      "execution_count": 8,
      "outputs": []
    },
    {
      "cell_type": "markdown",
      "source": [
        "kolom customerID dihapus karena tidak memiliki korelasi dengan Churn"
      ],
      "metadata": {
        "id": "gpyD_pIBcDln"
      }
    },
    {
      "cell_type": "code",
      "source": [
        "df.Churn.value_counts()/len(df)"
      ],
      "metadata": {
        "id": "sFjELa18cn4x",
        "colab": {
          "base_uri": "https://localhost:8080/"
        },
        "outputId": "6db48ccb-9790-4146-bfee-61e052f74981"
      },
      "execution_count": 9,
      "outputs": [
        {
          "output_type": "execute_result",
          "data": {
            "text/plain": [
              "No     0.73463\n",
              "Yes    0.26537\n",
              "Name: Churn, dtype: float64"
            ]
          },
          "metadata": {},
          "execution_count": 9
        }
      ]
    },
    {
      "cell_type": "markdown",
      "source": [
        "the proportion of the data from the column churn is imbalance"
      ],
      "metadata": {
        "id": "INsKqaKh1zgW"
      }
    },
    {
      "cell_type": "code",
      "source": [
        "plt.figure(figsize=(10,6))\n",
        "ax = sns.countplot(x= 'gender', hue='Churn', data=df)\n",
        "ax.set_title(f'Effect of Gender on Customer Churn');"
      ],
      "metadata": {
        "colab": {
          "base_uri": "https://localhost:8080/",
          "height": 404
        },
        "id": "zbL2Emvc1zM8",
        "outputId": "85c5519a-3974-4af0-97d8-82fa41daad81"
      },
      "execution_count": 10,
      "outputs": [
        {
          "output_type": "display_data",
          "data": {
            "text/plain": [
              "<Figure size 720x432 with 1 Axes>"
            ],
            "image/png": "[encoded data removed]"
          },
          "metadata": {
            "needs_background": "light"
          }
        }
      ]
    },
    {
      "cell_type": "markdown",
      "source": [
        "bisa dilihat dari hasil plot grafik bahwa jenis kelamin tidak berpengaruh terhadap Churn ration"
      ],
      "metadata": {
        "id": "outJss908ERo"
      }
    },
    {
      "cell_type": "code",
      "source": [
        "plt.figure(figsize=(10,6))\n",
        "ax = sns.countplot(x= 'Partner', hue='Churn', data=df)\n",
        "ax.set_title(f'Effect of Partner on Customer Churn');"
      ],
      "metadata": {
        "colab": {
          "base_uri": "https://localhost:8080/",
          "height": 404
        },
        "id": "fECz3LTW1xFE",
        "outputId": "f454fbaa-391a-449f-89f6-51744b5cd1ab"
      },
      "execution_count": 11,
      "outputs": [
        {
          "output_type": "display_data",
          "data": {
            "text/plain": [
              "<Figure size 720x432 with 1 Axes>"
            ],
            "image/png": "[encoded data removed]"
          },
          "metadata": {
            "needs_background": "light"
          }
        }
      ]
    },
    {
      "cell_type": "markdown",
      "source": [
        "Customer yang belum memiliki pasangan memiliki churn ratio yang lebih besar"
      ],
      "metadata": {
        "id": "VlilHJEX8X9i"
      }
    },
    {
      "cell_type": "code",
      "source": [
        "plt.figure(figsize=(10,6))\n",
        "ax = sns.countplot(x= 'Contract', hue='Churn', data=df)\n",
        "ax.set_title(f'Effect of Contract on Customer Churn');"
      ],
      "metadata": {
        "colab": {
          "base_uri": "https://localhost:8080/",
          "height": 404
        },
        "id": "OgnorIlt7XHU",
        "outputId": "cfbce796-a3a2-4279-fcb6-69ca2a44a128"
      },
      "execution_count": 12,
      "outputs": [
        {
          "output_type": "display_data",
          "data": {
            "text/plain": [
              "<Figure size 720x432 with 1 Axes>"
            ],
            "image/png": "[encoded data removed]"
          },
          "metadata": {
            "needs_background": "light"
          }
        }
      ]
    },
    {
      "cell_type": "markdown",
      "source": [
        "semakin singkat kontrak yang dimiliki konsumen semakin tinggi juga Churn ratio nya"
      ],
      "metadata": {
        "id": "1GM1m_mf7-94"
      }
    },
    {
      "cell_type": "code",
      "source": [
        "cat_col = df_dummy.select_dtypes(include=['object']).columns\n",
        "num_col = df_dummy.select_dtypes(exclude=['object']).columns\n",
        "print('Numeric Columns:', num_col)\n",
        "print('categorical Columns:', cat_col)"
      ],
      "metadata": {
        "colab": {
          "base_uri": "https://localhost:8080/"
        },
        "id": "p37xg-8iBFJU",
        "outputId": "c47e1036-2fb7-4a38-b7dd-7407fda03cff"
      },
      "execution_count": 13,
      "outputs": [
        {
          "output_type": "stream",
          "name": "stdout",
          "text": [
            "Numeric Columns: Index(['SeniorCitizen', 'tenure', 'MonthlyCharges'], dtype='object')\n",
            "categorical Columns: Index(['customerID', 'gender', 'Partner', 'Dependents', 'PhoneService',\n",
            "       'MultipleLines', 'InternetService', 'OnlineSecurity', 'OnlineBackup',\n",
            "       'DeviceProtection', 'TechSupport', 'StreamingTV', 'StreamingMovies',\n",
            "       'Contract', 'PaperlessBilling', 'PaymentMethod', 'TotalCharges',\n",
            "       'Churn'],\n",
            "      dtype='object')\n"
          ]
        }
      ]
    },
    {
      "cell_type": "markdown",
      "source": [
        "# Data Preprocessing"
      ],
      "metadata": {
        "id": "MSsQZZZn-Pe4"
      }
    },
    {
      "cell_type": "code",
      "source": [
        "df.head()"
      ],
      "metadata": {
        "colab": {
          "base_uri": "https://localhost:8080/",
          "height": 340
        },
        "id": "WrIO2MG07-xC",
        "outputId": "88c1725e-410f-47cb-fc43-4b5c1afbd229"
      },
      "execution_count": 14,
      "outputs": [
        {
          "output_type": "execute_result",
          "data": {
            "text/plain": [
              "   gender  SeniorCitizen Partner Dependents  tenure PhoneService  \\\n",
              "0  Female              0     Yes         No       1           No   \n",
              "1    Male              0      No         No      34          Yes   \n",
              "2    Male              0      No         No       2          Yes   \n",
              "3    Male              0      No         No      45           No   \n",
              "4  Female              0      No         No       2          Yes   \n",
              "\n",
              "      MultipleLines InternetService OnlineSecurity OnlineBackup  \\\n",
              "0  No phone service             DSL             No          Yes   \n",
              "1                No             DSL            Yes           No   \n",
              "2                No             DSL            Yes          Yes   \n",
              "3  No phone service             DSL            Yes           No   \n",
              "4                No     Fiber optic             No           No   \n",
              "\n",
              "  DeviceProtection TechSupport StreamingTV StreamingMovies        Contract  \\\n",
              "0               No          No          No              No  Month-to-month   \n",
              "1              Yes          No          No              No        One year   \n",
              "2               No          No          No              No  Month-to-month   \n",
              "3              Yes         Yes          No              No        One year   \n",
              "4               No          No          No              No  Month-to-month   \n",
              "\n",
              "  PaperlessBilling              PaymentMethod  MonthlyCharges TotalCharges  \\\n",
              "0              Yes           Electronic check           29.85        29.85   \n",
              "1               No               Mailed check           56.95       1889.5   \n",
              "2              Yes               Mailed check           53.85       108.15   \n",
              "3               No  Bank transfer (automatic)           42.30      1840.75   \n",
              "4              Yes           Electronic check           70.70       151.65   \n",
              "\n",
              "  Churn  \n",
              "0    No  \n",
              "1    No  \n",
              "2   Yes  \n",
              "3    No  \n",
              "4   Yes  "
            ],
            "text/html": [
              "\n",
              "  <div id=\"df-0104ee67-9078-4a06-9cd6-74762d45a7ad\">\n",
              "    <div class=\"colab-df-container\">\n",
              "      <div>\n",
              "<style scoped>\n",
              "    .dataframe tbody tr th:only-of-type {\n",
              "        vertical-align: middle;\n",
              "    }\n",
              "\n",
              "    .dataframe tbody tr th {\n",
              "        vertical-align: top;\n",
              "    }\n",
              "\n",
              "    .dataframe thead th {\n",
              "        text-align: right;\n",
              "    }\n",
              "</style>\n",
              "<table border=\"1\" class=\"dataframe\">\n",
              "  <thead>\n",
              "    <tr style=\"text-align: right;\">\n",
              "      <th></th>\n",
              "      <th>gender</th>\n",
              "      <th>SeniorCitizen</th>\n",
              "      <th>Partner</th>\n",
              "      <th>Dependents</th>\n",
              "      <th>tenure</th>\n",
              "      <th>PhoneService</th>\n",
              "      <th>MultipleLines</th>\n",
              "      <th>InternetService</th>\n",
              "      <th>OnlineSecurity</th>\n",
              "      <th>OnlineBackup</th>\n",
              "      <th>DeviceProtection</th>\n",
              "      <th>TechSupport</th>\n",
              "      <th>StreamingTV</th>\n",
              "      <th>StreamingMovies</th>\n",
              "      <th>Contract</th>\n",
              "      <th>PaperlessBilling</th>\n",
              "      <th>PaymentMethod</th>\n",
              "      <th>MonthlyCharges</th>\n",
              "      <th>TotalCharges</th>\n",
              "      <th>Churn</th>\n",
              "    </tr>\n",
              "  </thead>\n",
              "  <tbody>\n",
              "    <tr>\n",
              "      <th>0</th>\n",
              "      <td>Female</td>\n",
              "      <td>0</td>\n",
              "      <td>Yes</td>\n",
              "      <td>No</td>\n",
              "      <td>1</td>\n",
              "      <td>No</td>\n",
              "      <td>No phone service</td>\n",
              "      <td>DSL</td>\n",
              "      <td>No</td>\n",
              "      <td>Yes</td>\n",
              "      <td>No</td>\n",
              "      <td>No</td>\n",
              "      <td>No</td>\n",
              "      <td>No</td>\n",
              "      <td>Month-to-month</td>\n",
              "      <td>Yes</td>\n",
              "      <td>Electronic check</td>\n",
              "      <td>29.85</td>\n",
              "      <td>29.85</td>\n",
              "      <td>No</td>\n",
              "    </tr>\n",
              "    <tr>\n",
              "      <th>1</th>\n",
              "      <td>Male</td>\n",
              "      <td>0</td>\n",
              "      <td>No</td>\n",
              "      <td>No</td>\n",
              "      <td>34</td>\n",
              "      <td>Yes</td>\n",
              "      <td>No</td>\n",
              "      <td>DSL</td>\n",
              "      <td>Yes</td>\n",
              "      <td>No</td>\n",
              "      <td>Yes</td>\n",
              "      <td>No</td>\n",
              "      <td>No</td>\n",
              "      <td>No</td>\n",
              "      <td>One year</td>\n",
              "      <td>No</td>\n",
              "      <td>Mailed check</td>\n",
              "      <td>56.95</td>\n",
              "      <td>1889.5</td>\n",
              "      <td>No</td>\n",
              "    </tr>\n",
              "    <tr>\n",
              "      <th>2</th>\n",
              "      <td>Male</td>\n",
              "      <td>0</td>\n",
              "      <td>No</td>\n",
              "      <td>No</td>\n",
              "      <td>2</td>\n",
              "      <td>Yes</td>\n",
              "      <td>No</td>\n",
              "      <td>DSL</td>\n",
              "      <td>Yes</td>\n",
              "      <td>Yes</td>\n",
              "      <td>No</td>\n",
              "      <td>No</td>\n",
              "      <td>No</td>\n",
              "      <td>No</td>\n",
              "      <td>Month-to-month</td>\n",
              "      <td>Yes</td>\n",
              "      <td>Mailed check</td>\n",
              "      <td>53.85</td>\n",
              "      <td>108.15</td>\n",
              "      <td>Yes</td>\n",
              "    </tr>\n",
              "    <tr>\n",
              "      <th>3</th>\n",
              "      <td>Male</td>\n",
              "      <td>0</td>\n",
              "      <td>No</td>\n",
              "      <td>No</td>\n",
              "      <td>45</td>\n",
              "      <td>No</td>\n",
              "      <td>No phone service</td>\n",
              "      <td>DSL</td>\n",
              "      <td>Yes</td>\n",
              "      <td>No</td>\n",
              "      <td>Yes</td>\n",
              "      <td>Yes</td>\n",
              "      <td>No</td>\n",
              "      <td>No</td>\n",
              "      <td>One year</td>\n",
              "      <td>No</td>\n",
              "      <td>Bank transfer (automatic)</td>\n",
              "      <td>42.30</td>\n",
              "      <td>1840.75</td>\n",
              "      <td>No</td>\n",
              "    </tr>\n",
              "    <tr>\n",
              "      <th>4</th>\n",
              "      <td>Female</td>\n",
              "      <td>0</td>\n",
              "      <td>No</td>\n",
              "      <td>No</td>\n",
              "      <td>2</td>\n",
              "      <td>Yes</td>\n",
              "      <td>No</td>\n",
              "      <td>Fiber optic</td>\n",
              "      <td>No</td>\n",
              "      <td>No</td>\n",
              "      <td>No</td>\n",
              "      <td>No</td>\n",
              "      <td>No</td>\n",
              "      <td>No</td>\n",
              "      <td>Month-to-month</td>\n",
              "      <td>Yes</td>\n",
              "      <td>Electronic check</td>\n",
              "      <td>70.70</td>\n",
              "      <td>151.65</td>\n",
              "      <td>Yes</td>\n",
              "    </tr>\n",
              "  </tbody>\n",
              "</table>\n",
              "</div>\n",
              "      <button class=\"colab-df-convert\" onclick=\"convertToInteractive('df-0104ee67-9078-4a06-9cd6-74762d45a7ad')\"\n",
              "              title=\"Convert this dataframe to an interactive table.\"\n",
              "              style=\"display:none;\">\n",
              "        \n",
              "  <svg xmlns=\"http://www.w3.org/2000/svg\" height=\"24px\"viewBox=\"0 0 24 24\"\n",
              "       width=\"24px\">\n",
              "    <path d=\"M0 0h24v24H0V0z\" fill=\"none\"/>\n",
              "    <path d=\"M18.56 5.44l.94 2.06.94-2.06 2.06-.94-2.06-.94-.94-2.06-.94 2.06-2.06.94zm-11 1L8.5 8.5l.94-2.06 2.06-.94-2.06-.94L8.5 2.5l-.94 2.06-2.06.94zm10 10l.94 2.06.94-2.06 2.06-.94-2.06-.94-.94-2.06-.94 2.06-2.06.94z\"/><path d=\"M17.41 7.96l-1.37-1.37c-.4-.4-.92-.59-1.43-.59-.52 0-1.04.2-1.43.59L10.3 9.45l-7.72 7.72c-.78.78-.78 2.05 0 2.83L4 21.41c.39.39.9.59 1.41.59.51 0 1.02-.2 1.41-.59l7.78-7.78 2.81-2.81c.8-.78.8-2.07 0-2.86zM5.41 20L4 18.59l7.72-7.72 1.47 1.35L5.41 20z\"/>\n",
              "  </svg>\n",
              "      </button>\n",
              "      \n",
              "  <style>\n",
              "    .colab-df-container {\n",
              "      display:flex;\n",
              "      flex-wrap:wrap;\n",
              "      gap: 12px;\n",
              "    }\n",
              "\n",
              "    .colab-df-convert {\n",
              "      background-color: #E8F0FE;\n",
              "      border: none;\n",
              "      border-radius: 50%;\n",
              "      cursor: pointer;\n",
              "      display: none;\n",
              "      fill: #1967D2;\n",
              "      height: 32px;\n",
              "      padding: 0 0 0 0;\n",
              "      width: 32px;\n",
              "    }\n",
              "\n",
              "    .colab-df-convert:hover {\n",
              "      background-color: #E2EBFA;\n",
              "      box-shadow: 0px 1px 2px rgba(60, 64, 67, 0.3), 0px 1px 3px 1px rgba(60, 64, 67, 0.15);\n",
              "      fill: #174EA6;\n",
              "    }\n",
              "\n",
              "    [theme=dark] .colab-df-convert {\n",
              "      background-color: #3B4455;\n",
              "      fill: #D2E3FC;\n",
              "    }\n",
              "\n",
              "    [theme=dark] .colab-df-convert:hover {\n",
              "      background-color: #434B5C;\n",
              "      box-shadow: 0px 1px 3px 1px rgba(0, 0, 0, 0.15);\n",
              "      filter: drop-shadow(0px 1px 2px rgba(0, 0, 0, 0.3));\n",
              "      fill: #FFFFFF;\n",
              "    }\n",
              "  </style>\n",
              "\n",
              "      <script>\n",
              "        const buttonEl =\n",
              "          document.querySelector('#df-0104ee67-9078-4a06-9cd6-74762d45a7ad button.colab-df-convert');\n",
              "        buttonEl.style.display =\n",
              "          google.colab.kernel.accessAllowed ? 'block' : 'none';\n",
              "\n",
              "        async function convertToInteractive(key) {\n",
              "          const element = document.querySelector('#df-0104ee67-9078-4a06-9cd6-74762d45a7ad');\n",
              "          const dataTable =\n",
              "            await google.colab.kernel.invokeFunction('convertToInteractive',\n",
              "                                                     [key], {});\n",
              "          if (!dataTable) return;\n",
              "\n",
              "          const docLinkHtml = 'Like what you see? Visit the ' +\n",
              "            '<a target=\"_blank\" href=https://colab.research.google.com/notebooks/data_table.ipynb>data table notebook</a>'\n",
              "            + ' to learn more about interactive tables.';\n",
              "          element.innerHTML = '';\n",
              "          dataTable['output_type'] = 'display_data';\n",
              "          await google.colab.output.renderOutput(dataTable, element);\n",
              "          const docLink = document.createElement('div');\n",
              "          docLink.innerHTML = docLinkHtml;\n",
              "          element.appendChild(docLink);\n",
              "        }\n",
              "      </script>\n",
              "    </div>\n",
              "  </div>\n",
              "  "
            ]
          },
          "metadata": {},
          "execution_count": 14
        }
      ]
    },
    {
      "cell_type": "code",
      "source": [
        "NumericData = df_dummy[[feature for feature in num_col if feature not in []]]\n",
        "NumericMelt = NumericData.melt()\n",
        "plt.figure(figsize=(15,10))\n",
        "plt.figtext(0.1, 1, \"Outliers Kolom Numerik\", fontfamily='serif', fontsize=17, fontweight='bold')\n",
        "bp = sns.boxplot(x='variable', y='value', data=NumericMelt, palette=['cyan']*len(num_col))\n",
        "bp.set_xticklabels(bp.get_xticklabels(), rotation=90)\n",
        "plt.show()"
      ],
      "metadata": {
        "colab": {
          "base_uri": "https://localhost:8080/",
          "height": 776
        },
        "id": "nhMe1WAJ-qpk",
        "outputId": "1a34eeff-d3d0-46af-8d4a-4a43bdc5ce4c"
      },
      "execution_count": 15,
      "outputs": [
        {
          "output_type": "display_data",
          "data": {
            "text/plain": [
              "<Figure size 1080x720 with 1 Axes>"
            ],
            "image/png": "[encoded data removed]"
          },
          "metadata": {
            "needs_background": "light"
          }
        }
      ]
    },
    {
      "cell_type": "markdown",
      "source": [
        "theres no numeric columns that have a outliers"
      ],
      "metadata": {
        "id": "p9QdACMZ-xnY"
      }
    },
    {
      "cell_type": "code",
      "source": [
        "df.dtypes"
      ],
      "metadata": {
        "colab": {
          "base_uri": "https://localhost:8080/"
        },
        "id": "2UhGtaTe_AkY",
        "outputId": "22eac469-0b10-4d00-c950-32d96c8aee53"
      },
      "execution_count": 16,
      "outputs": [
        {
          "output_type": "execute_result",
          "data": {
            "text/plain": [
              "gender               object\n",
              "SeniorCitizen         int64\n",
              "Partner              object\n",
              "Dependents           object\n",
              "tenure                int64\n",
              "PhoneService         object\n",
              "MultipleLines        object\n",
              "InternetService      object\n",
              "OnlineSecurity       object\n",
              "OnlineBackup         object\n",
              "DeviceProtection     object\n",
              "TechSupport          object\n",
              "StreamingTV          object\n",
              "StreamingMovies      object\n",
              "Contract             object\n",
              "PaperlessBilling     object\n",
              "PaymentMethod        object\n",
              "MonthlyCharges      float64\n",
              "TotalCharges         object\n",
              "Churn                object\n",
              "dtype: object"
            ]
          },
          "metadata": {},
          "execution_count": 16
        }
      ]
    },
    {
      "cell_type": "code",
      "source": [
        "df['TotalCharges'] = pd.to_numeric(df['TotalCharges'],errors = 'coerce')"
      ],
      "metadata": {
        "id": "0EdZPMYu_kt3"
      },
      "execution_count": 17,
      "outputs": []
    },
    {
      "cell_type": "code",
      "source": [
        "df.dtypes"
      ],
      "metadata": {
        "colab": {
          "base_uri": "https://localhost:8080/"
        },
        "id": "sqw_rxCxAnF9",
        "outputId": "c0830537-b33a-4e09-eba6-7d87e82507e4"
      },
      "execution_count": 18,
      "outputs": [
        {
          "output_type": "execute_result",
          "data": {
            "text/plain": [
              "gender               object\n",
              "SeniorCitizen         int64\n",
              "Partner              object\n",
              "Dependents           object\n",
              "tenure                int64\n",
              "PhoneService         object\n",
              "MultipleLines        object\n",
              "InternetService      object\n",
              "OnlineSecurity       object\n",
              "OnlineBackup         object\n",
              "DeviceProtection     object\n",
              "TechSupport          object\n",
              "StreamingTV          object\n",
              "StreamingMovies      object\n",
              "Contract             object\n",
              "PaperlessBilling     object\n",
              "PaymentMethod        object\n",
              "MonthlyCharges      float64\n",
              "TotalCharges        float64\n",
              "Churn                object\n",
              "dtype: object"
            ]
          },
          "metadata": {},
          "execution_count": 18
        }
      ]
    },
    {
      "cell_type": "markdown",
      "source": [
        "converting TotalCharges column from object to float"
      ],
      "metadata": {
        "id": "25aNh8ckAp2S"
      }
    },
    {
      "cell_type": "code",
      "source": [
        "def print_unique_col_values(df):\n",
        "    \n",
        "    print('Unique values from categorical columns,\\n')\n",
        "    for column in df.columns:\n",
        "        if(df[column].dtypes == 'object'): \n",
        "            print(f'column: {column}, Unique vlaues: {df[column].unique()}')\n",
        "        \n",
        "print_unique_col_values(df)"
      ],
      "metadata": {
        "colab": {
          "base_uri": "https://localhost:8080/"
        },
        "id": "Hlo6rP8tAzbW",
        "outputId": "a24a7ede-c29c-420e-f955-03f71b4928d6"
      },
      "execution_count": 19,
      "outputs": [
        {
          "output_type": "stream",
          "name": "stdout",
          "text": [
            "Unique values from categorical columns,\n",
            "\n",
            "column: gender, Unique vlaues: ['Female' 'Male']\n",
            "column: Partner, Unique vlaues: ['Yes' 'No']\n",
            "column: Dependents, Unique vlaues: ['No' 'Yes']\n",
            "column: PhoneService, Unique vlaues: ['No' 'Yes']\n",
            "column: MultipleLines, Unique vlaues: ['No phone service' 'No' 'Yes']\n",
            "column: InternetService, Unique vlaues: ['DSL' 'Fiber optic' 'No']\n",
            "column: OnlineSecurity, Unique vlaues: ['No' 'Yes' 'No internet service']\n",
            "column: OnlineBackup, Unique vlaues: ['Yes' 'No' 'No internet service']\n",
            "column: DeviceProtection, Unique vlaues: ['No' 'Yes' 'No internet service']\n",
            "column: TechSupport, Unique vlaues: ['No' 'Yes' 'No internet service']\n",
            "column: StreamingTV, Unique vlaues: ['No' 'Yes' 'No internet service']\n",
            "column: StreamingMovies, Unique vlaues: ['No' 'Yes' 'No internet service']\n",
            "column: Contract, Unique vlaues: ['Month-to-month' 'One year' 'Two year']\n",
            "column: PaperlessBilling, Unique vlaues: ['Yes' 'No']\n",
            "column: PaymentMethod, Unique vlaues: ['Electronic check' 'Mailed check' 'Bank transfer (automatic)'\n",
            " 'Credit card (automatic)']\n",
            "column: Churn, Unique vlaues: ['No' 'Yes']\n"
          ]
        }
      ]
    },
    {
      "cell_type": "code",
      "source": [
        "df.replace('No phone service', 'No', inplace = True)\n",
        "df.replace('No internet service', 'No', inplace = True)\n",
        "print_unique_col_values(df)"
      ],
      "metadata": {
        "colab": {
          "base_uri": "https://localhost:8080/"
        },
        "id": "VmGBpB8oA_XD",
        "outputId": "eb4a0c0a-3c1b-4b3f-8fad-1b2c403b658d"
      },
      "execution_count": 20,
      "outputs": [
        {
          "output_type": "stream",
          "name": "stdout",
          "text": [
            "Unique values from categorical columns,\n",
            "\n",
            "column: gender, Unique vlaues: ['Female' 'Male']\n",
            "column: Partner, Unique vlaues: ['Yes' 'No']\n",
            "column: Dependents, Unique vlaues: ['No' 'Yes']\n",
            "column: PhoneService, Unique vlaues: ['No' 'Yes']\n",
            "column: MultipleLines, Unique vlaues: ['No' 'Yes']\n",
            "column: InternetService, Unique vlaues: ['DSL' 'Fiber optic' 'No']\n",
            "column: OnlineSecurity, Unique vlaues: ['No' 'Yes']\n",
            "column: OnlineBackup, Unique vlaues: ['Yes' 'No']\n",
            "column: DeviceProtection, Unique vlaues: ['No' 'Yes']\n",
            "column: TechSupport, Unique vlaues: ['No' 'Yes']\n",
            "column: StreamingTV, Unique vlaues: ['No' 'Yes']\n",
            "column: StreamingMovies, Unique vlaues: ['No' 'Yes']\n",
            "column: Contract, Unique vlaues: ['Month-to-month' 'One year' 'Two year']\n",
            "column: PaperlessBilling, Unique vlaues: ['Yes' 'No']\n",
            "column: PaymentMethod, Unique vlaues: ['Electronic check' 'Mailed check' 'Bank transfer (automatic)'\n",
            " 'Credit card (automatic)']\n",
            "column: Churn, Unique vlaues: ['No' 'Yes']\n"
          ]
        }
      ]
    },
    {
      "cell_type": "markdown",
      "source": [
        "Replace No phone service & No internet service as no because both of this unique value is count as a no"
      ],
      "metadata": {
        "id": "uMWAHUyyBGB3"
      }
    },
    {
      "cell_type": "code",
      "source": [
        "df['Churn'].replace({'Yes': 1,'No': 0},inplace=True)"
      ],
      "metadata": {
        "id": "vpFgcSbjBSux"
      },
      "execution_count": 21,
      "outputs": []
    },
    {
      "cell_type": "markdown",
      "source": [
        "Replacing Churn column "
      ],
      "metadata": {
        "id": "qNQyp1K5BVIE"
      }
    },
    {
      "cell_type": "code",
      "source": [
        "df.isnull().any()"
      ],
      "metadata": {
        "colab": {
          "base_uri": "https://localhost:8080/"
        },
        "id": "5XFhaXOFDfDq",
        "outputId": "c5246d0e-6bf9-4fc8-dcbc-17e312b3e8c6"
      },
      "execution_count": 22,
      "outputs": [
        {
          "output_type": "execute_result",
          "data": {
            "text/plain": [
              "gender              False\n",
              "SeniorCitizen       False\n",
              "Partner             False\n",
              "Dependents          False\n",
              "tenure              False\n",
              "PhoneService        False\n",
              "MultipleLines       False\n",
              "InternetService     False\n",
              "OnlineSecurity      False\n",
              "OnlineBackup        False\n",
              "DeviceProtection    False\n",
              "TechSupport         False\n",
              "StreamingTV         False\n",
              "StreamingMovies     False\n",
              "Contract            False\n",
              "PaperlessBilling    False\n",
              "PaymentMethod       False\n",
              "MonthlyCharges      False\n",
              "TotalCharges         True\n",
              "Churn               False\n",
              "dtype: bool"
            ]
          },
          "metadata": {},
          "execution_count": 22
        }
      ]
    },
    {
      "cell_type": "code",
      "source": [
        "df['TotalCharges'].isnull().sum()"
      ],
      "metadata": {
        "colab": {
          "base_uri": "https://localhost:8080/"
        },
        "id": "3f7BlC4VDglz",
        "outputId": "19726914-c146-4224-c5f0-0b29585d794d"
      },
      "execution_count": 23,
      "outputs": [
        {
          "output_type": "execute_result",
          "data": {
            "text/plain": [
              "11"
            ]
          },
          "metadata": {},
          "execution_count": 23
        }
      ]
    },
    {
      "cell_type": "code",
      "source": [
        "df.dropna(inplace = True)"
      ],
      "metadata": {
        "id": "urXNcw7_DoOJ"
      },
      "execution_count": 24,
      "outputs": []
    },
    {
      "cell_type": "code",
      "source": [
        "df.isnull().any()"
      ],
      "metadata": {
        "colab": {
          "base_uri": "https://localhost:8080/"
        },
        "id": "2X2EsNSHDq2E",
        "outputId": "799c1bbb-b216-456c-e138-af165f028d4f"
      },
      "execution_count": 25,
      "outputs": [
        {
          "output_type": "execute_result",
          "data": {
            "text/plain": [
              "gender              False\n",
              "SeniorCitizen       False\n",
              "Partner             False\n",
              "Dependents          False\n",
              "tenure              False\n",
              "PhoneService        False\n",
              "MultipleLines       False\n",
              "InternetService     False\n",
              "OnlineSecurity      False\n",
              "OnlineBackup        False\n",
              "DeviceProtection    False\n",
              "TechSupport         False\n",
              "StreamingTV         False\n",
              "StreamingMovies     False\n",
              "Contract            False\n",
              "PaperlessBilling    False\n",
              "PaymentMethod       False\n",
              "MonthlyCharges      False\n",
              "TotalCharges        False\n",
              "Churn               False\n",
              "dtype: bool"
            ]
          },
          "metadata": {},
          "execution_count": 25
        }
      ]
    },
    {
      "cell_type": "markdown",
      "source": [
        "no column that have NaN value"
      ],
      "metadata": {
        "id": "EcP6n6KLDxhI"
      }
    },
    {
      "cell_type": "code",
      "source": [
        "cat_col = df.select_dtypes(include=['object']).columns\n",
        "num_col = df.select_dtypes(exclude=['object']).columns\n",
        "print('Numeric Columns:', num_col)\n",
        "print('categorical Columns:', cat_col)"
      ],
      "metadata": {
        "colab": {
          "base_uri": "https://localhost:8080/"
        },
        "id": "-VXo_hfLBUvt",
        "outputId": "db97c191-5568-410d-84db-ad448e99c605"
      },
      "execution_count": 26,
      "outputs": [
        {
          "output_type": "stream",
          "name": "stdout",
          "text": [
            "Numeric Columns: Index(['SeniorCitizen', 'tenure', 'MonthlyCharges', 'TotalCharges', 'Churn'], dtype='object')\n",
            "categorical Columns: Index(['gender', 'Partner', 'Dependents', 'PhoneService', 'MultipleLines',\n",
            "       'InternetService', 'OnlineSecurity', 'OnlineBackup', 'DeviceProtection',\n",
            "       'TechSupport', 'StreamingTV', 'StreamingMovies', 'Contract',\n",
            "       'PaperlessBilling', 'PaymentMethod'],\n",
            "      dtype='object')\n"
          ]
        }
      ]
    },
    {
      "cell_type": "code",
      "source": [
        "X = df.drop('Churn',axis = 'columns')\n",
        "y = df['Churn']\n",
        "\n",
        "X_, X_test, y_, y_test = train_test_split(X, y, stratify = y, random_state = 21, test_size = 0.1)\n",
        "X_train, X_val, y_train, y_val = train_test_split(X_, y_, stratify = y_, random_state = 21, test_size = 2/9)"
      ],
      "metadata": {
        "id": "JuPmbbeXC4uU"
      },
      "execution_count": 27,
      "outputs": []
    },
    {
      "cell_type": "code",
      "source": [
        "df.info()"
      ],
      "metadata": {
        "colab": {
          "base_uri": "https://localhost:8080/"
        },
        "id": "7TzB5QKA18MP",
        "outputId": "70f5c2b6-42b8-4e09-fa94-f12b9885816e"
      },
      "execution_count": 28,
      "outputs": [
        {
          "output_type": "stream",
          "name": "stdout",
          "text": [
            "<class 'pandas.core.frame.DataFrame'>\n",
            "Int64Index: 7032 entries, 0 to 7042\n",
            "Data columns (total 20 columns):\n",
            " #   Column            Non-Null Count  Dtype  \n",
            "---  ------            --------------  -----  \n",
            " 0   gender            7032 non-null   object \n",
            " 1   SeniorCitizen     7032 non-null   int64  \n",
            " 2   Partner           7032 non-null   object \n",
            " 3   Dependents        7032 non-null   object \n",
            " 4   tenure            7032 non-null   int64  \n",
            " 5   PhoneService      7032 non-null   object \n",
            " 6   MultipleLines     7032 non-null   object \n",
            " 7   InternetService   7032 non-null   object \n",
            " 8   OnlineSecurity    7032 non-null   object \n",
            " 9   OnlineBackup      7032 non-null   object \n",
            " 10  DeviceProtection  7032 non-null   object \n",
            " 11  TechSupport       7032 non-null   object \n",
            " 12  StreamingTV       7032 non-null   object \n",
            " 13  StreamingMovies   7032 non-null   object \n",
            " 14  Contract          7032 non-null   object \n",
            " 15  PaperlessBilling  7032 non-null   object \n",
            " 16  PaymentMethod     7032 non-null   object \n",
            " 17  MonthlyCharges    7032 non-null   float64\n",
            " 18  TotalCharges      7032 non-null   float64\n",
            " 19  Churn             7032 non-null   int64  \n",
            "dtypes: float64(2), int64(3), object(15)\n",
            "memory usage: 1.1+ MB\n"
          ]
        }
      ]
    },
    {
      "cell_type": "code",
      "source": [
        "df.head()"
      ],
      "metadata": {
        "colab": {
          "base_uri": "https://localhost:8080/",
          "height": 340
        },
        "id": "SvKaGL8UvcnJ",
        "outputId": "8e573b50-822b-4d28-901b-819ace16b5ca"
      },
      "execution_count": 29,
      "outputs": [
        {
          "output_type": "execute_result",
          "data": {
            "text/plain": [
              "   gender  SeniorCitizen Partner Dependents  tenure PhoneService  \\\n",
              "0  Female              0     Yes         No       1           No   \n",
              "1    Male              0      No         No      34          Yes   \n",
              "2    Male              0      No         No       2          Yes   \n",
              "3    Male              0      No         No      45           No   \n",
              "4  Female              0      No         No       2          Yes   \n",
              "\n",
              "  MultipleLines InternetService OnlineSecurity OnlineBackup DeviceProtection  \\\n",
              "0            No             DSL             No          Yes               No   \n",
              "1            No             DSL            Yes           No              Yes   \n",
              "2            No             DSL            Yes          Yes               No   \n",
              "3            No             DSL            Yes           No              Yes   \n",
              "4            No     Fiber optic             No           No               No   \n",
              "\n",
              "  TechSupport StreamingTV StreamingMovies        Contract PaperlessBilling  \\\n",
              "0          No          No              No  Month-to-month              Yes   \n",
              "1          No          No              No        One year               No   \n",
              "2          No          No              No  Month-to-month              Yes   \n",
              "3         Yes          No              No        One year               No   \n",
              "4          No          No              No  Month-to-month              Yes   \n",
              "\n",
              "               PaymentMethod  MonthlyCharges  TotalCharges  Churn  \n",
              "0           Electronic check           29.85         29.85      0  \n",
              "1               Mailed check           56.95       1889.50      0  \n",
              "2               Mailed check           53.85        108.15      1  \n",
              "3  Bank transfer (automatic)           42.30       1840.75      0  \n",
              "4           Electronic check           70.70        151.65      1  "
            ],
            "text/html": [
              "\n",
              "  <div id=\"df-e7ae25ad-9ee3-40b3-bfd1-c204f6707b38\">\n",
              "    <div class=\"colab-df-container\">\n",
              "      <div>\n",
              "<style scoped>\n",
              "    .dataframe tbody tr th:only-of-type {\n",
              "        vertical-align: middle;\n",
              "    }\n",
              "\n",
              "    .dataframe tbody tr th {\n",
              "        vertical-align: top;\n",
              "    }\n",
              "\n",
              "    .dataframe thead th {\n",
              "        text-align: right;\n",
              "    }\n",
              "</style>\n",
              "<table border=\"1\" class=\"dataframe\">\n",
              "  <thead>\n",
              "    <tr style=\"text-align: right;\">\n",
              "      <th></th>\n",
              "      <th>gender</th>\n",
              "      <th>SeniorCitizen</th>\n",
              "      <th>Partner</th>\n",
              "      <th>Dependents</th>\n",
              "      <th>tenure</th>\n",
              "      <th>PhoneService</th>\n",
              "      <th>MultipleLines</th>\n",
              "      <th>InternetService</th>\n",
              "      <th>OnlineSecurity</th>\n",
              "      <th>OnlineBackup</th>\n",
              "      <th>DeviceProtection</th>\n",
              "      <th>TechSupport</th>\n",
              "      <th>StreamingTV</th>\n",
              "      <th>StreamingMovies</th>\n",
              "      <th>Contract</th>\n",
              "      <th>PaperlessBilling</th>\n",
              "      <th>PaymentMethod</th>\n",
              "      <th>MonthlyCharges</th>\n",
              "      <th>TotalCharges</th>\n",
              "      <th>Churn</th>\n",
              "    </tr>\n",
              "  </thead>\n",
              "  <tbody>\n",
              "    <tr>\n",
              "      <th>0</th>\n",
              "      <td>Female</td>\n",
              "      <td>0</td>\n",
              "      <td>Yes</td>\n",
              "      <td>No</td>\n",
              "      <td>1</td>\n",
              "      <td>No</td>\n",
              "      <td>No</td>\n",
              "      <td>DSL</td>\n",
              "      <td>No</td>\n",
              "      <td>Yes</td>\n",
              "      <td>No</td>\n",
              "      <td>No</td>\n",
              "      <td>No</td>\n",
              "      <td>No</td>\n",
              "      <td>Month-to-month</td>\n",
              "      <td>Yes</td>\n",
              "      <td>Electronic check</td>\n",
              "      <td>29.85</td>\n",
              "      <td>29.85</td>\n",
              "      <td>0</td>\n",
              "    </tr>\n",
              "    <tr>\n",
              "      <th>1</th>\n",
              "      <td>Male</td>\n",
              "      <td>0</td>\n",
              "      <td>No</td>\n",
              "      <td>No</td>\n",
              "      <td>34</td>\n",
              "      <td>Yes</td>\n",
              "      <td>No</td>\n",
              "      <td>DSL</td>\n",
              "      <td>Yes</td>\n",
              "      <td>No</td>\n",
              "      <td>Yes</td>\n",
              "      <td>No</td>\n",
              "      <td>No</td>\n",
              "      <td>No</td>\n",
              "      <td>One year</td>\n",
              "      <td>No</td>\n",
              "      <td>Mailed check</td>\n",
              "      <td>56.95</td>\n",
              "      <td>1889.50</td>\n",
              "      <td>0</td>\n",
              "    </tr>\n",
              "    <tr>\n",
              "      <th>2</th>\n",
              "      <td>Male</td>\n",
              "      <td>0</td>\n",
              "      <td>No</td>\n",
              "      <td>No</td>\n",
              "      <td>2</td>\n",
              "      <td>Yes</td>\n",
              "      <td>No</td>\n",
              "      <td>DSL</td>\n",
              "      <td>Yes</td>\n",
              "      <td>Yes</td>\n",
              "      <td>No</td>\n",
              "      <td>No</td>\n",
              "      <td>No</td>\n",
              "      <td>No</td>\n",
              "      <td>Month-to-month</td>\n",
              "      <td>Yes</td>\n",
              "      <td>Mailed check</td>\n",
              "      <td>53.85</td>\n",
              "      <td>108.15</td>\n",
              "      <td>1</td>\n",
              "    </tr>\n",
              "    <tr>\n",
              "      <th>3</th>\n",
              "      <td>Male</td>\n",
              "      <td>0</td>\n",
              "      <td>No</td>\n",
              "      <td>No</td>\n",
              "      <td>45</td>\n",
              "      <td>No</td>\n",
              "      <td>No</td>\n",
              "      <td>DSL</td>\n",
              "      <td>Yes</td>\n",
              "      <td>No</td>\n",
              "      <td>Yes</td>\n",
              "      <td>Yes</td>\n",
              "      <td>No</td>\n",
              "      <td>No</td>\n",
              "      <td>One year</td>\n",
              "      <td>No</td>\n",
              "      <td>Bank transfer (automatic)</td>\n",
              "      <td>42.30</td>\n",
              "      <td>1840.75</td>\n",
              "      <td>0</td>\n",
              "    </tr>\n",
              "    <tr>\n",
              "      <th>4</th>\n",
              "      <td>Female</td>\n",
              "      <td>0</td>\n",
              "      <td>No</td>\n",
              "      <td>No</td>\n",
              "      <td>2</td>\n",
              "      <td>Yes</td>\n",
              "      <td>No</td>\n",
              "      <td>Fiber optic</td>\n",
              "      <td>No</td>\n",
              "      <td>No</td>\n",
              "      <td>No</td>\n",
              "      <td>No</td>\n",
              "      <td>No</td>\n",
              "      <td>No</td>\n",
              "      <td>Month-to-month</td>\n",
              "      <td>Yes</td>\n",
              "      <td>Electronic check</td>\n",
              "      <td>70.70</td>\n",
              "      <td>151.65</td>\n",
              "      <td>1</td>\n",
              "    </tr>\n",
              "  </tbody>\n",
              "</table>\n",
              "</div>\n",
              "      <button class=\"colab-df-convert\" onclick=\"convertToInteractive('df-e7ae25ad-9ee3-40b3-bfd1-c204f6707b38')\"\n",
              "              title=\"Convert this dataframe to an interactive table.\"\n",
              "              style=\"display:none;\">\n",
              "        \n",
              "  <svg xmlns=\"http://www.w3.org/2000/svg\" height=\"24px\"viewBox=\"0 0 24 24\"\n",
              "       width=\"24px\">\n",
              "    <path d=\"M0 0h24v24H0V0z\" fill=\"none\"/>\n",
              "    <path d=\"M18.56 5.44l.94 2.06.94-2.06 2.06-.94-2.06-.94-.94-2.06-.94 2.06-2.06.94zm-11 1L8.5 8.5l.94-2.06 2.06-.94-2.06-.94L8.5 2.5l-.94 2.06-2.06.94zm10 10l.94 2.06.94-2.06 2.06-.94-2.06-.94-.94-2.06-.94 2.06-2.06.94z\"/><path d=\"M17.41 7.96l-1.37-1.37c-.4-.4-.92-.59-1.43-.59-.52 0-1.04.2-1.43.59L10.3 9.45l-7.72 7.72c-.78.78-.78 2.05 0 2.83L4 21.41c.39.39.9.59 1.41.59.51 0 1.02-.2 1.41-.59l7.78-7.78 2.81-2.81c.8-.78.8-2.07 0-2.86zM5.41 20L4 18.59l7.72-7.72 1.47 1.35L5.41 20z\"/>\n",
              "  </svg>\n",
              "      </button>\n",
              "      \n",
              "  <style>\n",
              "    .colab-df-container {\n",
              "      display:flex;\n",
              "      flex-wrap:wrap;\n",
              "      gap: 12px;\n",
              "    }\n",
              "\n",
              "    .colab-df-convert {\n",
              "      background-color: #E8F0FE;\n",
              "      border: none;\n",
              "      border-radius: 50%;\n",
              "      cursor: pointer;\n",
              "      display: none;\n",
              "      fill: #1967D2;\n",
              "      height: 32px;\n",
              "      padding: 0 0 0 0;\n",
              "      width: 32px;\n",
              "    }\n",
              "\n",
              "    .colab-df-convert:hover {\n",
              "      background-color: #E2EBFA;\n",
              "      box-shadow: 0px 1px 2px rgba(60, 64, 67, 0.3), 0px 1px 3px 1px rgba(60, 64, 67, 0.15);\n",
              "      fill: #174EA6;\n",
              "    }\n",
              "\n",
              "    [theme=dark] .colab-df-convert {\n",
              "      background-color: #3B4455;\n",
              "      fill: #D2E3FC;\n",
              "    }\n",
              "\n",
              "    [theme=dark] .colab-df-convert:hover {\n",
              "      background-color: #434B5C;\n",
              "      box-shadow: 0px 1px 3px 1px rgba(0, 0, 0, 0.15);\n",
              "      filter: drop-shadow(0px 1px 2px rgba(0, 0, 0, 0.3));\n",
              "      fill: #FFFFFF;\n",
              "    }\n",
              "  </style>\n",
              "\n",
              "      <script>\n",
              "        const buttonEl =\n",
              "          document.querySelector('#df-e7ae25ad-9ee3-40b3-bfd1-c204f6707b38 button.colab-df-convert');\n",
              "        buttonEl.style.display =\n",
              "          google.colab.kernel.accessAllowed ? 'block' : 'none';\n",
              "\n",
              "        async function convertToInteractive(key) {\n",
              "          const element = document.querySelector('#df-e7ae25ad-9ee3-40b3-bfd1-c204f6707b38');\n",
              "          const dataTable =\n",
              "            await google.colab.kernel.invokeFunction('convertToInteractive',\n",
              "                                                     [key], {});\n",
              "          if (!dataTable) return;\n",
              "\n",
              "          const docLinkHtml = 'Like what you see? Visit the ' +\n",
              "            '<a target=\"_blank\" href=https://colab.research.google.com/notebooks/data_table.ipynb>data table notebook</a>'\n",
              "            + ' to learn more about interactive tables.';\n",
              "          element.innerHTML = '';\n",
              "          dataTable['output_type'] = 'display_data';\n",
              "          await google.colab.output.renderOutput(dataTable, element);\n",
              "          const docLink = document.createElement('div');\n",
              "          docLink.innerHTML = docLinkHtml;\n",
              "          element.appendChild(docLink);\n",
              "        }\n",
              "      </script>\n",
              "    </div>\n",
              "  </div>\n",
              "  "
            ]
          },
          "metadata": {},
          "execution_count": 29
        }
      ]
    },
    {
      "cell_type": "code",
      "source": [
        "numerical_pipeline = Pipeline([\n",
        "('imputer', SimpleImputer(strategy='mean')),\n",
        "('scaler', StandardScaler())\n",
        "])\n",
        "\n",
        "categorical_pipeline = Pipeline([\n",
        "('imputer', SimpleImputer(strategy='most_frequent')),\n",
        "('onehot', OneHotEncoder())\n",
        "])"
      ],
      "metadata": {
        "id": "LlHL2ucpvYbC"
      },
      "execution_count": 30,
      "outputs": []
    },
    {
      "cell_type": "code",
      "source": [
        "kat = [col for col in X_train.columns if X_train[col].dtypes == 'O']\n",
        "num = [col for col in X_train.columns if X_train[col].dtypes != 'O']\n",
        "print('Numeric Columns:', num)\n",
        "print('categorical Columns:', kat)"
      ],
      "metadata": {
        "colab": {
          "base_uri": "https://localhost:8080/"
        },
        "id": "3tJa74xAv-pA",
        "outputId": "fcf99f28-e0b8-4615-b81b-5aefc4608cd1"
      },
      "execution_count": 31,
      "outputs": [
        {
          "output_type": "stream",
          "name": "stdout",
          "text": [
            "Numeric Columns: ['SeniorCitizen', 'tenure', 'MonthlyCharges', 'TotalCharges']\n",
            "categorical Columns: ['gender', 'Partner', 'Dependents', 'PhoneService', 'MultipleLines', 'InternetService', 'OnlineSecurity', 'OnlineBackup', 'DeviceProtection', 'TechSupport', 'StreamingTV', 'StreamingMovies', 'Contract', 'PaperlessBilling', 'PaymentMethod']\n"
          ]
        }
      ]
    },
    {
      "cell_type": "code",
      "source": [
        "preprocessor =  ColumnTransformer([\n",
        "    ('numeric', numerical_pipeline,['SeniorCitizen', 'tenure', 'MonthlyCharges', 'TotalCharges']),\n",
        "    ('category', categorical_pipeline,['gender', 'Partner', 'Dependents', 'PhoneService', 'MultipleLines', 'InternetService', 'OnlineSecurity', 'OnlineBackup', 'DeviceProtection', 'TechSupport', 'StreamingTV', 'StreamingMovies', 'Contract', 'PaperlessBilling', 'PaymentMethod'])\n",
        "])"
      ],
      "metadata": {
        "id": "IXq_Oi_vwAzR"
      },
      "execution_count": 32,
      "outputs": []
    },
    {
      "cell_type": "code",
      "source": [
        "# Input pipeline\n",
        "input_pipeline = Pipeline(steps=[\n",
        "    ['prep',preprocessor],\n",
        "], memory=\"cache_folder\")"
      ],
      "metadata": {
        "id": "M2Omk77VBojD"
      },
      "execution_count": 33,
      "outputs": []
    },
    {
      "cell_type": "code",
      "source": [
        "input_pipeline.fit(X_train)"
      ],
      "metadata": {
        "colab": {
          "base_uri": "https://localhost:8080/"
        },
        "id": "bZEGJgqq1Iz0",
        "outputId": "673114e3-6386-4ead-c49e-6db6bbcb24e7"
      },
      "execution_count": 34,
      "outputs": [
        {
          "output_type": "execute_result",
          "data": {
            "text/plain": [
              "Pipeline(memory='cache_folder',\n",
              "         steps=[['prep',\n",
              "                 ColumnTransformer(transformers=[('numeric',\n",
              "                                                  Pipeline(steps=[('imputer',\n",
              "                                                                   SimpleImputer()),\n",
              "                                                                  ('scaler',\n",
              "                                                                   StandardScaler())]),\n",
              "                                                  ['SeniorCitizen', 'tenure',\n",
              "                                                   'MonthlyCharges',\n",
              "                                                   'TotalCharges']),\n",
              "                                                 ('category',\n",
              "                                                  Pipeline(steps=[('imputer',\n",
              "                                                                   SimpleImputer(strategy='most_frequent')),\n",
              "                                                                  ('onehot',\n",
              "                                                                   OneHotEncoder())]),\n",
              "                                                  ['gender', 'Partner',\n",
              "                                                   'Dependents', 'PhoneService',\n",
              "                                                   'MultipleLines',\n",
              "                                                   'InternetService',\n",
              "                                                   'OnlineSecurity',\n",
              "                                                   'OnlineBackup',\n",
              "                                                   'DeviceProtection',\n",
              "                                                   'TechSupport', 'StreamingTV',\n",
              "                                                   'StreamingMovies',\n",
              "                                                   'Contract',\n",
              "                                                   'PaperlessBilling',\n",
              "                                                   'PaymentMethod'])])]])"
            ]
          },
          "metadata": {},
          "execution_count": 34
        }
      ]
    },
    {
      "cell_type": "code",
      "source": [
        "X_train_trf = input_pipeline.transform(X_train)\n",
        "X_val_trf = input_pipeline.transform(X_val)\n",
        "X_test_trf = input_pipeline.transform(X_test)"
      ],
      "metadata": {
        "id": "XPBHK9Qe1HRZ"
      },
      "execution_count": 35,
      "outputs": []
    },
    {
      "cell_type": "markdown",
      "source": [
        "# Model Definition, Training & Evaluation"
      ],
      "metadata": {
        "id": "2LaROIWOwoQB"
      }
    },
    {
      "cell_type": "markdown",
      "source": [
        "## Sequential API"
      ],
      "metadata": {
        "id": "Ql_b-F_RWEr1"
      }
    },
    {
      "cell_type": "markdown",
      "source": [
        "### Model Definition"
      ],
      "metadata": {
        "id": "ob0sKeSl0TAe"
      }
    },
    {
      "cell_type": "code",
      "source": [
        "model = tf.keras.Sequential([\n",
        "    tf.keras.layers.Dense(10, input_shape= (38,), activation= 'relu'),\n",
        "    keras.layers.BatchNormalization(),\n",
        "    tf.keras.layers.Dense(1, activation= 'sigmoid')     \n",
        "])\n",
        "\n"
      ],
      "metadata": {
        "id": "E85DOyeuwqDI"
      },
      "execution_count": 36,
      "outputs": []
    },
    {
      "cell_type": "markdown",
      "source": [
        "### Model Training"
      ],
      "metadata": {
        "id": "lBnlYALN0baU"
      }
    },
    {
      "cell_type": "code",
      "source": [
        "model.compile(optimizer= 'adam',\n",
        "             loss='binary_crossentropy',\n",
        "             metrics=['accuracy'])"
      ],
      "metadata": {
        "id": "V-mQUmpDwscq"
      },
      "execution_count": 37,
      "outputs": []
    },
    {
      "cell_type": "code",
      "source": [
        "history = model.fit(X_train_trf, y_train, epochs=100, validation_data=(X_val_trf, y_val))"
      ],
      "metadata": {
        "colab": {
          "base_uri": "https://localhost:8080/"
        },
        "id": "Oj9duNwbtuRs",
        "outputId": "762c95c6-e9fe-45c5-d565-6a4c633dce2f"
      },
      "execution_count": 38,
      "outputs": [
        {
          "output_type": "stream",
          "name": "stdout",
          "text": [
            "Epoch 1/100\n",
            "154/154 [==============================] - 3s 9ms/step - loss: 0.6035 - accuracy: 0.7047 - val_loss: 0.5131 - val_accuracy: 0.7555\n",
            "Epoch 2/100\n",
            "154/154 [==============================] - 1s 5ms/step - loss: 0.4737 - accuracy: 0.7765 - val_loss: 0.4523 - val_accuracy: 0.7875\n",
            "Epoch 3/100\n",
            "154/154 [==============================] - 1s 6ms/step - loss: 0.4349 - accuracy: 0.7931 - val_loss: 0.4355 - val_accuracy: 0.7903\n",
            "Epoch 4/100\n",
            "154/154 [==============================] - 1s 6ms/step - loss: 0.4269 - accuracy: 0.7933 - val_loss: 0.4323 - val_accuracy: 0.7939\n",
            "Epoch 5/100\n",
            "154/154 [==============================] - 1s 5ms/step - loss: 0.4213 - accuracy: 0.7954 - val_loss: 0.4315 - val_accuracy: 0.7960\n",
            "Epoch 6/100\n",
            "154/154 [==============================] - 1s 6ms/step - loss: 0.4200 - accuracy: 0.8037 - val_loss: 0.4334 - val_accuracy: 0.8010\n",
            "Epoch 7/100\n",
            "154/154 [==============================] - 1s 6ms/step - loss: 0.4165 - accuracy: 0.7992 - val_loss: 0.4284 - val_accuracy: 0.7996\n",
            "Epoch 8/100\n",
            "154/154 [==============================] - 1s 6ms/step - loss: 0.4182 - accuracy: 0.7956 - val_loss: 0.4279 - val_accuracy: 0.8017\n",
            "Epoch 9/100\n",
            "154/154 [==============================] - 1s 5ms/step - loss: 0.4170 - accuracy: 0.8061 - val_loss: 0.4299 - val_accuracy: 0.8038\n",
            "Epoch 10/100\n",
            "154/154 [==============================] - 1s 4ms/step - loss: 0.4198 - accuracy: 0.7972 - val_loss: 0.4334 - val_accuracy: 0.7989\n",
            "Epoch 11/100\n",
            "154/154 [==============================] - 0s 3ms/step - loss: 0.4167 - accuracy: 0.7992 - val_loss: 0.4262 - val_accuracy: 0.8060\n",
            "Epoch 12/100\n",
            "154/154 [==============================] - 0s 2ms/step - loss: 0.4163 - accuracy: 0.8019 - val_loss: 0.4302 - val_accuracy: 0.8038\n",
            "Epoch 13/100\n",
            "154/154 [==============================] - 0s 2ms/step - loss: 0.4174 - accuracy: 0.8004 - val_loss: 0.4274 - val_accuracy: 0.7996\n",
            "Epoch 14/100\n",
            "154/154 [==============================] - 0s 2ms/step - loss: 0.4180 - accuracy: 0.8019 - val_loss: 0.4303 - val_accuracy: 0.8045\n",
            "Epoch 15/100\n",
            "154/154 [==============================] - 0s 2ms/step - loss: 0.4108 - accuracy: 0.8053 - val_loss: 0.4221 - val_accuracy: 0.8053\n",
            "Epoch 16/100\n",
            "154/154 [==============================] - 0s 2ms/step - loss: 0.4123 - accuracy: 0.8051 - val_loss: 0.4253 - val_accuracy: 0.8017\n",
            "Epoch 17/100\n",
            "154/154 [==============================] - 0s 2ms/step - loss: 0.4135 - accuracy: 0.8047 - val_loss: 0.4273 - val_accuracy: 0.7989\n",
            "Epoch 18/100\n",
            "154/154 [==============================] - 0s 2ms/step - loss: 0.4106 - accuracy: 0.8065 - val_loss: 0.4224 - val_accuracy: 0.8038\n",
            "Epoch 19/100\n",
            "154/154 [==============================] - 0s 2ms/step - loss: 0.4113 - accuracy: 0.8082 - val_loss: 0.4250 - val_accuracy: 0.8010\n",
            "Epoch 20/100\n",
            "154/154 [==============================] - 0s 2ms/step - loss: 0.4072 - accuracy: 0.8041 - val_loss: 0.4238 - val_accuracy: 0.8010\n",
            "Epoch 21/100\n",
            "154/154 [==============================] - 0s 2ms/step - loss: 0.4099 - accuracy: 0.8023 - val_loss: 0.4275 - val_accuracy: 0.8024\n",
            "Epoch 22/100\n",
            "154/154 [==============================] - 0s 2ms/step - loss: 0.4093 - accuracy: 0.8096 - val_loss: 0.4246 - val_accuracy: 0.8024\n",
            "Epoch 23/100\n",
            "154/154 [==============================] - 0s 2ms/step - loss: 0.4112 - accuracy: 0.8025 - val_loss: 0.4217 - val_accuracy: 0.7996\n",
            "Epoch 24/100\n",
            "154/154 [==============================] - 0s 2ms/step - loss: 0.4078 - accuracy: 0.8043 - val_loss: 0.4239 - val_accuracy: 0.8017\n",
            "Epoch 25/100\n",
            "154/154 [==============================] - 0s 2ms/step - loss: 0.4099 - accuracy: 0.8041 - val_loss: 0.4261 - val_accuracy: 0.8017\n",
            "Epoch 26/100\n",
            "154/154 [==============================] - 0s 2ms/step - loss: 0.4105 - accuracy: 0.8053 - val_loss: 0.4245 - val_accuracy: 0.8010\n",
            "Epoch 27/100\n",
            "154/154 [==============================] - 0s 2ms/step - loss: 0.4086 - accuracy: 0.8019 - val_loss: 0.4241 - val_accuracy: 0.8017\n",
            "Epoch 28/100\n",
            "154/154 [==============================] - 0s 2ms/step - loss: 0.4049 - accuracy: 0.8061 - val_loss: 0.4266 - val_accuracy: 0.8031\n",
            "Epoch 29/100\n",
            "154/154 [==============================] - 0s 2ms/step - loss: 0.4053 - accuracy: 0.8063 - val_loss: 0.4260 - val_accuracy: 0.7953\n",
            "Epoch 30/100\n",
            "154/154 [==============================] - 0s 2ms/step - loss: 0.4100 - accuracy: 0.7994 - val_loss: 0.4253 - val_accuracy: 0.7996\n",
            "Epoch 31/100\n",
            "154/154 [==============================] - 0s 2ms/step - loss: 0.4080 - accuracy: 0.8043 - val_loss: 0.4251 - val_accuracy: 0.7974\n",
            "Epoch 32/100\n",
            "154/154 [==============================] - 0s 2ms/step - loss: 0.4065 - accuracy: 0.8055 - val_loss: 0.4295 - val_accuracy: 0.7960\n",
            "Epoch 33/100\n",
            "154/154 [==============================] - 0s 2ms/step - loss: 0.4053 - accuracy: 0.8069 - val_loss: 0.4257 - val_accuracy: 0.7996\n",
            "Epoch 34/100\n",
            "154/154 [==============================] - 0s 2ms/step - loss: 0.4072 - accuracy: 0.8080 - val_loss: 0.4262 - val_accuracy: 0.7974\n",
            "Epoch 35/100\n",
            "154/154 [==============================] - 0s 2ms/step - loss: 0.4082 - accuracy: 0.8059 - val_loss: 0.4279 - val_accuracy: 0.7960\n",
            "Epoch 36/100\n",
            "154/154 [==============================] - 0s 2ms/step - loss: 0.4057 - accuracy: 0.8067 - val_loss: 0.4281 - val_accuracy: 0.8045\n",
            "Epoch 37/100\n",
            "154/154 [==============================] - 0s 2ms/step - loss: 0.4072 - accuracy: 0.8084 - val_loss: 0.4241 - val_accuracy: 0.7989\n",
            "Epoch 38/100\n",
            "154/154 [==============================] - 0s 2ms/step - loss: 0.4039 - accuracy: 0.8088 - val_loss: 0.4269 - val_accuracy: 0.7974\n",
            "Epoch 39/100\n",
            "154/154 [==============================] - 0s 2ms/step - loss: 0.4066 - accuracy: 0.8090 - val_loss: 0.4313 - val_accuracy: 0.8003\n",
            "Epoch 40/100\n",
            "154/154 [==============================] - 0s 2ms/step - loss: 0.4074 - accuracy: 0.8074 - val_loss: 0.4323 - val_accuracy: 0.8003\n",
            "Epoch 41/100\n",
            "154/154 [==============================] - 0s 2ms/step - loss: 0.4043 - accuracy: 0.8053 - val_loss: 0.4290 - val_accuracy: 0.7932\n",
            "Epoch 42/100\n",
            "154/154 [==============================] - 0s 2ms/step - loss: 0.4047 - accuracy: 0.8104 - val_loss: 0.4273 - val_accuracy: 0.7974\n",
            "Epoch 43/100\n",
            "154/154 [==============================] - 0s 2ms/step - loss: 0.4071 - accuracy: 0.8090 - val_loss: 0.4290 - val_accuracy: 0.7967\n",
            "Epoch 44/100\n",
            "154/154 [==============================] - 0s 2ms/step - loss: 0.4024 - accuracy: 0.8106 - val_loss: 0.4249 - val_accuracy: 0.7982\n",
            "Epoch 45/100\n",
            "154/154 [==============================] - 0s 2ms/step - loss: 0.4040 - accuracy: 0.8114 - val_loss: 0.4288 - val_accuracy: 0.7960\n",
            "Epoch 46/100\n",
            "154/154 [==============================] - 0s 2ms/step - loss: 0.4036 - accuracy: 0.8051 - val_loss: 0.4300 - val_accuracy: 0.7989\n",
            "Epoch 47/100\n",
            "154/154 [==============================] - 0s 2ms/step - loss: 0.4026 - accuracy: 0.8128 - val_loss: 0.4265 - val_accuracy: 0.7946\n",
            "Epoch 48/100\n",
            "154/154 [==============================] - 0s 2ms/step - loss: 0.4039 - accuracy: 0.8080 - val_loss: 0.4302 - val_accuracy: 0.7982\n",
            "Epoch 49/100\n",
            "154/154 [==============================] - 0s 2ms/step - loss: 0.4044 - accuracy: 0.8088 - val_loss: 0.4279 - val_accuracy: 0.7982\n",
            "Epoch 50/100\n",
            "154/154 [==============================] - 0s 2ms/step - loss: 0.4022 - accuracy: 0.8084 - val_loss: 0.4324 - val_accuracy: 0.7989\n",
            "Epoch 51/100\n",
            "154/154 [==============================] - 0s 2ms/step - loss: 0.4039 - accuracy: 0.8055 - val_loss: 0.4283 - val_accuracy: 0.7953\n",
            "Epoch 52/100\n",
            "154/154 [==============================] - 0s 2ms/step - loss: 0.4037 - accuracy: 0.8100 - val_loss: 0.4297 - val_accuracy: 0.8003\n",
            "Epoch 53/100\n",
            "154/154 [==============================] - 0s 2ms/step - loss: 0.4024 - accuracy: 0.8084 - val_loss: 0.4274 - val_accuracy: 0.7974\n",
            "Epoch 54/100\n",
            "154/154 [==============================] - 0s 2ms/step - loss: 0.4032 - accuracy: 0.8084 - val_loss: 0.4344 - val_accuracy: 0.7960\n",
            "Epoch 55/100\n",
            "154/154 [==============================] - 0s 2ms/step - loss: 0.4058 - accuracy: 0.8015 - val_loss: 0.4316 - val_accuracy: 0.7996\n",
            "Epoch 56/100\n",
            "154/154 [==============================] - 0s 2ms/step - loss: 0.4012 - accuracy: 0.8080 - val_loss: 0.4305 - val_accuracy: 0.7946\n",
            "Epoch 57/100\n",
            "154/154 [==============================] - 0s 2ms/step - loss: 0.4015 - accuracy: 0.8080 - val_loss: 0.4302 - val_accuracy: 0.7989\n",
            "Epoch 58/100\n",
            "154/154 [==============================] - 0s 2ms/step - loss: 0.4039 - accuracy: 0.8086 - val_loss: 0.4286 - val_accuracy: 0.7960\n",
            "Epoch 59/100\n",
            "154/154 [==============================] - 0s 2ms/step - loss: 0.4024 - accuracy: 0.8086 - val_loss: 0.4291 - val_accuracy: 0.8038\n",
            "Epoch 60/100\n",
            "154/154 [==============================] - 0s 2ms/step - loss: 0.4029 - accuracy: 0.8092 - val_loss: 0.4323 - val_accuracy: 0.7996\n",
            "Epoch 61/100\n",
            "154/154 [==============================] - 0s 2ms/step - loss: 0.4028 - accuracy: 0.8078 - val_loss: 0.4363 - val_accuracy: 0.7989\n",
            "Epoch 62/100\n",
            "154/154 [==============================] - 0s 2ms/step - loss: 0.4007 - accuracy: 0.8082 - val_loss: 0.4295 - val_accuracy: 0.7953\n",
            "Epoch 63/100\n",
            "154/154 [==============================] - 0s 2ms/step - loss: 0.4047 - accuracy: 0.8092 - val_loss: 0.4322 - val_accuracy: 0.7989\n",
            "Epoch 64/100\n",
            "154/154 [==============================] - 0s 2ms/step - loss: 0.4016 - accuracy: 0.8106 - val_loss: 0.4296 - val_accuracy: 0.8045\n",
            "Epoch 65/100\n",
            "154/154 [==============================] - 0s 2ms/step - loss: 0.4029 - accuracy: 0.8116 - val_loss: 0.4293 - val_accuracy: 0.8003\n",
            "Epoch 66/100\n",
            "154/154 [==============================] - 0s 2ms/step - loss: 0.4057 - accuracy: 0.8061 - val_loss: 0.4306 - val_accuracy: 0.7996\n",
            "Epoch 67/100\n",
            "154/154 [==============================] - 0s 2ms/step - loss: 0.4027 - accuracy: 0.8120 - val_loss: 0.4330 - val_accuracy: 0.7996\n",
            "Epoch 68/100\n",
            "154/154 [==============================] - 0s 2ms/step - loss: 0.4029 - accuracy: 0.8086 - val_loss: 0.4338 - val_accuracy: 0.8003\n",
            "Epoch 69/100\n",
            "154/154 [==============================] - 0s 2ms/step - loss: 0.4032 - accuracy: 0.8063 - val_loss: 0.4293 - val_accuracy: 0.8024\n",
            "Epoch 70/100\n",
            "154/154 [==============================] - 0s 2ms/step - loss: 0.3999 - accuracy: 0.8086 - val_loss: 0.4304 - val_accuracy: 0.8003\n",
            "Epoch 71/100\n",
            "154/154 [==============================] - 0s 2ms/step - loss: 0.4004 - accuracy: 0.8043 - val_loss: 0.4330 - val_accuracy: 0.8031\n",
            "Epoch 72/100\n",
            "154/154 [==============================] - 0s 2ms/step - loss: 0.4001 - accuracy: 0.8094 - val_loss: 0.4307 - val_accuracy: 0.8024\n",
            "Epoch 73/100\n",
            "154/154 [==============================] - 0s 2ms/step - loss: 0.4009 - accuracy: 0.8100 - val_loss: 0.4299 - val_accuracy: 0.8017\n",
            "Epoch 74/100\n",
            "154/154 [==============================] - 0s 2ms/step - loss: 0.4005 - accuracy: 0.8104 - val_loss: 0.4378 - val_accuracy: 0.7967\n",
            "Epoch 75/100\n",
            "154/154 [==============================] - 0s 2ms/step - loss: 0.3993 - accuracy: 0.8092 - val_loss: 0.4359 - val_accuracy: 0.7989\n",
            "Epoch 76/100\n",
            "154/154 [==============================] - 0s 2ms/step - loss: 0.4032 - accuracy: 0.8110 - val_loss: 0.4311 - val_accuracy: 0.7996\n",
            "Epoch 77/100\n",
            "154/154 [==============================] - 0s 2ms/step - loss: 0.4014 - accuracy: 0.8065 - val_loss: 0.4313 - val_accuracy: 0.7974\n",
            "Epoch 78/100\n",
            "154/154 [==============================] - 0s 2ms/step - loss: 0.4010 - accuracy: 0.8082 - val_loss: 0.4291 - val_accuracy: 0.7967\n",
            "Epoch 79/100\n",
            "154/154 [==============================] - 0s 2ms/step - loss: 0.4000 - accuracy: 0.8130 - val_loss: 0.4311 - val_accuracy: 0.7967\n",
            "Epoch 80/100\n",
            "154/154 [==============================] - 0s 2ms/step - loss: 0.3973 - accuracy: 0.8112 - val_loss: 0.4313 - val_accuracy: 0.8003\n",
            "Epoch 81/100\n",
            "154/154 [==============================] - 0s 2ms/step - loss: 0.4010 - accuracy: 0.8090 - val_loss: 0.4327 - val_accuracy: 0.7996\n",
            "Epoch 82/100\n",
            "154/154 [==============================] - 0s 2ms/step - loss: 0.3976 - accuracy: 0.8100 - val_loss: 0.4355 - val_accuracy: 0.8003\n",
            "Epoch 83/100\n",
            "154/154 [==============================] - 0s 2ms/step - loss: 0.3979 - accuracy: 0.8116 - val_loss: 0.4340 - val_accuracy: 0.7946\n",
            "Epoch 84/100\n",
            "154/154 [==============================] - 0s 2ms/step - loss: 0.4013 - accuracy: 0.8078 - val_loss: 0.4320 - val_accuracy: 0.8003\n",
            "Epoch 85/100\n",
            "154/154 [==============================] - 0s 2ms/step - loss: 0.3983 - accuracy: 0.8120 - val_loss: 0.4409 - val_accuracy: 0.8003\n",
            "Epoch 86/100\n",
            "154/154 [==============================] - 0s 2ms/step - loss: 0.4040 - accuracy: 0.8096 - val_loss: 0.4307 - val_accuracy: 0.8003\n",
            "Epoch 87/100\n",
            "154/154 [==============================] - 0s 2ms/step - loss: 0.3992 - accuracy: 0.8114 - val_loss: 0.4313 - val_accuracy: 0.8024\n",
            "Epoch 88/100\n",
            "154/154 [==============================] - 0s 2ms/step - loss: 0.4018 - accuracy: 0.8080 - val_loss: 0.4323 - val_accuracy: 0.8010\n",
            "Epoch 89/100\n",
            "154/154 [==============================] - 0s 2ms/step - loss: 0.4000 - accuracy: 0.8100 - val_loss: 0.4305 - val_accuracy: 0.7974\n",
            "Epoch 90/100\n",
            "154/154 [==============================] - 0s 2ms/step - loss: 0.3972 - accuracy: 0.8100 - val_loss: 0.4335 - val_accuracy: 0.8031\n",
            "Epoch 91/100\n",
            "154/154 [==============================] - 0s 2ms/step - loss: 0.4025 - accuracy: 0.8078 - val_loss: 0.4331 - val_accuracy: 0.8017\n",
            "Epoch 92/100\n",
            "154/154 [==============================] - 0s 2ms/step - loss: 0.4011 - accuracy: 0.8106 - val_loss: 0.4343 - val_accuracy: 0.7982\n",
            "Epoch 93/100\n",
            "154/154 [==============================] - 0s 2ms/step - loss: 0.4052 - accuracy: 0.8037 - val_loss: 0.4333 - val_accuracy: 0.7974\n",
            "Epoch 94/100\n",
            "154/154 [==============================] - 0s 2ms/step - loss: 0.4016 - accuracy: 0.8132 - val_loss: 0.4329 - val_accuracy: 0.8010\n",
            "Epoch 95/100\n",
            "154/154 [==============================] - 0s 2ms/step - loss: 0.3994 - accuracy: 0.8147 - val_loss: 0.4375 - val_accuracy: 0.8010\n",
            "Epoch 96/100\n",
            "154/154 [==============================] - 0s 2ms/step - loss: 0.4044 - accuracy: 0.8035 - val_loss: 0.4318 - val_accuracy: 0.7989\n",
            "Epoch 97/100\n",
            "154/154 [==============================] - 0s 2ms/step - loss: 0.4016 - accuracy: 0.8090 - val_loss: 0.4317 - val_accuracy: 0.8010\n",
            "Epoch 98/100\n",
            "154/154 [==============================] - 0s 2ms/step - loss: 0.3970 - accuracy: 0.8147 - val_loss: 0.4333 - val_accuracy: 0.7974\n",
            "Epoch 99/100\n",
            "154/154 [==============================] - 0s 2ms/step - loss: 0.3998 - accuracy: 0.8084 - val_loss: 0.4308 - val_accuracy: 0.7974\n",
            "Epoch 100/100\n",
            "154/154 [==============================] - 0s 2ms/step - loss: 0.4009 - accuracy: 0.8116 - val_loss: 0.4353 - val_accuracy: 0.8003\n"
          ]
        }
      ]
    },
    {
      "cell_type": "markdown",
      "source": [
        "### Model Evaluation"
      ],
      "metadata": {
        "id": "JKxo-kPfCPdx"
      }
    },
    {
      "cell_type": "code",
      "source": [
        "metrics = pd.DataFrame(history.history)\n",
        "metrics.head()"
      ],
      "metadata": {
        "colab": {
          "base_uri": "https://localhost:8080/",
          "height": 206
        },
        "id": "jbmWr7nQuFLM",
        "outputId": "bc246ad6-e7c0-4baa-e898-9f495bad5827"
      },
      "execution_count": 39,
      "outputs": [
        {
          "output_type": "execute_result",
          "data": {
            "text/plain": [
              "       loss  accuracy  val_loss  val_accuracy\n",
              "0  0.603499  0.704735  0.513111      0.755508\n",
              "1  0.473691  0.776468  0.452309      0.787491\n",
              "2  0.434933  0.793131  0.435543      0.790334\n",
              "3  0.426944  0.793335  0.432321      0.793888\n",
              "4  0.421278  0.795367  0.431484      0.796020"
            ],
            "text/html": [
              "\n",
              "  <div id=\"df-97589f66-771d-4f5b-9db0-32186bc431f9\">\n",
              "    <div class=\"colab-df-container\">\n",
              "      <div>\n",
              "<style scoped>\n",
              "    .dataframe tbody tr th:only-of-type {\n",
              "        vertical-align: middle;\n",
              "    }\n",
              "\n",
              "    .dataframe tbody tr th {\n",
              "        vertical-align: top;\n",
              "    }\n",
              "\n",
              "    .dataframe thead th {\n",
              "        text-align: right;\n",
              "    }\n",
              "</style>\n",
              "<table border=\"1\" class=\"dataframe\">\n",
              "  <thead>\n",
              "    <tr style=\"text-align: right;\">\n",
              "      <th></th>\n",
              "      <th>loss</th>\n",
              "      <th>accuracy</th>\n",
              "      <th>val_loss</th>\n",
              "      <th>val_accuracy</th>\n",
              "    </tr>\n",
              "  </thead>\n",
              "  <tbody>\n",
              "    <tr>\n",
              "      <th>0</th>\n",
              "      <td>0.603499</td>\n",
              "      <td>0.704735</td>\n",
              "      <td>0.513111</td>\n",
              "      <td>0.755508</td>\n",
              "    </tr>\n",
              "    <tr>\n",
              "      <th>1</th>\n",
              "      <td>0.473691</td>\n",
              "      <td>0.776468</td>\n",
              "      <td>0.452309</td>\n",
              "      <td>0.787491</td>\n",
              "    </tr>\n",
              "    <tr>\n",
              "      <th>2</th>\n",
              "      <td>0.434933</td>\n",
              "      <td>0.793131</td>\n",
              "      <td>0.435543</td>\n",
              "      <td>0.790334</td>\n",
              "    </tr>\n",
              "    <tr>\n",
              "      <th>3</th>\n",
              "      <td>0.426944</td>\n",
              "      <td>0.793335</td>\n",
              "      <td>0.432321</td>\n",
              "      <td>0.793888</td>\n",
              "    </tr>\n",
              "    <tr>\n",
              "      <th>4</th>\n",
              "      <td>0.421278</td>\n",
              "      <td>0.795367</td>\n",
              "      <td>0.431484</td>\n",
              "      <td>0.796020</td>\n",
              "    </tr>\n",
              "  </tbody>\n",
              "</table>\n",
              "</div>\n",
              "      <button class=\"colab-df-convert\" onclick=\"convertToInteractive('df-97589f66-771d-4f5b-9db0-32186bc431f9')\"\n",
              "              title=\"Convert this dataframe to an interactive table.\"\n",
              "              style=\"display:none;\">\n",
              "        \n",
              "  <svg xmlns=\"http://www.w3.org/2000/svg\" height=\"24px\"viewBox=\"0 0 24 24\"\n",
              "       width=\"24px\">\n",
              "    <path d=\"M0 0h24v24H0V0z\" fill=\"none\"/>\n",
              "    <path d=\"M18.56 5.44l.94 2.06.94-2.06 2.06-.94-2.06-.94-.94-2.06-.94 2.06-2.06.94zm-11 1L8.5 8.5l.94-2.06 2.06-.94-2.06-.94L8.5 2.5l-.94 2.06-2.06.94zm10 10l.94 2.06.94-2.06 2.06-.94-2.06-.94-.94-2.06-.94 2.06-2.06.94z\"/><path d=\"M17.41 7.96l-1.37-1.37c-.4-.4-.92-.59-1.43-.59-.52 0-1.04.2-1.43.59L10.3 9.45l-7.72 7.72c-.78.78-.78 2.05 0 2.83L4 21.41c.39.39.9.59 1.41.59.51 0 1.02-.2 1.41-.59l7.78-7.78 2.81-2.81c.8-.78.8-2.07 0-2.86zM5.41 20L4 18.59l7.72-7.72 1.47 1.35L5.41 20z\"/>\n",
              "  </svg>\n",
              "      </button>\n",
              "      \n",
              "  <style>\n",
              "    .colab-df-container {\n",
              "      display:flex;\n",
              "      flex-wrap:wrap;\n",
              "      gap: 12px;\n",
              "    }\n",
              "\n",
              "    .colab-df-convert {\n",
              "      background-color: #E8F0FE;\n",
              "      border: none;\n",
              "      border-radius: 50%;\n",
              "      cursor: pointer;\n",
              "      display: none;\n",
              "      fill: #1967D2;\n",
              "      height: 32px;\n",
              "      padding: 0 0 0 0;\n",
              "      width: 32px;\n",
              "    }\n",
              "\n",
              "    .colab-df-convert:hover {\n",
              "      background-color: #E2EBFA;\n",
              "      box-shadow: 0px 1px 2px rgba(60, 64, 67, 0.3), 0px 1px 3px 1px rgba(60, 64, 67, 0.15);\n",
              "      fill: #174EA6;\n",
              "    }\n",
              "\n",
              "    [theme=dark] .colab-df-convert {\n",
              "      background-color: #3B4455;\n",
              "      fill: #D2E3FC;\n",
              "    }\n",
              "\n",
              "    [theme=dark] .colab-df-convert:hover {\n",
              "      background-color: #434B5C;\n",
              "      box-shadow: 0px 1px 3px 1px rgba(0, 0, 0, 0.15);\n",
              "      filter: drop-shadow(0px 1px 2px rgba(0, 0, 0, 0.3));\n",
              "      fill: #FFFFFF;\n",
              "    }\n",
              "  </style>\n",
              "\n",
              "      <script>\n",
              "        const buttonEl =\n",
              "          document.querySelector('#df-97589f66-771d-4f5b-9db0-32186bc431f9 button.colab-df-convert');\n",
              "        buttonEl.style.display =\n",
              "          google.colab.kernel.accessAllowed ? 'block' : 'none';\n",
              "\n",
              "        async function convertToInteractive(key) {\n",
              "          const element = document.querySelector('#df-97589f66-771d-4f5b-9db0-32186bc431f9');\n",
              "          const dataTable =\n",
              "            await google.colab.kernel.invokeFunction('convertToInteractive',\n",
              "                                                     [key], {});\n",
              "          if (!dataTable) return;\n",
              "\n",
              "          const docLinkHtml = 'Like what you see? Visit the ' +\n",
              "            '<a target=\"_blank\" href=https://colab.research.google.com/notebooks/data_table.ipynb>data table notebook</a>'\n",
              "            + ' to learn more about interactive tables.';\n",
              "          element.innerHTML = '';\n",
              "          dataTable['output_type'] = 'display_data';\n",
              "          await google.colab.output.renderOutput(dataTable, element);\n",
              "          const docLink = document.createElement('div');\n",
              "          docLink.innerHTML = docLinkHtml;\n",
              "          element.appendChild(docLink);\n",
              "        }\n",
              "      </script>\n",
              "    </div>\n",
              "  </div>\n",
              "  "
            ]
          },
          "metadata": {},
          "execution_count": 39
        }
      ]
    },
    {
      "cell_type": "code",
      "source": [
        "metrics[['loss','val_loss']].plot();"
      ],
      "metadata": {
        "colab": {
          "base_uri": "https://localhost:8080/",
          "height": 265
        },
        "id": "owOchhhNt6bw",
        "outputId": "dbd455c5-bc4c-431b-f044-e85e8aab95c0"
      },
      "execution_count": 40,
      "outputs": [
        {
          "output_type": "display_data",
          "data": {
            "text/plain": [
              "<Figure size 432x288 with 1 Axes>"
            ],
            "image/png": "[encoded data removed]"
          },
          "metadata": {
            "needs_background": "light"
          }
        }
      ]
    },
    {
      "cell_type": "code",
      "source": [
        "metrics[['accuracy','val_accuracy']].plot();"
      ],
      "metadata": {
        "colab": {
          "base_uri": "https://localhost:8080/",
          "height": 269
        },
        "id": "LesZkQXBt663",
        "outputId": "72b3ea71-a48d-4f3b-8572-769ddbdd547f"
      },
      "execution_count": 41,
      "outputs": [
        {
          "output_type": "display_data",
          "data": {
            "text/plain": [
              "<Figure size 432x288 with 1 Axes>"
            ],
            "image/png": "[encoded data removed]"
          },
          "metadata": {
            "needs_background": "light"
          }
        }
      ]
    },
    {
      "cell_type": "markdown",
      "source": [
        "## Functional API"
      ],
      "metadata": {
        "id": "Yumt8HnhCSRN"
      }
    },
    {
      "cell_type": "markdown",
      "source": [
        "### Model Definition"
      ],
      "metadata": {
        "id": "NL_M5rJBCW_K"
      }
    },
    {
      "cell_type": "code",
      "source": [
        "df.shape"
      ],
      "metadata": {
        "colab": {
          "base_uri": "https://localhost:8080/"
        },
        "id": "6Utc7JyKqaia",
        "outputId": "46d13796-37a5-4229-f980-5d873dbf5d1b"
      },
      "execution_count": 42,
      "outputs": [
        {
          "output_type": "execute_result",
          "data": {
            "text/plain": [
              "(7032, 20)"
            ]
          },
          "metadata": {},
          "execution_count": 42
        }
      ]
    },
    {
      "cell_type": "code",
      "source": [
        "data_in = Input(shape=(38,))\n",
        "hidden_1 = Dense(10, activation='relu')(data_in)\n",
        "output_layer = Dense (1, activation='sigmoid')(hidden_1)"
      ],
      "metadata": {
        "id": "sIEIAwbVnC_c"
      },
      "execution_count": 43,
      "outputs": []
    },
    {
      "cell_type": "code",
      "source": [
        "model = Model(inputs= data_in, outputs=output_layer)"
      ],
      "metadata": {
        "id": "EQigr6rnqjNC"
      },
      "execution_count": 44,
      "outputs": []
    },
    {
      "cell_type": "code",
      "source": [
        "model.summary()"
      ],
      "metadata": {
        "colab": {
          "base_uri": "https://localhost:8080/"
        },
        "id": "-JX9JAvGqxep",
        "outputId": "c63afb00-55fa-458a-e08d-2bb5e97132de"
      },
      "execution_count": 45,
      "outputs": [
        {
          "output_type": "stream",
          "name": "stdout",
          "text": [
            "Model: \"model\"\n",
            "_________________________________________________________________\n",
            " Layer (type)                Output Shape              Param #   \n",
            "=================================================================\n",
            " input_1 (InputLayer)        [(None, 38)]              0         \n",
            "                                                                 \n",
            " dense_2 (Dense)             (None, 10)                390       \n",
            "                                                                 \n",
            " dense_3 (Dense)             (None, 1)                 11        \n",
            "                                                                 \n",
            "=================================================================\n",
            "Total params: 401\n",
            "Trainable params: 401\n",
            "Non-trainable params: 0\n",
            "_________________________________________________________________\n"
          ]
        }
      ]
    },
    {
      "cell_type": "code",
      "source": [
        "plot_model(model, show_shapes= True)"
      ],
      "metadata": {
        "colab": {
          "base_uri": "https://localhost:8080/",
          "height": 312
        },
        "id": "gZoj6zV-qyiR",
        "outputId": "6663159f-9630-4ca6-9240-8813d04909b4"
      },
      "execution_count": 46,
      "outputs": [
        {
          "output_type": "execute_result",
          "data": {
            "text/plain": [
              "<IPython.core.display.Image object>"
            ],
            "image/png": "[encoded data removed]"
          },
          "metadata": {},
          "execution_count": 46
        }
      ]
    },
    {
      "cell_type": "markdown",
      "source": [
        "### Model Training"
      ],
      "metadata": {
        "id": "HdqgO2-yq78f"
      }
    },
    {
      "cell_type": "code",
      "source": [
        "model.compile(loss='binary_crossentropy',\n",
        "              optimizer='adam',\n",
        "              metrics=['accuracy'])"
      ],
      "metadata": {
        "id": "hbnc01-Jq7wQ"
      },
      "execution_count": 47,
      "outputs": []
    },
    {
      "cell_type": "code",
      "source": [
        "history_func = model.fit(X_train_trf,y_train, epochs=100, validation_data=(X_val_trf,y_val))"
      ],
      "metadata": {
        "colab": {
          "base_uri": "https://localhost:8080/"
        },
        "id": "rje2ecwGq1Xw",
        "outputId": "20a3a9ca-894a-4bc2-f638-c0562b6ebc6a"
      },
      "execution_count": 48,
      "outputs": [
        {
          "output_type": "stream",
          "name": "stdout",
          "text": [
            "Epoch 1/100\n",
            "154/154 [==============================] - 1s 3ms/step - loss: 0.6234 - accuracy: 0.6554 - val_loss: 0.5253 - val_accuracy: 0.7406\n",
            "Epoch 2/100\n",
            "154/154 [==============================] - 0s 2ms/step - loss: 0.4779 - accuracy: 0.7612 - val_loss: 0.4600 - val_accuracy: 0.7797\n",
            "Epoch 3/100\n",
            "154/154 [==============================] - 0s 2ms/step - loss: 0.4359 - accuracy: 0.7874 - val_loss: 0.4366 - val_accuracy: 0.7989\n",
            "Epoch 4/100\n",
            "154/154 [==============================] - 0s 2ms/step - loss: 0.4238 - accuracy: 0.7962 - val_loss: 0.4290 - val_accuracy: 0.8038\n",
            "Epoch 5/100\n",
            "154/154 [==============================] - 0s 2ms/step - loss: 0.4189 - accuracy: 0.8041 - val_loss: 0.4265 - val_accuracy: 0.8003\n",
            "Epoch 6/100\n",
            "154/154 [==============================] - 0s 2ms/step - loss: 0.4159 - accuracy: 0.8067 - val_loss: 0.4266 - val_accuracy: 0.7982\n",
            "Epoch 7/100\n",
            "154/154 [==============================] - 0s 2ms/step - loss: 0.4146 - accuracy: 0.8039 - val_loss: 0.4270 - val_accuracy: 0.8010\n",
            "Epoch 8/100\n",
            "154/154 [==============================] - 0s 2ms/step - loss: 0.4135 - accuracy: 0.8086 - val_loss: 0.4250 - val_accuracy: 0.8003\n",
            "Epoch 9/100\n",
            "154/154 [==============================] - 0s 2ms/step - loss: 0.4121 - accuracy: 0.8080 - val_loss: 0.4250 - val_accuracy: 0.7996\n",
            "Epoch 10/100\n",
            "154/154 [==============================] - 0s 2ms/step - loss: 0.4118 - accuracy: 0.8082 - val_loss: 0.4250 - val_accuracy: 0.8010\n",
            "Epoch 11/100\n",
            "154/154 [==============================] - 0s 2ms/step - loss: 0.4109 - accuracy: 0.8082 - val_loss: 0.4243 - val_accuracy: 0.7989\n",
            "Epoch 12/100\n",
            "154/154 [==============================] - 0s 2ms/step - loss: 0.4113 - accuracy: 0.8067 - val_loss: 0.4245 - val_accuracy: 0.7989\n",
            "Epoch 13/100\n",
            "154/154 [==============================] - 0s 2ms/step - loss: 0.4100 - accuracy: 0.8082 - val_loss: 0.4246 - val_accuracy: 0.7996\n",
            "Epoch 14/100\n",
            "154/154 [==============================] - 0s 2ms/step - loss: 0.4092 - accuracy: 0.8086 - val_loss: 0.4253 - val_accuracy: 0.8010\n",
            "Epoch 15/100\n",
            "154/154 [==============================] - 0s 2ms/step - loss: 0.4098 - accuracy: 0.8088 - val_loss: 0.4245 - val_accuracy: 0.7960\n",
            "Epoch 16/100\n",
            "154/154 [==============================] - 0s 2ms/step - loss: 0.4087 - accuracy: 0.8102 - val_loss: 0.4247 - val_accuracy: 0.7989\n",
            "Epoch 17/100\n",
            "154/154 [==============================] - 0s 2ms/step - loss: 0.4084 - accuracy: 0.8102 - val_loss: 0.4240 - val_accuracy: 0.7989\n",
            "Epoch 18/100\n",
            "154/154 [==============================] - 0s 2ms/step - loss: 0.4080 - accuracy: 0.8100 - val_loss: 0.4243 - val_accuracy: 0.8003\n",
            "Epoch 19/100\n",
            "154/154 [==============================] - 0s 2ms/step - loss: 0.4078 - accuracy: 0.8094 - val_loss: 0.4239 - val_accuracy: 0.7974\n",
            "Epoch 20/100\n",
            "154/154 [==============================] - 0s 2ms/step - loss: 0.4075 - accuracy: 0.8094 - val_loss: 0.4243 - val_accuracy: 0.7974\n",
            "Epoch 21/100\n",
            "154/154 [==============================] - 0s 2ms/step - loss: 0.4074 - accuracy: 0.8112 - val_loss: 0.4246 - val_accuracy: 0.8024\n",
            "Epoch 22/100\n",
            "154/154 [==============================] - 0s 2ms/step - loss: 0.4072 - accuracy: 0.8096 - val_loss: 0.4237 - val_accuracy: 0.8003\n",
            "Epoch 23/100\n",
            "154/154 [==============================] - 0s 2ms/step - loss: 0.4069 - accuracy: 0.8110 - val_loss: 0.4240 - val_accuracy: 0.7989\n",
            "Epoch 24/100\n",
            "154/154 [==============================] - 0s 2ms/step - loss: 0.4061 - accuracy: 0.8118 - val_loss: 0.4234 - val_accuracy: 0.7996\n",
            "Epoch 25/100\n",
            "154/154 [==============================] - 0s 2ms/step - loss: 0.4066 - accuracy: 0.8116 - val_loss: 0.4233 - val_accuracy: 0.8017\n",
            "Epoch 26/100\n",
            "154/154 [==============================] - 0s 2ms/step - loss: 0.4057 - accuracy: 0.8132 - val_loss: 0.4243 - val_accuracy: 0.8031\n",
            "Epoch 27/100\n",
            "154/154 [==============================] - 0s 2ms/step - loss: 0.4056 - accuracy: 0.8130 - val_loss: 0.4235 - val_accuracy: 0.8031\n",
            "Epoch 28/100\n",
            "154/154 [==============================] - 0s 2ms/step - loss: 0.4059 - accuracy: 0.8118 - val_loss: 0.4237 - val_accuracy: 0.8017\n",
            "Epoch 29/100\n",
            "154/154 [==============================] - 0s 2ms/step - loss: 0.4057 - accuracy: 0.8143 - val_loss: 0.4231 - val_accuracy: 0.8017\n",
            "Epoch 30/100\n",
            "154/154 [==============================] - 0s 2ms/step - loss: 0.4053 - accuracy: 0.8128 - val_loss: 0.4234 - val_accuracy: 0.8060\n",
            "Epoch 31/100\n",
            "154/154 [==============================] - 0s 2ms/step - loss: 0.4052 - accuracy: 0.8108 - val_loss: 0.4230 - val_accuracy: 0.8053\n",
            "Epoch 32/100\n",
            "154/154 [==============================] - 0s 2ms/step - loss: 0.4048 - accuracy: 0.8145 - val_loss: 0.4229 - val_accuracy: 0.8067\n",
            "Epoch 33/100\n",
            "154/154 [==============================] - 0s 2ms/step - loss: 0.4051 - accuracy: 0.8110 - val_loss: 0.4234 - val_accuracy: 0.8067\n",
            "Epoch 34/100\n",
            "154/154 [==============================] - 0s 2ms/step - loss: 0.4040 - accuracy: 0.8112 - val_loss: 0.4223 - val_accuracy: 0.8067\n",
            "Epoch 35/100\n",
            "154/154 [==============================] - 0s 2ms/step - loss: 0.4039 - accuracy: 0.8120 - val_loss: 0.4231 - val_accuracy: 0.8045\n",
            "Epoch 36/100\n",
            "154/154 [==============================] - 0s 2ms/step - loss: 0.4037 - accuracy: 0.8135 - val_loss: 0.4277 - val_accuracy: 0.7946\n",
            "Epoch 37/100\n",
            "154/154 [==============================] - 0s 2ms/step - loss: 0.4043 - accuracy: 0.8130 - val_loss: 0.4231 - val_accuracy: 0.8045\n",
            "Epoch 38/100\n",
            "154/154 [==============================] - 0s 2ms/step - loss: 0.4033 - accuracy: 0.8120 - val_loss: 0.4236 - val_accuracy: 0.8024\n",
            "Epoch 39/100\n",
            "154/154 [==============================] - 0s 2ms/step - loss: 0.4035 - accuracy: 0.8143 - val_loss: 0.4232 - val_accuracy: 0.8045\n",
            "Epoch 40/100\n",
            "154/154 [==============================] - 0s 2ms/step - loss: 0.4026 - accuracy: 0.8141 - val_loss: 0.4229 - val_accuracy: 0.8045\n",
            "Epoch 41/100\n",
            "154/154 [==============================] - 0s 2ms/step - loss: 0.4032 - accuracy: 0.8137 - val_loss: 0.4224 - val_accuracy: 0.8053\n",
            "Epoch 42/100\n",
            "154/154 [==============================] - 0s 2ms/step - loss: 0.4027 - accuracy: 0.8143 - val_loss: 0.4235 - val_accuracy: 0.8038\n",
            "Epoch 43/100\n",
            "154/154 [==============================] - 0s 2ms/step - loss: 0.4022 - accuracy: 0.8173 - val_loss: 0.4232 - val_accuracy: 0.8017\n",
            "Epoch 44/100\n",
            "154/154 [==============================] - 0s 2ms/step - loss: 0.4021 - accuracy: 0.8155 - val_loss: 0.4247 - val_accuracy: 0.8024\n",
            "Epoch 45/100\n",
            "154/154 [==============================] - 0s 2ms/step - loss: 0.4021 - accuracy: 0.8157 - val_loss: 0.4236 - val_accuracy: 0.7996\n",
            "Epoch 46/100\n",
            "154/154 [==============================] - 0s 2ms/step - loss: 0.4022 - accuracy: 0.8151 - val_loss: 0.4235 - val_accuracy: 0.8038\n",
            "Epoch 47/100\n",
            "154/154 [==============================] - 0s 2ms/step - loss: 0.4017 - accuracy: 0.8169 - val_loss: 0.4233 - val_accuracy: 0.8038\n",
            "Epoch 48/100\n",
            "154/154 [==============================] - 0s 2ms/step - loss: 0.4015 - accuracy: 0.8153 - val_loss: 0.4227 - val_accuracy: 0.8067\n",
            "Epoch 49/100\n",
            "154/154 [==============================] - 0s 2ms/step - loss: 0.4011 - accuracy: 0.8128 - val_loss: 0.4235 - val_accuracy: 0.8038\n",
            "Epoch 50/100\n",
            "154/154 [==============================] - 0s 2ms/step - loss: 0.4009 - accuracy: 0.8165 - val_loss: 0.4235 - val_accuracy: 0.8017\n",
            "Epoch 51/100\n",
            "154/154 [==============================] - 0s 2ms/step - loss: 0.4007 - accuracy: 0.8169 - val_loss: 0.4234 - val_accuracy: 0.8038\n",
            "Epoch 52/100\n",
            "154/154 [==============================] - 0s 2ms/step - loss: 0.4002 - accuracy: 0.8149 - val_loss: 0.4237 - val_accuracy: 0.8053\n",
            "Epoch 53/100\n",
            "154/154 [==============================] - 0s 2ms/step - loss: 0.4004 - accuracy: 0.8130 - val_loss: 0.4239 - val_accuracy: 0.8045\n",
            "Epoch 54/100\n",
            "154/154 [==============================] - 0s 2ms/step - loss: 0.3995 - accuracy: 0.8132 - val_loss: 0.4293 - val_accuracy: 0.7974\n",
            "Epoch 55/100\n",
            "154/154 [==============================] - 0s 2ms/step - loss: 0.4004 - accuracy: 0.8139 - val_loss: 0.4244 - val_accuracy: 0.8024\n",
            "Epoch 56/100\n",
            "154/154 [==============================] - 0s 2ms/step - loss: 0.3991 - accuracy: 0.8153 - val_loss: 0.4255 - val_accuracy: 0.8045\n",
            "Epoch 57/100\n",
            "154/154 [==============================] - 0s 2ms/step - loss: 0.4001 - accuracy: 0.8147 - val_loss: 0.4264 - val_accuracy: 0.7974\n",
            "Epoch 58/100\n",
            "154/154 [==============================] - 0s 2ms/step - loss: 0.3994 - accuracy: 0.8163 - val_loss: 0.4245 - val_accuracy: 0.8060\n",
            "Epoch 59/100\n",
            "154/154 [==============================] - 0s 2ms/step - loss: 0.3989 - accuracy: 0.8167 - val_loss: 0.4243 - val_accuracy: 0.8024\n",
            "Epoch 60/100\n",
            "154/154 [==============================] - 0s 2ms/step - loss: 0.3992 - accuracy: 0.8149 - val_loss: 0.4244 - val_accuracy: 0.8038\n",
            "Epoch 61/100\n",
            "154/154 [==============================] - 0s 2ms/step - loss: 0.3988 - accuracy: 0.8149 - val_loss: 0.4250 - val_accuracy: 0.8024\n",
            "Epoch 62/100\n",
            "154/154 [==============================] - 0s 2ms/step - loss: 0.3987 - accuracy: 0.8151 - val_loss: 0.4239 - val_accuracy: 0.8067\n",
            "Epoch 63/100\n",
            "154/154 [==============================] - 0s 2ms/step - loss: 0.3984 - accuracy: 0.8179 - val_loss: 0.4248 - val_accuracy: 0.8031\n",
            "Epoch 64/100\n",
            "154/154 [==============================] - 0s 2ms/step - loss: 0.3985 - accuracy: 0.8151 - val_loss: 0.4258 - val_accuracy: 0.8003\n",
            "Epoch 65/100\n",
            "154/154 [==============================] - 0s 2ms/step - loss: 0.3981 - accuracy: 0.8135 - val_loss: 0.4271 - val_accuracy: 0.7982\n",
            "Epoch 66/100\n",
            "154/154 [==============================] - 0s 2ms/step - loss: 0.3982 - accuracy: 0.8141 - val_loss: 0.4249 - val_accuracy: 0.8017\n",
            "Epoch 67/100\n",
            "154/154 [==============================] - 0s 2ms/step - loss: 0.3987 - accuracy: 0.8149 - val_loss: 0.4247 - val_accuracy: 0.8024\n",
            "Epoch 68/100\n",
            "154/154 [==============================] - 0s 2ms/step - loss: 0.3978 - accuracy: 0.8151 - val_loss: 0.4254 - val_accuracy: 0.8010\n",
            "Epoch 69/100\n",
            "154/154 [==============================] - 0s 2ms/step - loss: 0.3980 - accuracy: 0.8167 - val_loss: 0.4262 - val_accuracy: 0.8017\n",
            "Epoch 70/100\n",
            "154/154 [==============================] - 0s 2ms/step - loss: 0.3981 - accuracy: 0.8139 - val_loss: 0.4261 - val_accuracy: 0.8017\n",
            "Epoch 71/100\n",
            "154/154 [==============================] - 0s 2ms/step - loss: 0.3972 - accuracy: 0.8161 - val_loss: 0.4258 - val_accuracy: 0.8053\n",
            "Epoch 72/100\n",
            "154/154 [==============================] - 0s 2ms/step - loss: 0.3975 - accuracy: 0.8175 - val_loss: 0.4278 - val_accuracy: 0.7989\n",
            "Epoch 73/100\n",
            "154/154 [==============================] - 0s 2ms/step - loss: 0.3972 - accuracy: 0.8139 - val_loss: 0.4248 - val_accuracy: 0.7967\n",
            "Epoch 74/100\n",
            "154/154 [==============================] - 0s 2ms/step - loss: 0.3975 - accuracy: 0.8139 - val_loss: 0.4258 - val_accuracy: 0.8031\n",
            "Epoch 75/100\n",
            "154/154 [==============================] - 0s 2ms/step - loss: 0.3975 - accuracy: 0.8161 - val_loss: 0.4259 - val_accuracy: 0.8024\n",
            "Epoch 76/100\n",
            "154/154 [==============================] - 0s 2ms/step - loss: 0.3977 - accuracy: 0.8153 - val_loss: 0.4263 - val_accuracy: 0.8010\n",
            "Epoch 77/100\n",
            "154/154 [==============================] - 0s 2ms/step - loss: 0.3970 - accuracy: 0.8145 - val_loss: 0.4263 - val_accuracy: 0.8010\n",
            "Epoch 78/100\n",
            "154/154 [==============================] - 0s 2ms/step - loss: 0.3967 - accuracy: 0.8181 - val_loss: 0.4267 - val_accuracy: 0.8010\n",
            "Epoch 79/100\n",
            "154/154 [==============================] - 0s 2ms/step - loss: 0.3976 - accuracy: 0.8157 - val_loss: 0.4256 - val_accuracy: 0.8024\n",
            "Epoch 80/100\n",
            "154/154 [==============================] - 0s 2ms/step - loss: 0.3969 - accuracy: 0.8145 - val_loss: 0.4259 - val_accuracy: 0.8038\n",
            "Epoch 81/100\n",
            "154/154 [==============================] - 0s 2ms/step - loss: 0.3966 - accuracy: 0.8167 - val_loss: 0.4277 - val_accuracy: 0.7974\n",
            "Epoch 82/100\n",
            "154/154 [==============================] - 0s 2ms/step - loss: 0.3964 - accuracy: 0.8185 - val_loss: 0.4261 - val_accuracy: 0.8038\n",
            "Epoch 83/100\n",
            "154/154 [==============================] - 0s 2ms/step - loss: 0.3961 - accuracy: 0.8157 - val_loss: 0.4264 - val_accuracy: 0.8010\n",
            "Epoch 84/100\n",
            "154/154 [==============================] - 0s 2ms/step - loss: 0.3963 - accuracy: 0.8161 - val_loss: 0.4276 - val_accuracy: 0.7996\n",
            "Epoch 85/100\n",
            "154/154 [==============================] - 0s 2ms/step - loss: 0.3962 - accuracy: 0.8171 - val_loss: 0.4259 - val_accuracy: 0.8045\n",
            "Epoch 86/100\n",
            "154/154 [==============================] - 0s 2ms/step - loss: 0.3962 - accuracy: 0.8153 - val_loss: 0.4263 - val_accuracy: 0.8003\n",
            "Epoch 87/100\n",
            "154/154 [==============================] - 0s 2ms/step - loss: 0.3966 - accuracy: 0.8161 - val_loss: 0.4267 - val_accuracy: 0.8067\n",
            "Epoch 88/100\n",
            "154/154 [==============================] - 0s 2ms/step - loss: 0.3959 - accuracy: 0.8167 - val_loss: 0.4269 - val_accuracy: 0.8060\n",
            "Epoch 89/100\n",
            "154/154 [==============================] - 0s 2ms/step - loss: 0.3958 - accuracy: 0.8155 - val_loss: 0.4264 - val_accuracy: 0.8031\n",
            "Epoch 90/100\n",
            "154/154 [==============================] - 0s 2ms/step - loss: 0.3957 - accuracy: 0.8161 - val_loss: 0.4277 - val_accuracy: 0.8017\n",
            "Epoch 91/100\n",
            "154/154 [==============================] - 0s 2ms/step - loss: 0.3955 - accuracy: 0.8165 - val_loss: 0.4274 - val_accuracy: 0.8017\n",
            "Epoch 92/100\n",
            "154/154 [==============================] - 0s 2ms/step - loss: 0.3963 - accuracy: 0.8171 - val_loss: 0.4261 - val_accuracy: 0.8003\n",
            "Epoch 93/100\n",
            "154/154 [==============================] - 0s 2ms/step - loss: 0.3964 - accuracy: 0.8179 - val_loss: 0.4275 - val_accuracy: 0.8010\n",
            "Epoch 94/100\n",
            "154/154 [==============================] - 0s 2ms/step - loss: 0.3959 - accuracy: 0.8141 - val_loss: 0.4285 - val_accuracy: 0.8024\n",
            "Epoch 95/100\n",
            "154/154 [==============================] - 0s 2ms/step - loss: 0.3957 - accuracy: 0.8163 - val_loss: 0.4271 - val_accuracy: 0.7974\n",
            "Epoch 96/100\n",
            "154/154 [==============================] - 0s 2ms/step - loss: 0.3957 - accuracy: 0.8193 - val_loss: 0.4272 - val_accuracy: 0.8060\n",
            "Epoch 97/100\n",
            "154/154 [==============================] - 0s 2ms/step - loss: 0.3950 - accuracy: 0.8159 - val_loss: 0.4293 - val_accuracy: 0.8003\n",
            "Epoch 98/100\n",
            "154/154 [==============================] - 0s 2ms/step - loss: 0.3957 - accuracy: 0.8153 - val_loss: 0.4261 - val_accuracy: 0.8003\n",
            "Epoch 99/100\n",
            "154/154 [==============================] - 0s 2ms/step - loss: 0.3952 - accuracy: 0.8161 - val_loss: 0.4277 - val_accuracy: 0.8045\n",
            "Epoch 100/100\n",
            "154/154 [==============================] - 0s 2ms/step - loss: 0.3949 - accuracy: 0.8149 - val_loss: 0.4276 - val_accuracy: 0.8045\n"
          ]
        }
      ]
    },
    {
      "cell_type": "markdown",
      "source": [
        "### Model Evaluation"
      ],
      "metadata": {
        "id": "Yl0QRkE1rv3z"
      }
    },
    {
      "cell_type": "code",
      "source": [
        "y_pred =model.predict(X_val_trf)\n",
        "y_pred = np.where(y_pred<0.5,0,1).squeeze()\n",
        "print(classification_report(y_val, y_pred))"
      ],
      "metadata": {
        "colab": {
          "base_uri": "https://localhost:8080/"
        },
        "id": "qDkJ5XyprZ3o",
        "outputId": "03fe778a-05b1-4fa1-825b-41d7223e54ae"
      },
      "execution_count": 49,
      "outputs": [
        {
          "output_type": "stream",
          "name": "stdout",
          "text": [
            "              precision    recall  f1-score   support\n",
            "\n",
            "           0       0.84      0.90      0.87      1033\n",
            "           1       0.66      0.54      0.60       374\n",
            "\n",
            "    accuracy                           0.80      1407\n",
            "   macro avg       0.75      0.72      0.73      1407\n",
            "weighted avg       0.80      0.80      0.80      1407\n",
            "\n"
          ]
        }
      ]
    },
    {
      "cell_type": "markdown",
      "source": [
        "## Model Improvement using Smote"
      ],
      "metadata": {
        "id": "VPgTuzsM5WdS"
      }
    },
    {
      "cell_type": "code",
      "source": [
        "imba = SMOTE(random_state=21, sampling_strategy = 'minority')"
      ],
      "metadata": {
        "id": "6ANXNnXD6Dcz"
      },
      "execution_count": 50,
      "outputs": []
    },
    {
      "cell_type": "code",
      "source": [
        "X_train_oversampling, y_train_oversampling = imba.fit_resample(X_train_trf, y_train)"
      ],
      "metadata": {
        "id": "J4Qh7KjU64kq"
      },
      "execution_count": 51,
      "outputs": []
    },
    {
      "cell_type": "code",
      "source": [
        "y_train_oversampling.value_counts()"
      ],
      "metadata": {
        "colab": {
          "base_uri": "https://localhost:8080/"
        },
        "id": "59Ai3NSw6Tnn",
        "outputId": "a4f13bf7-bea6-4c21-fd05-feab71a9d2b3"
      },
      "execution_count": 52,
      "outputs": [
        {
          "output_type": "execute_result",
          "data": {
            "text/plain": [
              "1    3613\n",
              "0    3613\n",
              "Name: Churn, dtype: int64"
            ]
          },
          "metadata": {},
          "execution_count": 52
        }
      ]
    },
    {
      "cell_type": "markdown",
      "source": [
        "## Sequential API"
      ],
      "metadata": {
        "id": "K4PJrCMM7UnO"
      }
    },
    {
      "cell_type": "code",
      "source": [
        "model_imp_seq = tf.keras.Sequential([\n",
        "    tf.keras.layers.Dense(10, input_shape= (38,), activation= 'relu'),\n",
        "    keras.layers.BatchNormalization(),\n",
        "    tf.keras.layers.Dense(1, activation= 'sigmoid')     \n",
        "])"
      ],
      "metadata": {
        "id": "UNp8_6P87ULT"
      },
      "execution_count": 53,
      "outputs": []
    },
    {
      "cell_type": "code",
      "source": [
        "model_imp_seq.compile(optimizer= 'adam',\n",
        "             loss='binary_crossentropy',\n",
        "             metrics=['accuracy'])"
      ],
      "metadata": {
        "id": "ae9PcfIl7cUA"
      },
      "execution_count": 54,
      "outputs": []
    },
    {
      "cell_type": "code",
      "source": [
        "history_imp_seq = model_imp_seq.fit(X_train_oversampling, y_train_oversampling, epochs=100, validation_data=(X_val_trf, y_val))"
      ],
      "metadata": {
        "colab": {
          "base_uri": "https://localhost:8080/"
        },
        "id": "EvKL9amH7hF3",
        "outputId": "930c6aa0-f96c-4633-9e15-5ed28cc27022"
      },
      "execution_count": 55,
      "outputs": [
        {
          "output_type": "stream",
          "name": "stdout",
          "text": [
            "Epoch 1/100\n",
            "226/226 [==============================] - 2s 5ms/step - loss: 0.5261 - accuracy: 0.7373 - val_loss: 0.5441 - val_accuracy: 0.7349\n",
            "Epoch 2/100\n",
            "226/226 [==============================] - 0s 2ms/step - loss: 0.4851 - accuracy: 0.7665 - val_loss: 0.5229 - val_accuracy: 0.7456\n",
            "Epoch 3/100\n",
            "226/226 [==============================] - 1s 3ms/step - loss: 0.4762 - accuracy: 0.7739 - val_loss: 0.5105 - val_accuracy: 0.7441\n",
            "Epoch 4/100\n",
            "226/226 [==============================] - 1s 4ms/step - loss: 0.4722 - accuracy: 0.7773 - val_loss: 0.4918 - val_accuracy: 0.7555\n",
            "Epoch 5/100\n",
            "226/226 [==============================] - 0s 2ms/step - loss: 0.4734 - accuracy: 0.7776 - val_loss: 0.4985 - val_accuracy: 0.7555\n",
            "Epoch 6/100\n",
            "226/226 [==============================] - 0s 2ms/step - loss: 0.4701 - accuracy: 0.7795 - val_loss: 0.5066 - val_accuracy: 0.7491\n",
            "Epoch 7/100\n",
            "226/226 [==============================] - 0s 2ms/step - loss: 0.4650 - accuracy: 0.7789 - val_loss: 0.5055 - val_accuracy: 0.7548\n",
            "Epoch 8/100\n",
            "226/226 [==============================] - 0s 2ms/step - loss: 0.4687 - accuracy: 0.7790 - val_loss: 0.4864 - val_accuracy: 0.7669\n",
            "Epoch 9/100\n",
            "226/226 [==============================] - 0s 2ms/step - loss: 0.4620 - accuracy: 0.7851 - val_loss: 0.5098 - val_accuracy: 0.7441\n",
            "Epoch 10/100\n",
            "226/226 [==============================] - 0s 2ms/step - loss: 0.4634 - accuracy: 0.7807 - val_loss: 0.5018 - val_accuracy: 0.7555\n",
            "Epoch 11/100\n",
            "226/226 [==============================] - 0s 2ms/step - loss: 0.4600 - accuracy: 0.7836 - val_loss: 0.4981 - val_accuracy: 0.7598\n",
            "Epoch 12/100\n",
            "226/226 [==============================] - 0s 2ms/step - loss: 0.4595 - accuracy: 0.7858 - val_loss: 0.4992 - val_accuracy: 0.7612\n",
            "Epoch 13/100\n",
            "226/226 [==============================] - 0s 2ms/step - loss: 0.4590 - accuracy: 0.7808 - val_loss: 0.4916 - val_accuracy: 0.7640\n",
            "Epoch 14/100\n",
            "226/226 [==============================] - 0s 2ms/step - loss: 0.4575 - accuracy: 0.7822 - val_loss: 0.4984 - val_accuracy: 0.7626\n",
            "Epoch 15/100\n",
            "226/226 [==============================] - 0s 2ms/step - loss: 0.4538 - accuracy: 0.7843 - val_loss: 0.4989 - val_accuracy: 0.7640\n",
            "Epoch 16/100\n",
            "226/226 [==============================] - 0s 2ms/step - loss: 0.4555 - accuracy: 0.7809 - val_loss: 0.5033 - val_accuracy: 0.7605\n",
            "Epoch 17/100\n",
            "226/226 [==============================] - 0s 2ms/step - loss: 0.4541 - accuracy: 0.7863 - val_loss: 0.4904 - val_accuracy: 0.7676\n",
            "Epoch 18/100\n",
            "226/226 [==============================] - 0s 2ms/step - loss: 0.4525 - accuracy: 0.7916 - val_loss: 0.5127 - val_accuracy: 0.7612\n",
            "Epoch 19/100\n",
            "226/226 [==============================] - 0s 2ms/step - loss: 0.4523 - accuracy: 0.7876 - val_loss: 0.4978 - val_accuracy: 0.7683\n",
            "Epoch 20/100\n",
            "226/226 [==============================] - 0s 2ms/step - loss: 0.4483 - accuracy: 0.7903 - val_loss: 0.5202 - val_accuracy: 0.7534\n",
            "Epoch 21/100\n",
            "226/226 [==============================] - 0s 2ms/step - loss: 0.4548 - accuracy: 0.7837 - val_loss: 0.4983 - val_accuracy: 0.7683\n",
            "Epoch 22/100\n",
            "226/226 [==============================] - 0s 2ms/step - loss: 0.4547 - accuracy: 0.7829 - val_loss: 0.5131 - val_accuracy: 0.7512\n",
            "Epoch 23/100\n",
            "226/226 [==============================] - 0s 2ms/step - loss: 0.4548 - accuracy: 0.7878 - val_loss: 0.5151 - val_accuracy: 0.7541\n",
            "Epoch 24/100\n",
            "226/226 [==============================] - 0s 2ms/step - loss: 0.4511 - accuracy: 0.7861 - val_loss: 0.4956 - val_accuracy: 0.7619\n",
            "Epoch 25/100\n",
            "226/226 [==============================] - 0s 2ms/step - loss: 0.4467 - accuracy: 0.7916 - val_loss: 0.5104 - val_accuracy: 0.7619\n",
            "Epoch 26/100\n",
            "226/226 [==============================] - 0s 2ms/step - loss: 0.4472 - accuracy: 0.7919 - val_loss: 0.5161 - val_accuracy: 0.7541\n",
            "Epoch 27/100\n",
            "226/226 [==============================] - 0s 2ms/step - loss: 0.4540 - accuracy: 0.7883 - val_loss: 0.5096 - val_accuracy: 0.7605\n",
            "Epoch 28/100\n",
            "226/226 [==============================] - 0s 2ms/step - loss: 0.4483 - accuracy: 0.7851 - val_loss: 0.5104 - val_accuracy: 0.7576\n",
            "Epoch 29/100\n",
            "226/226 [==============================] - 0s 2ms/step - loss: 0.4479 - accuracy: 0.7902 - val_loss: 0.5035 - val_accuracy: 0.7598\n",
            "Epoch 30/100\n",
            "226/226 [==============================] - 0s 2ms/step - loss: 0.4467 - accuracy: 0.7932 - val_loss: 0.5170 - val_accuracy: 0.7505\n",
            "Epoch 31/100\n",
            "226/226 [==============================] - 0s 2ms/step - loss: 0.4474 - accuracy: 0.7896 - val_loss: 0.5105 - val_accuracy: 0.7555\n",
            "Epoch 32/100\n",
            "226/226 [==============================] - 0s 2ms/step - loss: 0.4477 - accuracy: 0.7913 - val_loss: 0.5027 - val_accuracy: 0.7655\n",
            "Epoch 33/100\n",
            "226/226 [==============================] - 0s 2ms/step - loss: 0.4465 - accuracy: 0.7896 - val_loss: 0.4969 - val_accuracy: 0.7626\n",
            "Epoch 34/100\n",
            "226/226 [==============================] - 0s 2ms/step - loss: 0.4493 - accuracy: 0.7930 - val_loss: 0.5149 - val_accuracy: 0.7541\n",
            "Epoch 35/100\n",
            "226/226 [==============================] - 0s 2ms/step - loss: 0.4461 - accuracy: 0.7913 - val_loss: 0.5204 - val_accuracy: 0.7612\n",
            "Epoch 36/100\n",
            "226/226 [==============================] - 0s 2ms/step - loss: 0.4447 - accuracy: 0.7950 - val_loss: 0.5021 - val_accuracy: 0.7612\n",
            "Epoch 37/100\n",
            "226/226 [==============================] - 0s 2ms/step - loss: 0.4422 - accuracy: 0.7916 - val_loss: 0.5132 - val_accuracy: 0.7548\n",
            "Epoch 38/100\n",
            "226/226 [==============================] - 0s 2ms/step - loss: 0.4429 - accuracy: 0.7912 - val_loss: 0.4984 - val_accuracy: 0.7584\n",
            "Epoch 39/100\n",
            "226/226 [==============================] - 0s 2ms/step - loss: 0.4450 - accuracy: 0.7924 - val_loss: 0.5072 - val_accuracy: 0.7569\n",
            "Epoch 40/100\n",
            "226/226 [==============================] - 0s 2ms/step - loss: 0.4429 - accuracy: 0.7934 - val_loss: 0.5038 - val_accuracy: 0.7562\n",
            "Epoch 41/100\n",
            "226/226 [==============================] - 0s 2ms/step - loss: 0.4461 - accuracy: 0.7890 - val_loss: 0.5091 - val_accuracy: 0.7598\n",
            "Epoch 42/100\n",
            "226/226 [==============================] - 0s 2ms/step - loss: 0.4436 - accuracy: 0.7888 - val_loss: 0.4974 - val_accuracy: 0.7605\n",
            "Epoch 43/100\n",
            "226/226 [==============================] - 0s 2ms/step - loss: 0.4429 - accuracy: 0.7949 - val_loss: 0.5142 - val_accuracy: 0.7505\n",
            "Epoch 44/100\n",
            "226/226 [==============================] - 0s 2ms/step - loss: 0.4450 - accuracy: 0.7923 - val_loss: 0.5059 - val_accuracy: 0.7591\n",
            "Epoch 45/100\n",
            "226/226 [==============================] - 0s 2ms/step - loss: 0.4409 - accuracy: 0.7939 - val_loss: 0.5117 - val_accuracy: 0.7534\n",
            "Epoch 46/100\n",
            "226/226 [==============================] - 0s 2ms/step - loss: 0.4436 - accuracy: 0.7867 - val_loss: 0.5174 - val_accuracy: 0.7534\n",
            "Epoch 47/100\n",
            "226/226 [==============================] - 0s 2ms/step - loss: 0.4415 - accuracy: 0.7999 - val_loss: 0.5113 - val_accuracy: 0.7555\n",
            "Epoch 48/100\n",
            "226/226 [==============================] - 0s 2ms/step - loss: 0.4473 - accuracy: 0.7878 - val_loss: 0.5072 - val_accuracy: 0.7612\n",
            "Epoch 49/100\n",
            "226/226 [==============================] - 0s 2ms/step - loss: 0.4421 - accuracy: 0.7924 - val_loss: 0.5115 - val_accuracy: 0.7647\n",
            "Epoch 50/100\n",
            "226/226 [==============================] - 0s 2ms/step - loss: 0.4400 - accuracy: 0.7996 - val_loss: 0.5239 - val_accuracy: 0.7491\n",
            "Epoch 51/100\n",
            "226/226 [==============================] - 0s 2ms/step - loss: 0.4463 - accuracy: 0.7942 - val_loss: 0.5107 - val_accuracy: 0.7520\n",
            "Epoch 52/100\n",
            "226/226 [==============================] - 0s 2ms/step - loss: 0.4391 - accuracy: 0.7912 - val_loss: 0.5206 - val_accuracy: 0.7512\n",
            "Epoch 53/100\n",
            "226/226 [==============================] - 0s 2ms/step - loss: 0.4420 - accuracy: 0.7931 - val_loss: 0.4999 - val_accuracy: 0.7605\n",
            "Epoch 54/100\n",
            "226/226 [==============================] - 0s 2ms/step - loss: 0.4383 - accuracy: 0.7938 - val_loss: 0.5292 - val_accuracy: 0.7441\n",
            "Epoch 55/100\n",
            "226/226 [==============================] - 1s 2ms/step - loss: 0.4413 - accuracy: 0.7917 - val_loss: 0.5229 - val_accuracy: 0.7491\n",
            "Epoch 56/100\n",
            "226/226 [==============================] - 0s 2ms/step - loss: 0.4411 - accuracy: 0.7966 - val_loss: 0.5183 - val_accuracy: 0.7548\n",
            "Epoch 57/100\n",
            "226/226 [==============================] - 0s 2ms/step - loss: 0.4446 - accuracy: 0.7930 - val_loss: 0.4932 - val_accuracy: 0.7598\n",
            "Epoch 58/100\n",
            "226/226 [==============================] - 0s 2ms/step - loss: 0.4415 - accuracy: 0.7963 - val_loss: 0.5273 - val_accuracy: 0.7505\n",
            "Epoch 59/100\n",
            "226/226 [==============================] - 0s 2ms/step - loss: 0.4341 - accuracy: 0.7946 - val_loss: 0.5106 - val_accuracy: 0.7555\n",
            "Epoch 60/100\n",
            "226/226 [==============================] - 0s 2ms/step - loss: 0.4384 - accuracy: 0.7939 - val_loss: 0.5113 - val_accuracy: 0.7584\n",
            "Epoch 61/100\n",
            "226/226 [==============================] - 0s 2ms/step - loss: 0.4417 - accuracy: 0.7966 - val_loss: 0.4957 - val_accuracy: 0.7633\n",
            "Epoch 62/100\n",
            "226/226 [==============================] - 0s 2ms/step - loss: 0.4390 - accuracy: 0.7939 - val_loss: 0.5137 - val_accuracy: 0.7576\n",
            "Epoch 63/100\n",
            "226/226 [==============================] - 0s 2ms/step - loss: 0.4384 - accuracy: 0.7953 - val_loss: 0.5224 - val_accuracy: 0.7512\n",
            "Epoch 64/100\n",
            "226/226 [==============================] - 0s 2ms/step - loss: 0.4396 - accuracy: 0.7945 - val_loss: 0.5221 - val_accuracy: 0.7477\n",
            "Epoch 65/100\n",
            "226/226 [==============================] - 0s 2ms/step - loss: 0.4351 - accuracy: 0.7950 - val_loss: 0.5292 - val_accuracy: 0.7498\n",
            "Epoch 66/100\n",
            "226/226 [==============================] - 0s 2ms/step - loss: 0.4427 - accuracy: 0.7955 - val_loss: 0.5066 - val_accuracy: 0.7562\n",
            "Epoch 67/100\n",
            "226/226 [==============================] - 0s 2ms/step - loss: 0.4372 - accuracy: 0.7935 - val_loss: 0.5210 - val_accuracy: 0.7534\n",
            "Epoch 68/100\n",
            "226/226 [==============================] - 0s 2ms/step - loss: 0.4408 - accuracy: 0.7910 - val_loss: 0.5190 - val_accuracy: 0.7591\n",
            "Epoch 69/100\n",
            "226/226 [==============================] - 0s 2ms/step - loss: 0.4354 - accuracy: 0.7981 - val_loss: 0.4963 - val_accuracy: 0.7662\n",
            "Epoch 70/100\n",
            "226/226 [==============================] - 0s 2ms/step - loss: 0.4428 - accuracy: 0.7952 - val_loss: 0.5230 - val_accuracy: 0.7484\n",
            "Epoch 71/100\n",
            "226/226 [==============================] - 0s 2ms/step - loss: 0.4375 - accuracy: 0.7977 - val_loss: 0.4943 - val_accuracy: 0.7633\n",
            "Epoch 72/100\n",
            "226/226 [==============================] - 0s 2ms/step - loss: 0.4409 - accuracy: 0.7941 - val_loss: 0.5066 - val_accuracy: 0.7562\n",
            "Epoch 73/100\n",
            "226/226 [==============================] - 0s 2ms/step - loss: 0.4366 - accuracy: 0.7956 - val_loss: 0.5156 - val_accuracy: 0.7569\n",
            "Epoch 74/100\n",
            "226/226 [==============================] - 0s 2ms/step - loss: 0.4327 - accuracy: 0.7975 - val_loss: 0.5015 - val_accuracy: 0.7662\n",
            "Epoch 75/100\n",
            "226/226 [==============================] - 0s 2ms/step - loss: 0.4421 - accuracy: 0.7905 - val_loss: 0.5201 - val_accuracy: 0.7527\n",
            "Epoch 76/100\n",
            "226/226 [==============================] - 0s 2ms/step - loss: 0.4380 - accuracy: 0.7974 - val_loss: 0.5276 - val_accuracy: 0.7477\n",
            "Epoch 77/100\n",
            "226/226 [==============================] - 0s 2ms/step - loss: 0.4370 - accuracy: 0.7981 - val_loss: 0.5309 - val_accuracy: 0.7484\n",
            "Epoch 78/100\n",
            "226/226 [==============================] - 0s 2ms/step - loss: 0.4388 - accuracy: 0.7981 - val_loss: 0.5168 - val_accuracy: 0.7541\n",
            "Epoch 79/100\n",
            "226/226 [==============================] - 0s 2ms/step - loss: 0.4371 - accuracy: 0.7973 - val_loss: 0.5180 - val_accuracy: 0.7534\n",
            "Epoch 80/100\n",
            "226/226 [==============================] - 0s 2ms/step - loss: 0.4377 - accuracy: 0.7982 - val_loss: 0.5072 - val_accuracy: 0.7576\n",
            "Epoch 81/100\n",
            "226/226 [==============================] - 0s 2ms/step - loss: 0.4357 - accuracy: 0.7963 - val_loss: 0.5091 - val_accuracy: 0.7612\n",
            "Epoch 82/100\n",
            "226/226 [==============================] - 0s 2ms/step - loss: 0.4373 - accuracy: 0.7962 - val_loss: 0.5028 - val_accuracy: 0.7569\n",
            "Epoch 83/100\n",
            "226/226 [==============================] - 0s 2ms/step - loss: 0.4373 - accuracy: 0.7991 - val_loss: 0.5097 - val_accuracy: 0.7541\n",
            "Epoch 84/100\n",
            "226/226 [==============================] - 0s 2ms/step - loss: 0.4391 - accuracy: 0.7948 - val_loss: 0.5190 - val_accuracy: 0.7512\n",
            "Epoch 85/100\n",
            "226/226 [==============================] - 0s 2ms/step - loss: 0.4354 - accuracy: 0.7937 - val_loss: 0.5423 - val_accuracy: 0.7463\n",
            "Epoch 86/100\n",
            "226/226 [==============================] - 0s 2ms/step - loss: 0.4382 - accuracy: 0.7970 - val_loss: 0.4981 - val_accuracy: 0.7576\n",
            "Epoch 87/100\n",
            "226/226 [==============================] - 0s 2ms/step - loss: 0.4333 - accuracy: 0.7992 - val_loss: 0.5277 - val_accuracy: 0.7534\n",
            "Epoch 88/100\n",
            "226/226 [==============================] - 0s 2ms/step - loss: 0.4361 - accuracy: 0.7956 - val_loss: 0.5187 - val_accuracy: 0.7584\n",
            "Epoch 89/100\n",
            "226/226 [==============================] - 0s 2ms/step - loss: 0.4350 - accuracy: 0.7960 - val_loss: 0.4982 - val_accuracy: 0.7605\n",
            "Epoch 90/100\n",
            "226/226 [==============================] - 0s 2ms/step - loss: 0.4355 - accuracy: 0.7944 - val_loss: 0.5186 - val_accuracy: 0.7512\n",
            "Epoch 91/100\n",
            "226/226 [==============================] - 0s 2ms/step - loss: 0.4331 - accuracy: 0.7986 - val_loss: 0.5126 - val_accuracy: 0.7534\n",
            "Epoch 92/100\n",
            "226/226 [==============================] - 0s 2ms/step - loss: 0.4400 - accuracy: 0.7932 - val_loss: 0.5295 - val_accuracy: 0.7512\n",
            "Epoch 93/100\n",
            "226/226 [==============================] - 0s 2ms/step - loss: 0.4385 - accuracy: 0.7930 - val_loss: 0.5189 - val_accuracy: 0.7505\n",
            "Epoch 94/100\n",
            "226/226 [==============================] - 0s 2ms/step - loss: 0.4363 - accuracy: 0.7949 - val_loss: 0.5114 - val_accuracy: 0.7520\n",
            "Epoch 95/100\n",
            "226/226 [==============================] - 0s 2ms/step - loss: 0.4342 - accuracy: 0.7992 - val_loss: 0.5159 - val_accuracy: 0.7562\n",
            "Epoch 96/100\n",
            "226/226 [==============================] - 0s 2ms/step - loss: 0.4326 - accuracy: 0.7966 - val_loss: 0.5335 - val_accuracy: 0.7427\n",
            "Epoch 97/100\n",
            "226/226 [==============================] - 0s 2ms/step - loss: 0.4382 - accuracy: 0.7950 - val_loss: 0.5303 - val_accuracy: 0.7448\n",
            "Epoch 98/100\n",
            "226/226 [==============================] - 0s 2ms/step - loss: 0.4373 - accuracy: 0.7952 - val_loss: 0.5393 - val_accuracy: 0.7434\n",
            "Epoch 99/100\n",
            "226/226 [==============================] - 0s 2ms/step - loss: 0.4388 - accuracy: 0.7952 - val_loss: 0.5102 - val_accuracy: 0.7626\n",
            "Epoch 100/100\n",
            "226/226 [==============================] - 0s 2ms/step - loss: 0.4337 - accuracy: 0.7964 - val_loss: 0.5199 - val_accuracy: 0.7548\n"
          ]
        }
      ]
    },
    {
      "cell_type": "code",
      "source": [
        "metrics_imp = pd.DataFrame(history_imp_seq.history)\n",
        "metrics_imp.head()"
      ],
      "metadata": {
        "colab": {
          "base_uri": "https://localhost:8080/",
          "height": 206
        },
        "id": "Ax1P3RkD77xR",
        "outputId": "89804129-d091-48ae-f0ed-ab75d16826e8"
      },
      "execution_count": 56,
      "outputs": [
        {
          "output_type": "execute_result",
          "data": {
            "text/plain": [
              "       loss  accuracy  val_loss  val_accuracy\n",
              "0  0.526146  0.737337  0.544091      0.734897\n",
              "1  0.485075  0.766537  0.522857      0.745558\n",
              "2  0.476172  0.773872  0.510503      0.744136\n",
              "3  0.472168  0.777332  0.491838      0.755508\n",
              "4  0.473364  0.777609  0.498526      0.755508"
            ],
            "text/html": [
              "\n",
              "  <div id=\"df-047f1b55-b92e-4d3b-a6f5-378329631271\">\n",
              "    <div class=\"colab-df-container\">\n",
              "      <div>\n",
              "<style scoped>\n",
              "    .dataframe tbody tr th:only-of-type {\n",
              "        vertical-align: middle;\n",
              "    }\n",
              "\n",
              "    .dataframe tbody tr th {\n",
              "        vertical-align: top;\n",
              "    }\n",
              "\n",
              "    .dataframe thead th {\n",
              "        text-align: right;\n",
              "    }\n",
              "</style>\n",
              "<table border=\"1\" class=\"dataframe\">\n",
              "  <thead>\n",
              "    <tr style=\"text-align: right;\">\n",
              "      <th></th>\n",
              "      <th>loss</th>\n",
              "      <th>accuracy</th>\n",
              "      <th>val_loss</th>\n",
              "      <th>val_accuracy</th>\n",
              "    </tr>\n",
              "  </thead>\n",
              "  <tbody>\n",
              "    <tr>\n",
              "      <th>0</th>\n",
              "      <td>0.526146</td>\n",
              "      <td>0.737337</td>\n",
              "      <td>0.544091</td>\n",
              "      <td>0.734897</td>\n",
              "    </tr>\n",
              "    <tr>\n",
              "      <th>1</th>\n",
              "      <td>0.485075</td>\n",
              "      <td>0.766537</td>\n",
              "      <td>0.522857</td>\n",
              "      <td>0.745558</td>\n",
              "    </tr>\n",
              "    <tr>\n",
              "      <th>2</th>\n",
              "      <td>0.476172</td>\n",
              "      <td>0.773872</td>\n",
              "      <td>0.510503</td>\n",
              "      <td>0.744136</td>\n",
              "    </tr>\n",
              "    <tr>\n",
              "      <th>3</th>\n",
              "      <td>0.472168</td>\n",
              "      <td>0.777332</td>\n",
              "      <td>0.491838</td>\n",
              "      <td>0.755508</td>\n",
              "    </tr>\n",
              "    <tr>\n",
              "      <th>4</th>\n",
              "      <td>0.473364</td>\n",
              "      <td>0.777609</td>\n",
              "      <td>0.498526</td>\n",
              "      <td>0.755508</td>\n",
              "    </tr>\n",
              "  </tbody>\n",
              "</table>\n",
              "</div>\n",
              "      <button class=\"colab-df-convert\" onclick=\"convertToInteractive('df-047f1b55-b92e-4d3b-a6f5-378329631271')\"\n",
              "              title=\"Convert this dataframe to an interactive table.\"\n",
              "              style=\"display:none;\">\n",
              "        \n",
              "  <svg xmlns=\"http://www.w3.org/2000/svg\" height=\"24px\"viewBox=\"0 0 24 24\"\n",
              "       width=\"24px\">\n",
              "    <path d=\"M0 0h24v24H0V0z\" fill=\"none\"/>\n",
              "    <path d=\"M18.56 5.44l.94 2.06.94-2.06 2.06-.94-2.06-.94-.94-2.06-.94 2.06-2.06.94zm-11 1L8.5 8.5l.94-2.06 2.06-.94-2.06-.94L8.5 2.5l-.94 2.06-2.06.94zm10 10l.94 2.06.94-2.06 2.06-.94-2.06-.94-.94-2.06-.94 2.06-2.06.94z\"/><path d=\"M17.41 7.96l-1.37-1.37c-.4-.4-.92-.59-1.43-.59-.52 0-1.04.2-1.43.59L10.3 9.45l-7.72 7.72c-.78.78-.78 2.05 0 2.83L4 21.41c.39.39.9.59 1.41.59.51 0 1.02-.2 1.41-.59l7.78-7.78 2.81-2.81c.8-.78.8-2.07 0-2.86zM5.41 20L4 18.59l7.72-7.72 1.47 1.35L5.41 20z\"/>\n",
              "  </svg>\n",
              "      </button>\n",
              "      \n",
              "  <style>\n",
              "    .colab-df-container {\n",
              "      display:flex;\n",
              "      flex-wrap:wrap;\n",
              "      gap: 12px;\n",
              "    }\n",
              "\n",
              "    .colab-df-convert {\n",
              "      background-color: #E8F0FE;\n",
              "      border: none;\n",
              "      border-radius: 50%;\n",
              "      cursor: pointer;\n",
              "      display: none;\n",
              "      fill: #1967D2;\n",
              "      height: 32px;\n",
              "      padding: 0 0 0 0;\n",
              "      width: 32px;\n",
              "    }\n",
              "\n",
              "    .colab-df-convert:hover {\n",
              "      background-color: #E2EBFA;\n",
              "      box-shadow: 0px 1px 2px rgba(60, 64, 67, 0.3), 0px 1px 3px 1px rgba(60, 64, 67, 0.15);\n",
              "      fill: #174EA6;\n",
              "    }\n",
              "\n",
              "    [theme=dark] .colab-df-convert {\n",
              "      background-color: #3B4455;\n",
              "      fill: #D2E3FC;\n",
              "    }\n",
              "\n",
              "    [theme=dark] .colab-df-convert:hover {\n",
              "      background-color: #434B5C;\n",
              "      box-shadow: 0px 1px 3px 1px rgba(0, 0, 0, 0.15);\n",
              "      filter: drop-shadow(0px 1px 2px rgba(0, 0, 0, 0.3));\n",
              "      fill: #FFFFFF;\n",
              "    }\n",
              "  </style>\n",
              "\n",
              "      <script>\n",
              "        const buttonEl =\n",
              "          document.querySelector('#df-047f1b55-b92e-4d3b-a6f5-378329631271 button.colab-df-convert');\n",
              "        buttonEl.style.display =\n",
              "          google.colab.kernel.accessAllowed ? 'block' : 'none';\n",
              "\n",
              "        async function convertToInteractive(key) {\n",
              "          const element = document.querySelector('#df-047f1b55-b92e-4d3b-a6f5-378329631271');\n",
              "          const dataTable =\n",
              "            await google.colab.kernel.invokeFunction('convertToInteractive',\n",
              "                                                     [key], {});\n",
              "          if (!dataTable) return;\n",
              "\n",
              "          const docLinkHtml = 'Like what you see? Visit the ' +\n",
              "            '<a target=\"_blank\" href=https://colab.research.google.com/notebooks/data_table.ipynb>data table notebook</a>'\n",
              "            + ' to learn more about interactive tables.';\n",
              "          element.innerHTML = '';\n",
              "          dataTable['output_type'] = 'display_data';\n",
              "          await google.colab.output.renderOutput(dataTable, element);\n",
              "          const docLink = document.createElement('div');\n",
              "          docLink.innerHTML = docLinkHtml;\n",
              "          element.appendChild(docLink);\n",
              "        }\n",
              "      </script>\n",
              "    </div>\n",
              "  </div>\n",
              "  "
            ]
          },
          "metadata": {},
          "execution_count": 56
        }
      ]
    },
    {
      "cell_type": "code",
      "source": [
        "metrics_imp[['loss','val_loss']].plot();"
      ],
      "metadata": {
        "colab": {
          "base_uri": "https://localhost:8080/",
          "height": 265
        },
        "id": "cYJbOmVU8FQs",
        "outputId": "c06936b8-4dad-40e1-f363-71a90a768148"
      },
      "execution_count": 57,
      "outputs": [
        {
          "output_type": "display_data",
          "data": {
            "text/plain": [
              "<Figure size 432x288 with 1 Axes>"
            ],
            "image/png": "[encoded data removed]"
          },
          "metadata": {
            "needs_background": "light"
          }
        }
      ]
    },
    {
      "cell_type": "code",
      "source": [
        "metrics_imp[['accuracy','val_accuracy']].plot();"
      ],
      "metadata": {
        "colab": {
          "base_uri": "https://localhost:8080/",
          "height": 265
        },
        "id": "rASF-9lE8Jhq",
        "outputId": "070b2e37-6fb6-483f-bea0-8281469ad888"
      },
      "execution_count": 58,
      "outputs": [
        {
          "output_type": "display_data",
          "data": {
            "text/plain": [
              "<Figure size 432x288 with 1 Axes>"
            ],
            "image/png": "[encoded data removed]"
          },
          "metadata": {
            "needs_background": "light"
          }
        }
      ]
    },
    {
      "cell_type": "markdown",
      "source": [
        "## Functional API"
      ],
      "metadata": {
        "id": "o4kkSVVo8pXV"
      }
    },
    {
      "cell_type": "code",
      "source": [
        "data_inp = Input(shape=(38,))\n",
        "hid_lay1 = Dense(64,activation='relu')(data_inp)\n",
        "hid_lay2 = Dense(32,activation='relu')(hid_lay1)\n",
        "output = Dense(1,activation='sigmoid')(hid_lay2)\n",
        "\n",
        "model_func_imp = Model(inputs= data_inp, outputs = output)\n",
        "\n",
        "model_func_imp.compile(loss = 'binary_crossentropy',\n",
        "                optimizer= 'adamax',\n",
        "                metrics=['Recall'])"
      ],
      "metadata": {
        "id": "RdUFH8St8rEQ"
      },
      "execution_count": 59,
      "outputs": []
    },
    {
      "cell_type": "code",
      "source": [
        "history_imp_func = model_func_imp.fit(X_train_oversampling, y_train_oversampling, epochs = 100, validation_data=(X_val_trf,y_val))"
      ],
      "metadata": {
        "colab": {
          "base_uri": "https://localhost:8080/"
        },
        "id": "L_0ukN2YEud4",
        "outputId": "65586ade-8eb3-42b3-ac74-8d988ae3b28a"
      },
      "execution_count": 60,
      "outputs": [
        {
          "output_type": "stream",
          "name": "stdout",
          "text": [
            "Epoch 1/100\n",
            "226/226 [==============================] - 1s 3ms/step - loss: 0.5153 - recall: 0.7883 - val_loss: 0.4907 - val_recall: 0.7406\n",
            "Epoch 2/100\n",
            "226/226 [==============================] - 0s 2ms/step - loss: 0.4642 - recall: 0.7999 - val_loss: 0.4843 - val_recall: 0.7326\n",
            "Epoch 3/100\n",
            "226/226 [==============================] - 0s 2ms/step - loss: 0.4568 - recall: 0.8074 - val_loss: 0.4795 - val_recall: 0.7433\n",
            "Epoch 4/100\n",
            "226/226 [==============================] - 0s 2ms/step - loss: 0.4525 - recall: 0.8123 - val_loss: 0.5011 - val_recall: 0.7727\n",
            "Epoch 5/100\n",
            "226/226 [==============================] - 0s 2ms/step - loss: 0.4485 - recall: 0.8146 - val_loss: 0.4783 - val_recall: 0.7460\n",
            "Epoch 6/100\n",
            "226/226 [==============================] - 0s 2ms/step - loss: 0.4449 - recall: 0.8170 - val_loss: 0.4876 - val_recall: 0.7567\n",
            "Epoch 7/100\n",
            "226/226 [==============================] - 0s 2ms/step - loss: 0.4423 - recall: 0.8229 - val_loss: 0.4644 - val_recall: 0.7139\n",
            "Epoch 8/100\n",
            "226/226 [==============================] - 0s 2ms/step - loss: 0.4393 - recall: 0.8182 - val_loss: 0.5004 - val_recall: 0.7727\n",
            "Epoch 9/100\n",
            "226/226 [==============================] - 0s 2ms/step - loss: 0.4358 - recall: 0.8298 - val_loss: 0.4908 - val_recall: 0.7594\n",
            "Epoch 10/100\n",
            "226/226 [==============================] - 0s 2ms/step - loss: 0.4320 - recall: 0.8273 - val_loss: 0.4875 - val_recall: 0.7540\n",
            "Epoch 11/100\n",
            "226/226 [==============================] - 0s 2ms/step - loss: 0.4293 - recall: 0.8314 - val_loss: 0.4705 - val_recall: 0.7166\n",
            "Epoch 12/100\n",
            "226/226 [==============================] - 0s 2ms/step - loss: 0.4267 - recall: 0.8290 - val_loss: 0.4818 - val_recall: 0.7406\n",
            "Epoch 13/100\n",
            "226/226 [==============================] - 0s 2ms/step - loss: 0.4239 - recall: 0.8290 - val_loss: 0.4920 - val_recall: 0.7594\n",
            "Epoch 14/100\n",
            "226/226 [==============================] - 0s 2ms/step - loss: 0.4223 - recall: 0.8317 - val_loss: 0.4811 - val_recall: 0.7193\n",
            "Epoch 15/100\n",
            "226/226 [==============================] - 0s 2ms/step - loss: 0.4180 - recall: 0.8337 - val_loss: 0.4660 - val_recall: 0.6872\n",
            "Epoch 16/100\n",
            "226/226 [==============================] - 0s 2ms/step - loss: 0.4156 - recall: 0.8342 - val_loss: 0.4934 - val_recall: 0.7540\n",
            "Epoch 17/100\n",
            "226/226 [==============================] - 0s 2ms/step - loss: 0.4127 - recall: 0.8392 - val_loss: 0.5043 - val_recall: 0.7567\n",
            "Epoch 18/100\n",
            "226/226 [==============================] - 0s 2ms/step - loss: 0.4107 - recall: 0.8337 - val_loss: 0.5007 - val_recall: 0.7594\n",
            "Epoch 19/100\n",
            "226/226 [==============================] - 0s 2ms/step - loss: 0.4078 - recall: 0.8422 - val_loss: 0.5191 - val_recall: 0.7674\n",
            "Epoch 20/100\n",
            "226/226 [==============================] - 0s 2ms/step - loss: 0.4051 - recall: 0.8433 - val_loss: 0.4922 - val_recall: 0.7193\n",
            "Epoch 21/100\n",
            "226/226 [==============================] - 0s 2ms/step - loss: 0.4034 - recall: 0.8417 - val_loss: 0.5023 - val_recall: 0.7594\n",
            "Epoch 22/100\n",
            "226/226 [==============================] - 0s 2ms/step - loss: 0.4002 - recall: 0.8417 - val_loss: 0.5033 - val_recall: 0.7460\n",
            "Epoch 23/100\n",
            "226/226 [==============================] - 0s 2ms/step - loss: 0.3987 - recall: 0.8525 - val_loss: 0.4809 - val_recall: 0.6738\n",
            "Epoch 24/100\n",
            "226/226 [==============================] - 0s 2ms/step - loss: 0.3958 - recall: 0.8469 - val_loss: 0.5125 - val_recall: 0.7487\n",
            "Epoch 25/100\n",
            "226/226 [==============================] - 0s 2ms/step - loss: 0.3943 - recall: 0.8511 - val_loss: 0.4937 - val_recall: 0.6952\n",
            "Epoch 26/100\n",
            "226/226 [==============================] - 0s 2ms/step - loss: 0.3910 - recall: 0.8505 - val_loss: 0.4998 - val_recall: 0.7005\n",
            "Epoch 27/100\n",
            "226/226 [==============================] - 0s 2ms/step - loss: 0.3898 - recall: 0.8550 - val_loss: 0.4939 - val_recall: 0.6872\n",
            "Epoch 28/100\n",
            "226/226 [==============================] - 0s 2ms/step - loss: 0.3880 - recall: 0.8500 - val_loss: 0.5447 - val_recall: 0.7754\n",
            "Epoch 29/100\n",
            "226/226 [==============================] - 0s 2ms/step - loss: 0.3848 - recall: 0.8575 - val_loss: 0.4997 - val_recall: 0.6818\n",
            "Epoch 30/100\n",
            "226/226 [==============================] - 0s 2ms/step - loss: 0.3834 - recall: 0.8588 - val_loss: 0.5184 - val_recall: 0.7299\n",
            "Epoch 31/100\n",
            "226/226 [==============================] - 0s 2ms/step - loss: 0.3815 - recall: 0.8530 - val_loss: 0.5228 - val_recall: 0.7353\n",
            "Epoch 32/100\n",
            "226/226 [==============================] - 0s 2ms/step - loss: 0.3781 - recall: 0.8566 - val_loss: 0.5242 - val_recall: 0.7299\n",
            "Epoch 33/100\n",
            "226/226 [==============================] - 0s 2ms/step - loss: 0.3771 - recall: 0.8514 - val_loss: 0.5295 - val_recall: 0.7540\n",
            "Epoch 34/100\n",
            "226/226 [==============================] - 0s 2ms/step - loss: 0.3750 - recall: 0.8611 - val_loss: 0.5507 - val_recall: 0.7754\n",
            "Epoch 35/100\n",
            "226/226 [==============================] - 0s 2ms/step - loss: 0.3732 - recall: 0.8622 - val_loss: 0.5190 - val_recall: 0.7059\n",
            "Epoch 36/100\n",
            "226/226 [==============================] - 0s 2ms/step - loss: 0.3714 - recall: 0.8558 - val_loss: 0.5026 - val_recall: 0.6658\n",
            "Epoch 37/100\n",
            "226/226 [==============================] - 0s 2ms/step - loss: 0.3695 - recall: 0.8655 - val_loss: 0.5291 - val_recall: 0.7059\n",
            "Epoch 38/100\n",
            "226/226 [==============================] - 0s 2ms/step - loss: 0.3682 - recall: 0.8649 - val_loss: 0.5142 - val_recall: 0.6872\n",
            "Epoch 39/100\n",
            "226/226 [==============================] - 1s 4ms/step - loss: 0.3666 - recall: 0.8624 - val_loss: 0.5307 - val_recall: 0.7246\n",
            "Epoch 40/100\n",
            "226/226 [==============================] - 1s 2ms/step - loss: 0.3627 - recall: 0.8713 - val_loss: 0.5193 - val_recall: 0.6898\n",
            "Epoch 41/100\n",
            "226/226 [==============================] - 1s 5ms/step - loss: 0.3613 - recall: 0.8710 - val_loss: 0.4943 - val_recall: 0.6257\n",
            "Epoch 42/100\n",
            "226/226 [==============================] - 0s 2ms/step - loss: 0.3604 - recall: 0.8702 - val_loss: 0.5354 - val_recall: 0.7166\n",
            "Epoch 43/100\n",
            "226/226 [==============================] - 0s 2ms/step - loss: 0.3576 - recall: 0.8685 - val_loss: 0.5116 - val_recall: 0.6684\n",
            "Epoch 44/100\n",
            "226/226 [==============================] - 0s 2ms/step - loss: 0.3560 - recall: 0.8746 - val_loss: 0.5140 - val_recall: 0.6578\n",
            "Epoch 45/100\n",
            "226/226 [==============================] - 0s 2ms/step - loss: 0.3546 - recall: 0.8727 - val_loss: 0.5113 - val_recall: 0.6551\n",
            "Epoch 46/100\n",
            "226/226 [==============================] - 0s 2ms/step - loss: 0.3528 - recall: 0.8746 - val_loss: 0.5337 - val_recall: 0.7112\n",
            "Epoch 47/100\n",
            "226/226 [==============================] - 0s 2ms/step - loss: 0.3513 - recall: 0.8768 - val_loss: 0.5373 - val_recall: 0.7112\n",
            "Epoch 48/100\n",
            "226/226 [==============================] - 0s 2ms/step - loss: 0.3484 - recall: 0.8802 - val_loss: 0.5241 - val_recall: 0.6631\n",
            "Epoch 49/100\n",
            "226/226 [==============================] - 0s 2ms/step - loss: 0.3480 - recall: 0.8793 - val_loss: 0.5177 - val_recall: 0.6417\n",
            "Epoch 50/100\n",
            "226/226 [==============================] - 0s 2ms/step - loss: 0.3453 - recall: 0.8807 - val_loss: 0.5207 - val_recall: 0.6604\n",
            "Epoch 51/100\n",
            "226/226 [==============================] - 0s 2ms/step - loss: 0.3433 - recall: 0.8824 - val_loss: 0.5758 - val_recall: 0.7406\n",
            "Epoch 52/100\n",
            "226/226 [==============================] - 0s 2ms/step - loss: 0.3438 - recall: 0.8799 - val_loss: 0.5372 - val_recall: 0.6979\n",
            "Epoch 53/100\n",
            "226/226 [==============================] - 0s 2ms/step - loss: 0.3401 - recall: 0.8865 - val_loss: 0.5142 - val_recall: 0.6310\n",
            "Epoch 54/100\n",
            "226/226 [==============================] - 0s 2ms/step - loss: 0.3386 - recall: 0.8826 - val_loss: 0.5201 - val_recall: 0.6390\n",
            "Epoch 55/100\n",
            "226/226 [==============================] - 0s 2ms/step - loss: 0.3381 - recall: 0.8768 - val_loss: 0.5368 - val_recall: 0.6818\n",
            "Epoch 56/100\n",
            "226/226 [==============================] - 0s 2ms/step - loss: 0.3365 - recall: 0.8876 - val_loss: 0.5641 - val_recall: 0.6979\n",
            "Epoch 57/100\n",
            "226/226 [==============================] - 0s 2ms/step - loss: 0.3352 - recall: 0.8865 - val_loss: 0.5491 - val_recall: 0.6925\n",
            "Epoch 58/100\n",
            "226/226 [==============================] - 0s 2ms/step - loss: 0.3336 - recall: 0.8832 - val_loss: 0.5351 - val_recall: 0.6765\n",
            "Epoch 59/100\n",
            "226/226 [==============================] - 0s 2ms/step - loss: 0.3308 - recall: 0.8871 - val_loss: 0.5449 - val_recall: 0.6738\n",
            "Epoch 60/100\n",
            "226/226 [==============================] - 0s 2ms/step - loss: 0.3296 - recall: 0.8882 - val_loss: 0.6018 - val_recall: 0.7460\n",
            "Epoch 61/100\n",
            "226/226 [==============================] - 0s 2ms/step - loss: 0.3295 - recall: 0.8879 - val_loss: 0.5618 - val_recall: 0.6979\n",
            "Epoch 62/100\n",
            "226/226 [==============================] - 0s 2ms/step - loss: 0.3275 - recall: 0.8865 - val_loss: 0.5691 - val_recall: 0.7193\n",
            "Epoch 63/100\n",
            "226/226 [==============================] - 0s 2ms/step - loss: 0.3258 - recall: 0.8907 - val_loss: 0.5580 - val_recall: 0.6952\n",
            "Epoch 64/100\n",
            "226/226 [==============================] - 0s 2ms/step - loss: 0.3250 - recall: 0.8926 - val_loss: 0.5429 - val_recall: 0.6390\n",
            "Epoch 65/100\n",
            "226/226 [==============================] - 0s 2ms/step - loss: 0.3238 - recall: 0.8918 - val_loss: 0.5478 - val_recall: 0.6631\n",
            "Epoch 66/100\n",
            "226/226 [==============================] - 0s 2ms/step - loss: 0.3206 - recall: 0.8854 - val_loss: 0.5830 - val_recall: 0.7166\n",
            "Epoch 67/100\n",
            "226/226 [==============================] - 0s 2ms/step - loss: 0.3204 - recall: 0.8954 - val_loss: 0.5346 - val_recall: 0.6230\n",
            "Epoch 68/100\n",
            "226/226 [==============================] - 0s 2ms/step - loss: 0.3185 - recall: 0.8923 - val_loss: 0.5489 - val_recall: 0.6551\n",
            "Epoch 69/100\n",
            "226/226 [==============================] - 0s 2ms/step - loss: 0.3163 - recall: 0.8959 - val_loss: 0.5444 - val_recall: 0.6257\n",
            "Epoch 70/100\n",
            "226/226 [==============================] - 0s 2ms/step - loss: 0.3159 - recall: 0.8965 - val_loss: 0.5538 - val_recall: 0.6551\n",
            "Epoch 71/100\n",
            "226/226 [==============================] - 0s 2ms/step - loss: 0.3156 - recall: 0.8954 - val_loss: 0.5403 - val_recall: 0.6096\n",
            "Epoch 72/100\n",
            "226/226 [==============================] - 0s 2ms/step - loss: 0.3121 - recall: 0.8934 - val_loss: 0.5729 - val_recall: 0.6711\n",
            "Epoch 73/100\n",
            "226/226 [==============================] - 0s 2ms/step - loss: 0.3129 - recall: 0.8959 - val_loss: 0.5595 - val_recall: 0.6444\n",
            "Epoch 74/100\n",
            "226/226 [==============================] - 0s 2ms/step - loss: 0.3120 - recall: 0.8957 - val_loss: 0.5490 - val_recall: 0.5936\n",
            "Epoch 75/100\n",
            "226/226 [==============================] - 0s 2ms/step - loss: 0.3106 - recall: 0.9006 - val_loss: 0.5484 - val_recall: 0.5963\n",
            "Epoch 76/100\n",
            "226/226 [==============================] - 0s 2ms/step - loss: 0.3103 - recall: 0.8962 - val_loss: 0.5584 - val_recall: 0.6337\n",
            "Epoch 77/100\n",
            "226/226 [==============================] - 0s 2ms/step - loss: 0.3058 - recall: 0.8968 - val_loss: 0.5553 - val_recall: 0.6096\n",
            "Epoch 78/100\n",
            "226/226 [==============================] - 0s 2ms/step - loss: 0.3039 - recall: 0.8998 - val_loss: 0.5651 - val_recall: 0.6417\n",
            "Epoch 79/100\n",
            "226/226 [==============================] - 0s 2ms/step - loss: 0.3045 - recall: 0.8998 - val_loss: 0.5794 - val_recall: 0.6684\n",
            "Epoch 80/100\n",
            "226/226 [==============================] - 1s 2ms/step - loss: 0.3017 - recall: 0.9006 - val_loss: 0.5612 - val_recall: 0.6150\n",
            "Epoch 81/100\n",
            "226/226 [==============================] - 0s 2ms/step - loss: 0.3025 - recall: 0.8998 - val_loss: 0.5830 - val_recall: 0.6604\n",
            "Epoch 82/100\n",
            "226/226 [==============================] - 0s 2ms/step - loss: 0.3008 - recall: 0.9006 - val_loss: 0.5882 - val_recall: 0.6497\n",
            "Epoch 83/100\n",
            "226/226 [==============================] - 0s 2ms/step - loss: 0.3000 - recall: 0.9029 - val_loss: 0.5908 - val_recall: 0.6604\n",
            "Epoch 84/100\n",
            "226/226 [==============================] - 0s 2ms/step - loss: 0.2982 - recall: 0.9029 - val_loss: 0.5757 - val_recall: 0.6150\n",
            "Epoch 85/100\n",
            "226/226 [==============================] - 0s 2ms/step - loss: 0.2974 - recall: 0.8979 - val_loss: 0.5958 - val_recall: 0.6578\n",
            "Epoch 86/100\n",
            "226/226 [==============================] - 0s 2ms/step - loss: 0.2955 - recall: 0.9048 - val_loss: 0.5940 - val_recall: 0.6524\n",
            "Epoch 87/100\n",
            "226/226 [==============================] - 0s 2ms/step - loss: 0.2949 - recall: 0.9067 - val_loss: 0.5992 - val_recall: 0.6711\n",
            "Epoch 88/100\n",
            "226/226 [==============================] - 0s 2ms/step - loss: 0.2930 - recall: 0.9081 - val_loss: 0.5936 - val_recall: 0.6390\n",
            "Epoch 89/100\n",
            "226/226 [==============================] - 0s 2ms/step - loss: 0.2927 - recall: 0.9040 - val_loss: 0.6139 - val_recall: 0.6898\n",
            "Epoch 90/100\n",
            "226/226 [==============================] - 0s 2ms/step - loss: 0.2918 - recall: 0.9073 - val_loss: 0.6227 - val_recall: 0.6898\n",
            "Epoch 91/100\n",
            "226/226 [==============================] - 0s 2ms/step - loss: 0.2889 - recall: 0.9073 - val_loss: 0.5884 - val_recall: 0.6417\n",
            "Epoch 92/100\n",
            "226/226 [==============================] - 0s 2ms/step - loss: 0.2907 - recall: 0.9053 - val_loss: 0.5833 - val_recall: 0.6150\n",
            "Epoch 93/100\n",
            "226/226 [==============================] - 0s 2ms/step - loss: 0.2874 - recall: 0.9112 - val_loss: 0.5834 - val_recall: 0.6123\n",
            "Epoch 94/100\n",
            "226/226 [==============================] - 0s 2ms/step - loss: 0.2873 - recall: 0.9076 - val_loss: 0.6072 - val_recall: 0.6578\n",
            "Epoch 95/100\n",
            "226/226 [==============================] - 0s 2ms/step - loss: 0.2859 - recall: 0.9128 - val_loss: 0.5968 - val_recall: 0.6150\n",
            "Epoch 96/100\n",
            "226/226 [==============================] - 0s 2ms/step - loss: 0.2839 - recall: 0.9100 - val_loss: 0.6107 - val_recall: 0.6444\n",
            "Epoch 97/100\n",
            "226/226 [==============================] - 0s 2ms/step - loss: 0.2837 - recall: 0.9128 - val_loss: 0.5785 - val_recall: 0.5775\n",
            "Epoch 98/100\n",
            "226/226 [==============================] - 0s 2ms/step - loss: 0.2821 - recall: 0.9148 - val_loss: 0.6112 - val_recall: 0.6551\n",
            "Epoch 99/100\n",
            "226/226 [==============================] - 0s 2ms/step - loss: 0.2810 - recall: 0.9078 - val_loss: 0.5971 - val_recall: 0.6230\n",
            "Epoch 100/100\n",
            "226/226 [==============================] - 0s 2ms/step - loss: 0.2805 - recall: 0.9109 - val_loss: 0.6055 - val_recall: 0.6283\n"
          ]
        }
      ]
    },
    {
      "cell_type": "code",
      "source": [
        "y_pred_test_func = model_func_imp.predict(X_test_trf)\n",
        "y_pred_test_func = np.where(y_pred_test_func > 0.5, 1 , 0)\n",
        "\n",
        "# predict X_val_final\n",
        "y_pred_val_func = model_func_imp.predict(X_val_trf)\n",
        "y_pred_val_func = np.where(y_pred_val_func > 0.5, 1 , 0)\n",
        "\n",
        "print('-------------------------Test-------------------------')\n",
        "print('Classification Reports X_test')\n",
        "print(classification_report(y_test, y_pred_test_func))\n",
        "print('----------------------Validation----------------------')\n",
        "print('Classification Reports X_val')\n",
        "print(classification_report(y_val, y_pred_val_func))"
      ],
      "metadata": {
        "colab": {
          "base_uri": "https://localhost:8080/"
        },
        "id": "3AEiUZnEFteo",
        "outputId": "ef04dfdb-c0ba-4b0d-c669-9367e5569703"
      },
      "execution_count": 61,
      "outputs": [
        {
          "output_type": "stream",
          "name": "stdout",
          "text": [
            "-------------------------Test-------------------------\n",
            "Classification Reports X_test\n",
            "              precision    recall  f1-score   support\n",
            "\n",
            "           0       0.86      0.76      0.81       517\n",
            "           1       0.50      0.65      0.56       187\n",
            "\n",
            "    accuracy                           0.73       704\n",
            "   macro avg       0.68      0.71      0.69       704\n",
            "weighted avg       0.76      0.73      0.74       704\n",
            "\n",
            "----------------------Validation----------------------\n",
            "Classification Reports X_val\n",
            "              precision    recall  f1-score   support\n",
            "\n",
            "           0       0.85      0.78      0.82      1033\n",
            "           1       0.51      0.63      0.56       374\n",
            "\n",
            "    accuracy                           0.74      1407\n",
            "   macro avg       0.68      0.71      0.69      1407\n",
            "weighted avg       0.76      0.74      0.75      1407\n",
            "\n"
          ]
        }
      ]
    },
    {
      "cell_type": "code",
      "source": [
        "plt.figure(figsize=(20,5))\n",
        "plt.subplot(1,2,1)\n",
        "func_test_matrix= confusion_matrix(y_test, y_pred_test_func)\n",
        "ax = sns.heatmap(func_test_matrix, annot=True, cmap='Blues', fmt='g', annot_kws={\"fontsize\":14})\n",
        "ax.set_xlabel('Predicted labels')\n",
        "ax.set_ylabel('Actual labels')\n",
        "ax.set_xticklabels([\"Negatif\", \"Positif\"])\n",
        "ax.set_yticklabels([\"Negatif\", \"Positif\"])\n",
        "plt.title(\"Functional API Test\")\n",
        "\n",
        "plt.subplot(1,2,2)\n",
        "func_val_matrix= confusion_matrix(y_val, y_pred_val_func)\n",
        "ax = sns.heatmap(func_val_matrix, annot=True, cmap='rocket_r', fmt='g', annot_kws={\"fontsize\":14})\n",
        "ax.set_xlabel('Predicted labels')\n",
        "ax.set_ylabel('Actual labels')\n",
        "ax.set_xticklabels([\"Negatif\", \"Positif\"])\n",
        "ax.set_yticklabels([\"Negatif\", \"Positif\"])\n",
        "plt.title(\"Functional API Validation\")"
      ],
      "metadata": {
        "colab": {
          "base_uri": "https://localhost:8080/",
          "height": 367
        },
        "id": "_PreHdatPuNN",
        "outputId": "cd504b9f-1573-4bb9-db0f-973ef51524d0"
      },
      "execution_count": 71,
      "outputs": [
        {
          "output_type": "execute_result",
          "data": {
            "text/plain": [
              "Text(0.5, 1.0, 'Functional API Validation')"
            ]
          },
          "metadata": {},
          "execution_count": 71
        },
        {
          "output_type": "display_data",
          "data": {
            "text/plain": [
              "<Figure size 1440x360 with 4 Axes>"
            ],
            "image/png": "[encoded data removed]"
          },
          "metadata": {
            "needs_background": "light"
          }
        }
      ]
    },
    {
      "cell_type": "markdown",
      "source": [
        "## Pipe Tensor\n"
      ],
      "metadata": {
        "id": "zB1D6YXgQViU"
      }
    },
    {
      "cell_type": "markdown",
      "source": [
        "### Model Definition"
      ],
      "metadata": {
        "id": "gTR4sunbQwk7"
      }
    },
    {
      "cell_type": "code",
      "source": [
        "# Pipetensor\n",
        "\n",
        "# Training data\n",
        "train_df = tf.data.Dataset.from_tensor_slices((X_train_trf, y_train)).shuffle(10000).batch(20)\n",
        "\n",
        "# Validation data\n",
        "val_df = tf.data.Dataset.from_tensor_slices((X_val_trf, y_val)).shuffle(10000).batch(20)\n",
        "\n",
        "# Test data\n",
        "test_df = tf.data.Dataset.from_tensor_slices((X_test_trf, y_test)).shuffle(10000).batch(20)"
      ],
      "metadata": {
        "id": "GJx5aF8zQnBB"
      },
      "execution_count": 73,
      "outputs": []
    },
    {
      "cell_type": "markdown",
      "source": [
        "### Model Training"
      ],
      "metadata": {
        "id": "1hVaIUtCQ0dn"
      }
    },
    {
      "cell_type": "code",
      "source": [
        "model_pipetensor=model.fit(test_df, epochs=100, validation_data=val_df)"
      ],
      "metadata": {
        "colab": {
          "base_uri": "https://localhost:8080/"
        },
        "id": "upbO-oRkQubK",
        "outputId": "074a11a3-9cb1-4406-fb5e-756ec6030ab6"
      },
      "execution_count": 78,
      "outputs": [
        {
          "output_type": "stream",
          "name": "stdout",
          "text": [
            "Epoch 1/100\n",
            "36/36 [==============================] - 0s 13ms/step - loss: 0.3064 - accuracy: 0.8608 - val_loss: 0.5400 - val_accuracy: 0.7584\n",
            "Epoch 2/100\n",
            "36/36 [==============================] - 0s 13ms/step - loss: 0.3060 - accuracy: 0.8608 - val_loss: 0.5418 - val_accuracy: 0.7633\n",
            "Epoch 3/100\n",
            "36/36 [==============================] - 0s 9ms/step - loss: 0.3054 - accuracy: 0.8580 - val_loss: 0.5404 - val_accuracy: 0.7584\n",
            "Epoch 4/100\n",
            "36/36 [==============================] - 0s 9ms/step - loss: 0.3060 - accuracy: 0.8636 - val_loss: 0.5418 - val_accuracy: 0.7612\n",
            "Epoch 5/100\n",
            "36/36 [==============================] - 0s 13ms/step - loss: 0.3061 - accuracy: 0.8551 - val_loss: 0.5423 - val_accuracy: 0.7598\n",
            "Epoch 6/100\n",
            "36/36 [==============================] - 0s 8ms/step - loss: 0.3075 - accuracy: 0.8480 - val_loss: 0.5437 - val_accuracy: 0.7655\n",
            "Epoch 7/100\n",
            "36/36 [==============================] - 0s 8ms/step - loss: 0.3057 - accuracy: 0.8580 - val_loss: 0.5419 - val_accuracy: 0.7612\n",
            "Epoch 8/100\n",
            "36/36 [==============================] - 0s 8ms/step - loss: 0.3052 - accuracy: 0.8551 - val_loss: 0.5436 - val_accuracy: 0.7619\n",
            "Epoch 9/100\n",
            "36/36 [==============================] - 0s 13ms/step - loss: 0.3049 - accuracy: 0.8608 - val_loss: 0.5448 - val_accuracy: 0.7633\n",
            "Epoch 10/100\n",
            "36/36 [==============================] - 0s 13ms/step - loss: 0.3056 - accuracy: 0.8509 - val_loss: 0.5446 - val_accuracy: 0.7633\n",
            "Epoch 11/100\n",
            "36/36 [==============================] - 0s 13ms/step - loss: 0.3037 - accuracy: 0.8565 - val_loss: 0.5461 - val_accuracy: 0.7626\n",
            "Epoch 12/100\n",
            "36/36 [==============================] - 0s 10ms/step - loss: 0.3043 - accuracy: 0.8608 - val_loss: 0.5452 - val_accuracy: 0.7626\n",
            "Epoch 13/100\n",
            "36/36 [==============================] - 0s 9ms/step - loss: 0.3054 - accuracy: 0.8537 - val_loss: 0.5472 - val_accuracy: 0.7598\n",
            "Epoch 14/100\n",
            "36/36 [==============================] - 0s 13ms/step - loss: 0.3042 - accuracy: 0.8608 - val_loss: 0.5456 - val_accuracy: 0.7633\n",
            "Epoch 15/100\n",
            "36/36 [==============================] - 0s 8ms/step - loss: 0.3036 - accuracy: 0.8580 - val_loss: 0.5466 - val_accuracy: 0.7612\n",
            "Epoch 16/100\n",
            "36/36 [==============================] - 0s 13ms/step - loss: 0.3038 - accuracy: 0.8622 - val_loss: 0.5472 - val_accuracy: 0.7626\n",
            "Epoch 17/100\n",
            "36/36 [==============================] - 0s 9ms/step - loss: 0.3033 - accuracy: 0.8636 - val_loss: 0.5485 - val_accuracy: 0.7598\n",
            "Epoch 18/100\n",
            "36/36 [==============================] - 0s 9ms/step - loss: 0.3032 - accuracy: 0.8608 - val_loss: 0.5482 - val_accuracy: 0.7626\n",
            "Epoch 19/100\n",
            "36/36 [==============================] - 0s 9ms/step - loss: 0.3025 - accuracy: 0.8565 - val_loss: 0.5485 - val_accuracy: 0.7598\n",
            "Epoch 20/100\n",
            "36/36 [==============================] - 0s 9ms/step - loss: 0.3023 - accuracy: 0.8636 - val_loss: 0.5497 - val_accuracy: 0.7640\n",
            "Epoch 21/100\n",
            "36/36 [==============================] - 0s 9ms/step - loss: 0.3022 - accuracy: 0.8565 - val_loss: 0.5494 - val_accuracy: 0.7647\n",
            "Epoch 22/100\n",
            "36/36 [==============================] - 0s 13ms/step - loss: 0.3023 - accuracy: 0.8523 - val_loss: 0.5500 - val_accuracy: 0.7655\n",
            "Epoch 23/100\n",
            "36/36 [==============================] - 0s 8ms/step - loss: 0.3013 - accuracy: 0.8551 - val_loss: 0.5493 - val_accuracy: 0.7598\n",
            "Epoch 24/100\n",
            "36/36 [==============================] - 0s 13ms/step - loss: 0.3019 - accuracy: 0.8622 - val_loss: 0.5513 - val_accuracy: 0.7605\n",
            "Epoch 25/100\n",
            "36/36 [==============================] - 0s 9ms/step - loss: 0.3032 - accuracy: 0.8523 - val_loss: 0.5506 - val_accuracy: 0.7640\n",
            "Epoch 26/100\n",
            "36/36 [==============================] - 0s 13ms/step - loss: 0.3013 - accuracy: 0.8608 - val_loss: 0.5520 - val_accuracy: 0.7655\n",
            "Epoch 27/100\n",
            "36/36 [==============================] - 0s 9ms/step - loss: 0.3020 - accuracy: 0.8622 - val_loss: 0.5501 - val_accuracy: 0.7640\n",
            "Epoch 28/100\n",
            "36/36 [==============================] - 0s 9ms/step - loss: 0.3007 - accuracy: 0.8580 - val_loss: 0.5534 - val_accuracy: 0.7633\n",
            "Epoch 29/100\n",
            "36/36 [==============================] - 0s 13ms/step - loss: 0.3010 - accuracy: 0.8608 - val_loss: 0.5513 - val_accuracy: 0.7633\n",
            "Epoch 30/100\n",
            "36/36 [==============================] - 0s 10ms/step - loss: 0.3009 - accuracy: 0.8537 - val_loss: 0.5514 - val_accuracy: 0.7633\n",
            "Epoch 31/100\n",
            "36/36 [==============================] - 0s 8ms/step - loss: 0.2998 - accuracy: 0.8636 - val_loss: 0.5541 - val_accuracy: 0.7619\n",
            "Epoch 32/100\n",
            "36/36 [==============================] - 0s 9ms/step - loss: 0.2999 - accuracy: 0.8565 - val_loss: 0.5557 - val_accuracy: 0.7626\n",
            "Epoch 33/100\n",
            "36/36 [==============================] - 0s 9ms/step - loss: 0.2997 - accuracy: 0.8608 - val_loss: 0.5557 - val_accuracy: 0.7605\n",
            "Epoch 34/100\n",
            "36/36 [==============================] - 0s 13ms/step - loss: 0.2996 - accuracy: 0.8565 - val_loss: 0.5568 - val_accuracy: 0.7626\n",
            "Epoch 35/100\n",
            "36/36 [==============================] - 0s 9ms/step - loss: 0.2998 - accuracy: 0.8565 - val_loss: 0.5571 - val_accuracy: 0.7612\n",
            "Epoch 36/100\n",
            "36/36 [==============================] - 0s 8ms/step - loss: 0.2994 - accuracy: 0.8537 - val_loss: 0.5569 - val_accuracy: 0.7619\n",
            "Epoch 37/100\n",
            "36/36 [==============================] - 0s 9ms/step - loss: 0.2993 - accuracy: 0.8551 - val_loss: 0.5550 - val_accuracy: 0.7598\n",
            "Epoch 38/100\n",
            "36/36 [==============================] - 0s 8ms/step - loss: 0.3002 - accuracy: 0.8608 - val_loss: 0.5556 - val_accuracy: 0.7612\n",
            "Epoch 39/100\n",
            "36/36 [==============================] - 0s 13ms/step - loss: 0.2998 - accuracy: 0.8565 - val_loss: 0.5574 - val_accuracy: 0.7619\n",
            "Epoch 40/100\n",
            "36/36 [==============================] - 1s 16ms/step - loss: 0.2997 - accuracy: 0.8608 - val_loss: 0.5575 - val_accuracy: 0.7647\n",
            "Epoch 41/100\n",
            "36/36 [==============================] - 1s 19ms/step - loss: 0.2976 - accuracy: 0.8651 - val_loss: 0.5554 - val_accuracy: 0.7605\n",
            "Epoch 42/100\n",
            "36/36 [==============================] - 0s 6ms/step - loss: 0.2987 - accuracy: 0.8594 - val_loss: 0.5557 - val_accuracy: 0.7619\n",
            "Epoch 43/100\n",
            "36/36 [==============================] - 0s 5ms/step - loss: 0.2980 - accuracy: 0.8594 - val_loss: 0.5566 - val_accuracy: 0.7626\n",
            "Epoch 44/100\n",
            "36/36 [==============================] - 0s 5ms/step - loss: 0.2973 - accuracy: 0.8693 - val_loss: 0.5581 - val_accuracy: 0.7619\n",
            "Epoch 45/100\n",
            "36/36 [==============================] - 0s 6ms/step - loss: 0.2986 - accuracy: 0.8679 - val_loss: 0.5558 - val_accuracy: 0.7605\n",
            "Epoch 46/100\n",
            "36/36 [==============================] - 0s 7ms/step - loss: 0.2978 - accuracy: 0.8565 - val_loss: 0.5572 - val_accuracy: 0.7605\n",
            "Epoch 47/100\n",
            "36/36 [==============================] - 0s 11ms/step - loss: 0.2972 - accuracy: 0.8622 - val_loss: 0.5575 - val_accuracy: 0.7584\n",
            "Epoch 48/100\n",
            "36/36 [==============================] - 1s 15ms/step - loss: 0.2972 - accuracy: 0.8551 - val_loss: 0.5565 - val_accuracy: 0.7591\n",
            "Epoch 49/100\n",
            "36/36 [==============================] - 1s 15ms/step - loss: 0.2970 - accuracy: 0.8594 - val_loss: 0.5602 - val_accuracy: 0.7605\n",
            "Epoch 50/100\n",
            "36/36 [==============================] - 0s 14ms/step - loss: 0.2965 - accuracy: 0.8565 - val_loss: 0.5605 - val_accuracy: 0.7605\n",
            "Epoch 51/100\n",
            "36/36 [==============================] - 0s 14ms/step - loss: 0.2965 - accuracy: 0.8580 - val_loss: 0.5643 - val_accuracy: 0.7605\n",
            "Epoch 52/100\n",
            "36/36 [==============================] - 0s 7ms/step - loss: 0.2955 - accuracy: 0.8608 - val_loss: 0.5602 - val_accuracy: 0.7612\n",
            "Epoch 53/100\n",
            "36/36 [==============================] - 1s 16ms/step - loss: 0.2957 - accuracy: 0.8636 - val_loss: 0.5632 - val_accuracy: 0.7591\n",
            "Epoch 54/100\n",
            "36/36 [==============================] - 0s 13ms/step - loss: 0.2958 - accuracy: 0.8651 - val_loss: 0.5622 - val_accuracy: 0.7633\n",
            "Epoch 55/100\n",
            "36/36 [==============================] - 0s 13ms/step - loss: 0.2960 - accuracy: 0.8636 - val_loss: 0.5622 - val_accuracy: 0.7626\n",
            "Epoch 56/100\n",
            "36/36 [==============================] - 0s 13ms/step - loss: 0.2961 - accuracy: 0.8636 - val_loss: 0.5667 - val_accuracy: 0.7605\n",
            "Epoch 57/100\n",
            "36/36 [==============================] - 0s 13ms/step - loss: 0.2953 - accuracy: 0.8679 - val_loss: 0.5639 - val_accuracy: 0.7598\n",
            "Epoch 58/100\n",
            "36/36 [==============================] - 0s 13ms/step - loss: 0.2953 - accuracy: 0.8580 - val_loss: 0.5630 - val_accuracy: 0.7591\n",
            "Epoch 59/100\n",
            "36/36 [==============================] - 0s 13ms/step - loss: 0.2939 - accuracy: 0.8608 - val_loss: 0.5660 - val_accuracy: 0.7598\n",
            "Epoch 60/100\n",
            "36/36 [==============================] - 0s 14ms/step - loss: 0.2955 - accuracy: 0.8651 - val_loss: 0.5660 - val_accuracy: 0.7591\n",
            "Epoch 61/100\n",
            "36/36 [==============================] - 0s 7ms/step - loss: 0.2959 - accuracy: 0.8679 - val_loss: 0.5642 - val_accuracy: 0.7576\n",
            "Epoch 62/100\n",
            "36/36 [==============================] - 0s 5ms/step - loss: 0.2949 - accuracy: 0.8651 - val_loss: 0.5670 - val_accuracy: 0.7619\n",
            "Epoch 63/100\n",
            "36/36 [==============================] - 0s 6ms/step - loss: 0.2953 - accuracy: 0.8651 - val_loss: 0.5657 - val_accuracy: 0.7619\n",
            "Epoch 64/100\n",
            "36/36 [==============================] - 0s 5ms/step - loss: 0.2943 - accuracy: 0.8580 - val_loss: 0.5673 - val_accuracy: 0.7619\n",
            "Epoch 65/100\n",
            "36/36 [==============================] - 0s 5ms/step - loss: 0.2939 - accuracy: 0.8594 - val_loss: 0.5669 - val_accuracy: 0.7584\n",
            "Epoch 66/100\n",
            "36/36 [==============================] - 0s 5ms/step - loss: 0.2946 - accuracy: 0.8679 - val_loss: 0.5668 - val_accuracy: 0.7598\n",
            "Epoch 67/100\n",
            "36/36 [==============================] - 0s 6ms/step - loss: 0.2962 - accuracy: 0.8622 - val_loss: 0.5675 - val_accuracy: 0.7584\n",
            "Epoch 68/100\n",
            "36/36 [==============================] - 0s 5ms/step - loss: 0.2932 - accuracy: 0.8636 - val_loss: 0.5684 - val_accuracy: 0.7598\n",
            "Epoch 69/100\n",
            "36/36 [==============================] - 0s 7ms/step - loss: 0.2922 - accuracy: 0.8608 - val_loss: 0.5687 - val_accuracy: 0.7576\n",
            "Epoch 70/100\n",
            "36/36 [==============================] - 0s 5ms/step - loss: 0.2934 - accuracy: 0.8622 - val_loss: 0.5707 - val_accuracy: 0.7562\n",
            "Epoch 71/100\n",
            "36/36 [==============================] - 0s 6ms/step - loss: 0.2931 - accuracy: 0.8622 - val_loss: 0.5747 - val_accuracy: 0.7576\n",
            "Epoch 72/100\n",
            "36/36 [==============================] - 0s 5ms/step - loss: 0.2925 - accuracy: 0.8608 - val_loss: 0.5703 - val_accuracy: 0.7591\n",
            "Epoch 73/100\n",
            "36/36 [==============================] - 0s 5ms/step - loss: 0.2923 - accuracy: 0.8665 - val_loss: 0.5726 - val_accuracy: 0.7591\n",
            "Epoch 74/100\n",
            "36/36 [==============================] - 0s 6ms/step - loss: 0.2927 - accuracy: 0.8551 - val_loss: 0.5753 - val_accuracy: 0.7591\n",
            "Epoch 75/100\n",
            "36/36 [==============================] - 0s 7ms/step - loss: 0.2930 - accuracy: 0.8622 - val_loss: 0.5782 - val_accuracy: 0.7562\n",
            "Epoch 76/100\n",
            "36/36 [==============================] - 0s 5ms/step - loss: 0.2919 - accuracy: 0.8665 - val_loss: 0.5749 - val_accuracy: 0.7576\n",
            "Epoch 77/100\n",
            "36/36 [==============================] - 0s 5ms/step - loss: 0.2918 - accuracy: 0.8651 - val_loss: 0.5740 - val_accuracy: 0.7555\n",
            "Epoch 78/100\n",
            "36/36 [==============================] - 0s 5ms/step - loss: 0.2914 - accuracy: 0.8622 - val_loss: 0.5744 - val_accuracy: 0.7569\n",
            "Epoch 79/100\n",
            "36/36 [==============================] - 0s 6ms/step - loss: 0.2916 - accuracy: 0.8722 - val_loss: 0.5742 - val_accuracy: 0.7555\n",
            "Epoch 80/100\n",
            "36/36 [==============================] - 0s 6ms/step - loss: 0.2901 - accuracy: 0.8651 - val_loss: 0.5757 - val_accuracy: 0.7569\n",
            "Epoch 81/100\n",
            "36/36 [==============================] - 0s 5ms/step - loss: 0.2917 - accuracy: 0.8594 - val_loss: 0.5777 - val_accuracy: 0.7569\n",
            "Epoch 82/100\n",
            "36/36 [==============================] - 0s 5ms/step - loss: 0.2902 - accuracy: 0.8679 - val_loss: 0.5768 - val_accuracy: 0.7569\n",
            "Epoch 83/100\n",
            "36/36 [==============================] - 0s 7ms/step - loss: 0.2900 - accuracy: 0.8622 - val_loss: 0.5782 - val_accuracy: 0.7584\n",
            "Epoch 84/100\n",
            "36/36 [==============================] - 0s 9ms/step - loss: 0.2910 - accuracy: 0.8651 - val_loss: 0.5792 - val_accuracy: 0.7576\n",
            "Epoch 85/100\n",
            "36/36 [==============================] - 0s 13ms/step - loss: 0.2904 - accuracy: 0.8622 - val_loss: 0.5757 - val_accuracy: 0.7555\n",
            "Epoch 86/100\n",
            "36/36 [==============================] - 0s 13ms/step - loss: 0.2895 - accuracy: 0.8722 - val_loss: 0.5781 - val_accuracy: 0.7527\n",
            "Epoch 87/100\n",
            "36/36 [==============================] - 0s 13ms/step - loss: 0.2897 - accuracy: 0.8693 - val_loss: 0.5785 - val_accuracy: 0.7569\n",
            "Epoch 88/100\n",
            "36/36 [==============================] - 0s 13ms/step - loss: 0.2898 - accuracy: 0.8693 - val_loss: 0.5792 - val_accuracy: 0.7562\n",
            "Epoch 89/100\n",
            "36/36 [==============================] - 0s 8ms/step - loss: 0.2911 - accuracy: 0.8693 - val_loss: 0.5779 - val_accuracy: 0.7569\n",
            "Epoch 90/100\n",
            "36/36 [==============================] - 0s 8ms/step - loss: 0.2903 - accuracy: 0.8608 - val_loss: 0.5799 - val_accuracy: 0.7598\n",
            "Epoch 91/100\n",
            "36/36 [==============================] - 0s 9ms/step - loss: 0.2887 - accuracy: 0.8665 - val_loss: 0.5809 - val_accuracy: 0.7555\n",
            "Epoch 92/100\n",
            "36/36 [==============================] - 1s 26ms/step - loss: 0.2899 - accuracy: 0.8594 - val_loss: 0.5797 - val_accuracy: 0.7534\n",
            "Epoch 93/100\n",
            "36/36 [==============================] - 0s 9ms/step - loss: 0.2908 - accuracy: 0.8665 - val_loss: 0.5790 - val_accuracy: 0.7548\n",
            "Epoch 94/100\n",
            "36/36 [==============================] - 0s 7ms/step - loss: 0.2890 - accuracy: 0.8608 - val_loss: 0.5786 - val_accuracy: 0.7555\n",
            "Epoch 95/100\n",
            "36/36 [==============================] - 0s 5ms/step - loss: 0.2874 - accuracy: 0.8665 - val_loss: 0.5818 - val_accuracy: 0.7576\n",
            "Epoch 96/100\n",
            "36/36 [==============================] - 0s 5ms/step - loss: 0.2876 - accuracy: 0.8665 - val_loss: 0.5809 - val_accuracy: 0.7584\n",
            "Epoch 97/100\n",
            "36/36 [==============================] - 0s 5ms/step - loss: 0.2875 - accuracy: 0.8665 - val_loss: 0.5802 - val_accuracy: 0.7498\n",
            "Epoch 98/100\n",
            "36/36 [==============================] - 0s 7ms/step - loss: 0.2886 - accuracy: 0.8622 - val_loss: 0.5840 - val_accuracy: 0.7562\n",
            "Epoch 99/100\n",
            "36/36 [==============================] - 0s 6ms/step - loss: 0.2864 - accuracy: 0.8665 - val_loss: 0.5820 - val_accuracy: 0.7569\n",
            "Epoch 100/100\n",
            "36/36 [==============================] - 0s 5ms/step - loss: 0.2885 - accuracy: 0.8622 - val_loss: 0.5870 - val_accuracy: 0.7548\n"
          ]
        }
      ]
    },
    {
      "cell_type": "markdown",
      "source": [
        "### Model Evaluation"
      ],
      "metadata": {
        "id": "CbIq0-LtRgzS"
      }
    },
    {
      "cell_type": "code",
      "source": [
        "metrics_pipetensor = pd.DataFrame(model_pipetensor.history)\n",
        "metrics_pipetensor.head()"
      ],
      "metadata": {
        "colab": {
          "base_uri": "https://localhost:8080/",
          "height": 206
        },
        "id": "piXLXoj1RjeN",
        "outputId": "7b0b84c4-c53b-4468-bb30-465c9400e65e"
      },
      "execution_count": 80,
      "outputs": [
        {
          "output_type": "execute_result",
          "data": {
            "text/plain": [
              "       loss  accuracy  val_loss  val_accuracy\n",
              "0  0.306367  0.860795  0.540031      0.758351\n",
              "1  0.306008  0.860795  0.541782      0.763326\n",
              "2  0.305374  0.857955  0.540357      0.758351\n",
              "3  0.305974  0.863636  0.541847      0.761194\n",
              "4  0.306127  0.855114  0.542287      0.759773"
            ],
            "text/html": [
              "\n",
              "  <div id=\"df-8ce4c5c1-21e7-41fd-aa46-98b773865620\">\n",
              "    <div class=\"colab-df-container\">\n",
              "      <div>\n",
              "<style scoped>\n",
              "    .dataframe tbody tr th:only-of-type {\n",
              "        vertical-align: middle;\n",
              "    }\n",
              "\n",
              "    .dataframe tbody tr th {\n",
              "        vertical-align: top;\n",
              "    }\n",
              "\n",
              "    .dataframe thead th {\n",
              "        text-align: right;\n",
              "    }\n",
              "</style>\n",
              "<table border=\"1\" class=\"dataframe\">\n",
              "  <thead>\n",
              "    <tr style=\"text-align: right;\">\n",
              "      <th></th>\n",
              "      <th>loss</th>\n",
              "      <th>accuracy</th>\n",
              "      <th>val_loss</th>\n",
              "      <th>val_accuracy</th>\n",
              "    </tr>\n",
              "  </thead>\n",
              "  <tbody>\n",
              "    <tr>\n",
              "      <th>0</th>\n",
              "      <td>0.306367</td>\n",
              "      <td>0.860795</td>\n",
              "      <td>0.540031</td>\n",
              "      <td>0.758351</td>\n",
              "    </tr>\n",
              "    <tr>\n",
              "      <th>1</th>\n",
              "      <td>0.306008</td>\n",
              "      <td>0.860795</td>\n",
              "      <td>0.541782</td>\n",
              "      <td>0.763326</td>\n",
              "    </tr>\n",
              "    <tr>\n",
              "      <th>2</th>\n",
              "      <td>0.305374</td>\n",
              "      <td>0.857955</td>\n",
              "      <td>0.540357</td>\n",
              "      <td>0.758351</td>\n",
              "    </tr>\n",
              "    <tr>\n",
              "      <th>3</th>\n",
              "      <td>0.305974</td>\n",
              "      <td>0.863636</td>\n",
              "      <td>0.541847</td>\n",
              "      <td>0.761194</td>\n",
              "    </tr>\n",
              "    <tr>\n",
              "      <th>4</th>\n",
              "      <td>0.306127</td>\n",
              "      <td>0.855114</td>\n",
              "      <td>0.542287</td>\n",
              "      <td>0.759773</td>\n",
              "    </tr>\n",
              "  </tbody>\n",
              "</table>\n",
              "</div>\n",
              "      <button class=\"colab-df-convert\" onclick=\"convertToInteractive('df-8ce4c5c1-21e7-41fd-aa46-98b773865620')\"\n",
              "              title=\"Convert this dataframe to an interactive table.\"\n",
              "              style=\"display:none;\">\n",
              "        \n",
              "  <svg xmlns=\"http://www.w3.org/2000/svg\" height=\"24px\"viewBox=\"0 0 24 24\"\n",
              "       width=\"24px\">\n",
              "    <path d=\"M0 0h24v24H0V0z\" fill=\"none\"/>\n",
              "    <path d=\"M18.56 5.44l.94 2.06.94-2.06 2.06-.94-2.06-.94-.94-2.06-.94 2.06-2.06.94zm-11 1L8.5 8.5l.94-2.06 2.06-.94-2.06-.94L8.5 2.5l-.94 2.06-2.06.94zm10 10l.94 2.06.94-2.06 2.06-.94-2.06-.94-.94-2.06-.94 2.06-2.06.94z\"/><path d=\"M17.41 7.96l-1.37-1.37c-.4-.4-.92-.59-1.43-.59-.52 0-1.04.2-1.43.59L10.3 9.45l-7.72 7.72c-.78.78-.78 2.05 0 2.83L4 21.41c.39.39.9.59 1.41.59.51 0 1.02-.2 1.41-.59l7.78-7.78 2.81-2.81c.8-.78.8-2.07 0-2.86zM5.41 20L4 18.59l7.72-7.72 1.47 1.35L5.41 20z\"/>\n",
              "  </svg>\n",
              "      </button>\n",
              "      \n",
              "  <style>\n",
              "    .colab-df-container {\n",
              "      display:flex;\n",
              "      flex-wrap:wrap;\n",
              "      gap: 12px;\n",
              "    }\n",
              "\n",
              "    .colab-df-convert {\n",
              "      background-color: #E8F0FE;\n",
              "      border: none;\n",
              "      border-radius: 50%;\n",
              "      cursor: pointer;\n",
              "      display: none;\n",
              "      fill: #1967D2;\n",
              "      height: 32px;\n",
              "      padding: 0 0 0 0;\n",
              "      width: 32px;\n",
              "    }\n",
              "\n",
              "    .colab-df-convert:hover {\n",
              "      background-color: #E2EBFA;\n",
              "      box-shadow: 0px 1px 2px rgba(60, 64, 67, 0.3), 0px 1px 3px 1px rgba(60, 64, 67, 0.15);\n",
              "      fill: #174EA6;\n",
              "    }\n",
              "\n",
              "    [theme=dark] .colab-df-convert {\n",
              "      background-color: #3B4455;\n",
              "      fill: #D2E3FC;\n",
              "    }\n",
              "\n",
              "    [theme=dark] .colab-df-convert:hover {\n",
              "      background-color: #434B5C;\n",
              "      box-shadow: 0px 1px 3px 1px rgba(0, 0, 0, 0.15);\n",
              "      filter: drop-shadow(0px 1px 2px rgba(0, 0, 0, 0.3));\n",
              "      fill: #FFFFFF;\n",
              "    }\n",
              "  </style>\n",
              "\n",
              "      <script>\n",
              "        const buttonEl =\n",
              "          document.querySelector('#df-8ce4c5c1-21e7-41fd-aa46-98b773865620 button.colab-df-convert');\n",
              "        buttonEl.style.display =\n",
              "          google.colab.kernel.accessAllowed ? 'block' : 'none';\n",
              "\n",
              "        async function convertToInteractive(key) {\n",
              "          const element = document.querySelector('#df-8ce4c5c1-21e7-41fd-aa46-98b773865620');\n",
              "          const dataTable =\n",
              "            await google.colab.kernel.invokeFunction('convertToInteractive',\n",
              "                                                     [key], {});\n",
              "          if (!dataTable) return;\n",
              "\n",
              "          const docLinkHtml = 'Like what you see? Visit the ' +\n",
              "            '<a target=\"_blank\" href=https://colab.research.google.com/notebooks/data_table.ipynb>data table notebook</a>'\n",
              "            + ' to learn more about interactive tables.';\n",
              "          element.innerHTML = '';\n",
              "          dataTable['output_type'] = 'display_data';\n",
              "          await google.colab.output.renderOutput(dataTable, element);\n",
              "          const docLink = document.createElement('div');\n",
              "          docLink.innerHTML = docLinkHtml;\n",
              "          element.appendChild(docLink);\n",
              "        }\n",
              "      </script>\n",
              "    </div>\n",
              "  </div>\n",
              "  "
            ]
          },
          "metadata": {},
          "execution_count": 80
        }
      ]
    },
    {
      "cell_type": "code",
      "source": [
        "y_pred_test_pipe = model.predict(test_df)\n",
        "y_pred_test_pipe = np.where(y_pred_test_pipe > 0.5, 1 , 0)"
      ],
      "metadata": {
        "id": "MJK4h6GZQ9wZ"
      },
      "execution_count": 86,
      "outputs": []
    },
    {
      "cell_type": "code",
      "source": [
        "print('-------------------------Test-------------------------')\n",
        "print('Classification Reports X_test')\n",
        "print(classification_report(y_test, y_pred_test_pipe))"
      ],
      "metadata": {
        "colab": {
          "base_uri": "https://localhost:8080/"
        },
        "id": "_oVF9CUERHhL",
        "outputId": "f1c1c5ca-6a9b-48b4-cf8b-0da7b32e5492"
      },
      "execution_count": 87,
      "outputs": [
        {
          "output_type": "stream",
          "name": "stdout",
          "text": [
            "-------------------------Test-------------------------\n",
            "Classification Reports X_test\n",
            "              precision    recall  f1-score   support\n",
            "\n",
            "           0       0.73      0.75      0.74       517\n",
            "           1       0.25      0.23      0.24       187\n",
            "\n",
            "    accuracy                           0.61       704\n",
            "   macro avg       0.49      0.49      0.49       704\n",
            "weighted avg       0.60      0.61      0.61       704\n",
            "\n"
          ]
        }
      ]
    },
    {
      "cell_type": "code",
      "source": [
        "# Save model and pipline for deployment\n",
        "import pickle\n",
        "model.save('model.h5')\n",
        "\n",
        "with open(\"input_pipeline.pkl\", \"wb\") as f:\n",
        "    pickle.dump(input_pipeline, f)"
      ],
      "metadata": {
        "id": "fUHu0cz9RgFJ"
      },
      "execution_count": 88,
      "outputs": []
    },
    {
      "cell_type": "markdown",
      "source": [
        "# Model Inference"
      ],
      "metadata": {
        "id": "HgOjwQ7ASeem"
      }
    },
    {
      "cell_type": "code",
      "source": [
        "predictions = model.predict(X_test_trf)\n",
        "predictions[:5]"
      ],
      "metadata": {
        "colab": {
          "base_uri": "https://localhost:8080/"
        },
        "id": "tNRKLjp-SgFQ",
        "outputId": "541d38a3-b200-4a65-9b21-3448b736ae7e"
      },
      "execution_count": 91,
      "outputs": [
        {
          "output_type": "execute_result",
          "data": {
            "text/plain": [
              "array([[7.3356479e-02],\n",
              "       [1.7015088e-07],\n",
              "       [2.2331178e-03],\n",
              "       [7.2361231e-02],\n",
              "       [3.0869097e-01]], dtype=float32)"
            ]
          },
          "metadata": {},
          "execution_count": 91
        }
      ]
    },
    {
      "cell_type": "code",
      "source": [
        "y_pred = []\n",
        "\n",
        "for val in predictions:\n",
        "    if val > 0.5:\n",
        "        y_pred.append(1)\n",
        "    else:\n",
        "        y_pred.append(0)\n",
        "            \n",
        "y_pred[:10]"
      ],
      "metadata": {
        "colab": {
          "base_uri": "https://localhost:8080/"
        },
        "id": "7dktoly2Syji",
        "outputId": "8e300d48-3b56-4eac-9e84-471db96b4c2c"
      },
      "execution_count": 92,
      "outputs": [
        {
          "output_type": "execute_result",
          "data": {
            "text/plain": [
              "[0, 0, 0, 0, 0, 0, 1, 0, 0, 0]"
            ]
          },
          "metadata": {},
          "execution_count": 92
        }
      ]
    },
    {
      "cell_type": "code",
      "source": [
        "df_true_pred = pd.DataFrame({'y_test':y_test, 'y_pred':y_pred}) \n",
        "df_true_pred[:10]"
      ],
      "metadata": {
        "colab": {
          "base_uri": "https://localhost:8080/",
          "height": 363
        },
        "id": "EUPeae-cS1Hl",
        "outputId": "64ab520d-229d-4860-b648-dbb488be5485"
      },
      "execution_count": 93,
      "outputs": [
        {
          "output_type": "execute_result",
          "data": {
            "text/plain": [
              "      y_test  y_pred\n",
              "2404       0       0\n",
              "1035       0       0\n",
              "649        0       0\n",
              "6407       0       0\n",
              "3069       0       0\n",
              "4745       0       0\n",
              "6068       1       1\n",
              "1812       0       0\n",
              "3867       0       0\n",
              "6902       0       0"
            ],
            "text/html": [
              "\n",
              "  <div id=\"df-716a810e-99d5-4b4a-b6c5-85758ca81f75\">\n",
              "    <div class=\"colab-df-container\">\n",
              "      <div>\n",
              "<style scoped>\n",
              "    .dataframe tbody tr th:only-of-type {\n",
              "        vertical-align: middle;\n",
              "    }\n",
              "\n",
              "    .dataframe tbody tr th {\n",
              "        vertical-align: top;\n",
              "    }\n",
              "\n",
              "    .dataframe thead th {\n",
              "        text-align: right;\n",
              "    }\n",
              "</style>\n",
              "<table border=\"1\" class=\"dataframe\">\n",
              "  <thead>\n",
              "    <tr style=\"text-align: right;\">\n",
              "      <th></th>\n",
              "      <th>y_test</th>\n",
              "      <th>y_pred</th>\n",
              "    </tr>\n",
              "  </thead>\n",
              "  <tbody>\n",
              "    <tr>\n",
              "      <th>2404</th>\n",
              "      <td>0</td>\n",
              "      <td>0</td>\n",
              "    </tr>\n",
              "    <tr>\n",
              "      <th>1035</th>\n",
              "      <td>0</td>\n",
              "      <td>0</td>\n",
              "    </tr>\n",
              "    <tr>\n",
              "      <th>649</th>\n",
              "      <td>0</td>\n",
              "      <td>0</td>\n",
              "    </tr>\n",
              "    <tr>\n",
              "      <th>6407</th>\n",
              "      <td>0</td>\n",
              "      <td>0</td>\n",
              "    </tr>\n",
              "    <tr>\n",
              "      <th>3069</th>\n",
              "      <td>0</td>\n",
              "      <td>0</td>\n",
              "    </tr>\n",
              "    <tr>\n",
              "      <th>4745</th>\n",
              "      <td>0</td>\n",
              "      <td>0</td>\n",
              "    </tr>\n",
              "    <tr>\n",
              "      <th>6068</th>\n",
              "      <td>1</td>\n",
              "      <td>1</td>\n",
              "    </tr>\n",
              "    <tr>\n",
              "      <th>1812</th>\n",
              "      <td>0</td>\n",
              "      <td>0</td>\n",
              "    </tr>\n",
              "    <tr>\n",
              "      <th>3867</th>\n",
              "      <td>0</td>\n",
              "      <td>0</td>\n",
              "    </tr>\n",
              "    <tr>\n",
              "      <th>6902</th>\n",
              "      <td>0</td>\n",
              "      <td>0</td>\n",
              "    </tr>\n",
              "  </tbody>\n",
              "</table>\n",
              "</div>\n",
              "      <button class=\"colab-df-convert\" onclick=\"convertToInteractive('df-716a810e-99d5-4b4a-b6c5-85758ca81f75')\"\n",
              "              title=\"Convert this dataframe to an interactive table.\"\n",
              "              style=\"display:none;\">\n",
              "        \n",
              "  <svg xmlns=\"http://www.w3.org/2000/svg\" height=\"24px\"viewBox=\"0 0 24 24\"\n",
              "       width=\"24px\">\n",
              "    <path d=\"M0 0h24v24H0V0z\" fill=\"none\"/>\n",
              "    <path d=\"M18.56 5.44l.94 2.06.94-2.06 2.06-.94-2.06-.94-.94-2.06-.94 2.06-2.06.94zm-11 1L8.5 8.5l.94-2.06 2.06-.94-2.06-.94L8.5 2.5l-.94 2.06-2.06.94zm10 10l.94 2.06.94-2.06 2.06-.94-2.06-.94-.94-2.06-.94 2.06-2.06.94z\"/><path d=\"M17.41 7.96l-1.37-1.37c-.4-.4-.92-.59-1.43-.59-.52 0-1.04.2-1.43.59L10.3 9.45l-7.72 7.72c-.78.78-.78 2.05 0 2.83L4 21.41c.39.39.9.59 1.41.59.51 0 1.02-.2 1.41-.59l7.78-7.78 2.81-2.81c.8-.78.8-2.07 0-2.86zM5.41 20L4 18.59l7.72-7.72 1.47 1.35L5.41 20z\"/>\n",
              "  </svg>\n",
              "      </button>\n",
              "      \n",
              "  <style>\n",
              "    .colab-df-container {\n",
              "      display:flex;\n",
              "      flex-wrap:wrap;\n",
              "      gap: 12px;\n",
              "    }\n",
              "\n",
              "    .colab-df-convert {\n",
              "      background-color: #E8F0FE;\n",
              "      border: none;\n",
              "      border-radius: 50%;\n",
              "      cursor: pointer;\n",
              "      display: none;\n",
              "      fill: #1967D2;\n",
              "      height: 32px;\n",
              "      padding: 0 0 0 0;\n",
              "      width: 32px;\n",
              "    }\n",
              "\n",
              "    .colab-df-convert:hover {\n",
              "      background-color: #E2EBFA;\n",
              "      box-shadow: 0px 1px 2px rgba(60, 64, 67, 0.3), 0px 1px 3px 1px rgba(60, 64, 67, 0.15);\n",
              "      fill: #174EA6;\n",
              "    }\n",
              "\n",
              "    [theme=dark] .colab-df-convert {\n",
              "      background-color: #3B4455;\n",
              "      fill: #D2E3FC;\n",
              "    }\n",
              "\n",
              "    [theme=dark] .colab-df-convert:hover {\n",
              "      background-color: #434B5C;\n",
              "      box-shadow: 0px 1px 3px 1px rgba(0, 0, 0, 0.15);\n",
              "      filter: drop-shadow(0px 1px 2px rgba(0, 0, 0, 0.3));\n",
              "      fill: #FFFFFF;\n",
              "    }\n",
              "  </style>\n",
              "\n",
              "      <script>\n",
              "        const buttonEl =\n",
              "          document.querySelector('#df-716a810e-99d5-4b4a-b6c5-85758ca81f75 button.colab-df-convert');\n",
              "        buttonEl.style.display =\n",
              "          google.colab.kernel.accessAllowed ? 'block' : 'none';\n",
              "\n",
              "        async function convertToInteractive(key) {\n",
              "          const element = document.querySelector('#df-716a810e-99d5-4b4a-b6c5-85758ca81f75');\n",
              "          const dataTable =\n",
              "            await google.colab.kernel.invokeFunction('convertToInteractive',\n",
              "                                                     [key], {});\n",
              "          if (!dataTable) return;\n",
              "\n",
              "          const docLinkHtml = 'Like what you see? Visit the ' +\n",
              "            '<a target=\"_blank\" href=https://colab.research.google.com/notebooks/data_table.ipynb>data table notebook</a>'\n",
              "            + ' to learn more about interactive tables.';\n",
              "          element.innerHTML = '';\n",
              "          dataTable['output_type'] = 'display_data';\n",
              "          await google.colab.output.renderOutput(dataTable, element);\n",
              "          const docLink = document.createElement('div');\n",
              "          docLink.innerHTML = docLinkHtml;\n",
              "          element.appendChild(docLink);\n",
              "        }\n",
              "      </script>\n",
              "    </div>\n",
              "  </div>\n",
              "  "
            ]
          },
          "metadata": {},
          "execution_count": 93
        }
      ]
    },
    {
      "cell_type": "code",
      "source": [
        "df_true_pred['y_test'].replace({1: 'Yes',0: 'No'},inplace=True)"
      ],
      "metadata": {
        "id": "0PE-IBKPS_OF"
      },
      "execution_count": 95,
      "outputs": []
    },
    {
      "cell_type": "code",
      "source": [
        "df_true_pred['y_pred'].replace({1: 'Yes',0: 'No'},inplace=True)"
      ],
      "metadata": {
        "id": "Usdx_iUXTRNN"
      },
      "execution_count": 97,
      "outputs": []
    },
    {
      "cell_type": "code",
      "source": [
        "df_true_pred.head(10)"
      ],
      "metadata": {
        "colab": {
          "base_uri": "https://localhost:8080/",
          "height": 363
        },
        "id": "1Qnsr4VwTVZQ",
        "outputId": "06cbc661-fcea-4e27-d1b6-08c889f4c306"
      },
      "execution_count": 98,
      "outputs": [
        {
          "output_type": "execute_result",
          "data": {
            "text/plain": [
              "     y_test y_pred\n",
              "2404     No     No\n",
              "1035     No     No\n",
              "649      No     No\n",
              "6407     No     No\n",
              "3069     No     No\n",
              "4745     No     No\n",
              "6068    Yes    Yes\n",
              "1812     No     No\n",
              "3867     No     No\n",
              "6902     No     No"
            ],
            "text/html": [
              "\n",
              "  <div id=\"df-1592e6bb-4b58-4aa4-8dca-39eeab91ab1b\">\n",
              "    <div class=\"colab-df-container\">\n",
              "      <div>\n",
              "<style scoped>\n",
              "    .dataframe tbody tr th:only-of-type {\n",
              "        vertical-align: middle;\n",
              "    }\n",
              "\n",
              "    .dataframe tbody tr th {\n",
              "        vertical-align: top;\n",
              "    }\n",
              "\n",
              "    .dataframe thead th {\n",
              "        text-align: right;\n",
              "    }\n",
              "</style>\n",
              "<table border=\"1\" class=\"dataframe\">\n",
              "  <thead>\n",
              "    <tr style=\"text-align: right;\">\n",
              "      <th></th>\n",
              "      <th>y_test</th>\n",
              "      <th>y_pred</th>\n",
              "    </tr>\n",
              "  </thead>\n",
              "  <tbody>\n",
              "    <tr>\n",
              "      <th>2404</th>\n",
              "      <td>No</td>\n",
              "      <td>No</td>\n",
              "    </tr>\n",
              "    <tr>\n",
              "      <th>1035</th>\n",
              "      <td>No</td>\n",
              "      <td>No</td>\n",
              "    </tr>\n",
              "    <tr>\n",
              "      <th>649</th>\n",
              "      <td>No</td>\n",
              "      <td>No</td>\n",
              "    </tr>\n",
              "    <tr>\n",
              "      <th>6407</th>\n",
              "      <td>No</td>\n",
              "      <td>No</td>\n",
              "    </tr>\n",
              "    <tr>\n",
              "      <th>3069</th>\n",
              "      <td>No</td>\n",
              "      <td>No</td>\n",
              "    </tr>\n",
              "    <tr>\n",
              "      <th>4745</th>\n",
              "      <td>No</td>\n",
              "      <td>No</td>\n",
              "    </tr>\n",
              "    <tr>\n",
              "      <th>6068</th>\n",
              "      <td>Yes</td>\n",
              "      <td>Yes</td>\n",
              "    </tr>\n",
              "    <tr>\n",
              "      <th>1812</th>\n",
              "      <td>No</td>\n",
              "      <td>No</td>\n",
              "    </tr>\n",
              "    <tr>\n",
              "      <th>3867</th>\n",
              "      <td>No</td>\n",
              "      <td>No</td>\n",
              "    </tr>\n",
              "    <tr>\n",
              "      <th>6902</th>\n",
              "      <td>No</td>\n",
              "      <td>No</td>\n",
              "    </tr>\n",
              "  </tbody>\n",
              "</table>\n",
              "</div>\n",
              "      <button class=\"colab-df-convert\" onclick=\"convertToInteractive('df-1592e6bb-4b58-4aa4-8dca-39eeab91ab1b')\"\n",
              "              title=\"Convert this dataframe to an interactive table.\"\n",
              "              style=\"display:none;\">\n",
              "        \n",
              "  <svg xmlns=\"http://www.w3.org/2000/svg\" height=\"24px\"viewBox=\"0 0 24 24\"\n",
              "       width=\"24px\">\n",
              "    <path d=\"M0 0h24v24H0V0z\" fill=\"none\"/>\n",
              "    <path d=\"M18.56 5.44l.94 2.06.94-2.06 2.06-.94-2.06-.94-.94-2.06-.94 2.06-2.06.94zm-11 1L8.5 8.5l.94-2.06 2.06-.94-2.06-.94L8.5 2.5l-.94 2.06-2.06.94zm10 10l.94 2.06.94-2.06 2.06-.94-2.06-.94-.94-2.06-.94 2.06-2.06.94z\"/><path d=\"M17.41 7.96l-1.37-1.37c-.4-.4-.92-.59-1.43-.59-.52 0-1.04.2-1.43.59L10.3 9.45l-7.72 7.72c-.78.78-.78 2.05 0 2.83L4 21.41c.39.39.9.59 1.41.59.51 0 1.02-.2 1.41-.59l7.78-7.78 2.81-2.81c.8-.78.8-2.07 0-2.86zM5.41 20L4 18.59l7.72-7.72 1.47 1.35L5.41 20z\"/>\n",
              "  </svg>\n",
              "      </button>\n",
              "      \n",
              "  <style>\n",
              "    .colab-df-container {\n",
              "      display:flex;\n",
              "      flex-wrap:wrap;\n",
              "      gap: 12px;\n",
              "    }\n",
              "\n",
              "    .colab-df-convert {\n",
              "      background-color: #E8F0FE;\n",
              "      border: none;\n",
              "      border-radius: 50%;\n",
              "      cursor: pointer;\n",
              "      display: none;\n",
              "      fill: #1967D2;\n",
              "      height: 32px;\n",
              "      padding: 0 0 0 0;\n",
              "      width: 32px;\n",
              "    }\n",
              "\n",
              "    .colab-df-convert:hover {\n",
              "      background-color: #E2EBFA;\n",
              "      box-shadow: 0px 1px 2px rgba(60, 64, 67, 0.3), 0px 1px 3px 1px rgba(60, 64, 67, 0.15);\n",
              "      fill: #174EA6;\n",
              "    }\n",
              "\n",
              "    [theme=dark] .colab-df-convert {\n",
              "      background-color: #3B4455;\n",
              "      fill: #D2E3FC;\n",
              "    }\n",
              "\n",
              "    [theme=dark] .colab-df-convert:hover {\n",
              "      background-color: #434B5C;\n",
              "      box-shadow: 0px 1px 3px 1px rgba(0, 0, 0, 0.15);\n",
              "      filter: drop-shadow(0px 1px 2px rgba(0, 0, 0, 0.3));\n",
              "      fill: #FFFFFF;\n",
              "    }\n",
              "  </style>\n",
              "\n",
              "      <script>\n",
              "        const buttonEl =\n",
              "          document.querySelector('#df-1592e6bb-4b58-4aa4-8dca-39eeab91ab1b button.colab-df-convert');\n",
              "        buttonEl.style.display =\n",
              "          google.colab.kernel.accessAllowed ? 'block' : 'none';\n",
              "\n",
              "        async function convertToInteractive(key) {\n",
              "          const element = document.querySelector('#df-1592e6bb-4b58-4aa4-8dca-39eeab91ab1b');\n",
              "          const dataTable =\n",
              "            await google.colab.kernel.invokeFunction('convertToInteractive',\n",
              "                                                     [key], {});\n",
              "          if (!dataTable) return;\n",
              "\n",
              "          const docLinkHtml = 'Like what you see? Visit the ' +\n",
              "            '<a target=\"_blank\" href=https://colab.research.google.com/notebooks/data_table.ipynb>data table notebook</a>'\n",
              "            + ' to learn more about interactive tables.';\n",
              "          element.innerHTML = '';\n",
              "          dataTable['output_type'] = 'display_data';\n",
              "          await google.colab.output.renderOutput(dataTable, element);\n",
              "          const docLink = document.createElement('div');\n",
              "          docLink.innerHTML = docLinkHtml;\n",
              "          element.appendChild(docLink);\n",
              "        }\n",
              "      </script>\n",
              "    </div>\n",
              "  </div>\n",
              "  "
            ]
          },
          "metadata": {},
          "execution_count": 98
        }
      ]
    },
    {
      "cell_type": "code",
      "source": [
        "print(classification_report(y_test,y_pred))"
      ],
      "metadata": {
        "colab": {
          "base_uri": "https://localhost:8080/"
        },
        "id": "XJc2rbnDS6Ac",
        "outputId": "0e42a149-ccc6-4612-c4d7-fea5c3f5c6f5"
      },
      "execution_count": 94,
      "outputs": [
        {
          "output_type": "stream",
          "name": "stdout",
          "text": [
            "              precision    recall  f1-score   support\n",
            "\n",
            "           0       0.90      0.92      0.91       517\n",
            "           1       0.77      0.71      0.74       187\n",
            "\n",
            "    accuracy                           0.87       704\n",
            "   macro avg       0.83      0.82      0.82       704\n",
            "weighted avg       0.86      0.87      0.86       704\n",
            "\n"
          ]
        }
      ]
    },
    {
      "cell_type": "markdown",
      "source": [
        "From the report we can see that\n",
        "\n",
        "1. Precision, Recall, and F1 score for 'class 0' is more than 90% and around 70% for 'class 1'\n",
        "2. The accuracy of the model was about 87% "
      ],
      "metadata": {
        "id": "xuY1tWq8TlQM"
      }
    },
    {
      "cell_type": "markdown",
      "source": [
        "# Kesimpulan\n"
      ],
      "metadata": {
        "id": "JWsY09nxT3WZ"
      }
    },
    {
      "cell_type": "markdown",
      "source": [
        "## EDA"
      ],
      "metadata": {
        "id": "hXFfvibiWCAE"
      }
    },
    {
      "cell_type": "markdown",
      "source": [
        "1. Data yang didapatkan bersifat imbalance dikarenakan terdapat 73 % No dan 27 % yes\n",
        "\n",
        "2. Jenis kelamin tidak berpengaruh terhadap Churn Ratio\n",
        "\n",
        "3. Semakin sebentar kontrak yang dilakukan semakin besar juga Churn Ratio nya sehingga bisa menjadi masukan untuk perusahaan agar bisa menambahkan daya tarik untuk customer dengan kontrak yang lebih lama"
      ],
      "metadata": {
        "id": "APXEGqSjUEit"
      }
    },
    {
      "cell_type": "markdown",
      "source": [
        "## Overall"
      ],
      "metadata": {
        "id": "YWJuz3C9WEDj"
      }
    },
    {
      "cell_type": "markdown",
      "source": [
        "1. Precision, Recall, and F1 score for 'class 0' is more than 90% and around 70% for 'class 1'\n",
        "2. The accuracy of the model was about 87% "
      ],
      "metadata": {
        "id": "mSSONh9vWNc3"
      }
    }
  ]
}