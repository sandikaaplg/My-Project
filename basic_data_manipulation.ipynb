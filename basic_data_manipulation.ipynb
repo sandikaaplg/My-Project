{
  "cells": [
    {
      "cell_type": "markdown",
      "metadata": {
        "id": "L7XUcbKUTcYa"
      },
      "source": [
        "# 1. Perkenalan\n",
        "    Nama: Sandika\n",
        "    Batch: 008\n",
        "\n",
        "    Kamu adalah seorang data scientist yang bekerja di salah satu perusahaan manufaktur baterai Lithium ion. Tim produksi meminta kamu untuk mengecek apakah baterai yang mereka buat dalam kondisi bagus atau tidak. Sebelum melakukan pengecekan lebih lanjut, kamu diminta untuk menghitung hambatan/resistansi dan Daya setiap detik:\n",
        "R=\\frac{V}{I}\n",
        "\n",
        "P=VI\n",
        "\n",
        "R adalah Hambatan dalam satuan Ohm\n",
        "P adalah Daya dalam Watt\n",
        "I adalah kuat arus dalam satuan Ampere\n",
        "V adalah tegangan dalam satuan Volt\n",
        "a. Buatlah dua fungsi eksplisit masing-masing memuat perhitungan hambatan (R) dan daya (P) yang nantinya akan digunakan untuk perhitungan\n",
        "\n",
        "b. Buat kolom baru dengan nama kolom R/P berisikan hasil perhitungan daya/hambatan dengan kriteria untuk Kapasitas >=2.5 hitung daya, Kapasitas <2.5 hitung nilai hambatan. (Hint: Gunakan for loop dan if statement untuk mengerjakan perintah nomor b, kamu bisa menggunakan list untuk menyimpan perhitungan sementara, setelahnya dapat dimasukkan ke kolom R/P).\n",
        "\n",
        "c. Hitunglah rata-rata nilai kapasitas untuk arus = 1 Ampere dan cycle ganjil."
      ]
    },
    {
      "cell_type": "markdown",
      "metadata": {
        "id": "HzUHi_v_TcYg"
      },
      "source": [
        "# 2. Import Pustaka"
      ]
    },
    {
      "cell_type": "code",
      "execution_count": null,
      "metadata": {
        "id": "qYplvSKMTcYh"
      },
      "outputs": [],
      "source": [
        "import pandas as pd\n",
        "import numpy as np "
      ]
    },
    {
      "cell_type": "code",
      "execution_count": null,
      "metadata": {
        "id": "ck18BGaqTcYj"
      },
      "outputs": [],
      "source": [
        "df = pd.read_csv('dataset/NMC1-9.csv')"
      ]
    },
    {
      "cell_type": "code",
      "execution_count": null,
      "metadata": {
        "id": "wgutdW7KTcYk",
        "outputId": "a576e46f-14d7-4fb8-f15d-5ddc58ed55ac"
      },
      "outputs": [
        {
          "data": {
            "text/html": [
              "<div>\n",
              "<style scoped>\n",
              "    .dataframe tbody tr th:only-of-type {\n",
              "        vertical-align: middle;\n",
              "    }\n",
              "\n",
              "    .dataframe tbody tr th {\n",
              "        vertical-align: top;\n",
              "    }\n",
              "\n",
              "    .dataframe thead th {\n",
              "        text-align: right;\n",
              "    }\n",
              "</style>\n",
              "<table border=\"1\" class=\"dataframe\">\n",
              "  <thead>\n",
              "    <tr style=\"text-align: right;\">\n",
              "      <th></th>\n",
              "      <th>time(s)</th>\n",
              "      <th>V_m</th>\n",
              "      <th>Current (A)</th>\n",
              "      <th>Cycle</th>\n",
              "      <th>Cap</th>\n",
              "    </tr>\n",
              "  </thead>\n",
              "  <tbody>\n",
              "    <tr>\n",
              "      <th>0</th>\n",
              "      <td>0</td>\n",
              "      <td>4.098</td>\n",
              "      <td>0.997</td>\n",
              "      <td>1</td>\n",
              "      <td>2.840817</td>\n",
              "    </tr>\n",
              "    <tr>\n",
              "      <th>1</th>\n",
              "      <td>1</td>\n",
              "      <td>4.096</td>\n",
              "      <td>0.998</td>\n",
              "      <td>1</td>\n",
              "      <td>2.840817</td>\n",
              "    </tr>\n",
              "    <tr>\n",
              "      <th>2</th>\n",
              "      <td>2</td>\n",
              "      <td>4.094</td>\n",
              "      <td>0.999</td>\n",
              "      <td>1</td>\n",
              "      <td>2.840817</td>\n",
              "    </tr>\n",
              "    <tr>\n",
              "      <th>3</th>\n",
              "      <td>3</td>\n",
              "      <td>4.093</td>\n",
              "      <td>0.998</td>\n",
              "      <td>1</td>\n",
              "      <td>2.840817</td>\n",
              "    </tr>\n",
              "    <tr>\n",
              "      <th>4</th>\n",
              "      <td>4</td>\n",
              "      <td>4.092</td>\n",
              "      <td>0.999</td>\n",
              "      <td>1</td>\n",
              "      <td>2.840817</td>\n",
              "    </tr>\n",
              "  </tbody>\n",
              "</table>\n",
              "</div>"
            ],
            "text/plain": [
              "   time(s)    V_m  Current (A)  Cycle       Cap\n",
              "0        0  4.098        0.997      1  2.840817\n",
              "1        1  4.096        0.998      1  2.840817\n",
              "2        2  4.094        0.999      1  2.840817\n",
              "3        3  4.093        0.998      1  2.840817\n",
              "4        4  4.092        0.999      1  2.840817"
            ]
          },
          "execution_count": 5,
          "metadata": {},
          "output_type": "execute_result"
        }
      ],
      "source": [
        "df.head()"
      ]
    },
    {
      "cell_type": "markdown",
      "metadata": {
        "id": "J-WOTtASTcYl"
      },
      "source": [
        "# 3. Pembuatan fungsi"
      ]
    },
    {
      "cell_type": "code",
      "execution_count": null,
      "metadata": {
        "id": "YHEaOPvhTcYm"
      },
      "outputs": [],
      "source": [
        "def resist(volt,int):\n",
        "    hasil = volt/int\n",
        "    return hasil\n",
        "\n",
        "\n",
        "def daya(volt,int):\n",
        "    hasil_k = volt*int\n",
        "    return hasil_k\n"
      ]
    },
    {
      "cell_type": "markdown",
      "metadata": {
        "id": "nIh6Nc40TcYn"
      },
      "source": [
        "implementasi rumus kedalam bentuk fungsi"
      ]
    },
    {
      "cell_type": "code",
      "execution_count": null,
      "metadata": {
        "id": "TIGiLiJpTcYo",
        "outputId": "f10b87ee-809d-4f1b-c187-cc28ee76f42e"
      },
      "outputs": [
        {
          "data": {
            "text/html": [
              "<div>\n",
              "<style scoped>\n",
              "    .dataframe tbody tr th:only-of-type {\n",
              "        vertical-align: middle;\n",
              "    }\n",
              "\n",
              "    .dataframe tbody tr th {\n",
              "        vertical-align: top;\n",
              "    }\n",
              "\n",
              "    .dataframe thead th {\n",
              "        text-align: right;\n",
              "    }\n",
              "</style>\n",
              "<table border=\"1\" class=\"dataframe\">\n",
              "  <thead>\n",
              "    <tr style=\"text-align: right;\">\n",
              "      <th></th>\n",
              "      <th>time(s)</th>\n",
              "      <th>V_m</th>\n",
              "      <th>Current (A)</th>\n",
              "      <th>Cycle</th>\n",
              "      <th>Cap</th>\n",
              "    </tr>\n",
              "  </thead>\n",
              "  <tbody>\n",
              "    <tr>\n",
              "      <th>0</th>\n",
              "      <td>0</td>\n",
              "      <td>4.098</td>\n",
              "      <td>0.997</td>\n",
              "      <td>1</td>\n",
              "      <td>2.840817</td>\n",
              "    </tr>\n",
              "    <tr>\n",
              "      <th>1</th>\n",
              "      <td>1</td>\n",
              "      <td>4.096</td>\n",
              "      <td>0.998</td>\n",
              "      <td>1</td>\n",
              "      <td>2.840817</td>\n",
              "    </tr>\n",
              "    <tr>\n",
              "      <th>2</th>\n",
              "      <td>2</td>\n",
              "      <td>4.094</td>\n",
              "      <td>0.999</td>\n",
              "      <td>1</td>\n",
              "      <td>2.840817</td>\n",
              "    </tr>\n",
              "    <tr>\n",
              "      <th>3</th>\n",
              "      <td>3</td>\n",
              "      <td>4.093</td>\n",
              "      <td>0.998</td>\n",
              "      <td>1</td>\n",
              "      <td>2.840817</td>\n",
              "    </tr>\n",
              "    <tr>\n",
              "      <th>4</th>\n",
              "      <td>4</td>\n",
              "      <td>4.092</td>\n",
              "      <td>0.999</td>\n",
              "      <td>1</td>\n",
              "      <td>2.840817</td>\n",
              "    </tr>\n",
              "  </tbody>\n",
              "</table>\n",
              "</div>"
            ],
            "text/plain": [
              "   time(s)    V_m  Current (A)  Cycle       Cap\n",
              "0        0  4.098        0.997      1  2.840817\n",
              "1        1  4.096        0.998      1  2.840817\n",
              "2        2  4.094        0.999      1  2.840817\n",
              "3        3  4.093        0.998      1  2.840817\n",
              "4        4  4.092        0.999      1  2.840817"
            ]
          },
          "execution_count": 6,
          "metadata": {},
          "output_type": "execute_result"
        }
      ],
      "source": [
        "df.head()"
      ]
    },
    {
      "cell_type": "code",
      "execution_count": null,
      "metadata": {
        "id": "J1Z7oA3PTcYo"
      },
      "outputs": [],
      "source": [
        "df_new = df.copy()"
      ]
    },
    {
      "cell_type": "markdown",
      "metadata": {
        "id": "Ah_Sv1zkTcYp"
      },
      "source": [
        "perintah untuk mengcopy dataset"
      ]
    },
    {
      "cell_type": "code",
      "execution_count": null,
      "metadata": {
        "id": "BqH7dSNETcYp"
      },
      "outputs": [],
      "source": [
        "lk = [] \n",
        "j= 0 \n",
        "for i in df_new['Cap']:\n",
        "    if i<2.5:\n",
        "        lk.append(resist(df_new['V_m'][j],df_new['Current (A)'][j]))\n",
        "    else:\n",
        "        lk.append(daya(df_new['V_m'][j],df_new['Current (A)'][j]))\n",
        "    j=j+1 \n",
        "\n",
        "df_new['R/P'] = lk "
      ]
    },
    {
      "cell_type": "markdown",
      "metadata": {
        "id": "IA0spMXkTcYq"
      },
      "source": [
        "perintah looping dimana command lk.append(resist(df_new['V_m'][j],df_new['Current (A)'][j])) dibaca menjadi tambahkan fungsi lk kedalam tabel dimana Volt=df_new['V_m'][j] & Intensitas =df_new['Current (A)'][j]"
      ]
    },
    {
      "cell_type": "code",
      "execution_count": null,
      "metadata": {
        "id": "jk4IctJRTcYq",
        "outputId": "6665b351-5386-466f-b394-9c7d0882d374"
      },
      "outputs": [
        {
          "data": {
            "text/html": [
              "<div>\n",
              "<style scoped>\n",
              "    .dataframe tbody tr th:only-of-type {\n",
              "        vertical-align: middle;\n",
              "    }\n",
              "\n",
              "    .dataframe tbody tr th {\n",
              "        vertical-align: top;\n",
              "    }\n",
              "\n",
              "    .dataframe thead th {\n",
              "        text-align: right;\n",
              "    }\n",
              "</style>\n",
              "<table border=\"1\" class=\"dataframe\">\n",
              "  <thead>\n",
              "    <tr style=\"text-align: right;\">\n",
              "      <th></th>\n",
              "      <th>time(s)</th>\n",
              "      <th>V_m</th>\n",
              "      <th>Current (A)</th>\n",
              "      <th>Cycle</th>\n",
              "      <th>Cap</th>\n",
              "      <th>R/P</th>\n",
              "    </tr>\n",
              "  </thead>\n",
              "  <tbody>\n",
              "    <tr>\n",
              "      <th>0</th>\n",
              "      <td>0</td>\n",
              "      <td>4.098</td>\n",
              "      <td>0.997</td>\n",
              "      <td>1</td>\n",
              "      <td>2.840817</td>\n",
              "      <td>4.085706</td>\n",
              "    </tr>\n",
              "    <tr>\n",
              "      <th>1</th>\n",
              "      <td>1</td>\n",
              "      <td>4.096</td>\n",
              "      <td>0.998</td>\n",
              "      <td>1</td>\n",
              "      <td>2.840817</td>\n",
              "      <td>4.087808</td>\n",
              "    </tr>\n",
              "    <tr>\n",
              "      <th>2</th>\n",
              "      <td>2</td>\n",
              "      <td>4.094</td>\n",
              "      <td>0.999</td>\n",
              "      <td>1</td>\n",
              "      <td>2.840817</td>\n",
              "      <td>4.089906</td>\n",
              "    </tr>\n",
              "    <tr>\n",
              "      <th>3</th>\n",
              "      <td>3</td>\n",
              "      <td>4.093</td>\n",
              "      <td>0.998</td>\n",
              "      <td>1</td>\n",
              "      <td>2.840817</td>\n",
              "      <td>4.084814</td>\n",
              "    </tr>\n",
              "    <tr>\n",
              "      <th>4</th>\n",
              "      <td>4</td>\n",
              "      <td>4.092</td>\n",
              "      <td>0.999</td>\n",
              "      <td>1</td>\n",
              "      <td>2.840817</td>\n",
              "      <td>4.087908</td>\n",
              "    </tr>\n",
              "  </tbody>\n",
              "</table>\n",
              "</div>"
            ],
            "text/plain": [
              "   time(s)    V_m  Current (A)  Cycle       Cap       R/P\n",
              "0        0  4.098        0.997      1  2.840817  4.085706\n",
              "1        1  4.096        0.998      1  2.840817  4.087808\n",
              "2        2  4.094        0.999      1  2.840817  4.089906\n",
              "3        3  4.093        0.998      1  2.840817  4.084814\n",
              "4        4  4.092        0.999      1  2.840817  4.087908"
            ]
          },
          "execution_count": 14,
          "metadata": {},
          "output_type": "execute_result"
        }
      ],
      "source": [
        "df_new.head()"
      ]
    },
    {
      "cell_type": "code",
      "execution_count": null,
      "metadata": {
        "id": "43o9nofMTcYr"
      },
      "outputs": [],
      "source": [
        "df_baru=df_new[\n",
        "    (df_new['Current (A)']==1)&\n",
        "    (df_new['Cycle']%2==1)\n",
        "]"
      ]
    },
    {
      "cell_type": "markdown",
      "metadata": {
        "id": "kIJTD3KdTcYr"
      },
      "source": [
        "query untuk data intensitas ==1 dan siklus ganjil"
      ]
    },
    {
      "cell_type": "code",
      "execution_count": null,
      "metadata": {
        "id": "dsYLRYHeTcYs",
        "outputId": "00f834fe-c5c3-4340-8b1b-1bb950b995e8"
      },
      "outputs": [
        {
          "data": {
            "text/html": [
              "<div>\n",
              "<style scoped>\n",
              "    .dataframe tbody tr th:only-of-type {\n",
              "        vertical-align: middle;\n",
              "    }\n",
              "\n",
              "    .dataframe tbody tr th {\n",
              "        vertical-align: top;\n",
              "    }\n",
              "\n",
              "    .dataframe thead th {\n",
              "        text-align: right;\n",
              "    }\n",
              "</style>\n",
              "<table border=\"1\" class=\"dataframe\">\n",
              "  <thead>\n",
              "    <tr style=\"text-align: right;\">\n",
              "      <th></th>\n",
              "      <th>time(s)</th>\n",
              "      <th>V_m</th>\n",
              "      <th>Current (A)</th>\n",
              "      <th>Cycle</th>\n",
              "      <th>Cap</th>\n",
              "      <th>R/P</th>\n",
              "    </tr>\n",
              "  </thead>\n",
              "  <tbody>\n",
              "    <tr>\n",
              "      <th>15</th>\n",
              "      <td>15</td>\n",
              "      <td>4.085</td>\n",
              "      <td>1.0</td>\n",
              "      <td>1</td>\n",
              "      <td>2.840817</td>\n",
              "      <td>4.085</td>\n",
              "    </tr>\n",
              "    <tr>\n",
              "      <th>19</th>\n",
              "      <td>19</td>\n",
              "      <td>4.083</td>\n",
              "      <td>1.0</td>\n",
              "      <td>1</td>\n",
              "      <td>2.840817</td>\n",
              "      <td>4.083</td>\n",
              "    </tr>\n",
              "    <tr>\n",
              "      <th>20</th>\n",
              "      <td>20</td>\n",
              "      <td>4.083</td>\n",
              "      <td>1.0</td>\n",
              "      <td>1</td>\n",
              "      <td>2.840817</td>\n",
              "      <td>4.083</td>\n",
              "    </tr>\n",
              "    <tr>\n",
              "      <th>21</th>\n",
              "      <td>21</td>\n",
              "      <td>4.082</td>\n",
              "      <td>1.0</td>\n",
              "      <td>1</td>\n",
              "      <td>2.840817</td>\n",
              "      <td>4.082</td>\n",
              "    </tr>\n",
              "    <tr>\n",
              "      <th>31</th>\n",
              "      <td>31</td>\n",
              "      <td>4.079</td>\n",
              "      <td>1.0</td>\n",
              "      <td>1</td>\n",
              "      <td>2.840817</td>\n",
              "      <td>4.079</td>\n",
              "    </tr>\n",
              "    <tr>\n",
              "      <th>32</th>\n",
              "      <td>32</td>\n",
              "      <td>4.078</td>\n",
              "      <td>1.0</td>\n",
              "      <td>1</td>\n",
              "      <td>2.840817</td>\n",
              "      <td>4.078</td>\n",
              "    </tr>\n",
              "    <tr>\n",
              "      <th>36</th>\n",
              "      <td>36</td>\n",
              "      <td>4.077</td>\n",
              "      <td>1.0</td>\n",
              "      <td>1</td>\n",
              "      <td>2.840817</td>\n",
              "      <td>4.077</td>\n",
              "    </tr>\n",
              "    <tr>\n",
              "      <th>46</th>\n",
              "      <td>46</td>\n",
              "      <td>4.074</td>\n",
              "      <td>1.0</td>\n",
              "      <td>1</td>\n",
              "      <td>2.840817</td>\n",
              "      <td>4.074</td>\n",
              "    </tr>\n",
              "    <tr>\n",
              "      <th>67</th>\n",
              "      <td>67</td>\n",
              "      <td>4.068</td>\n",
              "      <td>1.0</td>\n",
              "      <td>1</td>\n",
              "      <td>2.840817</td>\n",
              "      <td>4.068</td>\n",
              "    </tr>\n",
              "    <tr>\n",
              "      <th>68</th>\n",
              "      <td>68</td>\n",
              "      <td>4.068</td>\n",
              "      <td>1.0</td>\n",
              "      <td>1</td>\n",
              "      <td>2.840817</td>\n",
              "      <td>4.068</td>\n",
              "    </tr>\n",
              "  </tbody>\n",
              "</table>\n",
              "</div>"
            ],
            "text/plain": [
              "    time(s)    V_m  Current (A)  Cycle       Cap    R/P\n",
              "15       15  4.085          1.0      1  2.840817  4.085\n",
              "19       19  4.083          1.0      1  2.840817  4.083\n",
              "20       20  4.083          1.0      1  2.840817  4.083\n",
              "21       21  4.082          1.0      1  2.840817  4.082\n",
              "31       31  4.079          1.0      1  2.840817  4.079\n",
              "32       32  4.078          1.0      1  2.840817  4.078\n",
              "36       36  4.077          1.0      1  2.840817  4.077\n",
              "46       46  4.074          1.0      1  2.840817  4.074\n",
              "67       67  4.068          1.0      1  2.840817  4.068\n",
              "68       68  4.068          1.0      1  2.840817  4.068"
            ]
          },
          "execution_count": 24,
          "metadata": {},
          "output_type": "execute_result"
        }
      ],
      "source": [
        "df_baru.head(10)"
      ]
    },
    {
      "cell_type": "code",
      "execution_count": null,
      "metadata": {
        "id": "Nm20TWDeTcYt",
        "outputId": "fcf09f7d-b05d-43c2-ceca-9acb9a1c4c4e"
      },
      "outputs": [
        {
          "data": {
            "text/html": [
              "<div>\n",
              "<style scoped>\n",
              "    .dataframe tbody tr th:only-of-type {\n",
              "        vertical-align: middle;\n",
              "    }\n",
              "\n",
              "    .dataframe tbody tr th {\n",
              "        vertical-align: top;\n",
              "    }\n",
              "\n",
              "    .dataframe thead th {\n",
              "        text-align: right;\n",
              "    }\n",
              "</style>\n",
              "<table border=\"1\" class=\"dataframe\">\n",
              "  <thead>\n",
              "    <tr style=\"text-align: right;\">\n",
              "      <th></th>\n",
              "      <th>time(s)</th>\n",
              "      <th>V_m</th>\n",
              "      <th>Current (A)</th>\n",
              "      <th>Cycle</th>\n",
              "      <th>Cap</th>\n",
              "      <th>R/P</th>\n",
              "    </tr>\n",
              "  </thead>\n",
              "  <tbody>\n",
              "    <tr>\n",
              "      <th>count</th>\n",
              "      <td>6830.000000</td>\n",
              "      <td>6830.000000</td>\n",
              "      <td>6830.0</td>\n",
              "      <td>6830.000000</td>\n",
              "      <td>6830.000000</td>\n",
              "      <td>6830.000000</td>\n",
              "    </tr>\n",
              "    <tr>\n",
              "      <th>mean</th>\n",
              "      <td>44253.645095</td>\n",
              "      <td>3.615658</td>\n",
              "      <td>1.0</td>\n",
              "      <td>4.863836</td>\n",
              "      <td>2.806485</td>\n",
              "      <td>3.615658</td>\n",
              "    </tr>\n",
              "    <tr>\n",
              "      <th>std</th>\n",
              "      <td>28494.629896</td>\n",
              "      <td>0.314388</td>\n",
              "      <td>0.0</td>\n",
              "      <td>2.815074</td>\n",
              "      <td>0.025059</td>\n",
              "      <td>0.314388</td>\n",
              "    </tr>\n",
              "    <tr>\n",
              "      <th>min</th>\n",
              "      <td>15.000000</td>\n",
              "      <td>2.502000</td>\n",
              "      <td>1.0</td>\n",
              "      <td>1.000000</td>\n",
              "      <td>2.770180</td>\n",
              "      <td>2.502000</td>\n",
              "    </tr>\n",
              "    <tr>\n",
              "      <th>25%</th>\n",
              "      <td>22583.500000</td>\n",
              "      <td>3.428000</td>\n",
              "      <td>1.0</td>\n",
              "      <td>3.000000</td>\n",
              "      <td>2.786860</td>\n",
              "      <td>3.428000</td>\n",
              "    </tr>\n",
              "    <tr>\n",
              "      <th>50%</th>\n",
              "      <td>44150.500000</td>\n",
              "      <td>3.641500</td>\n",
              "      <td>1.0</td>\n",
              "      <td>5.000000</td>\n",
              "      <td>2.804878</td>\n",
              "      <td>3.641500</td>\n",
              "    </tr>\n",
              "    <tr>\n",
              "      <th>75%</th>\n",
              "      <td>67595.500000</td>\n",
              "      <td>3.875000</td>\n",
              "      <td>1.0</td>\n",
              "      <td>7.000000</td>\n",
              "      <td>2.823520</td>\n",
              "      <td>3.875000</td>\n",
              "    </tr>\n",
              "    <tr>\n",
              "      <th>max</th>\n",
              "      <td>90967.000000</td>\n",
              "      <td>4.110000</td>\n",
              "      <td>1.0</td>\n",
              "      <td>9.000000</td>\n",
              "      <td>2.840817</td>\n",
              "      <td>4.110000</td>\n",
              "    </tr>\n",
              "  </tbody>\n",
              "</table>\n",
              "</div>"
            ],
            "text/plain": [
              "            time(s)          V_m  Current (A)        Cycle          Cap  \\\n",
              "count   6830.000000  6830.000000       6830.0  6830.000000  6830.000000   \n",
              "mean   44253.645095     3.615658          1.0     4.863836     2.806485   \n",
              "std    28494.629896     0.314388          0.0     2.815074     0.025059   \n",
              "min       15.000000     2.502000          1.0     1.000000     2.770180   \n",
              "25%    22583.500000     3.428000          1.0     3.000000     2.786860   \n",
              "50%    44150.500000     3.641500          1.0     5.000000     2.804878   \n",
              "75%    67595.500000     3.875000          1.0     7.000000     2.823520   \n",
              "max    90967.000000     4.110000          1.0     9.000000     2.840817   \n",
              "\n",
              "               R/P  \n",
              "count  6830.000000  \n",
              "mean      3.615658  \n",
              "std       0.314388  \n",
              "min       2.502000  \n",
              "25%       3.428000  \n",
              "50%       3.641500  \n",
              "75%       3.875000  \n",
              "max       4.110000  "
            ]
          },
          "execution_count": 25,
          "metadata": {},
          "output_type": "execute_result"
        }
      ],
      "source": [
        "df_baru.describe()"
      ]
    },
    {
      "cell_type": "markdown",
      "metadata": {
        "id": "CZkL9P33TcYt"
      },
      "source": [
        "diambil kesimpulan rata rata nilai kapasitas adalah 2.806485"
      ]
    },
    {
      "cell_type": "code",
      "execution_count": null,
      "metadata": {
        "id": "0tE5C8QWTcYu",
        "outputId": "6de228d7-3935-416b-bda7-41dc9e984b6a"
      },
      "outputs": [
        {
          "data": {
            "text/html": [
              "<div>\n",
              "<style scoped>\n",
              "    .dataframe tbody tr th:only-of-type {\n",
              "        vertical-align: middle;\n",
              "    }\n",
              "\n",
              "    .dataframe tbody tr th {\n",
              "        vertical-align: top;\n",
              "    }\n",
              "\n",
              "    .dataframe thead th {\n",
              "        text-align: right;\n",
              "    }\n",
              "</style>\n",
              "<table border=\"1\" class=\"dataframe\">\n",
              "  <thead>\n",
              "    <tr style=\"text-align: right;\">\n",
              "      <th></th>\n",
              "      <th>Waktu</th>\n",
              "      <th>Voltase</th>\n",
              "      <th>Intensitas</th>\n",
              "      <th>Siklus</th>\n",
              "      <th>Kapasitas</th>\n",
              "      <th>R/P</th>\n",
              "    </tr>\n",
              "  </thead>\n",
              "  <tbody>\n",
              "    <tr>\n",
              "      <th>15</th>\n",
              "      <td>15</td>\n",
              "      <td>4.085</td>\n",
              "      <td>1.0</td>\n",
              "      <td>1</td>\n",
              "      <td>2.840817</td>\n",
              "      <td>4.085</td>\n",
              "    </tr>\n",
              "    <tr>\n",
              "      <th>19</th>\n",
              "      <td>19</td>\n",
              "      <td>4.083</td>\n",
              "      <td>1.0</td>\n",
              "      <td>1</td>\n",
              "      <td>2.840817</td>\n",
              "      <td>4.083</td>\n",
              "    </tr>\n",
              "    <tr>\n",
              "      <th>20</th>\n",
              "      <td>20</td>\n",
              "      <td>4.083</td>\n",
              "      <td>1.0</td>\n",
              "      <td>1</td>\n",
              "      <td>2.840817</td>\n",
              "      <td>4.083</td>\n",
              "    </tr>\n",
              "    <tr>\n",
              "      <th>21</th>\n",
              "      <td>21</td>\n",
              "      <td>4.082</td>\n",
              "      <td>1.0</td>\n",
              "      <td>1</td>\n",
              "      <td>2.840817</td>\n",
              "      <td>4.082</td>\n",
              "    </tr>\n",
              "    <tr>\n",
              "      <th>31</th>\n",
              "      <td>31</td>\n",
              "      <td>4.079</td>\n",
              "      <td>1.0</td>\n",
              "      <td>1</td>\n",
              "      <td>2.840817</td>\n",
              "      <td>4.079</td>\n",
              "    </tr>\n",
              "    <tr>\n",
              "      <th>...</th>\n",
              "      <td>...</td>\n",
              "      <td>...</td>\n",
              "      <td>...</td>\n",
              "      <td>...</td>\n",
              "      <td>...</td>\n",
              "      <td>...</td>\n",
              "    </tr>\n",
              "    <tr>\n",
              "      <th>90909</th>\n",
              "      <td>90909</td>\n",
              "      <td>2.640</td>\n",
              "      <td>1.0</td>\n",
              "      <td>9</td>\n",
              "      <td>2.770180</td>\n",
              "      <td>2.640</td>\n",
              "    </tr>\n",
              "    <tr>\n",
              "      <th>90923</th>\n",
              "      <td>90923</td>\n",
              "      <td>2.615</td>\n",
              "      <td>1.0</td>\n",
              "      <td>9</td>\n",
              "      <td>2.770180</td>\n",
              "      <td>2.615</td>\n",
              "    </tr>\n",
              "    <tr>\n",
              "      <th>90937</th>\n",
              "      <td>90937</td>\n",
              "      <td>2.589</td>\n",
              "      <td>1.0</td>\n",
              "      <td>9</td>\n",
              "      <td>2.770180</td>\n",
              "      <td>2.589</td>\n",
              "    </tr>\n",
              "    <tr>\n",
              "      <th>90949</th>\n",
              "      <td>90949</td>\n",
              "      <td>2.565</td>\n",
              "      <td>1.0</td>\n",
              "      <td>9</td>\n",
              "      <td>2.770180</td>\n",
              "      <td>2.565</td>\n",
              "    </tr>\n",
              "    <tr>\n",
              "      <th>90967</th>\n",
              "      <td>90967</td>\n",
              "      <td>2.528</td>\n",
              "      <td>1.0</td>\n",
              "      <td>9</td>\n",
              "      <td>2.770180</td>\n",
              "      <td>2.528</td>\n",
              "    </tr>\n",
              "  </tbody>\n",
              "</table>\n",
              "<p>6830 rows × 6 columns</p>\n",
              "</div>"
            ],
            "text/plain": [
              "       Waktu  Voltase  Intensitas  Siklus  Kapasitas    R/P\n",
              "15        15    4.085         1.0       1   2.840817  4.085\n",
              "19        19    4.083         1.0       1   2.840817  4.083\n",
              "20        20    4.083         1.0       1   2.840817  4.083\n",
              "21        21    4.082         1.0       1   2.840817  4.082\n",
              "31        31    4.079         1.0       1   2.840817  4.079\n",
              "...      ...      ...         ...     ...        ...    ...\n",
              "90909  90909    2.640         1.0       9   2.770180  2.640\n",
              "90923  90923    2.615         1.0       9   2.770180  2.615\n",
              "90937  90937    2.589         1.0       9   2.770180  2.589\n",
              "90949  90949    2.565         1.0       9   2.770180  2.565\n",
              "90967  90967    2.528         1.0       9   2.770180  2.528\n",
              "\n",
              "[6830 rows x 6 columns]"
            ]
          },
          "execution_count": 26,
          "metadata": {},
          "output_type": "execute_result"
        }
      ],
      "source": [
        "df_baru.rename(columns={'time(s)':'Waktu','V_m':'Voltase','Current (A)':'Intensitas','Cycle':'Siklus', 'Cap':'Kapasitas'})"
      ]
    },
    {
      "cell_type": "markdown",
      "metadata": {
        "id": "SKulMypJTcYu"
      },
      "source": [
        "penambahan nama baru agar lebih estetik :)"
      ]
    }
  ],
  "metadata": {
    "interpreter": {
      "hash": "c43cc35bf10d47ee272d24c9e8f3a3c68ece12bba4bc202b3d531e99134b684d"
    },
    "kernelspec": {
      "display_name": "Python 3.10.1 64-bit",
      "language": "python",
      "name": "python3"
    },
    "language_info": {
      "codemirror_mode": {
        "name": "ipython",
        "version": 3
      },
      "file_extension": ".py",
      "mimetype": "text/x-python",
      "name": "python",
      "nbconvert_exporter": "python",
      "pygments_lexer": "ipython3",
      "version": "3.9.7"
    },
    "orig_nbformat": 4,
    "colab": {
      "name": "basic_data_manipulation.ipynb",
      "provenance": []
    }
  },
  "nbformat": 4,
  "nbformat_minor": 0
}