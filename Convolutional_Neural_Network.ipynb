{
  "nbformat": 4,
  "nbformat_minor": 0,
  "metadata": {
    "colab": {
      "name": "h8dsft_Milestone2P2_Sandika.ipynb",
      "provenance": [],
      "collapsed_sections": []
    },
    "kernelspec": {
      "name": "python3",
      "display_name": "Python 3"
    },
    "language_info": {
      "name": "python"
    },
    "accelerator": "GPU"
  },
  "cells": [
    {
      "cell_type": "markdown",
      "source": [
        "# Perkenalan \n",
        "\n",
        "Nama / Batch = Sandika / 008\n",
        "\n",
        "Data yang akan digunakan untuk Milestone 2 Phase 2 ini adalah :    \n",
        "\n",
        "https://www.kaggle.com/datasets/jonathanoheix/face-expression-recognition-dataset\n",
        "\n",
        "data ini akan digunakan untuk mendeteksi mood wajah menggunakan metode CNN"
      ],
      "metadata": {
        "id": "wHgL6bk6_hNH"
      }
    },
    {
      "cell_type": "markdown",
      "source": [
        "https://colab.research.google.com/drive/1hF6m_AxdeXllxuj-h8XGBQOzGM0dWjUg?usp=sharing"
      ],
      "metadata": {
        "id": "O45KiB2xPTQI"
      }
    },
    {
      "cell_type": "markdown",
      "source": [
        "Dashboard Heroku\n",
        "\n",
        "https://sandika-milestone2.herokuapp.com/"
      ],
      "metadata": {
        "id": "Nx7opplgqxGs"
      }
    },
    {
      "cell_type": "markdown",
      "source": [
        "# Import Pustaka"
      ],
      "metadata": {
        "id": "ApOQCM-t_5_b"
      }
    },
    {
      "cell_type": "code",
      "execution_count": null,
      "metadata": {
        "id": "v6nDNweTroFg"
      },
      "outputs": [],
      "source": [
        "import matplotlib.pyplot as plt\n",
        "import numpy as np\n",
        "import pandas as pd\n",
        "import seaborn as sns\n",
        "import os\n",
        "import tensorflow as tf\n",
        "\n",
        "from keras.preprocessing.image import load_img, img_to_array\n",
        "from keras.preprocessing.image import ImageDataGenerator\n",
        "from keras.layers import Dense,Input,Dropout,GlobalAveragePooling2D,Flatten,Conv2D,BatchNormalization,Activation,MaxPooling2D\n",
        "from keras.models import Model,Sequential\n",
        "from tensorflow.keras.optimizers import Adam,SGD,RMSprop\n",
        "from keras.callbacks import ModelCheckpoint, EarlyStopping, ReduceLROnPlateau\n",
        "from tensorflow import keras\n",
        "from tensorflow.keras import layers\n",
        "import matplotlib.image as mpimg\n",
        "from tensorflow.io import read_file\n",
        "from tensorflow.image import decode_image, resize\n"
      ]
    },
    {
      "cell_type": "markdown",
      "source": [
        "# Data Loading"
      ],
      "metadata": {
        "id": "4mfG1_Gn_76n"
      }
    },
    {
      "cell_type": "code",
      "source": [
        "from google.colab import drive\n",
        "drive.mount('/content/gdrive')"
      ],
      "metadata": {
        "id": "XIQ3201AzN04",
        "colab": {
          "base_uri": "https://localhost:8080/"
        },
        "outputId": "e531c162-999f-4731-bdf6-9794a9c52815"
      },
      "execution_count": null,
      "outputs": [
        {
          "output_type": "stream",
          "name": "stdout",
          "text": [
            "Mounted at /content/gdrive\n"
          ]
        }
      ]
    },
    {
      "cell_type": "code",
      "source": [
        "% cd /content/gdrive/MyDrive/images"
      ],
      "metadata": {
        "colab": {
          "base_uri": "https://localhost:8080/"
        },
        "id": "w-XSWLWjrcKJ",
        "outputId": "64e88e45-5985-464f-8790-d2b1e45e2e83"
      },
      "execution_count": null,
      "outputs": [
        {
          "output_type": "stream",
          "name": "stdout",
          "text": [
            "/content/gdrive/MyDrive/images\n"
          ]
        }
      ]
    },
    {
      "cell_type": "code",
      "source": [
        "# cek\n",
        "! pwd"
      ],
      "metadata": {
        "colab": {
          "base_uri": "https://localhost:8080/"
        },
        "id": "xC8cARJ2rhFh",
        "outputId": "bb376e9d-b487-400b-b52e-ebff689923ba"
      },
      "execution_count": null,
      "outputs": [
        {
          "output_type": "stream",
          "name": "stdout",
          "text": [
            "/content/gdrive/MyDrive/images\n"
          ]
        }
      ]
    },
    {
      "cell_type": "markdown",
      "source": [
        "# EDA"
      ],
      "metadata": {
        "id": "Awt6LCFnrkqO"
      }
    },
    {
      "cell_type": "code",
      "source": [
        "# resize image menjadi 48\n",
        "picture_size = 48\n",
        "folder_path= '/content/gdrive/My Drive/images/'"
      ],
      "metadata": {
        "id": "MEjMYHfouZ-F"
      },
      "execution_count": null,
      "outputs": []
    },
    {
      "cell_type": "code",
      "source": [
        "# eksplorasi direktori dataset\n",
        "for dirpath, dirnames, filenames in os.walk('/content/gdrive/MyDrive/images/validation'):\n",
        "  print(f\"Ada {len(dirnames)} folder dan {len(filenames)} gambar di direktori {dirpath}\")"
      ],
      "metadata": {
        "colab": {
          "base_uri": "https://localhost:8080/"
        },
        "id": "qIc-DmOXrkUY",
        "outputId": "587bf72d-fd8d-44f2-96fd-3c43416d2d75"
      },
      "execution_count": null,
      "outputs": [
        {
          "output_type": "stream",
          "name": "stdout",
          "text": [
            "Ada 7 folder dan 0 gambar di direktori /content/gdrive/MyDrive/images/validation\n",
            "Ada 0 folder dan 960 gambar di direktori /content/gdrive/MyDrive/images/validation/angry\n",
            "Ada 0 folder dan 1216 gambar di direktori /content/gdrive/MyDrive/images/validation/neutral\n",
            "Ada 0 folder dan 1825 gambar di direktori /content/gdrive/MyDrive/images/validation/happy\n",
            "Ada 0 folder dan 1139 gambar di direktori /content/gdrive/MyDrive/images/validation/sad\n",
            "Ada 0 folder dan 1018 gambar di direktori /content/gdrive/MyDrive/images/validation/fear\n",
            "Ada 0 folder dan 797 gambar di direktori /content/gdrive/MyDrive/images/validation/surprise\n",
            "Ada 0 folder dan 111 gambar di direktori /content/gdrive/MyDrive/images/validation/disgust\n"
          ]
        }
      ]
    },
    {
      "cell_type": "code",
      "source": [
        "for dirpath, dirnames, filenames in os.walk('/content/gdrive/MyDrive/images/train'):\n",
        "  print(f\"Ada {len(dirnames)} folder dan {len(filenames)} gambar di direktori {dirpath}\")"
      ],
      "metadata": {
        "colab": {
          "base_uri": "https://localhost:8080/"
        },
        "id": "vAbBT3hgSPX5",
        "outputId": "e4203c2c-a01e-490e-b68f-54e967b39e2f"
      },
      "execution_count": null,
      "outputs": [
        {
          "output_type": "stream",
          "name": "stdout",
          "text": [
            "Ada 7 folder dan 0 gambar di direktori /content/gdrive/MyDrive/images/train\n",
            "Ada 0 folder dan 4982 gambar di direktori /content/gdrive/MyDrive/images/train/neutral\n",
            "Ada 0 folder dan 4161 gambar di direktori /content/gdrive/MyDrive/images/train/sad\n",
            "Ada 0 folder dan 3205 gambar di direktori /content/gdrive/MyDrive/images/train/surprise\n",
            "Ada 0 folder dan 436 gambar di direktori /content/gdrive/MyDrive/images/train/disgust\n",
            "Ada 0 folder dan 4103 gambar di direktori /content/gdrive/MyDrive/images/train/fear\n",
            "Ada 0 folder dan 3993 gambar di direktori /content/gdrive/MyDrive/images/train/angry\n",
            "Ada 0 folder dan 7164 gambar di direktori /content/gdrive/MyDrive/images/train/happy\n"
          ]
        }
      ]
    },
    {
      "cell_type": "code",
      "source": [
        "import pathlib\n",
        "import numpy as np\n",
        "data_dir = pathlib.Path(\"/content/gdrive/MyDrive/images/train\")\n",
        "class_names = np.array(sorted([item.name for item in data_dir.glob('*')]))\n",
        "print(class_names)"
      ],
      "metadata": {
        "colab": {
          "base_uri": "https://localhost:8080/"
        },
        "id": "MQmQqVGBuF41",
        "outputId": "7a3770c2-6f08-460f-a997-6888a473c74b"
      },
      "execution_count": null,
      "outputs": [
        {
          "output_type": "stream",
          "name": "stdout",
          "text": [
            "['angry' 'disgust' 'fear' 'happy' 'neutral' 'sad' 'surprise']\n"
          ]
        }
      ]
    },
    {
      "cell_type": "markdown",
      "source": [
        "proses mencari tau kategori yang ada di dalam data"
      ],
      "metadata": {
        "id": "uC6vz4_S_-8l"
      }
    },
    {
      "cell_type": "code",
      "source": [
        "expression = 'sad'\n",
        "\n",
        "plt.figure(figsize= (12,12))\n",
        "for i in range(1, 10, 1):\n",
        "    plt.subplot(3,3,i)\n",
        "    img = load_img(folder_path+\"train/\"+expression+\"/\"+\n",
        "                  os.listdir(folder_path + \"train/\" + expression)[i], target_size=(picture_size, picture_size))\n",
        "    plt.imshow(img)   \n",
        "plt.show()"
      ],
      "metadata": {
        "colab": {
          "base_uri": "https://localhost:8080/",
          "height": 702
        },
        "id": "yv_N6JNRvaQi",
        "outputId": "5a3065f2-caa6-4524-93f0-60908d8aba8d"
      },
      "execution_count": null,
      "outputs": [
        {
          "output_type": "display_data",
          "data": {
            "text/plain": [
              "<Figure size 864x864 with 9 Axes>"
            ],
            "image/png": "[encoded data removed]"
          },
          "metadata": {
            "needs_background": "light"
          }
        }
      ]
    },
    {
      "cell_type": "markdown",
      "source": [
        "memunculkan wajah dengan kategori 'sad'"
      ],
      "metadata": {
        "id": "59xKCW-HACkj"
      }
    },
    {
      "cell_type": "markdown",
      "source": [
        "# Data Preprocessing"
      ],
      "metadata": {
        "id": "wkHo72CyuKrD"
      }
    },
    {
      "cell_type": "code",
      "source": [
        "batch_size  = 128\n",
        "\n",
        "datagen_train  = ImageDataGenerator(rescale=1./255, shear_range=0.2, zoom_range=0.2, horizontal_flip=True)\n",
        "datagen_val = ImageDataGenerator(rescale=1./255)\n",
        "\n",
        "train_set = datagen_train.flow_from_directory(folder_path+\"train\",\n",
        "                                              target_size = (picture_size,picture_size),\n",
        "                                              color_mode = \"grayscale\",\n",
        "                                              batch_size=batch_size,\n",
        "                                              class_mode='categorical',\n",
        "                                              shuffle=True)\n",
        "\n",
        "\n",
        "test_set = datagen_val.flow_from_directory(folder_path+\"validation\",\n",
        "                                              target_size = (picture_size,picture_size),\n",
        "                                              color_mode = \"grayscale\",\n",
        "                                              batch_size=batch_size,\n",
        "                                              class_mode='categorical',\n",
        "                                              shuffle=False)"
      ],
      "metadata": {
        "colab": {
          "base_uri": "https://localhost:8080/"
        },
        "id": "EfbauNjgvo7H",
        "outputId": "dd1cd226-6c32-4923-a06f-41e51bfe2ed1"
      },
      "execution_count": null,
      "outputs": [
        {
          "output_type": "stream",
          "name": "stdout",
          "text": [
            "Found 28044 images belonging to 7 classes.\n",
            "Found 7066 images belonging to 7 classes.\n"
          ]
        }
      ]
    },
    {
      "cell_type": "markdown",
      "source": [
        "# Model Training, Fit & Evaluation"
      ],
      "metadata": {
        "id": "KLfOngIfwKp1"
      }
    },
    {
      "cell_type": "code",
      "source": [
        "# proses pembuatan Arsitektur Data\n",
        "no_of_classes = 7\n",
        "\n",
        "model = Sequential()\n",
        "\n",
        "#1st CNN layer\n",
        "model.add(Conv2D(64,(3,3),padding = 'same',input_shape = (48,48,1)))\n",
        "model.add(BatchNormalization())\n",
        "model.add(Activation('relu'))\n",
        "model.add(MaxPooling2D(pool_size = (2,2)))\n",
        "model.add(Dropout(0.25))\n",
        "\n",
        "#2nd CNN layer\n",
        "model.add(Conv2D(128,(5,5),padding = 'same'))\n",
        "model.add(BatchNormalization())\n",
        "model.add(Activation('relu'))\n",
        "model.add(MaxPooling2D(pool_size = (2,2)))\n",
        "model.add(Dropout (0.25))\n",
        "\n",
        "#3rd CNN layer\n",
        "model.add(Conv2D(512,(3,3),padding = 'same'))\n",
        "model.add(BatchNormalization())\n",
        "model.add(Activation('relu'))\n",
        "model.add(MaxPooling2D(pool_size = (2,2)))\n",
        "model.add(Dropout (0.25))\n",
        "\n",
        "#4th CNN layer\n",
        "model.add(Conv2D(512,(3,3), padding='same'))\n",
        "model.add(BatchNormalization())\n",
        "model.add(Activation('relu'))\n",
        "model.add(MaxPooling2D(pool_size=(2, 2)))\n",
        "model.add(Dropout(0.25))\n",
        "\n",
        "model.add(Flatten())\n",
        "\n",
        "#Fully connected 1st layer\n",
        "model.add(Dense(256))\n",
        "model.add(BatchNormalization())\n",
        "model.add(Activation('relu'))\n",
        "model.add(Dropout(0.25))\n",
        "\n",
        "\n",
        "# Fully connected layer 2nd layer\n",
        "model.add(Dense(512))\n",
        "model.add(BatchNormalization())\n",
        "model.add(Activation('relu'))\n",
        "model.add(Dropout(0.25))\n",
        "\n",
        "model.add(Dense(no_of_classes, activation='softmax'))\n",
        "\n",
        "\n",
        "\n",
        "opt = Adam(learning_rate = 0.0001)\n",
        "model.compile(optimizer=opt,loss='categorical_crossentropy', metrics=['accuracy'])\n",
        "model.summary()\n",
        "\n"
      ],
      "metadata": {
        "colab": {
          "base_uri": "https://localhost:8080/"
        },
        "id": "80kzvdcivvfl",
        "outputId": "ec3123b4-16c1-4de2-b2ac-da145e68fe30"
      },
      "execution_count": null,
      "outputs": [
        {
          "output_type": "stream",
          "name": "stdout",
          "text": [
            "Model: \"sequential_7\"\n",
            "_________________________________________________________________\n",
            " Layer (type)                Output Shape              Param #   \n",
            "=================================================================\n",
            " conv2d_27 (Conv2D)          (None, 48, 48, 64)        640       \n",
            "                                                                 \n",
            " batch_normalization_36 (Bat  (None, 48, 48, 64)       256       \n",
            " chNormalization)                                                \n",
            "                                                                 \n",
            " activation_36 (Activation)  (None, 48, 48, 64)        0         \n",
            "                                                                 \n",
            " max_pooling2d_27 (MaxPoolin  (None, 24, 24, 64)       0         \n",
            " g2D)                                                            \n",
            "                                                                 \n",
            " dropout_36 (Dropout)        (None, 24, 24, 64)        0         \n",
            "                                                                 \n",
            " conv2d_28 (Conv2D)          (None, 24, 24, 128)       204928    \n",
            "                                                                 \n",
            " batch_normalization_37 (Bat  (None, 24, 24, 128)      512       \n",
            " chNormalization)                                                \n",
            "                                                                 \n",
            " activation_37 (Activation)  (None, 24, 24, 128)       0         \n",
            "                                                                 \n",
            " max_pooling2d_28 (MaxPoolin  (None, 12, 12, 128)      0         \n",
            " g2D)                                                            \n",
            "                                                                 \n",
            " dropout_37 (Dropout)        (None, 12, 12, 128)       0         \n",
            "                                                                 \n",
            " conv2d_29 (Conv2D)          (None, 12, 12, 512)       590336    \n",
            "                                                                 \n",
            " batch_normalization_38 (Bat  (None, 12, 12, 512)      2048      \n",
            " chNormalization)                                                \n",
            "                                                                 \n",
            " activation_38 (Activation)  (None, 12, 12, 512)       0         \n",
            "                                                                 \n",
            " max_pooling2d_29 (MaxPoolin  (None, 6, 6, 512)        0         \n",
            " g2D)                                                            \n",
            "                                                                 \n",
            " dropout_38 (Dropout)        (None, 6, 6, 512)         0         \n",
            "                                                                 \n",
            " conv2d_30 (Conv2D)          (None, 6, 6, 512)         2359808   \n",
            "                                                                 \n",
            " batch_normalization_39 (Bat  (None, 6, 6, 512)        2048      \n",
            " chNormalization)                                                \n",
            "                                                                 \n",
            " activation_39 (Activation)  (None, 6, 6, 512)         0         \n",
            "                                                                 \n",
            " max_pooling2d_30 (MaxPoolin  (None, 3, 3, 512)        0         \n",
            " g2D)                                                            \n",
            "                                                                 \n",
            " dropout_39 (Dropout)        (None, 3, 3, 512)         0         \n",
            "                                                                 \n",
            " flatten_7 (Flatten)         (None, 4608)              0         \n",
            "                                                                 \n",
            " dense_20 (Dense)            (None, 256)               1179904   \n",
            "                                                                 \n",
            " batch_normalization_40 (Bat  (None, 256)              1024      \n",
            " chNormalization)                                                \n",
            "                                                                 \n",
            " activation_40 (Activation)  (None, 256)               0         \n",
            "                                                                 \n",
            " dropout_40 (Dropout)        (None, 256)               0         \n",
            "                                                                 \n",
            " dense_21 (Dense)            (None, 512)               131584    \n",
            "                                                                 \n",
            " batch_normalization_41 (Bat  (None, 512)              2048      \n",
            " chNormalization)                                                \n",
            "                                                                 \n",
            " activation_41 (Activation)  (None, 512)               0         \n",
            "                                                                 \n",
            " dropout_41 (Dropout)        (None, 512)               0         \n",
            "                                                                 \n",
            " dense_22 (Dense)            (None, 7)                 3591      \n",
            "                                                                 \n",
            "=================================================================\n",
            "Total params: 4,478,727\n",
            "Trainable params: 4,474,759\n",
            "Non-trainable params: 3,968\n",
            "_________________________________________________________________\n"
          ]
        }
      ]
    },
    {
      "cell_type": "code",
      "source": [
        "metric = 'val_accuracy'\n",
        "checkpoint = ModelCheckpoint(\"./model.h5\", monitor=metric, verbose=1, save_best_only=True, mode='max')\n",
        "\n",
        "early_stopping = EarlyStopping(monitor='val_loss',\n",
        "                          min_delta=0,\n",
        "                          patience=3,\n",
        "                          verbose=1,\n",
        "                          restore_best_weights=True\n",
        "                          )\n",
        "\n",
        "reduce_learningrate = ReduceLROnPlateau(monitor='val_loss',\n",
        "                              factor=0.2,\n",
        "                              patience=3,\n",
        "                              verbose=1,\n",
        "                              min_delta=0.0001)\n",
        "\n",
        "callbacks_list = [early_stopping,checkpoint,reduce_learningrate]\n",
        "# callback save best model only\n",
        "epochs = 21\n",
        "\n",
        "model.compile(loss='categorical_crossentropy',\n",
        "              optimizer = Adam(learning_rate=0.001),\n",
        "              metrics=['accuracy'])"
      ],
      "metadata": {
        "id": "SkWtZJCSv7AP"
      },
      "execution_count": null,
      "outputs": []
    },
    {
      "cell_type": "markdown",
      "source": [
        "proses compiling model dengan membuat early stopping dimana proses fit akan berhenti apa bila akurasi tidak naik"
      ],
      "metadata": {
        "id": "ylVdisBuATJF"
      }
    },
    {
      "cell_type": "code",
      "source": [
        "history = model.fit_generator(generator=train_set,\n",
        "                                steps_per_epoch=train_set.n//train_set.batch_size,\n",
        "                                epochs=epochs,\n",
        "                                validation_data = test_set,\n",
        "                                validation_steps = test_set.n//test_set.batch_size,\n",
        "                                callbacks=callbacks_list\n",
        "                                )"
      ],
      "metadata": {
        "colab": {
          "base_uri": "https://localhost:8080/"
        },
        "id": "VuwDhFkKwNyR",
        "outputId": "7fc1e71f-d61c-4f88-847c-74ced079d240"
      },
      "execution_count": null,
      "outputs": [
        {
          "output_type": "stream",
          "name": "stderr",
          "text": [
            "/usr/local/lib/python3.7/dist-packages/ipykernel_launcher.py:6: UserWarning: `Model.fit_generator` is deprecated and will be removed in a future version. Please use `Model.fit`, which supports generators.\n",
            "  \n"
          ]
        },
        {
          "output_type": "stream",
          "name": "stdout",
          "text": [
            "Epoch 1/21\n",
            "219/219 [==============================] - ETA: 0s - loss: 1.8631 - accuracy: 0.2763\n",
            "Epoch 1: val_accuracy improved from -inf to 0.25923, saving model to ./model.h5\n",
            "219/219 [==============================] - 88s 388ms/step - loss: 1.8631 - accuracy: 0.2763 - val_loss: 2.0098 - val_accuracy: 0.2592 - lr: 0.0010\n",
            "Epoch 2/21\n",
            "219/219 [==============================] - ETA: 0s - loss: 1.5736 - accuracy: 0.3946\n",
            "Epoch 2: val_accuracy improved from 0.25923 to 0.34162, saving model to ./model.h5\n",
            "219/219 [==============================] - 85s 387ms/step - loss: 1.5736 - accuracy: 0.3946 - val_loss: 1.8036 - val_accuracy: 0.3416 - lr: 0.0010\n",
            "Epoch 3/21\n",
            "219/219 [==============================] - ETA: 0s - loss: 1.4182 - accuracy: 0.4554\n",
            "Epoch 3: val_accuracy improved from 0.34162 to 0.44446, saving model to ./model.h5\n",
            "219/219 [==============================] - 84s 382ms/step - loss: 1.4182 - accuracy: 0.4554 - val_loss: 1.5378 - val_accuracy: 0.4445 - lr: 0.0010\n",
            "Epoch 4/21\n",
            "219/219 [==============================] - ETA: 0s - loss: 1.3212 - accuracy: 0.4965\n",
            "Epoch 4: val_accuracy improved from 0.44446 to 0.52969, saving model to ./model.h5\n",
            "219/219 [==============================] - 85s 387ms/step - loss: 1.3212 - accuracy: 0.4965 - val_loss: 1.2517 - val_accuracy: 0.5297 - lr: 0.0010\n",
            "Epoch 5/21\n",
            "219/219 [==============================] - ETA: 0s - loss: 1.2594 - accuracy: 0.5171\n",
            "Epoch 5: val_accuracy improved from 0.52969 to 0.53026, saving model to ./model.h5\n",
            "219/219 [==============================] - 84s 382ms/step - loss: 1.2594 - accuracy: 0.5171 - val_loss: 1.2454 - val_accuracy: 0.5303 - lr: 0.0010\n",
            "Epoch 6/21\n",
            "219/219 [==============================] - ETA: 0s - loss: 1.2122 - accuracy: 0.5396\n",
            "Epoch 6: val_accuracy did not improve from 0.53026\n",
            "219/219 [==============================] - 83s 379ms/step - loss: 1.2122 - accuracy: 0.5396 - val_loss: 1.2440 - val_accuracy: 0.5210 - lr: 0.0010\n",
            "Epoch 7/21\n",
            "219/219 [==============================] - ETA: 0s - loss: 1.1822 - accuracy: 0.5484\n",
            "Epoch 7: val_accuracy did not improve from 0.53026\n",
            "219/219 [==============================] - 84s 383ms/step - loss: 1.1822 - accuracy: 0.5484 - val_loss: 1.1901 - val_accuracy: 0.5303 - lr: 0.0010\n",
            "Epoch 8/21\n",
            "219/219 [==============================] - ETA: 0s - loss: 1.1631 - accuracy: 0.5575\n",
            "Epoch 8: val_accuracy improved from 0.53026 to 0.58580, saving model to ./model.h5\n",
            "219/219 [==============================] - 84s 382ms/step - loss: 1.1631 - accuracy: 0.5575 - val_loss: 1.1041 - val_accuracy: 0.5858 - lr: 0.0010\n",
            "Epoch 9/21\n",
            "219/219 [==============================] - ETA: 0s - loss: 1.1312 - accuracy: 0.5706\n",
            "Epoch 9: val_accuracy did not improve from 0.58580\n",
            "219/219 [==============================] - 82s 376ms/step - loss: 1.1312 - accuracy: 0.5706 - val_loss: 1.2114 - val_accuracy: 0.5337 - lr: 0.0010\n",
            "Epoch 10/21\n",
            "219/219 [==============================] - ETA: 0s - loss: 1.1238 - accuracy: 0.5760\n",
            "Epoch 10: val_accuracy did not improve from 0.58580\n",
            "219/219 [==============================] - 83s 378ms/step - loss: 1.1238 - accuracy: 0.5760 - val_loss: 1.1229 - val_accuracy: 0.5739 - lr: 0.0010\n",
            "Epoch 11/21\n",
            "219/219 [==============================] - ETA: 0s - loss: 1.0956 - accuracy: 0.5862Restoring model weights from the end of the best epoch: 8.\n",
            "\n",
            "Epoch 11: val_accuracy did not improve from 0.58580\n",
            "\n",
            "Epoch 11: ReduceLROnPlateau reducing learning rate to 0.00020000000949949026.\n",
            "219/219 [==============================] - 83s 380ms/step - loss: 1.0956 - accuracy: 0.5862 - val_loss: 1.1308 - val_accuracy: 0.5726 - lr: 0.0010\n",
            "Epoch 11: early stopping\n"
          ]
        }
      ]
    },
    {
      "cell_type": "code",
      "source": [
        "metrics = pd.DataFrame(history.history)\n",
        "metrics[['loss', 'val_loss']].plot()"
      ],
      "metadata": {
        "colab": {
          "base_uri": "https://localhost:8080/",
          "height": 284
        },
        "id": "ha2LNL7O5_YC",
        "outputId": "8c6055e3-b3d7-4f5e-b54b-249d1e7fe38e"
      },
      "execution_count": null,
      "outputs": [
        {
          "output_type": "execute_result",
          "data": {
            "text/plain": [
              "<matplotlib.axes._subplots.AxesSubplot at 0x7fd97504bc90>"
            ]
          },
          "metadata": {},
          "execution_count": 71
        },
        {
          "output_type": "display_data",
          "data": {
            "text/plain": [
              "<Figure size 432x288 with 1 Axes>"
            ],
            "image/png": "[encoded data removed]"
          },
          "metadata": {
            "needs_background": "light"
          }
        }
      ]
    },
    {
      "cell_type": "code",
      "source": [
        "metrics[['accuracy', 'val_accuracy']].plot()"
      ],
      "metadata": {
        "colab": {
          "base_uri": "https://localhost:8080/",
          "height": 286
        },
        "id": "Fe9XMBBA6FIT",
        "outputId": "52887e3c-5b14-4bb8-f619-1070e542c837"
      },
      "execution_count": null,
      "outputs": [
        {
          "output_type": "execute_result",
          "data": {
            "text/plain": [
              "<matplotlib.axes._subplots.AxesSubplot at 0x7fd9750698d0>"
            ]
          },
          "metadata": {},
          "execution_count": 72
        },
        {
          "output_type": "display_data",
          "data": {
            "text/plain": [
              "<Figure size 432x288 with 1 Axes>"
            ],
            "image/png": "[encoded data removed]"
          },
          "metadata": {
            "needs_background": "light"
          }
        }
      ]
    },
    {
      "cell_type": "markdown",
      "source": [
        "terjadi overfit di dalam data"
      ],
      "metadata": {
        "id": "up5BY-ku6ZG5"
      }
    },
    {
      "cell_type": "markdown",
      "source": [
        "# Model Inference"
      ],
      "metadata": {
        "id": "mhsw1ekD_d0A"
      }
    },
    {
      "cell_type": "code",
      "source": [
        "new_img = mpimg.imread('/content/7.jpg')\n",
        "plt.imshow(new_img);\n",
        "plt.axis(False);"
      ],
      "metadata": {
        "colab": {
          "base_uri": "https://localhost:8080/",
          "height": 248
        },
        "id": "P9BUmLId_cuy",
        "outputId": "56d8124e-4c65-4433-c7fe-fc4049257dd5"
      },
      "execution_count": null,
      "outputs": [
        {
          "output_type": "display_data",
          "data": {
            "text/plain": [
              "<Figure size 432x288 with 1 Axes>"
            ],
            "image/png": "[encoded data removed]"
          },
          "metadata": {
            "needs_background": "light"
          }
        }
      ]
    },
    {
      "cell_type": "code",
      "source": [
        "def load_and_preprocess(filename, img_shape=48):\n",
        "  img = read_file(filename)\n",
        "  img = decode_image(img, channels=1)\n",
        "  img = resize(img, size=[img_shape, img_shape])\n",
        "  img = img/255.\n",
        "  return img"
      ],
      "metadata": {
        "id": "EF62asd4_3yP"
      },
      "execution_count": null,
      "outputs": []
    },
    {
      "cell_type": "code",
      "source": [
        "new_img = load_and_preprocess('/content/7.jpg')\n",
        "new_img.shape"
      ],
      "metadata": {
        "colab": {
          "base_uri": "https://localhost:8080/"
        },
        "id": "o0qDai5-ADLc",
        "outputId": "43dbf9a7-3366-4ffa-e0e4-ae8ce1b5b095"
      },
      "execution_count": null,
      "outputs": [
        {
          "output_type": "execute_result",
          "data": {
            "text/plain": [
              "TensorShape([48, 48, 1])"
            ]
          },
          "metadata": {},
          "execution_count": 145
        }
      ]
    },
    {
      "cell_type": "code",
      "source": [
        "from tensorflow import expand_dims\n",
        "# benerin dimensi\n",
        "new_img = expand_dims(new_img, axis=0)\n",
        "new_img.shape"
      ],
      "metadata": {
        "colab": {
          "base_uri": "https://localhost:8080/"
        },
        "id": "KcSv0eUQAJXZ",
        "outputId": "68120827-5c81-4728-b6b3-bfd092188271"
      },
      "execution_count": null,
      "outputs": [
        {
          "output_type": "execute_result",
          "data": {
            "text/plain": [
              "TensorShape([1, 48, 48, 1])"
            ]
          },
          "metadata": {},
          "execution_count": 146
        }
      ]
    },
    {
      "cell_type": "code",
      "source": [
        "res = model.predict(new_img)\n",
        "res.argmax()"
      ],
      "metadata": {
        "colab": {
          "base_uri": "https://localhost:8080/"
        },
        "id": "2sw0RMv0AMAx",
        "outputId": "f7f0137c-4270-4bf4-ece3-2193583fc674"
      },
      "execution_count": null,
      "outputs": [
        {
          "output_type": "execute_result",
          "data": {
            "text/plain": [
              "3"
            ]
          },
          "metadata": {},
          "execution_count": 147
        }
      ]
    },
    {
      "cell_type": "code",
      "source": [
        "train_set.class_indices"
      ],
      "metadata": {
        "colab": {
          "base_uri": "https://localhost:8080/"
        },
        "id": "g9Qhl5D3ATMr",
        "outputId": "5d9c31a4-83af-42de-a630-f1b2210e9673"
      },
      "execution_count": null,
      "outputs": [
        {
          "output_type": "execute_result",
          "data": {
            "text/plain": [
              "{'angry': 0,\n",
              " 'disgust': 1,\n",
              " 'fear': 2,\n",
              " 'happy': 3,\n",
              " 'neutral': 4,\n",
              " 'sad': 5,\n",
              " 'surprise': 6}"
            ]
          },
          "metadata": {},
          "execution_count": 148
        }
      ]
    },
    {
      "cell_type": "code",
      "source": [
        "tf.keras.models.save_model(model,'depmodel.hdf5')"
      ],
      "metadata": {
        "id": "PaUgSJyEF_jJ"
      },
      "execution_count": null,
      "outputs": []
    },
    {
      "cell_type": "markdown",
      "source": [
        "# Kesimpulan"
      ],
      "metadata": {
        "id": "QqgkL-pKAgzM"
      }
    },
    {
      "cell_type": "code",
      "source": [
        "from google.colab import drive\n",
        "drive.mount('/content/drive')"
      ],
      "metadata": {
        "colab": {
          "base_uri": "https://localhost:8080/"
        },
        "id": "CNp1HSHSGPl4",
        "outputId": "33c88da5-4e24-4d8c-9cd4-0da1f169e25b"
      },
      "execution_count": null,
      "outputs": [
        {
          "output_type": "stream",
          "name": "stdout",
          "text": [
            "Mounted at /content/drive\n"
          ]
        }
      ]
    },
    {
      "cell_type": "markdown",
      "source": [
        "**Analisis EDA**\n",
        "\n",
        "1. Terdapat 7 kategori didalam data yaitu ['angry' 'disgust' 'fear' 'happy' 'neutral' 'sad' 'surprise']\n",
        "\n",
        "2. \n",
        "- Data Train terdiri dari 28044 gambar.\n",
        "- Data Test terdiri dari 28044 gambar.\n",
        "\n",
        "**Analisis Model**\n",
        "1. Data bersifat tidak stabil dikarenakan setiap dilakukan run ulang akurasi dari model berubah ubah \n",
        "\n",
        "2. val_accuracy: 0.5726 dan accuracy: 0.5862\n",
        "\n",
        "3. Model terdiri dari 4 layers dan 2 connected layers\n",
        "\n",
        "4. Pemodelan masih bisa dilakukan lebih baik apabila didukung perangkat yang cukup memadai\n",
        "\n",
        "5. Model akan menjadi lebih stabil apabila data yang digunakan lebih baik\n",
        "\n",
        "6. Model Improvement yang dilakukan adalah data_augmentation, batchnormalization, dropout untuk mencegah model untuk overfitting."
      ],
      "metadata": {
        "id": "XG8QinBRiSkn"
      }
    }
  ]
}